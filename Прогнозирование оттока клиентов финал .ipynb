{
 "cells": [
  {
   "cell_type": "markdown",
   "metadata": {},
   "source": [
    "# Прогнозирование оттока клиентов в сети отелей «Как в гостях»"
   ]
  },
  {
   "cell_type": "markdown",
   "metadata": {},
   "source": [
    "Заказчик этого исследования — сеть отелей «Как в гостях». \n",
    "Чтобы привлечь клиентов, эта сеть отелей добавила на свой сайт возможность забронировать номер без предоплаты. Однако если клиент отменял бронирование, то компания терпела убытки. Сотрудники отеля могли, например, закупить продукты к приезду гостя или просто не успеть найти другого клиента.\n",
    "Чтобы решить эту проблему, вам нужно разработать систему, которая предсказывает отказ от брони. Если модель покажет, что бронь будет отменена, то клиенту предлагается внести депозит. Размер депозита — 80% от стоимости номера за одни сутки и затрат на разовую уборку. Деньги будут списаны со счёта клиента, если он всё же отменит бронь."
   ]
  },
  {
   "cell_type": "markdown",
   "metadata": {},
   "source": [
    "Бизнес-метрика и другие данные\n",
    "Основная бизнес-метрика для любой сети отелей — её прибыль. Прибыль отеля — это разница между стоимостью номера за все ночи и затраты на обслуживание: как при подготовке номера, так и при проживании постояльца. \n",
    "В отеле есть несколько типов номеров. В зависимости от типа номера назначается стоимость за одну ночь. Есть также затраты на уборку. Если клиент снял номер надолго, то убираются каждые два дня. \n",
    "Стоимость номеров отеля:\n",
    "категория A: за ночь — 1 000, разовое обслуживание — 400;\n",
    "категория B: за ночь — 800, разовое обслуживание — 350;\n",
    "категория C: за ночь — 600, разовое обслуживание — 350;\n",
    "категория D: за ночь — 550, разовое обслуживание — 150;\n",
    "категория E: за ночь — 500, разовое обслуживание — 150;\n",
    "категория F: за ночь — 450, разовое обслуживание — 150;\n",
    "категория G: за ночь — 350, разовое обслуживание — 150.\n",
    "В ценовой политике отеля используются сезонные коэффициенты: весной и осенью цены повышаются на 20%, летом — на 40%.\n",
    "Убытки отеля в случае отмены брони номера — это стоимость одной уборки и одной ночи с учётом сезонного коэффициента.\n",
    "На разработку системы прогнозирования заложен бюджет — 400 000. При этом необходимо учесть, что внедрение модели должно окупиться за тестовый период. Затраты на разработку должны быть меньше той выручки, которую система принесёт компании."
   ]
  },
  {
   "cell_type": "markdown",
   "metadata": {},
   "source": [
    "Описание данных\n",
    "В таблицах hotel_train и hotel_test содержатся одинаковые столбцы:\n",
    "id — номер записи;\n",
    "adults  — количество взрослых постояльцев;\n",
    "arrival_date_year — год заезда;\n",
    "arrival_date_month — месяц заезда;\n",
    "arrival_date_week_number — неделя заезда;\n",
    "arrival_date_day_of_month — день заезда;\n",
    "babies — количество младенцев;\n",
    "booking_changes — количество изменений параметров заказа;\n",
    "children — количество детей от 3 до 14 лет;\n",
    "country — гражданство постояльца;\n",
    "customer_type  — тип заказчика:\n",
    "  \n",
    "Contract — договор с юридическим лицом;\n",
    "Group — групповой заезд;\n",
    "Transient — не связано с договором или групповым заездом;\n",
    "Transient-party — не связано с договором или групповым заездом, но связано с бронированием типа Transient.\n",
    "days_in_waiting_list — сколько дней заказ ожидал подтверждения;\n",
    "distribution_channel — канал дистрибуции заказа;\n",
    "is_canceled — отмена заказа;\n",
    "is_repeated_guest — признак того, что гость бронирует номер второй раз;\n",
    "lead_time — количество дней между датой бронирования и датой прибытия;\n",
    "meal — опции заказа:\n",
    "  \n",
    "SC — нет дополнительных опций;\n",
    "BB — включён завтрак;\n",
    "HB — включён завтрак и обед;\n",
    "FB — включён завтрак, обед и ужин.\n",
    "previous_bookings_not_canceled — количество подтверждённых заказов у клиента;\n",
    "previous_cancellations — количество отменённых заказов у клиента;\n",
    "required_car_parking_spaces — необходимость места для автомобиля;\n",
    "reserved_room_type  — тип забронированной комнаты;\n",
    "stays_in_weekend_nights — количество ночей в выходные дни;\n",
    "stays_in_week_nights — количество ночей в будние дни;\n",
    "total_nights — общее количество ночей;\n",
    "total_of_special_requests — количество специальных отметок."
   ]
  },
  {
   "cell_type": "markdown",
   "metadata": {},
   "source": [
    "### Шаг 1. Откройте файлы с данными"
   ]
  },
  {
   "cell_type": "code",
   "execution_count": 1,
   "metadata": {},
   "outputs": [],
   "source": [
    "import pandas as pd\n",
    "from sklearn.preprocessing import StandardScaler\n",
    "from sklearn.tree import DecisionTreeClassifier\n",
    "from sklearn.ensemble import RandomForestClassifier\n",
    "from sklearn.linear_model import LogisticRegression\n",
    "from sklearn.model_selection import GridSearchCV\n",
    "import plotly.express as px\n",
    "from sklearn.model_selection import cross_val_score"
   ]
  },
  {
   "cell_type": "code",
   "execution_count": 2,
   "metadata": {},
   "outputs": [],
   "source": [
    "try:\n",
    "    hotel_train = pd.read_csv('hotel_train.csv')\n",
    "except:\n",
    "    hotel_train = pd.read_csv('/datasets/hotel_train.csv')"
   ]
  },
  {
   "cell_type": "code",
   "execution_count": 3,
   "metadata": {},
   "outputs": [],
   "source": [
    "try:\n",
    "    hotel_test = pd.read_csv('hotel_test.csv')\n",
    "except:\n",
    "    hotel_test = pd.read_csv('/datasets/hotel_test.csv')"
   ]
  },
  {
   "cell_type": "markdown",
   "metadata": {},
   "source": [
    "### Шаг 2. Предобработка и исследовательский анализ данных"
   ]
  },
  {
   "cell_type": "code",
   "execution_count": 4,
   "metadata": {},
   "outputs": [
    {
     "data": {
      "text/html": [
       "<div>\n",
       "<style scoped>\n",
       "    .dataframe tbody tr th:only-of-type {\n",
       "        vertical-align: middle;\n",
       "    }\n",
       "\n",
       "    .dataframe tbody tr th {\n",
       "        vertical-align: top;\n",
       "    }\n",
       "\n",
       "    .dataframe thead th {\n",
       "        text-align: right;\n",
       "    }\n",
       "</style>\n",
       "<table border=\"1\" class=\"dataframe\">\n",
       "  <thead>\n",
       "    <tr style=\"text-align: right;\">\n",
       "      <th></th>\n",
       "      <th>id</th>\n",
       "      <th>is_canceled</th>\n",
       "      <th>lead_time</th>\n",
       "      <th>arrival_date_year</th>\n",
       "      <th>arrival_date_month</th>\n",
       "      <th>arrival_date_week_number</th>\n",
       "      <th>arrival_date_day_of_month</th>\n",
       "      <th>stays_in_weekend_nights</th>\n",
       "      <th>stays_in_week_nights</th>\n",
       "      <th>adults</th>\n",
       "      <th>...</th>\n",
       "      <th>is_repeated_guest</th>\n",
       "      <th>previous_cancellations</th>\n",
       "      <th>previous_bookings_not_canceled</th>\n",
       "      <th>reserved_room_type</th>\n",
       "      <th>booking_changes</th>\n",
       "      <th>days_in_waiting_list</th>\n",
       "      <th>customer_type</th>\n",
       "      <th>required_car_parking_spaces</th>\n",
       "      <th>total_of_special_requests</th>\n",
       "      <th>total_nights</th>\n",
       "    </tr>\n",
       "  </thead>\n",
       "  <tbody>\n",
       "    <tr>\n",
       "      <th>0</th>\n",
       "      <td>0</td>\n",
       "      <td>0</td>\n",
       "      <td>7.0</td>\n",
       "      <td>2015</td>\n",
       "      <td>July</td>\n",
       "      <td>27</td>\n",
       "      <td>1</td>\n",
       "      <td>0</td>\n",
       "      <td>1</td>\n",
       "      <td>1.0</td>\n",
       "      <td>...</td>\n",
       "      <td>0</td>\n",
       "      <td>0</td>\n",
       "      <td>0</td>\n",
       "      <td>A</td>\n",
       "      <td>0</td>\n",
       "      <td>0</td>\n",
       "      <td>Transient</td>\n",
       "      <td>0</td>\n",
       "      <td>0</td>\n",
       "      <td>1</td>\n",
       "    </tr>\n",
       "    <tr>\n",
       "      <th>1</th>\n",
       "      <td>1</td>\n",
       "      <td>0</td>\n",
       "      <td>14.0</td>\n",
       "      <td>2015</td>\n",
       "      <td>July</td>\n",
       "      <td>27</td>\n",
       "      <td>1</td>\n",
       "      <td>0</td>\n",
       "      <td>2</td>\n",
       "      <td>2.0</td>\n",
       "      <td>...</td>\n",
       "      <td>0</td>\n",
       "      <td>0</td>\n",
       "      <td>0</td>\n",
       "      <td>A</td>\n",
       "      <td>0</td>\n",
       "      <td>0</td>\n",
       "      <td>Transient</td>\n",
       "      <td>0</td>\n",
       "      <td>1</td>\n",
       "      <td>2</td>\n",
       "    </tr>\n",
       "    <tr>\n",
       "      <th>2</th>\n",
       "      <td>2</td>\n",
       "      <td>0</td>\n",
       "      <td>0.0</td>\n",
       "      <td>2015</td>\n",
       "      <td>July</td>\n",
       "      <td>27</td>\n",
       "      <td>1</td>\n",
       "      <td>0</td>\n",
       "      <td>2</td>\n",
       "      <td>2.0</td>\n",
       "      <td>...</td>\n",
       "      <td>0</td>\n",
       "      <td>0</td>\n",
       "      <td>0</td>\n",
       "      <td>C</td>\n",
       "      <td>0</td>\n",
       "      <td>0</td>\n",
       "      <td>Transient</td>\n",
       "      <td>0</td>\n",
       "      <td>0</td>\n",
       "      <td>2</td>\n",
       "    </tr>\n",
       "    <tr>\n",
       "      <th>3</th>\n",
       "      <td>3</td>\n",
       "      <td>0</td>\n",
       "      <td>9.0</td>\n",
       "      <td>2015</td>\n",
       "      <td>July</td>\n",
       "      <td>27</td>\n",
       "      <td>1</td>\n",
       "      <td>0</td>\n",
       "      <td>2</td>\n",
       "      <td>2.0</td>\n",
       "      <td>...</td>\n",
       "      <td>0</td>\n",
       "      <td>0</td>\n",
       "      <td>0</td>\n",
       "      <td>C</td>\n",
       "      <td>0</td>\n",
       "      <td>0</td>\n",
       "      <td>Transient</td>\n",
       "      <td>0</td>\n",
       "      <td>1</td>\n",
       "      <td>2</td>\n",
       "    </tr>\n",
       "    <tr>\n",
       "      <th>4</th>\n",
       "      <td>4</td>\n",
       "      <td>1</td>\n",
       "      <td>85.0</td>\n",
       "      <td>2015</td>\n",
       "      <td>July</td>\n",
       "      <td>27</td>\n",
       "      <td>1</td>\n",
       "      <td>0</td>\n",
       "      <td>3</td>\n",
       "      <td>2.0</td>\n",
       "      <td>...</td>\n",
       "      <td>0</td>\n",
       "      <td>0</td>\n",
       "      <td>0</td>\n",
       "      <td>A</td>\n",
       "      <td>0</td>\n",
       "      <td>0</td>\n",
       "      <td>Transient</td>\n",
       "      <td>0</td>\n",
       "      <td>1</td>\n",
       "      <td>3</td>\n",
       "    </tr>\n",
       "  </tbody>\n",
       "</table>\n",
       "<p>5 rows × 25 columns</p>\n",
       "</div>"
      ],
      "text/plain": [
       "   id  is_canceled  lead_time  arrival_date_year arrival_date_month  \\\n",
       "0   0            0        7.0               2015               July   \n",
       "1   1            0       14.0               2015               July   \n",
       "2   2            0        0.0               2015               July   \n",
       "3   3            0        9.0               2015               July   \n",
       "4   4            1       85.0               2015               July   \n",
       "\n",
       "   arrival_date_week_number  arrival_date_day_of_month  \\\n",
       "0                        27                          1   \n",
       "1                        27                          1   \n",
       "2                        27                          1   \n",
       "3                        27                          1   \n",
       "4                        27                          1   \n",
       "\n",
       "   stays_in_weekend_nights  stays_in_week_nights  adults  ...  \\\n",
       "0                        0                     1     1.0  ...   \n",
       "1                        0                     2     2.0  ...   \n",
       "2                        0                     2     2.0  ...   \n",
       "3                        0                     2     2.0  ...   \n",
       "4                        0                     3     2.0  ...   \n",
       "\n",
       "   is_repeated_guest  previous_cancellations previous_bookings_not_canceled  \\\n",
       "0                  0                       0                              0   \n",
       "1                  0                       0                              0   \n",
       "2                  0                       0                              0   \n",
       "3                  0                       0                              0   \n",
       "4                  0                       0                              0   \n",
       "\n",
       "  reserved_room_type booking_changes  days_in_waiting_list  customer_type  \\\n",
       "0   A                              0                     0      Transient   \n",
       "1   A                              0                     0      Transient   \n",
       "2   C                              0                     0      Transient   \n",
       "3   C                              0                     0      Transient   \n",
       "4   A                              0                     0      Transient   \n",
       "\n",
       "   required_car_parking_spaces total_of_special_requests  total_nights  \n",
       "0                            0                         0             1  \n",
       "1                            0                         1             2  \n",
       "2                            0                         0             2  \n",
       "3                            0                         1             2  \n",
       "4                            0                         1             3  \n",
       "\n",
       "[5 rows x 25 columns]"
      ]
     },
     "execution_count": 4,
     "metadata": {},
     "output_type": "execute_result"
    }
   ],
   "source": [
    "hotel_train.head()"
   ]
  },
  {
   "cell_type": "code",
   "execution_count": 5,
   "metadata": {},
   "outputs": [
    {
     "name": "stdout",
     "output_type": "stream",
     "text": [
      "<class 'pandas.core.frame.DataFrame'>\n",
      "RangeIndex: 65229 entries, 0 to 65228\n",
      "Data columns (total 25 columns):\n",
      " #   Column                          Non-Null Count  Dtype  \n",
      "---  ------                          --------------  -----  \n",
      " 0   id                              65229 non-null  int64  \n",
      " 1   is_canceled                     65229 non-null  int64  \n",
      " 2   lead_time                       65229 non-null  float64\n",
      " 3   arrival_date_year               65229 non-null  int64  \n",
      " 4   arrival_date_month              65229 non-null  object \n",
      " 5   arrival_date_week_number        65229 non-null  int64  \n",
      " 6   arrival_date_day_of_month       65229 non-null  int64  \n",
      " 7   stays_in_weekend_nights         65229 non-null  int64  \n",
      " 8   stays_in_week_nights            65229 non-null  int64  \n",
      " 9   adults                          65229 non-null  float64\n",
      " 10  children                        65229 non-null  float64\n",
      " 11  babies                          65229 non-null  float64\n",
      " 12  meal                            65229 non-null  object \n",
      " 13  country                         65229 non-null  object \n",
      " 14  distribution_channel            65229 non-null  object \n",
      " 15  is_repeated_guest               65229 non-null  int64  \n",
      " 16  previous_cancellations          65229 non-null  int64  \n",
      " 17  previous_bookings_not_canceled  65229 non-null  int64  \n",
      " 18  reserved_room_type              65229 non-null  object \n",
      " 19  booking_changes                 65229 non-null  int64  \n",
      " 20  days_in_waiting_list            65229 non-null  int64  \n",
      " 21  customer_type                   65229 non-null  object \n",
      " 22  required_car_parking_spaces     65229 non-null  int64  \n",
      " 23  total_of_special_requests       65229 non-null  int64  \n",
      " 24  total_nights                    65229 non-null  int64  \n",
      "dtypes: float64(4), int64(15), object(6)\n",
      "memory usage: 12.4+ MB\n"
     ]
    }
   ],
   "source": [
    "hotel_train.info()"
   ]
  },
  {
   "cell_type": "code",
   "execution_count": 6,
   "metadata": {},
   "outputs": [
    {
     "data": {
      "text/html": [
       "<div>\n",
       "<style scoped>\n",
       "    .dataframe tbody tr th:only-of-type {\n",
       "        vertical-align: middle;\n",
       "    }\n",
       "\n",
       "    .dataframe tbody tr th {\n",
       "        vertical-align: top;\n",
       "    }\n",
       "\n",
       "    .dataframe thead th {\n",
       "        text-align: right;\n",
       "    }\n",
       "</style>\n",
       "<table border=\"1\" class=\"dataframe\">\n",
       "  <thead>\n",
       "    <tr style=\"text-align: right;\">\n",
       "      <th></th>\n",
       "      <th>id</th>\n",
       "      <th>is_canceled</th>\n",
       "      <th>lead_time</th>\n",
       "      <th>arrival_date_year</th>\n",
       "      <th>arrival_date_month</th>\n",
       "      <th>arrival_date_week_number</th>\n",
       "      <th>arrival_date_day_of_month</th>\n",
       "      <th>stays_in_weekend_nights</th>\n",
       "      <th>stays_in_week_nights</th>\n",
       "      <th>adults</th>\n",
       "      <th>...</th>\n",
       "      <th>is_repeated_guest</th>\n",
       "      <th>previous_cancellations</th>\n",
       "      <th>previous_bookings_not_canceled</th>\n",
       "      <th>reserved_room_type</th>\n",
       "      <th>booking_changes</th>\n",
       "      <th>days_in_waiting_list</th>\n",
       "      <th>customer_type</th>\n",
       "      <th>required_car_parking_spaces</th>\n",
       "      <th>total_of_special_requests</th>\n",
       "      <th>total_nights</th>\n",
       "    </tr>\n",
       "  </thead>\n",
       "  <tbody>\n",
       "    <tr>\n",
       "      <th>0</th>\n",
       "      <td>6086</td>\n",
       "      <td>1</td>\n",
       "      <td>74.0</td>\n",
       "      <td>2017</td>\n",
       "      <td>January</td>\n",
       "      <td>1</td>\n",
       "      <td>1</td>\n",
       "      <td>1</td>\n",
       "      <td>0</td>\n",
       "      <td>2.0</td>\n",
       "      <td>...</td>\n",
       "      <td>0</td>\n",
       "      <td>0</td>\n",
       "      <td>0</td>\n",
       "      <td>A</td>\n",
       "      <td>0</td>\n",
       "      <td>0</td>\n",
       "      <td>Transient</td>\n",
       "      <td>0</td>\n",
       "      <td>0</td>\n",
       "      <td>1</td>\n",
       "    </tr>\n",
       "    <tr>\n",
       "      <th>1</th>\n",
       "      <td>6087</td>\n",
       "      <td>1</td>\n",
       "      <td>62.0</td>\n",
       "      <td>2017</td>\n",
       "      <td>January</td>\n",
       "      <td>1</td>\n",
       "      <td>1</td>\n",
       "      <td>2</td>\n",
       "      <td>2</td>\n",
       "      <td>2.0</td>\n",
       "      <td>...</td>\n",
       "      <td>0</td>\n",
       "      <td>0</td>\n",
       "      <td>0</td>\n",
       "      <td>A</td>\n",
       "      <td>0</td>\n",
       "      <td>0</td>\n",
       "      <td>Transient</td>\n",
       "      <td>0</td>\n",
       "      <td>1</td>\n",
       "      <td>4</td>\n",
       "    </tr>\n",
       "    <tr>\n",
       "      <th>2</th>\n",
       "      <td>6088</td>\n",
       "      <td>1</td>\n",
       "      <td>62.0</td>\n",
       "      <td>2017</td>\n",
       "      <td>January</td>\n",
       "      <td>1</td>\n",
       "      <td>1</td>\n",
       "      <td>2</td>\n",
       "      <td>2</td>\n",
       "      <td>2.0</td>\n",
       "      <td>...</td>\n",
       "      <td>0</td>\n",
       "      <td>0</td>\n",
       "      <td>0</td>\n",
       "      <td>A</td>\n",
       "      <td>0</td>\n",
       "      <td>0</td>\n",
       "      <td>Transient</td>\n",
       "      <td>0</td>\n",
       "      <td>1</td>\n",
       "      <td>4</td>\n",
       "    </tr>\n",
       "    <tr>\n",
       "      <th>3</th>\n",
       "      <td>6089</td>\n",
       "      <td>1</td>\n",
       "      <td>71.0</td>\n",
       "      <td>2017</td>\n",
       "      <td>January</td>\n",
       "      <td>1</td>\n",
       "      <td>1</td>\n",
       "      <td>2</td>\n",
       "      <td>2</td>\n",
       "      <td>1.0</td>\n",
       "      <td>...</td>\n",
       "      <td>0</td>\n",
       "      <td>0</td>\n",
       "      <td>0</td>\n",
       "      <td>A</td>\n",
       "      <td>0</td>\n",
       "      <td>0</td>\n",
       "      <td>Transient</td>\n",
       "      <td>0</td>\n",
       "      <td>1</td>\n",
       "      <td>4</td>\n",
       "    </tr>\n",
       "    <tr>\n",
       "      <th>4</th>\n",
       "      <td>6090</td>\n",
       "      <td>1</td>\n",
       "      <td>172.0</td>\n",
       "      <td>2017</td>\n",
       "      <td>January</td>\n",
       "      <td>1</td>\n",
       "      <td>1</td>\n",
       "      <td>2</td>\n",
       "      <td>5</td>\n",
       "      <td>2.0</td>\n",
       "      <td>...</td>\n",
       "      <td>0</td>\n",
       "      <td>0</td>\n",
       "      <td>0</td>\n",
       "      <td>A</td>\n",
       "      <td>0</td>\n",
       "      <td>0</td>\n",
       "      <td>Transient</td>\n",
       "      <td>0</td>\n",
       "      <td>0</td>\n",
       "      <td>7</td>\n",
       "    </tr>\n",
       "  </tbody>\n",
       "</table>\n",
       "<p>5 rows × 25 columns</p>\n",
       "</div>"
      ],
      "text/plain": [
       "     id  is_canceled  lead_time  arrival_date_year arrival_date_month  \\\n",
       "0  6086            1       74.0               2017            January   \n",
       "1  6087            1       62.0               2017            January   \n",
       "2  6088            1       62.0               2017            January   \n",
       "3  6089            1       71.0               2017            January   \n",
       "4  6090            1      172.0               2017            January   \n",
       "\n",
       "   arrival_date_week_number  arrival_date_day_of_month  \\\n",
       "0                         1                          1   \n",
       "1                         1                          1   \n",
       "2                         1                          1   \n",
       "3                         1                          1   \n",
       "4                         1                          1   \n",
       "\n",
       "   stays_in_weekend_nights  stays_in_week_nights  adults  ...  \\\n",
       "0                        1                     0     2.0  ...   \n",
       "1                        2                     2     2.0  ...   \n",
       "2                        2                     2     2.0  ...   \n",
       "3                        2                     2     1.0  ...   \n",
       "4                        2                     5     2.0  ...   \n",
       "\n",
       "   is_repeated_guest  previous_cancellations previous_bookings_not_canceled  \\\n",
       "0                  0                       0                              0   \n",
       "1                  0                       0                              0   \n",
       "2                  0                       0                              0   \n",
       "3                  0                       0                              0   \n",
       "4                  0                       0                              0   \n",
       "\n",
       "  reserved_room_type booking_changes  days_in_waiting_list  customer_type  \\\n",
       "0   A                              0                     0      Transient   \n",
       "1   A                              0                     0      Transient   \n",
       "2   A                              0                     0      Transient   \n",
       "3   A                              0                     0      Transient   \n",
       "4   A                              0                     0      Transient   \n",
       "\n",
       "   required_car_parking_spaces total_of_special_requests  total_nights  \n",
       "0                            0                         0             1  \n",
       "1                            0                         1             4  \n",
       "2                            0                         1             4  \n",
       "3                            0                         1             4  \n",
       "4                            0                         0             7  \n",
       "\n",
       "[5 rows x 25 columns]"
      ]
     },
     "execution_count": 6,
     "metadata": {},
     "output_type": "execute_result"
    }
   ],
   "source": [
    "hotel_test.head()"
   ]
  },
  {
   "cell_type": "code",
   "execution_count": 7,
   "metadata": {},
   "outputs": [
    {
     "name": "stdout",
     "output_type": "stream",
     "text": [
      "<class 'pandas.core.frame.DataFrame'>\n",
      "RangeIndex: 32412 entries, 0 to 32411\n",
      "Data columns (total 25 columns):\n",
      " #   Column                          Non-Null Count  Dtype  \n",
      "---  ------                          --------------  -----  \n",
      " 0   id                              32412 non-null  int64  \n",
      " 1   is_canceled                     32412 non-null  int64  \n",
      " 2   lead_time                       32412 non-null  float64\n",
      " 3   arrival_date_year               32412 non-null  int64  \n",
      " 4   arrival_date_month              32412 non-null  object \n",
      " 5   arrival_date_week_number        32412 non-null  int64  \n",
      " 6   arrival_date_day_of_month       32412 non-null  int64  \n",
      " 7   stays_in_weekend_nights         32412 non-null  int64  \n",
      " 8   stays_in_week_nights            32412 non-null  int64  \n",
      " 9   adults                          32412 non-null  float64\n",
      " 10  children                        32412 non-null  float64\n",
      " 11  babies                          32412 non-null  float64\n",
      " 12  meal                            32412 non-null  object \n",
      " 13  country                         32412 non-null  object \n",
      " 14  distribution_channel            32412 non-null  object \n",
      " 15  is_repeated_guest               32412 non-null  int64  \n",
      " 16  previous_cancellations          32412 non-null  int64  \n",
      " 17  previous_bookings_not_canceled  32412 non-null  int64  \n",
      " 18  reserved_room_type              32412 non-null  object \n",
      " 19  booking_changes                 32412 non-null  int64  \n",
      " 20  days_in_waiting_list            32412 non-null  int64  \n",
      " 21  customer_type                   32412 non-null  object \n",
      " 22  required_car_parking_spaces     32412 non-null  int64  \n",
      " 23  total_of_special_requests       32412 non-null  int64  \n",
      " 24  total_nights                    32412 non-null  int64  \n",
      "dtypes: float64(4), int64(15), object(6)\n",
      "memory usage: 6.2+ MB\n"
     ]
    }
   ],
   "source": [
    "hotel_test.info()"
   ]
  },
  {
   "cell_type": "code",
   "execution_count": 8,
   "metadata": {},
   "outputs": [
    {
     "data": {
      "text/html": [
       "<style  type=\"text/css\" >\n",
       "#T_cd180_row0_col0,#T_cd180_row1_col0,#T_cd180_row2_col0,#T_cd180_row3_col0,#T_cd180_row4_col0,#T_cd180_row5_col0,#T_cd180_row6_col0,#T_cd180_row7_col0,#T_cd180_row8_col0,#T_cd180_row9_col0,#T_cd180_row10_col0,#T_cd180_row11_col0,#T_cd180_row12_col0,#T_cd180_row13_col0,#T_cd180_row14_col0,#T_cd180_row15_col0,#T_cd180_row16_col0,#T_cd180_row17_col0,#T_cd180_row18_col0,#T_cd180_row19_col0,#T_cd180_row20_col0,#T_cd180_row21_col0,#T_cd180_row22_col0,#T_cd180_row23_col0,#T_cd180_row24_col0{\n",
       "            background-color:  #3b4cc0;\n",
       "            color:  #f1f1f1;\n",
       "        }</style><table id=\"T_cd180_\" ><thead>    <tr>        <th class=\"blank level0\" ></th>        <th class=\"col_heading level0 col0\" >0</th>    </tr></thead><tbody>\n",
       "                <tr>\n",
       "                        <th id=\"T_cd180_level0_row0\" class=\"row_heading level0 row0\" >id</th>\n",
       "                        <td id=\"T_cd180_row0_col0\" class=\"data row0 col0\" >0.000000</td>\n",
       "            </tr>\n",
       "            <tr>\n",
       "                        <th id=\"T_cd180_level0_row1\" class=\"row_heading level0 row1\" >is_canceled</th>\n",
       "                        <td id=\"T_cd180_row1_col0\" class=\"data row1 col0\" >0.000000</td>\n",
       "            </tr>\n",
       "            <tr>\n",
       "                        <th id=\"T_cd180_level0_row2\" class=\"row_heading level0 row2\" >lead_time</th>\n",
       "                        <td id=\"T_cd180_row2_col0\" class=\"data row2 col0\" >0.000000</td>\n",
       "            </tr>\n",
       "            <tr>\n",
       "                        <th id=\"T_cd180_level0_row3\" class=\"row_heading level0 row3\" >arrival_date_year</th>\n",
       "                        <td id=\"T_cd180_row3_col0\" class=\"data row3 col0\" >0.000000</td>\n",
       "            </tr>\n",
       "            <tr>\n",
       "                        <th id=\"T_cd180_level0_row4\" class=\"row_heading level0 row4\" >arrival_date_month</th>\n",
       "                        <td id=\"T_cd180_row4_col0\" class=\"data row4 col0\" >0.000000</td>\n",
       "            </tr>\n",
       "            <tr>\n",
       "                        <th id=\"T_cd180_level0_row5\" class=\"row_heading level0 row5\" >arrival_date_week_number</th>\n",
       "                        <td id=\"T_cd180_row5_col0\" class=\"data row5 col0\" >0.000000</td>\n",
       "            </tr>\n",
       "            <tr>\n",
       "                        <th id=\"T_cd180_level0_row6\" class=\"row_heading level0 row6\" >arrival_date_day_of_month</th>\n",
       "                        <td id=\"T_cd180_row6_col0\" class=\"data row6 col0\" >0.000000</td>\n",
       "            </tr>\n",
       "            <tr>\n",
       "                        <th id=\"T_cd180_level0_row7\" class=\"row_heading level0 row7\" >stays_in_weekend_nights</th>\n",
       "                        <td id=\"T_cd180_row7_col0\" class=\"data row7 col0\" >0.000000</td>\n",
       "            </tr>\n",
       "            <tr>\n",
       "                        <th id=\"T_cd180_level0_row8\" class=\"row_heading level0 row8\" >stays_in_week_nights</th>\n",
       "                        <td id=\"T_cd180_row8_col0\" class=\"data row8 col0\" >0.000000</td>\n",
       "            </tr>\n",
       "            <tr>\n",
       "                        <th id=\"T_cd180_level0_row9\" class=\"row_heading level0 row9\" >adults</th>\n",
       "                        <td id=\"T_cd180_row9_col0\" class=\"data row9 col0\" >0.000000</td>\n",
       "            </tr>\n",
       "            <tr>\n",
       "                        <th id=\"T_cd180_level0_row10\" class=\"row_heading level0 row10\" >children</th>\n",
       "                        <td id=\"T_cd180_row10_col0\" class=\"data row10 col0\" >0.000000</td>\n",
       "            </tr>\n",
       "            <tr>\n",
       "                        <th id=\"T_cd180_level0_row11\" class=\"row_heading level0 row11\" >babies</th>\n",
       "                        <td id=\"T_cd180_row11_col0\" class=\"data row11 col0\" >0.000000</td>\n",
       "            </tr>\n",
       "            <tr>\n",
       "                        <th id=\"T_cd180_level0_row12\" class=\"row_heading level0 row12\" >meal</th>\n",
       "                        <td id=\"T_cd180_row12_col0\" class=\"data row12 col0\" >0.000000</td>\n",
       "            </tr>\n",
       "            <tr>\n",
       "                        <th id=\"T_cd180_level0_row13\" class=\"row_heading level0 row13\" >country</th>\n",
       "                        <td id=\"T_cd180_row13_col0\" class=\"data row13 col0\" >0.000000</td>\n",
       "            </tr>\n",
       "            <tr>\n",
       "                        <th id=\"T_cd180_level0_row14\" class=\"row_heading level0 row14\" >distribution_channel</th>\n",
       "                        <td id=\"T_cd180_row14_col0\" class=\"data row14 col0\" >0.000000</td>\n",
       "            </tr>\n",
       "            <tr>\n",
       "                        <th id=\"T_cd180_level0_row15\" class=\"row_heading level0 row15\" >is_repeated_guest</th>\n",
       "                        <td id=\"T_cd180_row15_col0\" class=\"data row15 col0\" >0.000000</td>\n",
       "            </tr>\n",
       "            <tr>\n",
       "                        <th id=\"T_cd180_level0_row16\" class=\"row_heading level0 row16\" >previous_cancellations</th>\n",
       "                        <td id=\"T_cd180_row16_col0\" class=\"data row16 col0\" >0.000000</td>\n",
       "            </tr>\n",
       "            <tr>\n",
       "                        <th id=\"T_cd180_level0_row17\" class=\"row_heading level0 row17\" >previous_bookings_not_canceled</th>\n",
       "                        <td id=\"T_cd180_row17_col0\" class=\"data row17 col0\" >0.000000</td>\n",
       "            </tr>\n",
       "            <tr>\n",
       "                        <th id=\"T_cd180_level0_row18\" class=\"row_heading level0 row18\" >reserved_room_type</th>\n",
       "                        <td id=\"T_cd180_row18_col0\" class=\"data row18 col0\" >0.000000</td>\n",
       "            </tr>\n",
       "            <tr>\n",
       "                        <th id=\"T_cd180_level0_row19\" class=\"row_heading level0 row19\" >booking_changes</th>\n",
       "                        <td id=\"T_cd180_row19_col0\" class=\"data row19 col0\" >0.000000</td>\n",
       "            </tr>\n",
       "            <tr>\n",
       "                        <th id=\"T_cd180_level0_row20\" class=\"row_heading level0 row20\" >days_in_waiting_list</th>\n",
       "                        <td id=\"T_cd180_row20_col0\" class=\"data row20 col0\" >0.000000</td>\n",
       "            </tr>\n",
       "            <tr>\n",
       "                        <th id=\"T_cd180_level0_row21\" class=\"row_heading level0 row21\" >customer_type</th>\n",
       "                        <td id=\"T_cd180_row21_col0\" class=\"data row21 col0\" >0.000000</td>\n",
       "            </tr>\n",
       "            <tr>\n",
       "                        <th id=\"T_cd180_level0_row22\" class=\"row_heading level0 row22\" >required_car_parking_spaces</th>\n",
       "                        <td id=\"T_cd180_row22_col0\" class=\"data row22 col0\" >0.000000</td>\n",
       "            </tr>\n",
       "            <tr>\n",
       "                        <th id=\"T_cd180_level0_row23\" class=\"row_heading level0 row23\" >total_of_special_requests</th>\n",
       "                        <td id=\"T_cd180_row23_col0\" class=\"data row23 col0\" >0.000000</td>\n",
       "            </tr>\n",
       "            <tr>\n",
       "                        <th id=\"T_cd180_level0_row24\" class=\"row_heading level0 row24\" >total_nights</th>\n",
       "                        <td id=\"T_cd180_row24_col0\" class=\"data row24 col0\" >0.000000</td>\n",
       "            </tr>\n",
       "    </tbody></table>"
      ],
      "text/plain": [
       "<pandas.io.formats.style.Styler at 0x7f136f0e1fd0>"
      ]
     },
     "execution_count": 8,
     "metadata": {},
     "output_type": "execute_result"
    }
   ],
   "source": [
    "pd.DataFrame(round(hotel_train.isna().mean()*100,)).style.background_gradient('coolwarm')"
   ]
  },
  {
   "cell_type": "code",
   "execution_count": 9,
   "metadata": {},
   "outputs": [
    {
     "data": {
      "text/plain": [
       "0"
      ]
     },
     "execution_count": 9,
     "metadata": {},
     "output_type": "execute_result"
    }
   ],
   "source": [
    "hotel_train.duplicated().sum()"
   ]
  },
  {
   "cell_type": "code",
   "execution_count": 10,
   "metadata": {},
   "outputs": [
    {
     "data": {
      "text/plain": [
       "21377"
      ]
     },
     "execution_count": 10,
     "metadata": {},
     "output_type": "execute_result"
    }
   ],
   "source": [
    "hotel_train.drop(['id'], axis=1).duplicated().sum()"
   ]
  },
  {
   "cell_type": "code",
   "execution_count": 11,
   "metadata": {},
   "outputs": [
    {
     "data": {
      "text/plain": [
       "0"
      ]
     },
     "execution_count": 11,
     "metadata": {},
     "output_type": "execute_result"
    }
   ],
   "source": [
    "hotel_test.duplicated().sum()"
   ]
  },
  {
   "cell_type": "code",
   "execution_count": 12,
   "metadata": {},
   "outputs": [
    {
     "data": {
      "text/plain": [
       "7717"
      ]
     },
     "execution_count": 12,
     "metadata": {},
     "output_type": "execute_result"
    }
   ],
   "source": [
    "hotel_test.drop(['id'], axis=1).duplicated().sum()"
   ]
  },
  {
   "cell_type": "markdown",
   "metadata": {},
   "source": [
    "Пропусков и дубликатов в исходных данных нет. Дубликаты после удаления id связаны, вероятнее всего с одновременными приездами групп людей в однотипные номера (точной даты и времени приезда в данных нет) "
   ]
  },
  {
   "cell_type": "code",
   "execution_count": 13,
   "metadata": {},
   "outputs": [
    {
     "data": {
      "text/html": [
       "<div>\n",
       "<style scoped>\n",
       "    .dataframe tbody tr th:only-of-type {\n",
       "        vertical-align: middle;\n",
       "    }\n",
       "\n",
       "    .dataframe tbody tr th {\n",
       "        vertical-align: top;\n",
       "    }\n",
       "\n",
       "    .dataframe thead th {\n",
       "        text-align: right;\n",
       "    }\n",
       "</style>\n",
       "<table border=\"1\" class=\"dataframe\">\n",
       "  <thead>\n",
       "    <tr style=\"text-align: right;\">\n",
       "      <th></th>\n",
       "      <th>id</th>\n",
       "      <th>is_canceled</th>\n",
       "      <th>lead_time</th>\n",
       "      <th>arrival_date_year</th>\n",
       "      <th>arrival_date_week_number</th>\n",
       "      <th>arrival_date_day_of_month</th>\n",
       "      <th>stays_in_weekend_nights</th>\n",
       "      <th>stays_in_week_nights</th>\n",
       "      <th>adults</th>\n",
       "      <th>children</th>\n",
       "      <th>babies</th>\n",
       "      <th>is_repeated_guest</th>\n",
       "      <th>previous_cancellations</th>\n",
       "      <th>previous_bookings_not_canceled</th>\n",
       "      <th>booking_changes</th>\n",
       "      <th>days_in_waiting_list</th>\n",
       "      <th>required_car_parking_spaces</th>\n",
       "      <th>total_of_special_requests</th>\n",
       "      <th>total_nights</th>\n",
       "    </tr>\n",
       "  </thead>\n",
       "  <tbody>\n",
       "    <tr>\n",
       "      <th>count</th>\n",
       "      <td>65229.000000</td>\n",
       "      <td>65229.000000</td>\n",
       "      <td>65229.000000</td>\n",
       "      <td>65229.000000</td>\n",
       "      <td>65229.000000</td>\n",
       "      <td>65229.000000</td>\n",
       "      <td>65229.000000</td>\n",
       "      <td>65229.000000</td>\n",
       "      <td>65229.000000</td>\n",
       "      <td>65229.000000</td>\n",
       "      <td>65229.000000</td>\n",
       "      <td>65229.000000</td>\n",
       "      <td>65229.000000</td>\n",
       "      <td>65229.000000</td>\n",
       "      <td>65229.000000</td>\n",
       "      <td>65229.000000</td>\n",
       "      <td>65229.000000</td>\n",
       "      <td>65229.000000</td>\n",
       "      <td>65229.000000</td>\n",
       "    </tr>\n",
       "    <tr>\n",
       "      <th>mean</th>\n",
       "      <td>43544.069172</td>\n",
       "      <td>0.368609</td>\n",
       "      <td>96.337917</td>\n",
       "      <td>2015.719021</td>\n",
       "      <td>31.339772</td>\n",
       "      <td>15.847813</td>\n",
       "      <td>0.825185</td>\n",
       "      <td>2.224793</td>\n",
       "      <td>1.836576</td>\n",
       "      <td>0.074890</td>\n",
       "      <td>0.007236</td>\n",
       "      <td>0.027151</td>\n",
       "      <td>0.128915</td>\n",
       "      <td>0.107713</td>\n",
       "      <td>0.194269</td>\n",
       "      <td>3.334422</td>\n",
       "      <td>0.056647</td>\n",
       "      <td>0.512763</td>\n",
       "      <td>3.049978</td>\n",
       "    </tr>\n",
       "    <tr>\n",
       "      <th>std</th>\n",
       "      <td>25614.858971</td>\n",
       "      <td>0.482431</td>\n",
       "      <td>96.127545</td>\n",
       "      <td>0.449481</td>\n",
       "      <td>13.464024</td>\n",
       "      <td>8.748182</td>\n",
       "      <td>0.853477</td>\n",
       "      <td>1.354992</td>\n",
       "      <td>0.480245</td>\n",
       "      <td>0.334243</td>\n",
       "      <td>0.098790</td>\n",
       "      <td>0.162523</td>\n",
       "      <td>0.965326</td>\n",
       "      <td>1.326638</td>\n",
       "      <td>0.593838</td>\n",
       "      <td>18.239606</td>\n",
       "      <td>0.232094</td>\n",
       "      <td>0.752590</td>\n",
       "      <td>1.738108</td>\n",
       "    </tr>\n",
       "    <tr>\n",
       "      <th>min</th>\n",
       "      <td>0.000000</td>\n",
       "      <td>0.000000</td>\n",
       "      <td>0.000000</td>\n",
       "      <td>2015.000000</td>\n",
       "      <td>1.000000</td>\n",
       "      <td>1.000000</td>\n",
       "      <td>0.000000</td>\n",
       "      <td>0.000000</td>\n",
       "      <td>0.000000</td>\n",
       "      <td>0.000000</td>\n",
       "      <td>0.000000</td>\n",
       "      <td>0.000000</td>\n",
       "      <td>0.000000</td>\n",
       "      <td>0.000000</td>\n",
       "      <td>0.000000</td>\n",
       "      <td>0.000000</td>\n",
       "      <td>0.000000</td>\n",
       "      <td>0.000000</td>\n",
       "      <td>1.000000</td>\n",
       "    </tr>\n",
       "    <tr>\n",
       "      <th>25%</th>\n",
       "      <td>19108.000000</td>\n",
       "      <td>0.000000</td>\n",
       "      <td>17.000000</td>\n",
       "      <td>2015.000000</td>\n",
       "      <td>21.000000</td>\n",
       "      <td>8.000000</td>\n",
       "      <td>0.000000</td>\n",
       "      <td>1.000000</td>\n",
       "      <td>2.000000</td>\n",
       "      <td>0.000000</td>\n",
       "      <td>0.000000</td>\n",
       "      <td>0.000000</td>\n",
       "      <td>0.000000</td>\n",
       "      <td>0.000000</td>\n",
       "      <td>0.000000</td>\n",
       "      <td>0.000000</td>\n",
       "      <td>0.000000</td>\n",
       "      <td>0.000000</td>\n",
       "      <td>2.000000</td>\n",
       "    </tr>\n",
       "    <tr>\n",
       "      <th>50%</th>\n",
       "      <td>40554.000000</td>\n",
       "      <td>0.000000</td>\n",
       "      <td>64.000000</td>\n",
       "      <td>2016.000000</td>\n",
       "      <td>34.000000</td>\n",
       "      <td>16.000000</td>\n",
       "      <td>1.000000</td>\n",
       "      <td>2.000000</td>\n",
       "      <td>2.000000</td>\n",
       "      <td>0.000000</td>\n",
       "      <td>0.000000</td>\n",
       "      <td>0.000000</td>\n",
       "      <td>0.000000</td>\n",
       "      <td>0.000000</td>\n",
       "      <td>0.000000</td>\n",
       "      <td>0.000000</td>\n",
       "      <td>0.000000</td>\n",
       "      <td>0.000000</td>\n",
       "      <td>3.000000</td>\n",
       "    </tr>\n",
       "    <tr>\n",
       "      <th>75%</th>\n",
       "      <td>67414.000000</td>\n",
       "      <td>1.000000</td>\n",
       "      <td>151.000000</td>\n",
       "      <td>2016.000000</td>\n",
       "      <td>42.000000</td>\n",
       "      <td>23.000000</td>\n",
       "      <td>2.000000</td>\n",
       "      <td>3.000000</td>\n",
       "      <td>2.000000</td>\n",
       "      <td>0.000000</td>\n",
       "      <td>0.000000</td>\n",
       "      <td>0.000000</td>\n",
       "      <td>0.000000</td>\n",
       "      <td>0.000000</td>\n",
       "      <td>0.000000</td>\n",
       "      <td>0.000000</td>\n",
       "      <td>0.000000</td>\n",
       "      <td>1.000000</td>\n",
       "      <td>4.000000</td>\n",
       "    </tr>\n",
       "    <tr>\n",
       "      <th>max</th>\n",
       "      <td>84121.000000</td>\n",
       "      <td>1.000000</td>\n",
       "      <td>374.000000</td>\n",
       "      <td>2016.000000</td>\n",
       "      <td>53.000000</td>\n",
       "      <td>31.000000</td>\n",
       "      <td>4.000000</td>\n",
       "      <td>6.000000</td>\n",
       "      <td>4.000000</td>\n",
       "      <td>3.000000</td>\n",
       "      <td>10.000000</td>\n",
       "      <td>1.000000</td>\n",
       "      <td>26.000000</td>\n",
       "      <td>58.000000</td>\n",
       "      <td>17.000000</td>\n",
       "      <td>259.000000</td>\n",
       "      <td>3.000000</td>\n",
       "      <td>5.000000</td>\n",
       "      <td>10.000000</td>\n",
       "    </tr>\n",
       "  </tbody>\n",
       "</table>\n",
       "</div>"
      ],
      "text/plain": [
       "                 id   is_canceled     lead_time  arrival_date_year  \\\n",
       "count  65229.000000  65229.000000  65229.000000       65229.000000   \n",
       "mean   43544.069172      0.368609     96.337917        2015.719021   \n",
       "std    25614.858971      0.482431     96.127545           0.449481   \n",
       "min        0.000000      0.000000      0.000000        2015.000000   \n",
       "25%    19108.000000      0.000000     17.000000        2015.000000   \n",
       "50%    40554.000000      0.000000     64.000000        2016.000000   \n",
       "75%    67414.000000      1.000000    151.000000        2016.000000   \n",
       "max    84121.000000      1.000000    374.000000        2016.000000   \n",
       "\n",
       "       arrival_date_week_number  arrival_date_day_of_month  \\\n",
       "count              65229.000000               65229.000000   \n",
       "mean                  31.339772                  15.847813   \n",
       "std                   13.464024                   8.748182   \n",
       "min                    1.000000                   1.000000   \n",
       "25%                   21.000000                   8.000000   \n",
       "50%                   34.000000                  16.000000   \n",
       "75%                   42.000000                  23.000000   \n",
       "max                   53.000000                  31.000000   \n",
       "\n",
       "       stays_in_weekend_nights  stays_in_week_nights        adults  \\\n",
       "count             65229.000000          65229.000000  65229.000000   \n",
       "mean                  0.825185              2.224793      1.836576   \n",
       "std                   0.853477              1.354992      0.480245   \n",
       "min                   0.000000              0.000000      0.000000   \n",
       "25%                   0.000000              1.000000      2.000000   \n",
       "50%                   1.000000              2.000000      2.000000   \n",
       "75%                   2.000000              3.000000      2.000000   \n",
       "max                   4.000000              6.000000      4.000000   \n",
       "\n",
       "           children        babies  is_repeated_guest  previous_cancellations  \\\n",
       "count  65229.000000  65229.000000       65229.000000            65229.000000   \n",
       "mean       0.074890      0.007236           0.027151                0.128915   \n",
       "std        0.334243      0.098790           0.162523                0.965326   \n",
       "min        0.000000      0.000000           0.000000                0.000000   \n",
       "25%        0.000000      0.000000           0.000000                0.000000   \n",
       "50%        0.000000      0.000000           0.000000                0.000000   \n",
       "75%        0.000000      0.000000           0.000000                0.000000   \n",
       "max        3.000000     10.000000           1.000000               26.000000   \n",
       "\n",
       "       previous_bookings_not_canceled  booking_changes  days_in_waiting_list  \\\n",
       "count                    65229.000000     65229.000000          65229.000000   \n",
       "mean                         0.107713         0.194269              3.334422   \n",
       "std                          1.326638         0.593838             18.239606   \n",
       "min                          0.000000         0.000000              0.000000   \n",
       "25%                          0.000000         0.000000              0.000000   \n",
       "50%                          0.000000         0.000000              0.000000   \n",
       "75%                          0.000000         0.000000              0.000000   \n",
       "max                         58.000000        17.000000            259.000000   \n",
       "\n",
       "       required_car_parking_spaces  total_of_special_requests  total_nights  \n",
       "count                 65229.000000               65229.000000  65229.000000  \n",
       "mean                      0.056647                   0.512763      3.049978  \n",
       "std                       0.232094                   0.752590      1.738108  \n",
       "min                       0.000000                   0.000000      1.000000  \n",
       "25%                       0.000000                   0.000000      2.000000  \n",
       "50%                       0.000000                   0.000000      3.000000  \n",
       "75%                       0.000000                   1.000000      4.000000  \n",
       "max                       3.000000                   5.000000     10.000000  "
      ]
     },
     "execution_count": 13,
     "metadata": {},
     "output_type": "execute_result"
    }
   ],
   "source": [
    "hotel_train.describe()"
   ]
  },
  {
   "cell_type": "code",
   "execution_count": 14,
   "metadata": {},
   "outputs": [
    {
     "data": {
      "text/plain": [
       "babies\n",
       "0.0     64777\n",
       "1.0       447\n",
       "2.0         3\n",
       "9.0         1\n",
       "10.0        1\n",
       "Name: id, dtype: int64"
      ]
     },
     "execution_count": 14,
     "metadata": {},
     "output_type": "execute_result"
    }
   ],
   "source": [
    "hotel_train.groupby(by=['babies'])['id'].count()"
   ]
  },
  {
   "cell_type": "code",
   "execution_count": 15,
   "metadata": {},
   "outputs": [],
   "source": [
    "hotel_train = hotel_train.drop(hotel_train.loc[hotel_train['babies']>1].index)"
   ]
  },
  {
   "cell_type": "code",
   "execution_count": 16,
   "metadata": {},
   "outputs": [
    {
     "data": {
      "text/plain": [
       "babies\n",
       "0.0    64777\n",
       "1.0      447\n",
       "Name: id, dtype: int64"
      ]
     },
     "execution_count": 16,
     "metadata": {},
     "output_type": "execute_result"
    }
   ],
   "source": [
    "hotel_train.groupby(by=['babies'])['id'].count()"
   ]
  },
  {
   "cell_type": "code",
   "execution_count": 17,
   "metadata": {},
   "outputs": [
    {
     "data": {
      "text/plain": [
       "children\n",
       "0.0    61707\n",
       "1.0     2165\n",
       "2.0     1336\n",
       "3.0       16\n",
       "Name: id, dtype: int64"
      ]
     },
     "execution_count": 17,
     "metadata": {},
     "output_type": "execute_result"
    }
   ],
   "source": [
    "hotel_train.groupby(by=['children'])['id'].count()"
   ]
  },
  {
   "cell_type": "markdown",
   "metadata": {},
   "source": [
    "Большая часть гостей приезжает без детей и младенцев. Два бронирования с 9 и 10 младенцами (чаще всего - дети до 2 лет) скорее всего организованный выезд группы детей."
   ]
  },
  {
   "cell_type": "code",
   "execution_count": 18,
   "metadata": {},
   "outputs": [
    {
     "data": {
      "text/plain": [
       "customer_type\n",
       "Contract            2746\n",
       "Group                287\n",
       "Transient          45489\n",
       "Transient-Party    16702\n",
       "Name: id, dtype: int64"
      ]
     },
     "execution_count": 18,
     "metadata": {},
     "output_type": "execute_result"
    }
   ],
   "source": [
    "hotel_train.groupby(by=['customer_type'])['id'].count()"
   ]
  },
  {
   "cell_type": "markdown",
   "metadata": {},
   "source": [
    "Большая часть гостей - индивидуальные путешественники."
   ]
  },
  {
   "cell_type": "code",
   "execution_count": 19,
   "metadata": {},
   "outputs": [
    {
     "data": {
      "text/plain": [
       "reserved_room_type\n",
       "A                   50499\n",
       "B                     860\n",
       "C                     227\n",
       "D                    9385\n",
       "E                    2448\n",
       "F                    1213\n",
       "G                     592\n",
       "Name: id, dtype: int64"
      ]
     },
     "execution_count": 19,
     "metadata": {},
     "output_type": "execute_result"
    }
   ],
   "source": [
    "hotel_train.groupby(by=['reserved_room_type'])['id'].count()"
   ]
  },
  {
   "cell_type": "markdown",
   "metadata": {},
   "source": [
    "Чаще всего гости бронируют самые дорогие номера."
   ]
  },
  {
   "cell_type": "code",
   "execution_count": 20,
   "metadata": {},
   "outputs": [
    {
     "data": {
      "text/plain": [
       "arrival_date_month\n",
       "October      9254\n",
       "September    8781\n",
       "August       6678\n",
       "November     5760\n",
       "July         5717\n",
       "December     5497\n",
       "April        4804\n",
       "May          4677\n",
       "June         4659\n",
       "March        4148\n",
       "February     3358\n",
       "January      1891\n",
       "Name: id, dtype: int64"
      ]
     },
     "execution_count": 20,
     "metadata": {},
     "output_type": "execute_result"
    }
   ],
   "source": [
    "hotel_train.groupby(by=['arrival_date_month'])['id'].count().sort_values(ascending=False)"
   ]
  },
  {
   "cell_type": "markdown",
   "metadata": {},
   "source": [
    "Загруженность отеля неравномерна в течении года: максимальная загрузка в октябре, сентябре и августе, минимальная - январь, февраль, март."
   ]
  },
  {
   "cell_type": "code",
   "execution_count": 21,
   "metadata": {},
   "outputs": [
    {
     "data": {
      "text/plain": [
       "meal\n",
       "BB           51694\n",
       "FB             451\n",
       "HB            7290\n",
       "SC             515\n",
       "SC            5274\n",
       "Name: id, dtype: int64"
      ]
     },
     "execution_count": 21,
     "metadata": {},
     "output_type": "execute_result"
    }
   ],
   "source": [
    "hotel_train.groupby(by=['meal'])['id'].count()"
   ]
  },
  {
   "cell_type": "code",
   "execution_count": 22,
   "metadata": {},
   "outputs": [
    {
     "data": {
      "text/plain": [
       "array(['BB       ', 'FB       ', 'HB       ', 'SC       ', 'SC'],\n",
       "      dtype=object)"
      ]
     },
     "execution_count": 22,
     "metadata": {},
     "output_type": "execute_result"
    }
   ],
   "source": [
    "hotel_train['meal'].unique()"
   ]
  },
  {
   "cell_type": "code",
   "execution_count": 23,
   "metadata": {},
   "outputs": [],
   "source": [
    "hotel_train['meal'] = hotel_train['meal'].str.strip()\n",
    "hotel_test['meal'] = hotel_test['meal'].str.strip()"
   ]
  },
  {
   "cell_type": "code",
   "execution_count": 24,
   "metadata": {},
   "outputs": [
    {
     "data": {
      "text/plain": [
       "array(['BB', 'FB', 'HB', 'SC'], dtype=object)"
      ]
     },
     "execution_count": 24,
     "metadata": {},
     "output_type": "execute_result"
    }
   ],
   "source": [
    "hotel_train['meal'].unique()"
   ]
  },
  {
   "cell_type": "code",
   "execution_count": 25,
   "metadata": {},
   "outputs": [
    {
     "data": {
      "text/plain": [
       "meal\n",
       "BB    51694\n",
       "FB      451\n",
       "HB     7290\n",
       "SC     5789\n",
       "Name: id, dtype: int64"
      ]
     },
     "execution_count": 25,
     "metadata": {},
     "output_type": "execute_result"
    }
   ],
   "source": [
    "hotel_train.groupby(by=['meal'])['id'].count()"
   ]
  },
  {
   "cell_type": "markdown",
   "metadata": {},
   "source": [
    "Большая часть гостей предпочитает только завтракать в отеле, но часть там и ужинает. Менее 10% гостей ест вне отеля.   "
   ]
  },
  {
   "cell_type": "code",
   "execution_count": 26,
   "metadata": {},
   "outputs": [
    {
     "data": {
      "text/plain": [
       "array(['A               ', 'C               ', 'D               ',\n",
       "       'E               ', 'G               ', 'F               ',\n",
       "       'B               '], dtype=object)"
      ]
     },
     "execution_count": 26,
     "metadata": {},
     "output_type": "execute_result"
    }
   ],
   "source": [
    "hotel_train['reserved_room_type'].unique()"
   ]
  },
  {
   "cell_type": "code",
   "execution_count": 27,
   "metadata": {},
   "outputs": [],
   "source": [
    "hotel_train['reserved_room_type'] = hotel_train['reserved_room_type'].str.strip()\n",
    "hotel_test['reserved_room_type'] = hotel_test['reserved_room_type'].str.strip()"
   ]
  },
  {
   "cell_type": "code",
   "execution_count": 28,
   "metadata": {},
   "outputs": [
    {
     "data": {
      "text/plain": [
       "country\n",
       "PRT    28829\n",
       "FRA     5974\n",
       "GBR     5107\n",
       "ESP     4900\n",
       "DEU     3887\n",
       "ITA     2327\n",
       "IRL     1445\n",
       "BEL     1245\n",
       "NLD     1166\n",
       "BRA     1088\n",
       "Name: id, dtype: int64"
      ]
     },
     "execution_count": 28,
     "metadata": {},
     "output_type": "execute_result"
    }
   ],
   "source": [
    "hotel_train.groupby(by=['country'])['id'].count().sort_values(ascending=False).head(10)"
   ]
  },
  {
   "cell_type": "markdown",
   "metadata": {},
   "source": [
    "География гостей достаточно широка: основная часть гостей из Португалии, также много из Франции, Великобритании, Испании и Германии; на 10 месте - Бразилия. Вероятнее всего, отель на португальских Азорских островах."
   ]
  },
  {
   "cell_type": "code",
   "execution_count": 29,
   "metadata": {},
   "outputs": [
    {
     "data": {
      "text/plain": [
       "distribution_channel\n",
       "Corporate     3822\n",
       "Direct        6852\n",
       "GDS             99\n",
       "TA/TO        54451\n",
       "Name: id, dtype: int64"
      ]
     },
     "execution_count": 29,
     "metadata": {},
     "output_type": "execute_result"
    }
   ],
   "source": [
    "hotel_train.groupby(by=['distribution_channel'])['id'].count()"
   ]
  },
  {
   "cell_type": "markdown",
   "metadata": {},
   "source": [
    "Подавляющее число гостей бронирует отель через турагентства."
   ]
  },
  {
   "cell_type": "code",
   "execution_count": 30,
   "metadata": {},
   "outputs": [
    {
     "data": {
      "image/png": "[encoded data removed]",
      "text/plain": [
       "<Figure size 1800x1080 with 20 Axes>"
      ]
     },
     "metadata": {
      "needs_background": "light"
     },
     "output_type": "display_data"
    }
   ],
   "source": [
    "hotel_train.hist(figsize = (25,15));"
   ]
  },
  {
   "cell_type": "code",
   "execution_count": 31,
   "metadata": {},
   "outputs": [],
   "source": [
    "most_country = ['PRT', 'FRA', 'GBR', 'ESP', 'DEU','ITA', 'IRL', 'BEL', 'NLD', 'BRA']\n",
    "hotel_train.loc[~hotel_train['country'].isin(most_country), 'country'] = 'other'"
   ]
  },
  {
   "cell_type": "code",
   "execution_count": 32,
   "metadata": {},
   "outputs": [],
   "source": [
    "most_country = ['PRT', 'FRA', 'GBR', 'ESP', 'DEU','ITA', 'IRL', 'BEL', 'NLD', 'BRA']\n",
    "hotel_test.loc[~hotel_test['country'].isin(most_country), 'country'] = 'other'"
   ]
  },
  {
   "cell_type": "markdown",
   "metadata": {},
   "source": [
    "Для удобства анализа сокращаем количество стран приезда до 10 основных."
   ]
  },
  {
   "cell_type": "code",
   "execution_count": 33,
   "metadata": {},
   "outputs": [
    {
     "data": {
      "text/plain": [
       "11"
      ]
     },
     "execution_count": 33,
     "metadata": {},
     "output_type": "execute_result"
    }
   ],
   "source": [
    "hotel_train['country'].nunique()"
   ]
  },
  {
   "cell_type": "code",
   "execution_count": 34,
   "metadata": {},
   "outputs": [
    {
     "data": {
      "text/plain": [
       "11"
      ]
     },
     "execution_count": 34,
     "metadata": {},
     "output_type": "execute_result"
    }
   ],
   "source": [
    "hotel_test['country'].nunique()"
   ]
  },
  {
   "cell_type": "code",
   "execution_count": 35,
   "metadata": {},
   "outputs": [
    {
     "data": {
      "text/plain": [
       "array(['July', 'August', 'September', 'October', 'November', 'December',\n",
       "       'January', 'February', 'March', 'April', 'May', 'June'],\n",
       "      dtype=object)"
      ]
     },
     "execution_count": 35,
     "metadata": {},
     "output_type": "execute_result"
    }
   ],
   "source": [
    "hotel_train['arrival_date_month'].unique()"
   ]
  },
  {
   "cell_type": "code",
   "execution_count": 36,
   "metadata": {},
   "outputs": [],
   "source": [
    "duplicates = ['January', 'February', 'March', 'April', 'May', 'June', 'July', 'August', 'September', 'October', 'November', 'December']\n",
    "names = [1, 2, 3, 4, 5, 6, 7, 8, 9, 10, 11, 12]\n",
    "hotel_train['arrival_date_month'] = hotel_train['arrival_date_month'].replace(duplicates, names)"
   ]
  },
  {
   "cell_type": "code",
   "execution_count": 37,
   "metadata": {},
   "outputs": [],
   "source": [
    "duplicates = ['January', 'February', 'March', 'April', 'May', 'June', 'July', 'August']\n",
    "names = [1, 2, 3, 4, 5, 6, 7, 8]\n",
    "hotel_test['arrival_date_month'] = hotel_test['arrival_date_month'].replace(duplicates, names)"
   ]
  },
  {
   "cell_type": "markdown",
   "metadata": {},
   "source": [
    "Заменяем наименования месяцев на порядковые значения."
   ]
  },
  {
   "cell_type": "code",
   "execution_count": 38,
   "metadata": {},
   "outputs": [
    {
     "data": {
      "text/plain": [
       "0"
      ]
     },
     "execution_count": 38,
     "metadata": {},
     "output_type": "execute_result"
    }
   ],
   "source": [
    "hotel_train['total_nights'].sum() - (hotel_train['stays_in_week_nights'].sum() + hotel_train['stays_in_weekend_nights'].sum())"
   ]
  },
  {
   "cell_type": "code",
   "execution_count": 39,
   "metadata": {},
   "outputs": [
    {
     "data": {
      "text/html": [
       "<div>\n",
       "<style scoped>\n",
       "    .dataframe tbody tr th:only-of-type {\n",
       "        vertical-align: middle;\n",
       "    }\n",
       "\n",
       "    .dataframe tbody tr th {\n",
       "        vertical-align: top;\n",
       "    }\n",
       "\n",
       "    .dataframe thead th {\n",
       "        text-align: right;\n",
       "    }\n",
       "</style>\n",
       "<table border=\"1\" class=\"dataframe\">\n",
       "  <thead>\n",
       "    <tr style=\"text-align: right;\">\n",
       "      <th></th>\n",
       "      <th>id</th>\n",
       "      <th>is_canceled</th>\n",
       "      <th>lead_time</th>\n",
       "      <th>arrival_date_year</th>\n",
       "      <th>arrival_date_month</th>\n",
       "      <th>arrival_date_week_number</th>\n",
       "      <th>arrival_date_day_of_month</th>\n",
       "      <th>adults</th>\n",
       "      <th>children</th>\n",
       "      <th>babies</th>\n",
       "      <th>...</th>\n",
       "      <th>is_repeated_guest</th>\n",
       "      <th>previous_cancellations</th>\n",
       "      <th>previous_bookings_not_canceled</th>\n",
       "      <th>reserved_room_type</th>\n",
       "      <th>booking_changes</th>\n",
       "      <th>days_in_waiting_list</th>\n",
       "      <th>customer_type</th>\n",
       "      <th>required_car_parking_spaces</th>\n",
       "      <th>total_of_special_requests</th>\n",
       "      <th>total_nights</th>\n",
       "    </tr>\n",
       "  </thead>\n",
       "  <tbody>\n",
       "    <tr>\n",
       "      <th>0</th>\n",
       "      <td>6086</td>\n",
       "      <td>1</td>\n",
       "      <td>74.0</td>\n",
       "      <td>2017</td>\n",
       "      <td>1</td>\n",
       "      <td>1</td>\n",
       "      <td>1</td>\n",
       "      <td>2.0</td>\n",
       "      <td>0.0</td>\n",
       "      <td>0.0</td>\n",
       "      <td>...</td>\n",
       "      <td>0</td>\n",
       "      <td>0</td>\n",
       "      <td>0</td>\n",
       "      <td>A</td>\n",
       "      <td>0</td>\n",
       "      <td>0</td>\n",
       "      <td>Transient</td>\n",
       "      <td>0</td>\n",
       "      <td>0</td>\n",
       "      <td>1</td>\n",
       "    </tr>\n",
       "    <tr>\n",
       "      <th>1</th>\n",
       "      <td>6087</td>\n",
       "      <td>1</td>\n",
       "      <td>62.0</td>\n",
       "      <td>2017</td>\n",
       "      <td>1</td>\n",
       "      <td>1</td>\n",
       "      <td>1</td>\n",
       "      <td>2.0</td>\n",
       "      <td>0.0</td>\n",
       "      <td>0.0</td>\n",
       "      <td>...</td>\n",
       "      <td>0</td>\n",
       "      <td>0</td>\n",
       "      <td>0</td>\n",
       "      <td>A</td>\n",
       "      <td>0</td>\n",
       "      <td>0</td>\n",
       "      <td>Transient</td>\n",
       "      <td>0</td>\n",
       "      <td>1</td>\n",
       "      <td>4</td>\n",
       "    </tr>\n",
       "    <tr>\n",
       "      <th>2</th>\n",
       "      <td>6088</td>\n",
       "      <td>1</td>\n",
       "      <td>62.0</td>\n",
       "      <td>2017</td>\n",
       "      <td>1</td>\n",
       "      <td>1</td>\n",
       "      <td>1</td>\n",
       "      <td>2.0</td>\n",
       "      <td>0.0</td>\n",
       "      <td>0.0</td>\n",
       "      <td>...</td>\n",
       "      <td>0</td>\n",
       "      <td>0</td>\n",
       "      <td>0</td>\n",
       "      <td>A</td>\n",
       "      <td>0</td>\n",
       "      <td>0</td>\n",
       "      <td>Transient</td>\n",
       "      <td>0</td>\n",
       "      <td>1</td>\n",
       "      <td>4</td>\n",
       "    </tr>\n",
       "    <tr>\n",
       "      <th>3</th>\n",
       "      <td>6089</td>\n",
       "      <td>1</td>\n",
       "      <td>71.0</td>\n",
       "      <td>2017</td>\n",
       "      <td>1</td>\n",
       "      <td>1</td>\n",
       "      <td>1</td>\n",
       "      <td>1.0</td>\n",
       "      <td>0.0</td>\n",
       "      <td>0.0</td>\n",
       "      <td>...</td>\n",
       "      <td>0</td>\n",
       "      <td>0</td>\n",
       "      <td>0</td>\n",
       "      <td>A</td>\n",
       "      <td>0</td>\n",
       "      <td>0</td>\n",
       "      <td>Transient</td>\n",
       "      <td>0</td>\n",
       "      <td>1</td>\n",
       "      <td>4</td>\n",
       "    </tr>\n",
       "    <tr>\n",
       "      <th>4</th>\n",
       "      <td>6090</td>\n",
       "      <td>1</td>\n",
       "      <td>172.0</td>\n",
       "      <td>2017</td>\n",
       "      <td>1</td>\n",
       "      <td>1</td>\n",
       "      <td>1</td>\n",
       "      <td>2.0</td>\n",
       "      <td>0.0</td>\n",
       "      <td>0.0</td>\n",
       "      <td>...</td>\n",
       "      <td>0</td>\n",
       "      <td>0</td>\n",
       "      <td>0</td>\n",
       "      <td>A</td>\n",
       "      <td>0</td>\n",
       "      <td>0</td>\n",
       "      <td>Transient</td>\n",
       "      <td>0</td>\n",
       "      <td>0</td>\n",
       "      <td>7</td>\n",
       "    </tr>\n",
       "    <tr>\n",
       "      <th>...</th>\n",
       "      <td>...</td>\n",
       "      <td>...</td>\n",
       "      <td>...</td>\n",
       "      <td>...</td>\n",
       "      <td>...</td>\n",
       "      <td>...</td>\n",
       "      <td>...</td>\n",
       "      <td>...</td>\n",
       "      <td>...</td>\n",
       "      <td>...</td>\n",
       "      <td>...</td>\n",
       "      <td>...</td>\n",
       "      <td>...</td>\n",
       "      <td>...</td>\n",
       "      <td>...</td>\n",
       "      <td>...</td>\n",
       "      <td>...</td>\n",
       "      <td>...</td>\n",
       "      <td>...</td>\n",
       "      <td>...</td>\n",
       "      <td>...</td>\n",
       "    </tr>\n",
       "    <tr>\n",
       "      <th>32407</th>\n",
       "      <td>97899</td>\n",
       "      <td>0</td>\n",
       "      <td>164.0</td>\n",
       "      <td>2017</td>\n",
       "      <td>8</td>\n",
       "      <td>35</td>\n",
       "      <td>31</td>\n",
       "      <td>2.0</td>\n",
       "      <td>0.0</td>\n",
       "      <td>0.0</td>\n",
       "      <td>...</td>\n",
       "      <td>0</td>\n",
       "      <td>0</td>\n",
       "      <td>0</td>\n",
       "      <td>A</td>\n",
       "      <td>0</td>\n",
       "      <td>0</td>\n",
       "      <td>Transient</td>\n",
       "      <td>0</td>\n",
       "      <td>0</td>\n",
       "      <td>6</td>\n",
       "    </tr>\n",
       "    <tr>\n",
       "      <th>32408</th>\n",
       "      <td>97900</td>\n",
       "      <td>0</td>\n",
       "      <td>21.0</td>\n",
       "      <td>2017</td>\n",
       "      <td>8</td>\n",
       "      <td>35</td>\n",
       "      <td>30</td>\n",
       "      <td>2.0</td>\n",
       "      <td>0.0</td>\n",
       "      <td>0.0</td>\n",
       "      <td>...</td>\n",
       "      <td>0</td>\n",
       "      <td>0</td>\n",
       "      <td>0</td>\n",
       "      <td>A</td>\n",
       "      <td>0</td>\n",
       "      <td>0</td>\n",
       "      <td>Transient</td>\n",
       "      <td>0</td>\n",
       "      <td>2</td>\n",
       "      <td>7</td>\n",
       "    </tr>\n",
       "    <tr>\n",
       "      <th>32409</th>\n",
       "      <td>97901</td>\n",
       "      <td>0</td>\n",
       "      <td>23.0</td>\n",
       "      <td>2017</td>\n",
       "      <td>8</td>\n",
       "      <td>35</td>\n",
       "      <td>30</td>\n",
       "      <td>2.0</td>\n",
       "      <td>0.0</td>\n",
       "      <td>0.0</td>\n",
       "      <td>...</td>\n",
       "      <td>0</td>\n",
       "      <td>0</td>\n",
       "      <td>0</td>\n",
       "      <td>A</td>\n",
       "      <td>0</td>\n",
       "      <td>0</td>\n",
       "      <td>Transient</td>\n",
       "      <td>0</td>\n",
       "      <td>0</td>\n",
       "      <td>7</td>\n",
       "    </tr>\n",
       "    <tr>\n",
       "      <th>32410</th>\n",
       "      <td>97902</td>\n",
       "      <td>0</td>\n",
       "      <td>34.0</td>\n",
       "      <td>2017</td>\n",
       "      <td>8</td>\n",
       "      <td>35</td>\n",
       "      <td>31</td>\n",
       "      <td>2.0</td>\n",
       "      <td>0.0</td>\n",
       "      <td>0.0</td>\n",
       "      <td>...</td>\n",
       "      <td>0</td>\n",
       "      <td>0</td>\n",
       "      <td>0</td>\n",
       "      <td>D</td>\n",
       "      <td>0</td>\n",
       "      <td>0</td>\n",
       "      <td>Transient</td>\n",
       "      <td>0</td>\n",
       "      <td>4</td>\n",
       "      <td>7</td>\n",
       "    </tr>\n",
       "    <tr>\n",
       "      <th>32411</th>\n",
       "      <td>97903</td>\n",
       "      <td>0</td>\n",
       "      <td>109.0</td>\n",
       "      <td>2017</td>\n",
       "      <td>8</td>\n",
       "      <td>35</td>\n",
       "      <td>31</td>\n",
       "      <td>2.0</td>\n",
       "      <td>0.0</td>\n",
       "      <td>0.0</td>\n",
       "      <td>...</td>\n",
       "      <td>0</td>\n",
       "      <td>0</td>\n",
       "      <td>0</td>\n",
       "      <td>A</td>\n",
       "      <td>0</td>\n",
       "      <td>0</td>\n",
       "      <td>Transient</td>\n",
       "      <td>0</td>\n",
       "      <td>0</td>\n",
       "      <td>7</td>\n",
       "    </tr>\n",
       "  </tbody>\n",
       "</table>\n",
       "<p>32412 rows × 23 columns</p>\n",
       "</div>"
      ],
      "text/plain": [
       "          id  is_canceled  lead_time  arrival_date_year  arrival_date_month  \\\n",
       "0       6086            1       74.0               2017                   1   \n",
       "1       6087            1       62.0               2017                   1   \n",
       "2       6088            1       62.0               2017                   1   \n",
       "3       6089            1       71.0               2017                   1   \n",
       "4       6090            1      172.0               2017                   1   \n",
       "...      ...          ...        ...                ...                 ...   \n",
       "32407  97899            0      164.0               2017                   8   \n",
       "32408  97900            0       21.0               2017                   8   \n",
       "32409  97901            0       23.0               2017                   8   \n",
       "32410  97902            0       34.0               2017                   8   \n",
       "32411  97903            0      109.0               2017                   8   \n",
       "\n",
       "       arrival_date_week_number  arrival_date_day_of_month  adults  children  \\\n",
       "0                             1                          1     2.0       0.0   \n",
       "1                             1                          1     2.0       0.0   \n",
       "2                             1                          1     2.0       0.0   \n",
       "3                             1                          1     1.0       0.0   \n",
       "4                             1                          1     2.0       0.0   \n",
       "...                         ...                        ...     ...       ...   \n",
       "32407                        35                         31     2.0       0.0   \n",
       "32408                        35                         30     2.0       0.0   \n",
       "32409                        35                         30     2.0       0.0   \n",
       "32410                        35                         31     2.0       0.0   \n",
       "32411                        35                         31     2.0       0.0   \n",
       "\n",
       "       babies  ... is_repeated_guest previous_cancellations  \\\n",
       "0         0.0  ...                 0                      0   \n",
       "1         0.0  ...                 0                      0   \n",
       "2         0.0  ...                 0                      0   \n",
       "3         0.0  ...                 0                      0   \n",
       "4         0.0  ...                 0                      0   \n",
       "...       ...  ...               ...                    ...   \n",
       "32407     0.0  ...                 0                      0   \n",
       "32408     0.0  ...                 0                      0   \n",
       "32409     0.0  ...                 0                      0   \n",
       "32410     0.0  ...                 0                      0   \n",
       "32411     0.0  ...                 0                      0   \n",
       "\n",
       "      previous_bookings_not_canceled  reserved_room_type  booking_changes  \\\n",
       "0                                  0                   A                0   \n",
       "1                                  0                   A                0   \n",
       "2                                  0                   A                0   \n",
       "3                                  0                   A                0   \n",
       "4                                  0                   A                0   \n",
       "...                              ...                 ...              ...   \n",
       "32407                              0                   A                0   \n",
       "32408                              0                   A                0   \n",
       "32409                              0                   A                0   \n",
       "32410                              0                   D                0   \n",
       "32411                              0                   A                0   \n",
       "\n",
       "       days_in_waiting_list customer_type  required_car_parking_spaces  \\\n",
       "0                         0     Transient                            0   \n",
       "1                         0     Transient                            0   \n",
       "2                         0     Transient                            0   \n",
       "3                         0     Transient                            0   \n",
       "4                         0     Transient                            0   \n",
       "...                     ...           ...                          ...   \n",
       "32407                     0     Transient                            0   \n",
       "32408                     0     Transient                            0   \n",
       "32409                     0     Transient                            0   \n",
       "32410                     0     Transient                            0   \n",
       "32411                     0     Transient                            0   \n",
       "\n",
       "       total_of_special_requests total_nights  \n",
       "0                              0            1  \n",
       "1                              1            4  \n",
       "2                              1            4  \n",
       "3                              1            4  \n",
       "4                              0            7  \n",
       "...                          ...          ...  \n",
       "32407                          0            6  \n",
       "32408                          2            7  \n",
       "32409                          0            7  \n",
       "32410                          4            7  \n",
       "32411                          0            7  \n",
       "\n",
       "[32412 rows x 23 columns]"
      ]
     },
     "execution_count": 39,
     "metadata": {},
     "output_type": "execute_result"
    }
   ],
   "source": [
    "hotel_train.drop(['stays_in_week_nights', 'stays_in_weekend_nights'], axis=1)\n",
    "hotel_test.drop(['stays_in_week_nights', 'stays_in_weekend_nights'], axis=1)"
   ]
  },
  {
   "cell_type": "markdown",
   "metadata": {},
   "source": [
    "##  Промежуточный вывод 1 "
   ]
  },
  {
   "cell_type": "markdown",
   "metadata": {},
   "source": [
    "Для анализа представлены данные бронирований отеля за часть 2015, 2016 и часть 2017 годов. Данные корректны, минимальные ошибки (возникшие или при вводе или выгрузке данных) легко устранимы. При анализе данных выявлено: основная часть гостей - взрослые без детей, чаще из Португалии и других стран западной Европы, номера бронируются через турагентства, большая часть гостей пользуется услугами отеля в формате bed&breakfast. В загрузке отеля есть сезонность - пик осенью, спад зимой. У отеля мало лояльных клиентов - отмены бронирований происходят в 37% случаев, менее 3% - гости, возвращающиеся в отель. Однако, медианное время предварительного бронирования 3 месяца и большая часть гостей бронирует номера верхней ценовой категории."
   ]
  },
  {
   "cell_type": "markdown",
   "metadata": {},
   "source": [
    "### Шаг 3. Формулировка ML-задачи на основе бизнес-задачи"
   ]
  },
  {
   "cell_type": "markdown",
   "metadata": {},
   "source": [
    "В связи с достаточно высокой долей отмен бронирований (38%) и отсутствием предоплаты, каждая отмена приводит к убытку в размере стоимости номера за ночь и стоимости однократной уборки номера. Исходя из этого, нужно на этапе бронирования выявить высокий риск отмены и включить в условия бронирования предоплату в размере 80% стоимости номера за ночь и стоимости однократной уборки номера. Для этого нужно подобрать и обучить модель на данных 2015-16 годов для выполнения бинарной задачи классификации, подобрать метрику для оценки корректности модели и на данных 2017 года выполнить тест модели и эффект от её работы. "
   ]
  },
  {
   "cell_type": "code",
   "execution_count": 40,
   "metadata": {},
   "outputs": [
    {
     "name": "stdout",
     "output_type": "stream",
     "text": [
      "<class 'pandas.core.frame.DataFrame'>\n",
      "RangeIndex: 32412 entries, 0 to 32411\n",
      "Data columns (total 45 columns):\n",
      " #   Column                          Non-Null Count  Dtype  \n",
      "---  ------                          --------------  -----  \n",
      " 0   id                              32412 non-null  int64  \n",
      " 1   is_canceled                     32412 non-null  int64  \n",
      " 2   lead_time                       32412 non-null  float64\n",
      " 3   arrival_date_year               32412 non-null  int64  \n",
      " 4   arrival_date_month              32412 non-null  int64  \n",
      " 5   arrival_date_week_number        32412 non-null  int64  \n",
      " 6   arrival_date_day_of_month       32412 non-null  int64  \n",
      " 7   stays_in_weekend_nights         32412 non-null  int64  \n",
      " 8   stays_in_week_nights            32412 non-null  int64  \n",
      " 9   adults                          32412 non-null  float64\n",
      " 10  children                        32412 non-null  float64\n",
      " 11  babies                          32412 non-null  float64\n",
      " 12  is_repeated_guest               32412 non-null  int64  \n",
      " 13  previous_cancellations          32412 non-null  int64  \n",
      " 14  previous_bookings_not_canceled  32412 non-null  int64  \n",
      " 15  booking_changes                 32412 non-null  int64  \n",
      " 16  days_in_waiting_list            32412 non-null  int64  \n",
      " 17  required_car_parking_spaces     32412 non-null  int64  \n",
      " 18  total_of_special_requests       32412 non-null  int64  \n",
      " 19  total_nights                    32412 non-null  int64  \n",
      " 20  meal_FB                         32412 non-null  uint8  \n",
      " 21  meal_HB                         32412 non-null  uint8  \n",
      " 22  meal_SC                         32412 non-null  uint8  \n",
      " 23  country_BRA                     32412 non-null  uint8  \n",
      " 24  country_DEU                     32412 non-null  uint8  \n",
      " 25  country_ESP                     32412 non-null  uint8  \n",
      " 26  country_FRA                     32412 non-null  uint8  \n",
      " 27  country_GBR                     32412 non-null  uint8  \n",
      " 28  country_IRL                     32412 non-null  uint8  \n",
      " 29  country_ITA                     32412 non-null  uint8  \n",
      " 30  country_NLD                     32412 non-null  uint8  \n",
      " 31  country_PRT                     32412 non-null  uint8  \n",
      " 32  country_other                   32412 non-null  uint8  \n",
      " 33  distribution_channel_Direct     32412 non-null  uint8  \n",
      " 34  distribution_channel_GDS        32412 non-null  uint8  \n",
      " 35  distribution_channel_TA/TO      32412 non-null  uint8  \n",
      " 36  reserved_room_type_B            32412 non-null  uint8  \n",
      " 37  reserved_room_type_C            32412 non-null  uint8  \n",
      " 38  reserved_room_type_D            32412 non-null  uint8  \n",
      " 39  reserved_room_type_E            32412 non-null  uint8  \n",
      " 40  reserved_room_type_F            32412 non-null  uint8  \n",
      " 41  reserved_room_type_G            32412 non-null  uint8  \n",
      " 42  customer_type_Group             32412 non-null  uint8  \n",
      " 43  customer_type_Transient         32412 non-null  uint8  \n",
      " 44  customer_type_Transient-Party   32412 non-null  uint8  \n",
      "dtypes: float64(4), int64(16), uint8(25)\n",
      "memory usage: 5.7 MB\n"
     ]
    }
   ],
   "source": [
    "hotel_test_ohe = pd.get_dummies(hotel_test, drop_first=True)\n",
    "hotel_test_ohe.info()"
   ]
  },
  {
   "cell_type": "code",
   "execution_count": 41,
   "metadata": {},
   "outputs": [],
   "source": [
    "hotel_test_pr = hotel_test"
   ]
  },
  {
   "cell_type": "code",
   "execution_count": 42,
   "metadata": {},
   "outputs": [],
   "source": [
    "def get_night_cost(value):\n",
    "    if value == 'A':\n",
    "        return 1000\n",
    "    if value == 'B':\n",
    "        return 800\n",
    "    if value == 'C':\n",
    "        return 600\n",
    "    if value == 'D':\n",
    "        return 550\n",
    "    if value == 'E':\n",
    "        return 500\n",
    "    if value == 'F':\n",
    "        return 450\n",
    "    if value == 'G':\n",
    "        return 350\n",
    "\n",
    "hotel_test_pr['room_cost'] = hotel_test_pr['reserved_room_type'].apply(get_night_cost)\n",
    "    "
   ]
  },
  {
   "cell_type": "code",
   "execution_count": 43,
   "metadata": {},
   "outputs": [],
   "source": [
    "def get_service_cost(value):\n",
    "    if value == 'A':\n",
    "        return 400\n",
    "    if value == 'B':\n",
    "        return 350\n",
    "    if value == 'C':\n",
    "        return 350\n",
    "    if value == 'D':\n",
    "        return 150\n",
    "    if value == 'E':\n",
    "        return 150\n",
    "    if value == 'F':\n",
    "        return 150\n",
    "    if value == 'G':\n",
    "        return 150\n",
    "\n",
    "hotel_test_pr['service_cost'] = hotel_test_pr['reserved_room_type'].apply(get_service_cost)\n",
    "    "
   ]
  },
  {
   "cell_type": "code",
   "execution_count": 44,
   "metadata": {},
   "outputs": [],
   "source": [
    "def get_season_coeff(value):\n",
    "    if value in (12, 1, 2):\n",
    "        return 1\n",
    "    if value in (3, 4, 5, 9, 10, 11):\n",
    "        return 1.2\n",
    "    if value in (6, 7, 8):\n",
    "        return 1.4\n",
    "    \n",
    "hotel_test_pr['season_coeff'] = hotel_test_pr['arrival_date_month'].apply(get_season_coeff)"
   ]
  },
  {
   "cell_type": "code",
   "execution_count": 45,
   "metadata": {},
   "outputs": [],
   "source": [
    "def total_cost_pre (row):\n",
    "    if row['is_canceled'] == 1:\n",
    "        result = 0 - ((row['room_cost'] * row['season_coeff']) + row['service_cost'])\n",
    "    if row['is_canceled'] == 0:\n",
    "        result = (row['room_cost'] * row['total_nights'] * row['season_coeff']) - \\\n",
    "        ((1 + row['total_nights'] // 2) * row['service_cost'])         \n",
    "    return result\n",
    "\n",
    "hotel_test_pr['total_cost_pre'] = hotel_test_pr.apply(total_cost_pre, axis=1)\n"
   ]
  },
  {
   "cell_type": "code",
   "execution_count": 46,
   "metadata": {},
   "outputs": [
    {
     "name": "stdout",
     "output_type": "stream",
     "text": [
      "Выручка отеля до внедрения классификатора:  32582920.0\n"
     ]
    }
   ],
   "source": [
    "print('Выручка отеля до внедрения классификатора: ', hotel_test_pr['total_cost_pre'].sum())"
   ]
  },
  {
   "cell_type": "code",
   "execution_count": 47,
   "metadata": {},
   "outputs": [
    {
     "name": "stdout",
     "output_type": "stream",
     "text": [
      "Убыток отеля из-за отмен бронирований: -18041560.0\n"
     ]
    }
   ],
   "source": [
    "print('Убыток отеля из-за отмен бронирований:', hotel_test_pr.loc[hotel_test_pr['is_canceled'] == 1, 'total_cost_pre'].sum())"
   ]
  },
  {
   "cell_type": "markdown",
   "metadata": {},
   "source": [
    "## Промежуточный вывод 2"
   ]
  },
  {
   "cell_type": "markdown",
   "metadata": {},
   "source": [
    "На основании представленных данных за 8 месяцев 2017г подсчитана общая выручка и потери вследствии отмен бронирований. Выручка: 32582920.0 и потери 18041560.0"
   ]
  },
  {
   "cell_type": "markdown",
   "metadata": {},
   "source": [
    "### Шаг 4. Разработка модели ML"
   ]
  },
  {
   "cell_type": "markdown",
   "metadata": {},
   "source": [
    "В качестве оценки качества моделей применена метрика F1, как достаточно сбалансированная, что бы избежать большого количества ложноположительных и ложноотрицательных ответов классификатора. Большое количество ложноположительных ответов модели конечно снизит затраты на отменённые брони, но, скорее всего, серьёзно повлияет на потребительское поведение клиентов (предоплата). Большое количество ложноотрицательных ответов нивелирует ожидаемый финансовый результат."
   ]
  },
  {
   "cell_type": "code",
   "execution_count": 48,
   "metadata": {},
   "outputs": [
    {
     "name": "stdout",
     "output_type": "stream",
     "text": [
      "<class 'pandas.core.frame.DataFrame'>\n",
      "Int64Index: 65224 entries, 0 to 65228\n",
      "Data columns (total 45 columns):\n",
      " #   Column                          Non-Null Count  Dtype  \n",
      "---  ------                          --------------  -----  \n",
      " 0   id                              65224 non-null  int64  \n",
      " 1   is_canceled                     65224 non-null  int64  \n",
      " 2   lead_time                       65224 non-null  float64\n",
      " 3   arrival_date_year               65224 non-null  int64  \n",
      " 4   arrival_date_month              65224 non-null  int64  \n",
      " 5   arrival_date_week_number        65224 non-null  int64  \n",
      " 6   arrival_date_day_of_month       65224 non-null  int64  \n",
      " 7   stays_in_weekend_nights         65224 non-null  int64  \n",
      " 8   stays_in_week_nights            65224 non-null  int64  \n",
      " 9   adults                          65224 non-null  float64\n",
      " 10  children                        65224 non-null  float64\n",
      " 11  babies                          65224 non-null  float64\n",
      " 12  is_repeated_guest               65224 non-null  int64  \n",
      " 13  previous_cancellations          65224 non-null  int64  \n",
      " 14  previous_bookings_not_canceled  65224 non-null  int64  \n",
      " 15  booking_changes                 65224 non-null  int64  \n",
      " 16  days_in_waiting_list            65224 non-null  int64  \n",
      " 17  required_car_parking_spaces     65224 non-null  int64  \n",
      " 18  total_of_special_requests       65224 non-null  int64  \n",
      " 19  total_nights                    65224 non-null  int64  \n",
      " 20  meal_FB                         65224 non-null  uint8  \n",
      " 21  meal_HB                         65224 non-null  uint8  \n",
      " 22  meal_SC                         65224 non-null  uint8  \n",
      " 23  country_BRA                     65224 non-null  uint8  \n",
      " 24  country_DEU                     65224 non-null  uint8  \n",
      " 25  country_ESP                     65224 non-null  uint8  \n",
      " 26  country_FRA                     65224 non-null  uint8  \n",
      " 27  country_GBR                     65224 non-null  uint8  \n",
      " 28  country_IRL                     65224 non-null  uint8  \n",
      " 29  country_ITA                     65224 non-null  uint8  \n",
      " 30  country_NLD                     65224 non-null  uint8  \n",
      " 31  country_PRT                     65224 non-null  uint8  \n",
      " 32  country_other                   65224 non-null  uint8  \n",
      " 33  distribution_channel_Direct     65224 non-null  uint8  \n",
      " 34  distribution_channel_GDS        65224 non-null  uint8  \n",
      " 35  distribution_channel_TA/TO      65224 non-null  uint8  \n",
      " 36  reserved_room_type_B            65224 non-null  uint8  \n",
      " 37  reserved_room_type_C            65224 non-null  uint8  \n",
      " 38  reserved_room_type_D            65224 non-null  uint8  \n",
      " 39  reserved_room_type_E            65224 non-null  uint8  \n",
      " 40  reserved_room_type_F            65224 non-null  uint8  \n",
      " 41  reserved_room_type_G            65224 non-null  uint8  \n",
      " 42  customer_type_Group             65224 non-null  uint8  \n",
      " 43  customer_type_Transient         65224 non-null  uint8  \n",
      " 44  customer_type_Transient-Party   65224 non-null  uint8  \n",
      "dtypes: float64(4), int64(16), uint8(25)\n",
      "memory usage: 12.0 MB\n"
     ]
    }
   ],
   "source": [
    "hotel_train_ohe = pd.get_dummies(hotel_train, drop_first=True)\n",
    "hotel_train_ohe.info()"
   ]
  },
  {
   "cell_type": "code",
   "execution_count": 49,
   "metadata": {},
   "outputs": [
    {
     "name": "stdout",
     "output_type": "stream",
     "text": [
      "                                is_canceled  lead_time  arrival_date_year  \\\n",
      "is_canceled                        1.000000   0.328132          -0.030852   \n",
      "lead_time                          0.328132   1.000000          -0.022981   \n",
      "arrival_date_year                 -0.030852  -0.022981           1.000000   \n",
      "arrival_date_month                 0.014630   0.094863          -0.398062   \n",
      "arrival_date_week_number           0.012870   0.091603          -0.388002   \n",
      "arrival_date_day_of_month         -0.001933  -0.010236           0.009741   \n",
      "stays_in_weekend_nights           -0.013756   0.047009          -0.006431   \n",
      "stays_in_week_nights               0.010666   0.172644           0.013746   \n",
      "adults                             0.045151   0.119606           0.029060   \n",
      "children                          -0.017760  -0.056367           0.052611   \n",
      "babies                            -0.031888  -0.026641          -0.007197   \n",
      "is_repeated_guest                 -0.040252  -0.089431          -0.005961   \n",
      "previous_cancellations             0.153019   0.142453          -0.134036   \n",
      "previous_bookings_not_canceled    -0.045563  -0.061694           0.040138   \n",
      "booking_changes                   -0.142857  -0.007122           0.041406   \n",
      "days_in_waiting_list               0.075839   0.209740           0.027221   \n",
      "required_car_parking_spaces       -0.186478  -0.116946           0.014978   \n",
      "total_of_special_requests         -0.257039  -0.147743           0.089715   \n",
      "total_nights                       0.001561   0.157670           0.007558   \n",
      "meal_FB                            0.055511   0.018885          -0.048689   \n",
      "meal_HB                            0.012167   0.150843          -0.104116   \n",
      "meal_SC                           -0.016096  -0.116552           0.137159   \n",
      "country_BRA                       -0.012922  -0.043298           0.047327   \n",
      "country_DEU                       -0.119731   0.060295           0.092091   \n",
      "country_ESP                       -0.087448  -0.139064          -0.032254   \n",
      "country_FRA                       -0.146119  -0.064576           0.053512   \n",
      "country_GBR                       -0.111748   0.029326           0.063476   \n",
      "country_IRL                       -0.047433   0.023303           0.018541   \n",
      "country_ITA                       -0.015561  -0.022129           0.024977   \n",
      "country_NLD                       -0.057761  -0.030630           0.041861   \n",
      "country_PRT                        0.382451   0.146359          -0.214634   \n",
      "country_other                     -0.112391  -0.079215           0.104461   \n",
      "distribution_channel_Direct       -0.138667  -0.154545          -0.001534   \n",
      "distribution_channel_GDS          -0.014282  -0.032012           0.023496   \n",
      "distribution_channel_TA/TO         0.165461   0.209185           0.005981   \n",
      "reserved_room_type_B              -0.015610   0.003741           0.005871   \n",
      "reserved_room_type_C              -0.021953  -0.030531          -0.015187   \n",
      "reserved_room_type_D              -0.053302  -0.099120           0.105245   \n",
      "reserved_room_type_E              -0.049230  -0.046610           0.021862   \n",
      "reserved_room_type_F              -0.023325  -0.051481           0.019648   \n",
      "reserved_room_type_G              -0.009126  -0.031383           0.015227   \n",
      "customer_type_Group               -0.039275  -0.036813          -0.041415   \n",
      "customer_type_Transient            0.086342  -0.217907           0.291825   \n",
      "customer_type_Transient-Party     -0.090578   0.202068          -0.179535   \n",
      "\n",
      "                                arrival_date_month  arrival_date_week_number  \\\n",
      "is_canceled                               0.014630                  0.012870   \n",
      "lead_time                                 0.094863                  0.091603   \n",
      "arrival_date_year                        -0.398062                 -0.388002   \n",
      "arrival_date_month                        1.000000                  0.995372   \n",
      "arrival_date_week_number                  0.995372                  1.000000   \n",
      "arrival_date_day_of_month                -0.044914                  0.048397   \n",
      "stays_in_weekend_nights                   0.031368                  0.033961   \n",
      "stays_in_week_nights                      0.031672                  0.032299   \n",
      "adults                                    0.006905                  0.005664   \n",
      "children                                 -0.009087                 -0.007256   \n",
      "babies                                    0.006578                  0.006807   \n",
      "is_repeated_guest                        -0.013380                 -0.013471   \n",
      "previous_cancellations                    0.010956                  0.006870   \n",
      "previous_bookings_not_canceled           -0.012888                 -0.011916   \n",
      "booking_changes                           0.009246                  0.011801   \n",
      "days_in_waiting_list                     -0.053897                 -0.052978   \n",
      "required_car_parking_spaces              -0.008327                 -0.007557   \n",
      "total_of_special_requests                 0.074432                  0.076606   \n",
      "total_nights                              0.040093                  0.041855   \n",
      "meal_FB                                   0.005725                  0.004037   \n",
      "meal_HB                                   0.000108                 -0.003733   \n",
      "meal_SC                                  -0.008421                 -0.007447   \n",
      "country_BRA                               0.013636                  0.016399   \n",
      "country_DEU                              -0.019989                 -0.018094   \n",
      "country_ESP                               0.024591                  0.022780   \n",
      "country_FRA                               0.019922                  0.019847   \n",
      "country_GBR                               0.011031                  0.012131   \n",
      "country_IRL                               0.013822                  0.012758   \n",
      "country_ITA                               0.007922                  0.007916   \n",
      "country_NLD                              -0.004895                 -0.003198   \n",
      "country_PRT                              -0.028623                 -0.032290   \n",
      "country_other                            -0.002516                  0.000242   \n",
      "distribution_channel_Direct              -0.019504                 -0.017793   \n",
      "distribution_channel_GDS                  0.010219                  0.010570   \n",
      "distribution_channel_TA/TO                0.001208                 -0.000364   \n",
      "reserved_room_type_B                     -0.014586                 -0.013479   \n",
      "reserved_room_type_C                     -0.000859                 -0.001085   \n",
      "reserved_room_type_D                     -0.008776                 -0.006712   \n",
      "reserved_room_type_E                     -0.001496                 -0.000364   \n",
      "reserved_room_type_F                      0.003688                  0.004736   \n",
      "reserved_room_type_G                     -0.009995                 -0.010088   \n",
      "customer_type_Group                       0.026814                  0.027054   \n",
      "customer_type_Transient                  -0.044049                 -0.038940   \n",
      "customer_type_Transient-Party             0.003312                 -0.000803   \n",
      "\n",
      "                                arrival_date_day_of_month  \\\n",
      "is_canceled                                     -0.001933   \n",
      "lead_time                                       -0.010236   \n",
      "arrival_date_year                                0.009741   \n",
      "arrival_date_month                              -0.044914   \n",
      "arrival_date_week_number                         0.048397   \n",
      "arrival_date_day_of_month                        1.000000   \n",
      "stays_in_weekend_nights                         -0.001962   \n",
      "stays_in_week_nights                             0.003699   \n",
      "adults                                           0.006030   \n",
      "children                                         0.018550   \n",
      "babies                                           0.001739   \n",
      "is_repeated_guest                               -0.010612   \n",
      "previous_cancellations                          -0.032026   \n",
      "previous_bookings_not_canceled                  -0.000976   \n",
      "booking_changes                                  0.022583   \n",
      "days_in_waiting_list                             0.017064   \n",
      "required_car_parking_spaces                      0.003911   \n",
      "total_of_special_requests                        0.005999   \n",
      "total_nights                                     0.001920   \n",
      "meal_FB                                         -0.006673   \n",
      "meal_HB                                         -0.011442   \n",
      "meal_SC                                         -0.007703   \n",
      "country_BRA                                      0.020639   \n",
      "country_DEU                                      0.008686   \n",
      "country_ESP                                     -0.012420   \n",
      "country_FRA                                     -0.013032   \n",
      "country_GBR                                      0.000258   \n",
      "country_IRL                                     -0.015475   \n",
      "country_ITA                                      0.006787   \n",
      "country_NLD                                      0.008810   \n",
      "country_PRT                                     -0.004808   \n",
      "country_other                                    0.010891   \n",
      "distribution_channel_Direct                      0.019088   \n",
      "distribution_channel_GDS                        -0.005041   \n",
      "distribution_channel_TA/TO                      -0.003166   \n",
      "reserved_room_type_B                             0.012869   \n",
      "reserved_room_type_C                             0.000788   \n",
      "reserved_room_type_D                             0.011835   \n",
      "reserved_room_type_E                             0.009421   \n",
      "reserved_room_type_F                             0.011393   \n",
      "reserved_room_type_G                             0.001329   \n",
      "customer_type_Group                             -0.000196   \n",
      "customer_type_Transient                          0.008448   \n",
      "customer_type_Transient-Party                   -0.003059   \n",
      "\n",
      "                                stays_in_weekend_nights  stays_in_week_nights  \\\n",
      "is_canceled                                   -0.013756              0.010666   \n",
      "lead_time                                      0.047009              0.172644   \n",
      "arrival_date_year                             -0.006431              0.013746   \n",
      "arrival_date_month                             0.031368              0.031672   \n",
      "arrival_date_week_number                       0.033961              0.032299   \n",
      "arrival_date_day_of_month                     -0.001962              0.003699   \n",
      "stays_in_weekend_nights                        1.000000              0.197461   \n",
      "stays_in_week_nights                           0.197461              1.000000   \n",
      "adults                                         0.116726              0.119872   \n",
      "children                                       0.026229              0.023596   \n",
      "babies                                         0.021807              0.022977   \n",
      "is_repeated_guest                             -0.081944             -0.094616   \n",
      "previous_cancellations                        -0.008725             -0.006095   \n",
      "previous_bookings_not_canceled                -0.025560             -0.049188   \n",
      "booking_changes                                0.023125              0.061668   \n",
      "days_in_waiting_list                          -0.065167              0.036042   \n",
      "required_car_parking_spaces                   -0.015883             -0.027074   \n",
      "total_of_special_requests                      0.083635              0.090321   \n",
      "total_nights                                   0.644959              0.876525   \n",
      "meal_FB                                        0.012107              0.008006   \n",
      "meal_HB                                        0.043302              0.038119   \n",
      "meal_SC                                       -0.017934             -0.063506   \n",
      "country_BRA                                    0.013075             -0.003140   \n",
      "country_DEU                                    0.017116              0.022098   \n",
      "country_ESP                                    0.001476             -0.031007   \n",
      "country_FRA                                    0.020890              0.028607   \n",
      "country_GBR                                    0.111061              0.143633   \n",
      "country_IRL                                    0.087831              0.120943   \n",
      "country_ITA                                    0.029716             -0.016777   \n",
      "country_NLD                                    0.026688              0.023306   \n",
      "country_PRT                                   -0.162229             -0.142575   \n",
      "country_other                                  0.037076              0.022295   \n",
      "distribution_channel_Direct                   -0.034102             -0.028270   \n",
      "distribution_channel_GDS                      -0.004011             -0.029429   \n",
      "distribution_channel_TA/TO                     0.087397              0.094260   \n",
      "reserved_room_type_B                           0.017536              0.009295   \n",
      "reserved_room_type_C                           0.015461              0.017480   \n",
      "reserved_room_type_D                           0.075790              0.125621   \n",
      "reserved_room_type_E                           0.060017              0.080238   \n",
      "reserved_room_type_F                           0.013838              0.009327   \n",
      "reserved_room_type_G                           0.023772              0.034235   \n",
      "customer_type_Group                           -0.002124             -0.018892   \n",
      "customer_type_Transient                        0.054270              0.037852   \n",
      "customer_type_Transient-Party                 -0.068036             -0.059264   \n",
      "\n",
      "                                  adults  children  ...  \\\n",
      "is_canceled                     0.045151 -0.017760  ...   \n",
      "lead_time                       0.119606 -0.056367  ...   \n",
      "arrival_date_year               0.029060  0.052611  ...   \n",
      "arrival_date_month              0.006905 -0.009087  ...   \n",
      "arrival_date_week_number        0.005664 -0.007256  ...   \n",
      "arrival_date_day_of_month       0.006030  0.018550  ...   \n",
      "stays_in_weekend_nights         0.116726  0.026229  ...   \n",
      "stays_in_week_nights            0.119872  0.023596  ...   \n",
      "adults                          1.000000 -0.003217  ...   \n",
      "children                       -0.003217  1.000000  ...   \n",
      "babies                          0.025559  0.023085  ...   \n",
      "is_repeated_guest              -0.157059 -0.026710  ...   \n",
      "previous_cancellations          0.003083 -0.027359  ...   \n",
      "previous_bookings_not_canceled -0.115357 -0.015808  ...   \n",
      "booking_changes                -0.056405  0.053871  ...   \n",
      "days_in_waiting_list           -0.013476 -0.038618  ...   \n",
      "required_car_parking_spaces     0.013300  0.047897  ...   \n",
      "total_of_special_requests       0.171782  0.112771  ...   \n",
      "total_nights                    0.150764  0.031274  ...   \n",
      "meal_FB                         0.010673 -0.014269  ...   \n",
      "meal_HB                         0.037220 -0.027222  ...   \n",
      "meal_SC                         0.023130 -0.048479  ...   \n",
      "country_BRA                     0.040831  0.021314  ...   \n",
      "country_DEU                     0.018505 -0.017461  ...   \n",
      "country_ESP                     0.059075  0.042287  ...   \n",
      "country_FRA                     0.062674  0.015675  ...   \n",
      "country_GBR                     0.032394  0.006233  ...   \n",
      "country_IRL                     0.030181 -0.007238  ...   \n",
      "country_ITA                     0.044110  0.019466  ...   \n",
      "country_NLD                     0.004951  0.012002  ...   \n",
      "country_PRT                    -0.142306 -0.071226  ...   \n",
      "country_other                   0.006187  0.039534  ...   \n",
      "distribution_channel_Direct    -0.018245  0.042457  ...   \n",
      "distribution_channel_GDS       -0.063818 -0.008736  ...   \n",
      "distribution_channel_TA/TO      0.187719 -0.001995  ...   \n",
      "reserved_room_type_B           -0.052465  0.145402  ...   \n",
      "reserved_room_type_C            0.025531  0.179139  ...   \n",
      "reserved_room_type_D            0.224280 -0.048603  ...   \n",
      "reserved_room_type_E            0.033771  0.012225  ...   \n",
      "reserved_room_type_F            0.046607  0.416645  ...   \n",
      "reserved_room_type_G            0.048389  0.323889  ...   \n",
      "customer_type_Group            -0.009212 -0.006580  ...   \n",
      "customer_type_Transient         0.098677  0.079089  ...   \n",
      "customer_type_Transient-Party  -0.116558 -0.082383  ...   \n",
      "\n",
      "                                distribution_channel_TA/TO  \\\n",
      "is_canceled                                       0.165461   \n",
      "lead_time                                         0.209185   \n",
      "arrival_date_year                                 0.005981   \n",
      "arrival_date_month                                0.001208   \n",
      "arrival_date_week_number                         -0.000364   \n",
      "arrival_date_day_of_month                        -0.003166   \n",
      "stays_in_weekend_nights                           0.087397   \n",
      "stays_in_week_nights                              0.094260   \n",
      "adults                                            0.187719   \n",
      "children                                         -0.001995   \n",
      "babies                                           -0.026609   \n",
      "is_repeated_guest                                -0.212500   \n",
      "previous_cancellations                           -0.001159   \n",
      "previous_bookings_not_canceled                   -0.150427   \n",
      "booking_changes                                  -0.107012   \n",
      "days_in_waiting_list                              0.066553   \n",
      "required_car_parking_spaces                      -0.127005   \n",
      "total_of_special_requests                         0.103379   \n",
      "total_nights                                      0.116396   \n",
      "meal_FB                                          -0.019685   \n",
      "meal_HB                                           0.061731   \n",
      "meal_SC                                           0.095409   \n",
      "country_BRA                                       0.015701   \n",
      "country_DEU                                       0.059127   \n",
      "country_ESP                                       0.014462   \n",
      "country_FRA                                       0.048914   \n",
      "country_GBR                                      -0.016365   \n",
      "country_IRL                                       0.009445   \n",
      "country_ITA                                       0.040813   \n",
      "country_NLD                                       0.015140   \n",
      "country_PRT                                      -0.104449   \n",
      "country_other                                     0.036064   \n",
      "distribution_channel_Direct                      -0.770266   \n",
      "distribution_channel_GDS                         -0.087655   \n",
      "distribution_channel_TA/TO                        1.000000   \n",
      "reserved_room_type_B                             -0.009033   \n",
      "reserved_room_type_C                             -0.044524   \n",
      "reserved_room_type_D                              0.025423   \n",
      "reserved_room_type_E                             -0.107242   \n",
      "reserved_room_type_F                             -0.046958   \n",
      "reserved_room_type_G                             -0.026217   \n",
      "customer_type_Group                              -0.009729   \n",
      "customer_type_Transient                          -0.043198   \n",
      "customer_type_Transient-Party                     0.006968   \n",
      "\n",
      "                                reserved_room_type_B  reserved_room_type_C  \\\n",
      "is_canceled                                -0.015610             -0.021953   \n",
      "lead_time                                   0.003741             -0.030531   \n",
      "arrival_date_year                           0.005871             -0.015187   \n",
      "arrival_date_month                         -0.014586             -0.000859   \n",
      "arrival_date_week_number                   -0.013479             -0.001085   \n",
      "arrival_date_day_of_month                   0.012869              0.000788   \n",
      "stays_in_weekend_nights                     0.017536              0.015461   \n",
      "stays_in_week_nights                        0.009295              0.017480   \n",
      "adults                                     -0.052465              0.025531   \n",
      "children                                    0.145402              0.179139   \n",
      "babies                                      0.003431              0.039269   \n",
      "is_repeated_guest                          -0.017657              0.007747   \n",
      "previous_cancellations                     -0.008197             -0.007353   \n",
      "previous_bookings_not_canceled             -0.008271             -0.004014   \n",
      "booking_changes                             0.054552              0.024517   \n",
      "days_in_waiting_list                       -0.016387             -0.010690   \n",
      "required_car_parking_spaces                -0.005043              0.048399   \n",
      "total_of_special_requests                   0.028963              0.006100   \n",
      "total_nights                                0.015857              0.021219   \n",
      "meal_FB                                    -0.009645              0.004494   \n",
      "meal_HB                                    -0.031619              0.008782   \n",
      "meal_SC                                    -0.023314             -0.013867   \n",
      "country_BRA                                 0.017478              0.000434   \n",
      "country_DEU                                 0.002696             -0.013777   \n",
      "country_ESP                                 0.000710              0.011799   \n",
      "country_FRA                                -0.000358             -0.007032   \n",
      "country_GBR                                 0.003333              0.006034   \n",
      "country_IRL                                -0.008267              0.001717   \n",
      "country_ITA                                 0.003853             -0.009964   \n",
      "country_NLD                                 0.009764             -0.002079   \n",
      "country_PRT                                -0.032239              0.011358   \n",
      "country_other                               0.017316             -0.007620   \n",
      "distribution_channel_Direct                 0.033163              0.060413   \n",
      "distribution_channel_GDS                   -0.004507             -0.002304   \n",
      "distribution_channel_TA/TO                 -0.009033             -0.044524   \n",
      "reserved_room_type_B                        1.000000             -0.006831   \n",
      "reserved_room_type_C                       -0.006831              1.000000   \n",
      "reserved_room_type_D                       -0.047389             -0.024228   \n",
      "reserved_room_type_E                       -0.022826             -0.011670   \n",
      "reserved_room_type_F                       -0.015912             -0.008135   \n",
      "reserved_room_type_G                       -0.011063             -0.005656   \n",
      "customer_type_Group                         0.002469              0.003938   \n",
      "customer_type_Transient                    -0.051434              0.024757   \n",
      "customer_type_Transient-Party               0.042121             -0.023339   \n",
      "\n",
      "                                reserved_room_type_D  reserved_room_type_E  \\\n",
      "is_canceled                                -0.053302             -0.049230   \n",
      "lead_time                                  -0.099120             -0.046610   \n",
      "arrival_date_year                           0.105245              0.021862   \n",
      "arrival_date_month                         -0.008776             -0.001496   \n",
      "arrival_date_week_number                   -0.006712             -0.000364   \n",
      "arrival_date_day_of_month                   0.011835              0.009421   \n",
      "stays_in_weekend_nights                     0.075790              0.060017   \n",
      "stays_in_week_nights                        0.125621              0.080238   \n",
      "adults                                      0.224280              0.033771   \n",
      "children                                   -0.048603              0.012225   \n",
      "babies                                      0.009892              0.022707   \n",
      "is_repeated_guest                          -0.036775             -0.008174   \n",
      "previous_cancellations                     -0.045566             -0.020941   \n",
      "previous_bookings_not_canceled             -0.024233              0.013699   \n",
      "booking_changes                            -0.008129              0.020462   \n",
      "days_in_waiting_list                       -0.067986             -0.029800   \n",
      "required_car_parking_spaces                 0.020607              0.104403   \n",
      "total_of_special_requests                   0.144736              0.052970   \n",
      "total_nights                                0.135145              0.092020   \n",
      "meal_FB                                    -0.024193             -0.004796   \n",
      "meal_HB                                    -0.033128              0.026214   \n",
      "meal_SC                                    -0.118731             -0.055673   \n",
      "country_BRA                                 0.019595             -0.004935   \n",
      "country_DEU                                 0.025225             -0.022110   \n",
      "country_ESP                                 0.019712              0.005231   \n",
      "country_FRA                                 0.041557             -0.016561   \n",
      "country_GBR                                 0.076126              0.053546   \n",
      "country_IRL                                 0.042168              0.027275   \n",
      "country_ITA                                 0.017703             -0.023197   \n",
      "country_NLD                                 0.028756             -0.002291   \n",
      "country_PRT                                -0.165556             -0.016246   \n",
      "country_other                               0.056728              0.011697   \n",
      "distribution_channel_Direct                 0.022235              0.119395   \n",
      "distribution_channel_GDS                   -0.014862              0.021310   \n",
      "distribution_channel_TA/TO                  0.025423             -0.107242   \n",
      "reserved_room_type_B                       -0.047389             -0.022826   \n",
      "reserved_room_type_C                       -0.024228             -0.011670   \n",
      "reserved_room_type_D                        1.000000             -0.080958   \n",
      "reserved_room_type_E                       -0.080958              1.000000   \n",
      "reserved_room_type_F                       -0.056435             -0.027184   \n",
      "reserved_room_type_G                       -0.039236             -0.018899   \n",
      "customer_type_Group                         0.025544             -0.004597   \n",
      "customer_type_Transient                     0.153827              0.060179   \n",
      "customer_type_Transient-Party              -0.158958             -0.056900   \n",
      "\n",
      "                                reserved_room_type_F  reserved_room_type_G  \\\n",
      "is_canceled                                -0.023325             -0.009126   \n",
      "lead_time                                  -0.051481             -0.031383   \n",
      "arrival_date_year                           0.019648              0.015227   \n",
      "arrival_date_month                          0.003688             -0.009995   \n",
      "arrival_date_week_number                    0.004736             -0.010088   \n",
      "arrival_date_day_of_month                   0.011393              0.001329   \n",
      "stays_in_weekend_nights                     0.013838              0.023772   \n",
      "stays_in_week_nights                        0.009327              0.034235   \n",
      "adults                                      0.046607              0.048389   \n",
      "children                                    0.416645              0.323889   \n",
      "babies                                      0.014701              0.021443   \n",
      "is_repeated_guest                          -0.013222             -0.009026   \n",
      "previous_cancellations                     -0.016621             -0.011274   \n",
      "previous_bookings_not_canceled             -0.008868             -0.005699   \n",
      "booking_changes                             0.030856              0.017708   \n",
      "days_in_waiting_list                       -0.025167             -0.016274   \n",
      "required_car_parking_spaces                 0.047581              0.073473   \n",
      "total_of_special_requests                   0.050555              0.011284   \n",
      "total_nights                                0.014066              0.038361   \n",
      "meal_FB                                    -0.007378             -0.006035   \n",
      "meal_HB                                    -0.022538             -0.006756   \n",
      "meal_SC                                    -0.032986             -0.027595   \n",
      "country_BRA                                 0.002451              0.000158   \n",
      "country_DEU                                -0.014520             -0.012483   \n",
      "country_ESP                                 0.026208              0.004616   \n",
      "country_FRA                                 0.009403             -0.017499   \n",
      "country_GBR                                 0.016907              0.015434   \n",
      "country_IRL                                 0.006266              0.016349   \n",
      "country_ITA                                 0.013903             -0.013179   \n",
      "country_NLD                                 0.007122             -0.004372   \n",
      "country_PRT                                -0.047107             -0.007703   \n",
      "country_other                               0.023696              0.020842   \n",
      "distribution_channel_Direct                 0.080526              0.045242   \n",
      "distribution_channel_GDS                   -0.005367             -0.003731   \n",
      "distribution_channel_TA/TO                 -0.046958             -0.026217   \n",
      "reserved_room_type_B                       -0.015912             -0.011063   \n",
      "reserved_room_type_C                       -0.008135             -0.005656   \n",
      "reserved_room_type_D                       -0.056435             -0.039236   \n",
      "reserved_room_type_E                       -0.027184             -0.018899   \n",
      "reserved_room_type_F                        1.000000             -0.013175   \n",
      "reserved_room_type_G                       -0.013175              1.000000   \n",
      "customer_type_Group                        -0.002293              0.000965   \n",
      "customer_type_Transient                     0.052626              0.046497   \n",
      "customer_type_Transient-Party              -0.065423             -0.040223   \n",
      "\n",
      "                                customer_type_Group  customer_type_Transient  \\\n",
      "is_canceled                               -0.039275                 0.086342   \n",
      "lead_time                                 -0.036813                -0.217907   \n",
      "arrival_date_year                         -0.041415                 0.291825   \n",
      "arrival_date_month                         0.026814                -0.044049   \n",
      "arrival_date_week_number                   0.027054                -0.038940   \n",
      "arrival_date_day_of_month                 -0.000196                 0.008448   \n",
      "stays_in_weekend_nights                   -0.002124                 0.054270   \n",
      "stays_in_week_nights                      -0.018892                 0.037852   \n",
      "adults                                    -0.009212                 0.098677   \n",
      "children                                  -0.006580                 0.079089   \n",
      "babies                                     0.002901                 0.028420   \n",
      "is_repeated_guest                          0.060155                 0.015988   \n",
      "previous_cancellations                    -0.005039                -0.029134   \n",
      "previous_bookings_not_canceled             0.009094                 0.024550   \n",
      "booking_changes                            0.003225                -0.076591   \n",
      "days_in_waiting_list                      -0.011036                -0.106391   \n",
      "required_car_parking_spaces                0.004737                 0.083946   \n",
      "total_of_special_requests                 -0.002811                 0.145422   \n",
      "total_nights                              -0.015770                 0.056156   \n",
      "meal_FB                                   -0.005547                -0.011898   \n",
      "meal_HB                                   -0.014025                -0.189423   \n",
      "meal_SC                                   -0.009345                 0.111677   \n",
      "country_BRA                                0.000384                 0.026372   \n",
      "country_DEU                               -0.004015                -0.030720   \n",
      "country_ESP                               -0.006644                 0.030338   \n",
      "country_FRA                                0.023861                 0.030381   \n",
      "country_GBR                                0.020287                 0.019162   \n",
      "country_IRL                               -0.008433                 0.022725   \n",
      "country_ITA                               -0.001548                -0.018518   \n",
      "country_NLD                                0.001520                 0.036725   \n",
      "country_PRT                               -0.014858                -0.082335   \n",
      "country_other                             -0.001811                 0.042907   \n",
      "distribution_channel_Direct                0.015751                 0.095050   \n",
      "distribution_channel_GDS                  -0.002592                 0.025681   \n",
      "distribution_channel_TA/TO                -0.009729                -0.043198   \n",
      "reserved_room_type_B                       0.002469                -0.051434   \n",
      "reserved_room_type_C                       0.003938                 0.024757   \n",
      "reserved_room_type_D                       0.025544                 0.153827   \n",
      "reserved_room_type_E                      -0.004597                 0.060179   \n",
      "reserved_room_type_F                      -0.002293                 0.052626   \n",
      "reserved_room_type_G                       0.000965                 0.046497   \n",
      "customer_type_Group                        1.000000                -0.100932   \n",
      "customer_type_Transient                   -0.100932                 1.000000   \n",
      "customer_type_Transient-Party             -0.039004                -0.890737   \n",
      "\n",
      "                                customer_type_Transient-Party  \n",
      "is_canceled                                         -0.090578  \n",
      "lead_time                                            0.202068  \n",
      "arrival_date_year                                   -0.179535  \n",
      "arrival_date_month                                   0.003312  \n",
      "arrival_date_week_number                            -0.000803  \n",
      "arrival_date_day_of_month                           -0.003059  \n",
      "stays_in_weekend_nights                             -0.068036  \n",
      "stays_in_week_nights                                -0.059264  \n",
      "adults                                              -0.116558  \n",
      "children                                            -0.082383  \n",
      "babies                                              -0.030002  \n",
      "is_repeated_guest                                   -0.011996  \n",
      "previous_cancellations                               0.012361  \n",
      "previous_bookings_not_canceled                      -0.019465  \n",
      "booking_changes                                      0.096050  \n",
      "days_in_waiting_list                                 0.131092  \n",
      "required_car_parking_spaces                         -0.082937  \n",
      "total_of_special_requests                           -0.194242  \n",
      "total_nights                                        -0.079607  \n",
      "meal_FB                                              0.020988  \n",
      "meal_HB                                              0.215865  \n",
      "meal_SC                                             -0.107633  \n",
      "country_BRA                                         -0.019091  \n",
      "country_DEU                                          0.044760  \n",
      "country_ESP                                         -0.025553  \n",
      "country_FRA                                         -0.023963  \n",
      "country_GBR                                         -0.052664  \n",
      "country_IRL                                         -0.021962  \n",
      "country_ITA                                          0.028620  \n",
      "country_NLD                                         -0.039124  \n",
      "country_PRT                                          0.074249  \n",
      "country_other                                       -0.030622  \n",
      "distribution_channel_Direct                         -0.070983  \n",
      "distribution_channel_GDS                            -0.022875  \n",
      "distribution_channel_TA/TO                           0.006968  \n",
      "reserved_room_type_B                                 0.042121  \n",
      "reserved_room_type_C                                -0.023339  \n",
      "reserved_room_type_D                                -0.158958  \n",
      "reserved_room_type_E                                -0.056900  \n",
      "reserved_room_type_F                                -0.065423  \n",
      "reserved_room_type_G                                -0.040223  \n",
      "customer_type_Group                                 -0.039004  \n",
      "customer_type_Transient                             -0.890737  \n",
      "customer_type_Transient-Party                        1.000000  \n",
      "\n",
      "[44 rows x 44 columns]\n"
     ]
    }
   ],
   "source": [
    "print(hotel_train_ohe.drop(['id'], axis=1).corr())"
   ]
  },
  {
   "cell_type": "code",
   "execution_count": 50,
   "metadata": {},
   "outputs": [],
   "source": [
    "y_train = hotel_train_ohe['is_canceled']\n",
    "x_train = hotel_train_ohe.drop(['id', 'is_canceled', 'arrival_date_day_of_month', 'reserved_room_type_G' ] , axis=1)"
   ]
  },
  {
   "cell_type": "markdown",
   "metadata": {},
   "source": [
    "Убрал из списка фичей ненужную колонку 'id' и признаки, где индекс корелляции с целевым признаком менее 0.01"
   ]
  },
  {
   "cell_type": "code",
   "execution_count": 51,
   "metadata": {},
   "outputs": [
    {
     "data": {
      "text/plain": [
       "0.36863731141910955"
      ]
     },
     "execution_count": 51,
     "metadata": {},
     "output_type": "execute_result"
    }
   ],
   "source": [
    "y_train.mean()"
   ]
  },
  {
   "cell_type": "code",
   "execution_count": 52,
   "metadata": {},
   "outputs": [],
   "source": [
    "numeric = ['lead_time', 'arrival_date_year', 'arrival_date_month', 'arrival_date_week_number', 'stays_in_weekend_nights', 'stays_in_week_nights', 'adults', 'children', 'babies', 'total_nights']\n",
    "scaler = StandardScaler()\n",
    "scaler.fit(x_train[numeric])\n",
    "x_train[numeric] = scaler.transform(x_train[numeric])\n"
   ]
  },
  {
   "cell_type": "markdown",
   "metadata": {},
   "source": [
    "Стандартизация численных значений."
   ]
  },
  {
   "cell_type": "code",
   "execution_count": 53,
   "metadata": {},
   "outputs": [],
   "source": [
    "clf_1 = DecisionTreeClassifier(random_state=12345, class_weight='balanced')\n",
    "params_1 = {'criterion': ['gini', 'entropy'], 'max_depth': range(1, 12, 2)}\n",
    "search_1 = GridSearchCV(clf_1, params_1, cv=5, n_jobs=-1, scoring='f1')\n",
    "search_1.fit(x_train, y_train)\n",
    "best_clf_1 = search_1.best_estimator_"
   ]
  },
  {
   "cell_type": "markdown",
   "metadata": {},
   "source": [
    "Подбор параметром для модели DecisionTreeClassifier"
   ]
  },
  {
   "cell_type": "code",
   "execution_count": 54,
   "metadata": {},
   "outputs": [
    {
     "data": {
      "text/plain": [
       "DecisionTreeClassifier(class_weight='balanced', criterion='entropy',\n",
       "                       max_depth=5, random_state=12345)"
      ]
     },
     "execution_count": 54,
     "metadata": {},
     "output_type": "execute_result"
    }
   ],
   "source": [
    "best_clf_1"
   ]
  },
  {
   "cell_type": "code",
   "execution_count": 55,
   "metadata": {},
   "outputs": [
    {
     "data": {
      "text/plain": [
       "0.6074711250569178"
      ]
     },
     "execution_count": 55,
     "metadata": {},
     "output_type": "execute_result"
    }
   ],
   "source": [
    "search_1.best_score_"
   ]
  },
  {
   "cell_type": "markdown",
   "metadata": {},
   "source": [
    "Лучший показатель F1 на этой модели"
   ]
  },
  {
   "cell_type": "code",
   "execution_count": null,
   "metadata": {},
   "outputs": [],
   "source": [
    "clf_2 = RandomForestClassifier(random_state=12345, class_weight='balanced')\n",
    "params_2 = {'criterion': ['gini', 'entropy'], 'n_estimators': range (10, 200, 10), 'max_depth': range(1, 12, 2)}\n",
    "search_2 = GridSearchCV(clf_2, params_2, cv=5, n_jobs=-1, scoring='f1')\n",
    "search_2.fit(x_train, y_train)\n",
    "best_clf_2 = search_2.best_estimator_"
   ]
  },
  {
   "cell_type": "markdown",
   "metadata": {},
   "source": [
    "Подбор параметром для модели RandomForestClassifier"
   ]
  },
  {
   "cell_type": "code",
   "execution_count": null,
   "metadata": {},
   "outputs": [],
   "source": [
    "best_clf_2"
   ]
  },
  {
   "cell_type": "code",
   "execution_count": null,
   "metadata": {},
   "outputs": [],
   "source": [
    "search_2.best_score_"
   ]
  },
  {
   "cell_type": "markdown",
   "metadata": {},
   "source": [
    "Лучший показатель F1 на этой модели"
   ]
  },
  {
   "cell_type": "code",
   "execution_count": null,
   "metadata": {},
   "outputs": [],
   "source": [
    "clf_3 = LogisticRegression(random_state=12345, class_weight='balanced')\n",
    "params_3 = {'max_iter': range (500, 5000, 500)}\n",
    "search_3 = GridSearchCV(clf_3, params_3, cv=5, n_jobs=-1, scoring='f1')\n",
    "search_3.fit(x_train, y_train)\n",
    "best_clf_3 = search_3.best_estimator_"
   ]
  },
  {
   "cell_type": "markdown",
   "metadata": {},
   "source": [
    "Подбор параметром для модели LogisticRegression"
   ]
  },
  {
   "cell_type": "code",
   "execution_count": null,
   "metadata": {},
   "outputs": [],
   "source": [
    "best_clf_3"
   ]
  },
  {
   "cell_type": "code",
   "execution_count": null,
   "metadata": {},
   "outputs": [],
   "source": [
    "search_3.best_score_"
   ]
  },
  {
   "cell_type": "markdown",
   "metadata": {},
   "source": [
    "Лучший показатель F1 на этой модели"
   ]
  },
  {
   "cell_type": "code",
   "execution_count": null,
   "metadata": {},
   "outputs": [],
   "source": [
    "x_test = hotel_test_ohe.drop(['id', 'is_canceled', 'arrival_date_day_of_month', 'reserved_room_type_G'] , axis=1)"
   ]
  },
  {
   "cell_type": "code",
   "execution_count": null,
   "metadata": {},
   "outputs": [],
   "source": [
    "y_test = hotel_test_ohe['is_canceled']"
   ]
  },
  {
   "cell_type": "code",
   "execution_count": null,
   "metadata": {},
   "outputs": [],
   "source": [
    "is_canceled_pred = best_clf_2.predict(x_test)"
   ]
  },
  {
   "cell_type": "markdown",
   "metadata": {},
   "source": [
    "подготовка тестовой выборки"
   ]
  },
  {
   "cell_type": "code",
   "execution_count": null,
   "metadata": {},
   "outputs": [],
   "source": [
    "scores = cross_val_score(best_clf_2, x_test, y_test, cv=5, scoring='f1') \n",
    "final_score = scores.sum()/len(scores)\n",
    "print('Средняя оценка качества модели:', final_score)"
   ]
  },
  {
   "cell_type": "code",
   "execution_count": null,
   "metadata": {},
   "outputs": [],
   "source": [
    "is_canceled_pred = pd.Series(is_canceled_pred)"
   ]
  },
  {
   "cell_type": "code",
   "execution_count": null,
   "metadata": {},
   "outputs": [],
   "source": [
    "hotel_test_pr['is_canceled_pred'] = is_canceled_pred[hotel_test_pr.index]"
   ]
  },
  {
   "cell_type": "code",
   "execution_count": null,
   "metadata": {},
   "outputs": [],
   "source": [
    "hotel_test_pr.info()"
   ]
  },
  {
   "cell_type": "code",
   "execution_count": null,
   "metadata": {},
   "outputs": [],
   "source": [
    "hotel_test_pr['is_canceled_pred'].mean()"
   ]
  },
  {
   "cell_type": "code",
   "execution_count": null,
   "metadata": {},
   "outputs": [],
   "source": [
    "def profit_clf (row):\n",
    "    if row['is_canceled_pred'] == 1:\n",
    "        if row['is_canceled'] == 1:\n",
    "            return row['total_cost_pre'] * 0.2\n",
    "        elif row['is_canceled'] == 0:\n",
    "            return row['total_cost_pre']\n",
    "    elif row['is_canceled_pred'] == 0:\n",
    "        return row['total_cost_pre']\n",
    "\n",
    "hotel_test_pr['total_cost_past'] = hotel_test_pr.apply(profit_clf, axis=1)    "
   ]
  },
  {
   "cell_type": "code",
   "execution_count": null,
   "metadata": {},
   "outputs": [],
   "source": [
    "hotel_test_pr"
   ]
  },
  {
   "cell_type": "markdown",
   "metadata": {},
   "source": [
    "Подсчёт выручки отеля на тестовой выборке с учётом обученного классификатора"
   ]
  },
  {
   "cell_type": "code",
   "execution_count": null,
   "metadata": {},
   "outputs": [],
   "source": [
    "print('Выручка отеля после внедрения классификатора: ', hotel_test_pr['total_cost_past'].sum())"
   ]
  },
  {
   "cell_type": "code",
   "execution_count": null,
   "metadata": {},
   "outputs": [],
   "source": [
    "print('Убыток отеля из-за отмен бронирований: ', hotel_test_pr.loc[hotel_test_pr['is_canceled'] == 1, 'total_cost_past'].sum())"
   ]
  },
  {
   "cell_type": "code",
   "execution_count": null,
   "metadata": {},
   "outputs": [],
   "source": [
    "print('Финансовый эффект применения классификатора: ', hotel_test_pr['total_cost_past'].sum() - hotel_test_pr['total_cost_pre'].sum())"
   ]
  },
  {
   "cell_type": "markdown",
   "metadata": {},
   "source": [
    "## Промежуточный вывод 3"
   ]
  },
  {
   "cell_type": "markdown",
   "metadata": {},
   "source": [
    "Для решения задачи были подобраны и обучены 3 модели: DecisionTreeClassifier, RandomForestClassifier и LogisticRegression. В качестве оценки качества моделей применена метрика F1, как достаточно сбалансированная, что бы избежать большого количества ложноположительных и ложноотрицательных ответов классификатора."
   ]
  },
  {
   "cell_type": "markdown",
   "metadata": {},
   "source": [
    "### Шаг 5. Опишите портрет «ненадёжного» клиента"
   ]
  },
  {
   "cell_type": "code",
   "execution_count": null,
   "metadata": {},
   "outputs": [],
   "source": [
    "imp = pd.DataFrame(\n",
    "    best_clf_1.feature_importances_,\n",
    "    index=x_train.columns,\n",
    "    columns=[\"importance\"]\n",
    ")\n",
    "\n",
    "fig = px.histogram(\n",
    "    imp,\n",
    "    x=[\"importance\"],\n",
    "    y=x_train.columns\n",
    ")\n",
    "\n",
    "fig.show()"
   ]
  },
  {
   "cell_type": "code",
   "execution_count": null,
   "metadata": {},
   "outputs": [],
   "source": [
    "print(hotel_train_ohe.drop(['id'], axis=1).corr())"
   ]
  },
  {
   "cell_type": "markdown",
   "metadata": {},
   "source": [
    "Исходя из значимости признаков, выявленных при постороении DecisionTreeClassifier, \"ненадёжный\" клиент - это житель Португалии, забронировавший номер индивидуально через турагентство, очень заблаговременно, без запроса парковки и особых условий, без изменений в бронировании, ранее он уже отменял бронирования в этом отеле."
   ]
  },
  {
   "cell_type": "markdown",
   "metadata": {},
   "source": [
    "### Шаг 6. Напишите общий вывод"
   ]
  },
  {
   "cell_type": "markdown",
   "metadata": {},
   "source": [
    "Для снижения издержек из-за отмен бронирований была поставлена задача построить и обучить модель - бинарный классификатор для выявления клиентов высокого риска на этапе бронирования и запроса частичной предоплаты. Были подобраны и обучены 3 модели: DecisionTreeClassifier, RandomForestClassifier и LogisticRegression. При незначительной разнице в метрике F1 у этих моделей предсказания на тестовой выборке значительно различаются. DecisionTreeClassifier классифицирует 56% клиентов как \"ненадёжных\", LogisticRegression так классифицирует 100% клиентов, RandomForestClassifier отмечает \"ненадёжными\" 30% клиентов. На мой взгляд, меньшее влияние на потребительское поведение будет оказывать модель с меньшим запросом предоплаты. На тестовой выборке расчитана выручка отеля до применения классификатора и после. Финансовый эффект применения классификатора составил 7193728. С учётом затрат на разработку системы прогнозирования 400000, выгода очевидна. Для понимания более полного эффекта от внедрения этой системы, вероятнее всего, потребуется маркетинговые исследования поведения клиентов, столкнувшихся с необходимостью частичной предоплаты. "
   ]
  }
 ],
 "metadata": {
  "ExecuteTimeLog": [
   {
    "duration": 1376,
    "start_time": "2023-01-13T15:02:29.452Z"
   },
   {
    "duration": 276,
    "start_time": "2023-01-13T15:02:30.830Z"
   },
   {
    "duration": 246,
    "start_time": "2023-01-13T15:02:31.108Z"
   },
   {
    "duration": 23,
    "start_time": "2023-01-13T15:02:31.356Z"
   },
   {
    "duration": 30,
    "start_time": "2023-01-13T15:02:31.380Z"
   },
   {
    "duration": 22,
    "start_time": "2023-01-13T15:02:31.413Z"
   },
   {
    "duration": 23,
    "start_time": "2023-01-13T15:02:31.437Z"
   },
   {
    "duration": 455,
    "start_time": "2023-01-13T15:02:31.461Z"
   },
   {
    "duration": 66,
    "start_time": "2023-01-13T15:02:31.918Z"
   },
   {
    "duration": 39,
    "start_time": "2023-01-13T15:02:31.997Z"
   },
   {
    "duration": 89,
    "start_time": "2023-01-13T15:02:32.037Z"
   },
   {
    "duration": 6,
    "start_time": "2023-01-13T15:02:32.128Z"
   },
   {
    "duration": 12,
    "start_time": "2023-01-13T15:02:32.135Z"
   },
   {
    "duration": 17,
    "start_time": "2023-01-13T15:02:32.149Z"
   },
   {
    "duration": 11,
    "start_time": "2023-01-13T15:02:32.168Z"
   },
   {
    "duration": 24,
    "start_time": "2023-01-13T15:02:32.181Z"
   },
   {
    "duration": 12,
    "start_time": "2023-01-13T15:02:32.207Z"
   },
   {
    "duration": 13,
    "start_time": "2023-01-13T15:02:32.221Z"
   },
   {
    "duration": 21,
    "start_time": "2023-01-13T15:02:32.235Z"
   },
   {
    "duration": 8,
    "start_time": "2023-01-13T15:02:32.257Z"
   },
   {
    "duration": 37,
    "start_time": "2023-01-13T15:02:32.267Z"
   },
   {
    "duration": 10,
    "start_time": "2023-01-13T15:02:32.313Z"
   },
   {
    "duration": 41,
    "start_time": "2023-01-13T15:02:32.325Z"
   },
   {
    "duration": 9,
    "start_time": "2023-01-13T15:02:32.368Z"
   },
   {
    "duration": 35,
    "start_time": "2023-01-13T15:02:32.378Z"
   },
   {
    "duration": 2315,
    "start_time": "2023-01-13T15:02:32.415Z"
   },
   {
    "duration": 8,
    "start_time": "2023-01-13T15:02:34.732Z"
   },
   {
    "duration": 13,
    "start_time": "2023-01-13T15:02:34.745Z"
   },
   {
    "duration": 17,
    "start_time": "2023-01-13T15:02:34.760Z"
   },
   {
    "duration": 12,
    "start_time": "2023-01-13T15:02:34.779Z"
   },
   {
    "duration": 15,
    "start_time": "2023-01-13T15:02:34.795Z"
   },
   {
    "duration": 51,
    "start_time": "2023-01-13T15:02:34.811Z"
   },
   {
    "duration": 19,
    "start_time": "2023-01-13T15:02:34.863Z"
   },
   {
    "duration": 55,
    "start_time": "2023-01-13T15:02:34.884Z"
   },
   {
    "duration": 3,
    "start_time": "2023-01-13T15:02:34.940Z"
   },
   {
    "duration": 18,
    "start_time": "2023-01-13T15:02:34.944Z"
   },
   {
    "duration": 15,
    "start_time": "2023-01-13T15:02:34.964Z"
   },
   {
    "duration": 39,
    "start_time": "2023-01-13T15:02:34.981Z"
   },
   {
    "duration": 739,
    "start_time": "2023-01-13T15:02:35.022Z"
   },
   {
    "duration": 3,
    "start_time": "2023-01-13T15:02:35.763Z"
   },
   {
    "duration": 12,
    "start_time": "2023-01-13T15:02:35.768Z"
   },
   {
    "duration": 71,
    "start_time": "2023-01-13T15:02:35.782Z"
   },
   {
    "duration": 333,
    "start_time": "2023-01-13T15:02:35.855Z"
   },
   {
    "duration": 15,
    "start_time": "2023-01-13T15:02:36.190Z"
   },
   {
    "duration": 14,
    "start_time": "2023-01-13T15:02:36.206Z"
   },
   {
    "duration": 117,
    "start_time": "2023-01-13T15:02:36.221Z"
   },
   {
    "duration": 85796,
    "start_time": "2023-01-13T15:02:36.339Z"
   },
   {
    "duration": 4,
    "start_time": "2023-01-13T15:04:02.137Z"
   },
   {
    "duration": 59,
    "start_time": "2023-01-13T15:04:02.143Z"
   },
   {
    "duration": 18616876,
    "start_time": "2023-01-13T15:04:02.204Z"
   },
   {
    "duration": 0,
    "start_time": "2023-01-13T20:14:19.081Z"
   },
   {
    "duration": 0,
    "start_time": "2023-01-13T20:14:19.082Z"
   },
   {
    "duration": 0,
    "start_time": "2023-01-13T20:14:19.083Z"
   },
   {
    "duration": 0,
    "start_time": "2023-01-13T20:14:19.084Z"
   },
   {
    "duration": 0,
    "start_time": "2023-01-13T20:14:19.085Z"
   },
   {
    "duration": 0,
    "start_time": "2023-01-13T20:14:19.097Z"
   },
   {
    "duration": 0,
    "start_time": "2023-01-13T20:14:19.098Z"
   },
   {
    "duration": 0,
    "start_time": "2023-01-13T20:14:19.099Z"
   },
   {
    "duration": 0,
    "start_time": "2023-01-13T20:14:19.100Z"
   },
   {
    "duration": 0,
    "start_time": "2023-01-13T20:14:19.101Z"
   },
   {
    "duration": 0,
    "start_time": "2023-01-13T20:14:19.102Z"
   },
   {
    "duration": 0,
    "start_time": "2023-01-13T20:14:19.103Z"
   },
   {
    "duration": 0,
    "start_time": "2023-01-13T20:14:19.104Z"
   },
   {
    "duration": 0,
    "start_time": "2023-01-13T20:14:19.105Z"
   },
   {
    "duration": 0,
    "start_time": "2023-01-13T20:14:19.106Z"
   },
   {
    "duration": 0,
    "start_time": "2023-01-13T20:14:19.106Z"
   },
   {
    "duration": 0,
    "start_time": "2023-01-13T20:14:19.107Z"
   },
   {
    "duration": 844,
    "start_time": "2023-01-13T20:15:12.713Z"
   },
   {
    "duration": 1383,
    "start_time": "2023-01-14T19:29:57.272Z"
   },
   {
    "duration": 620,
    "start_time": "2023-01-14T19:29:58.657Z"
   },
   {
    "duration": 359,
    "start_time": "2023-01-14T19:29:59.279Z"
   },
   {
    "duration": 37,
    "start_time": "2023-01-14T19:29:59.641Z"
   },
   {
    "duration": 38,
    "start_time": "2023-01-14T19:29:59.680Z"
   },
   {
    "duration": 26,
    "start_time": "2023-01-14T19:29:59.720Z"
   },
   {
    "duration": 39,
    "start_time": "2023-01-14T19:29:59.748Z"
   },
   {
    "duration": 462,
    "start_time": "2023-01-14T19:29:59.788Z"
   },
   {
    "duration": 60,
    "start_time": "2023-01-14T19:30:00.252Z"
   },
   {
    "duration": 65,
    "start_time": "2023-01-14T19:30:00.314Z"
   },
   {
    "duration": 27,
    "start_time": "2023-01-14T19:30:00.380Z"
   },
   {
    "duration": 40,
    "start_time": "2023-01-14T19:30:00.409Z"
   },
   {
    "duration": 85,
    "start_time": "2023-01-14T19:30:00.451Z"
   },
   {
    "duration": 6,
    "start_time": "2023-01-14T19:30:00.538Z"
   },
   {
    "duration": 15,
    "start_time": "2023-01-14T19:30:00.545Z"
   },
   {
    "duration": 40,
    "start_time": "2023-01-14T19:30:00.561Z"
   },
   {
    "duration": 22,
    "start_time": "2023-01-14T19:30:00.602Z"
   },
   {
    "duration": 35,
    "start_time": "2023-01-14T19:30:00.626Z"
   },
   {
    "duration": 31,
    "start_time": "2023-01-14T19:30:00.663Z"
   },
   {
    "duration": 23,
    "start_time": "2023-01-14T19:30:00.696Z"
   },
   {
    "duration": 46,
    "start_time": "2023-01-14T19:30:00.721Z"
   },
   {
    "duration": 31,
    "start_time": "2023-01-14T19:30:00.769Z"
   },
   {
    "duration": 64,
    "start_time": "2023-01-14T19:30:00.802Z"
   },
   {
    "duration": 18,
    "start_time": "2023-01-14T19:30:00.867Z"
   },
   {
    "duration": 73,
    "start_time": "2023-01-14T19:30:00.886Z"
   },
   {
    "duration": 52,
    "start_time": "2023-01-14T19:30:00.961Z"
   },
   {
    "duration": 52,
    "start_time": "2023-01-14T19:30:01.015Z"
   },
   {
    "duration": 16,
    "start_time": "2023-01-14T19:30:01.073Z"
   },
   {
    "duration": 56,
    "start_time": "2023-01-14T19:30:01.091Z"
   },
   {
    "duration": 2142,
    "start_time": "2023-01-14T19:30:01.150Z"
   },
   {
    "duration": 7,
    "start_time": "2023-01-14T19:30:03.294Z"
   },
   {
    "duration": 15,
    "start_time": "2023-01-14T19:30:03.302Z"
   },
   {
    "duration": 13,
    "start_time": "2023-01-14T19:30:03.319Z"
   },
   {
    "duration": 16,
    "start_time": "2023-01-14T19:30:03.333Z"
   },
   {
    "duration": 9,
    "start_time": "2023-01-14T19:30:03.350Z"
   },
   {
    "duration": 40,
    "start_time": "2023-01-14T19:30:03.360Z"
   },
   {
    "duration": 17,
    "start_time": "2023-01-14T19:30:03.402Z"
   },
   {
    "duration": 6,
    "start_time": "2023-01-14T19:30:03.420Z"
   },
   {
    "duration": 63,
    "start_time": "2023-01-14T19:30:03.427Z"
   },
   {
    "duration": 33,
    "start_time": "2023-01-14T19:30:03.492Z"
   },
   {
    "duration": 2,
    "start_time": "2023-01-14T19:30:03.527Z"
   },
   {
    "duration": 18,
    "start_time": "2023-01-14T19:30:03.531Z"
   },
   {
    "duration": 34,
    "start_time": "2023-01-14T19:30:03.550Z"
   },
   {
    "duration": 27,
    "start_time": "2023-01-14T19:30:03.586Z"
   },
   {
    "duration": 713,
    "start_time": "2023-01-14T19:30:03.615Z"
   },
   {
    "duration": 6,
    "start_time": "2023-01-14T19:30:04.329Z"
   },
   {
    "duration": 29,
    "start_time": "2023-01-14T19:30:04.337Z"
   },
   {
    "duration": 68,
    "start_time": "2023-01-14T19:30:04.367Z"
   },
   {
    "duration": 310,
    "start_time": "2023-01-14T19:30:04.437Z"
   },
   {
    "duration": 7,
    "start_time": "2023-01-14T19:30:04.749Z"
   },
   {
    "duration": 10,
    "start_time": "2023-01-14T19:30:04.758Z"
   },
   {
    "duration": 107,
    "start_time": "2023-01-14T19:30:04.778Z"
   },
   {
    "duration": 7897,
    "start_time": "2023-01-14T19:30:04.887Z"
   },
   {
    "duration": 4,
    "start_time": "2023-01-14T19:30:12.787Z"
   },
   {
    "duration": 19,
    "start_time": "2023-01-14T19:30:12.793Z"
   },
   {
    "duration": 1606719,
    "start_time": "2023-01-14T19:30:12.814Z"
   },
   {
    "duration": 0,
    "start_time": "2023-01-14T19:56:59.536Z"
   },
   {
    "duration": 0,
    "start_time": "2023-01-14T19:56:59.537Z"
   },
   {
    "duration": 0,
    "start_time": "2023-01-14T19:56:59.538Z"
   },
   {
    "duration": 0,
    "start_time": "2023-01-14T19:56:59.539Z"
   },
   {
    "duration": 0,
    "start_time": "2023-01-14T19:56:59.540Z"
   },
   {
    "duration": 0,
    "start_time": "2023-01-14T19:56:59.542Z"
   },
   {
    "duration": 0,
    "start_time": "2023-01-14T19:56:59.544Z"
   },
   {
    "duration": 0,
    "start_time": "2023-01-14T19:56:59.545Z"
   },
   {
    "duration": 0,
    "start_time": "2023-01-14T19:56:59.547Z"
   },
   {
    "duration": 0,
    "start_time": "2023-01-14T19:56:59.549Z"
   },
   {
    "duration": 0,
    "start_time": "2023-01-14T19:56:59.550Z"
   },
   {
    "duration": 0,
    "start_time": "2023-01-14T19:56:59.551Z"
   },
   {
    "duration": 0,
    "start_time": "2023-01-14T19:56:59.578Z"
   },
   {
    "duration": 0,
    "start_time": "2023-01-14T19:56:59.580Z"
   },
   {
    "duration": 0,
    "start_time": "2023-01-14T19:56:59.582Z"
   },
   {
    "duration": 0,
    "start_time": "2023-01-14T19:56:59.583Z"
   },
   {
    "duration": 0,
    "start_time": "2023-01-14T19:56:59.585Z"
   },
   {
    "duration": 0,
    "start_time": "2023-01-14T19:56:59.586Z"
   },
   {
    "duration": 0,
    "start_time": "2023-01-14T19:56:59.588Z"
   },
   {
    "duration": 0,
    "start_time": "2023-01-14T19:56:59.589Z"
   }
  ],
  "kernelspec": {
   "display_name": "Python 3 (ipykernel)",
   "language": "python",
   "name": "python3"
  },
  "language_info": {
   "codemirror_mode": {
    "name": "ipython",
    "version": 3
   },
   "file_extension": ".py",
   "mimetype": "text/x-python",
   "name": "python",
   "nbconvert_exporter": "python",
   "pygments_lexer": "ipython3",
   "version": "3.9.12"
  },
  "toc": {
   "base_numbering": 1,
   "nav_menu": {},
   "number_sections": true,
   "sideBar": true,
   "skip_h1_title": true,
   "title_cell": "Table of Contents",
   "title_sidebar": "Contents",
   "toc_cell": false,
   "toc_position": {},
   "toc_section_display": true,
   "toc_window_display": true
  }
 },
 "nbformat": 4,
 "nbformat_minor": 2
}
