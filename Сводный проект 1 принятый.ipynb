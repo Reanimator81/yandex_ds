{
 "cells": [
  {
   "cell_type": "markdown",
   "id": "b64fb7a7",
   "metadata": {},
   "source": [
    "# Описание проекта"
   ]
  },
  {
   "cell_type": "markdown",
   "id": "b10a83c0",
   "metadata": {},
   "source": [
    "Заказчик этого исследования — Министерство культуры Российской Федерации.\n",
    "Вам нужно изучить рынок российского кинопроката и выявить текущие тренды. Уделите внимание фильмам, которые получили государственную поддержку. Попробуйте ответить на вопрос, насколько такие фильмы интересны зрителю.\n",
    "Вы будете работать с данными, опубликованными на портале открытых данных Министерства культуры. Набор данных содержит информацию о прокатных удостоверениях, сборах и государственной поддержке фильмов, а также информацию с сайта КиноПоиск."
   ]
  },
  {
   "cell_type": "markdown",
   "id": "ae325b44",
   "metadata": {},
   "source": [
    "## Описание данных"
   ]
  },
  {
   "cell_type": "markdown",
   "id": "4d3c5355",
   "metadata": {},
   "source": [
    "Таблица mkrf_movies содержит информацию из реестра прокатных удостоверений. У одного фильма может быть несколько прокатных удостоверений.\n",
    "title — название фильма;\n",
    "puNumber — номер прокатного удостоверения;\n",
    "show_start_date — дата премьеры фильма;\n",
    "type — тип фильма;\n",
    "film_studio — студия-производитель;\n",
    "production_country — страна-производитель;\n",
    "director — режиссёр;\n",
    "producer — продюсер;\n",
    "age_restriction — возрастная категория;\n",
    "refundable_support — объём возвратных средств государственной поддержки;\n",
    "nonrefundable_support — объём невозвратных средств государственной поддержки;\n",
    "financing_source — источник государственного финансирования;\n",
    "budget — общий бюджет фильма;\n",
    "ratings — рейтинг фильма на КиноПоиске;\n",
    "genres — жанр фильма.\n",
    "Обратите внимание, что столбец budget уже включает в себя полный объём государственной поддержки. Данные в этом столбце указаны только для тех фильмов, которые получили государственную поддержку.\n",
    "Таблица mkrf_shows содержит сведения о показах фильмов в российских кинотеатрах.\n",
    "puNumber — номер прокатного удостоверения;\n",
    "box_office — сборы в рублях."
   ]
  },
  {
   "cell_type": "code",
   "execution_count": 1,
   "id": "36c2d191",
   "metadata": {},
   "outputs": [],
   "source": [
    "import pandas as pd\n",
    "import matplotlib.pyplot as plt\n",
    "import numpy as np\n",
    "import warnings\n",
    "warnings.filterwarnings(\"ignore\")"
   ]
  },
  {
   "cell_type": "markdown",
   "id": "fc0b139e",
   "metadata": {},
   "source": [
    "## Ознакомление с данными"
   ]
  },
  {
   "cell_type": "code",
   "execution_count": 2,
   "id": "ab6ff816",
   "metadata": {},
   "outputs": [],
   "source": [
    "df1 = pd.read_csv('mkrf_movies.csv')\n",
    "df2 = pd.read_csv('mkrf_shows.csv')"
   ]
  },
  {
   "cell_type": "code",
   "execution_count": 3,
   "id": "0df4ca0f",
   "metadata": {},
   "outputs": [
    {
     "name": "stdout",
     "output_type": "stream",
     "text": [
      "<class 'pandas.core.frame.DataFrame'>\n",
      "RangeIndex: 7486 entries, 0 to 7485\n",
      "Data columns (total 15 columns):\n",
      " #   Column                 Non-Null Count  Dtype  \n",
      "---  ------                 --------------  -----  \n",
      " 0   title                  7486 non-null   object \n",
      " 1   puNumber               7486 non-null   object \n",
      " 2   show_start_date        7486 non-null   object \n",
      " 3   type                   7486 non-null   object \n",
      " 4   film_studio            7468 non-null   object \n",
      " 5   production_country     7484 non-null   object \n",
      " 6   director               7477 non-null   object \n",
      " 7   producer               6918 non-null   object \n",
      " 8   age_restriction        7486 non-null   object \n",
      " 9   refundable_support     332 non-null    float64\n",
      " 10  nonrefundable_support  332 non-null    float64\n",
      " 11  budget                 332 non-null    float64\n",
      " 12  financing_source       332 non-null    object \n",
      " 13  ratings                6519 non-null   object \n",
      " 14  genres                 6510 non-null   object \n",
      "dtypes: float64(3), object(12)\n",
      "memory usage: 877.4+ KB\n"
     ]
    }
   ],
   "source": [
    "df1.info()"
   ]
  },
  {
   "cell_type": "code",
   "execution_count": 4,
   "id": "40808c40",
   "metadata": {},
   "outputs": [
    {
     "data": {
      "text/html": [
       "<div>\n",
       "<style scoped>\n",
       "    .dataframe tbody tr th:only-of-type {\n",
       "        vertical-align: middle;\n",
       "    }\n",
       "\n",
       "    .dataframe tbody tr th {\n",
       "        vertical-align: top;\n",
       "    }\n",
       "\n",
       "    .dataframe thead th {\n",
       "        text-align: right;\n",
       "    }\n",
       "</style>\n",
       "<table border=\"1\" class=\"dataframe\">\n",
       "  <thead>\n",
       "    <tr style=\"text-align: right;\">\n",
       "      <th></th>\n",
       "      <th>title</th>\n",
       "      <th>puNumber</th>\n",
       "      <th>show_start_date</th>\n",
       "      <th>type</th>\n",
       "      <th>film_studio</th>\n",
       "      <th>production_country</th>\n",
       "      <th>director</th>\n",
       "      <th>producer</th>\n",
       "      <th>age_restriction</th>\n",
       "      <th>refundable_support</th>\n",
       "      <th>nonrefundable_support</th>\n",
       "      <th>budget</th>\n",
       "      <th>financing_source</th>\n",
       "      <th>ratings</th>\n",
       "      <th>genres</th>\n",
       "    </tr>\n",
       "  </thead>\n",
       "  <tbody>\n",
       "    <tr>\n",
       "      <th>0</th>\n",
       "      <td>Открытый простор</td>\n",
       "      <td>221048915</td>\n",
       "      <td>2015-11-27T12:00:00.000Z</td>\n",
       "      <td>Художественный</td>\n",
       "      <td>Тачстоун Пикчерз, Кобальт Пикчерз, Бикон Пикче...</td>\n",
       "      <td>США</td>\n",
       "      <td>Кевин Костнер</td>\n",
       "      <td>Дэвид Валдес, Кевин Костнер, Джейк Эбертс</td>\n",
       "      <td>«18+» - запрещено для детей</td>\n",
       "      <td>NaN</td>\n",
       "      <td>NaN</td>\n",
       "      <td>NaN</td>\n",
       "      <td>NaN</td>\n",
       "      <td>7.2</td>\n",
       "      <td>боевик,драма,мелодрама</td>\n",
       "    </tr>\n",
       "    <tr>\n",
       "      <th>1</th>\n",
       "      <td>Особо важное задание</td>\n",
       "      <td>111013716</td>\n",
       "      <td>2016-09-13T12:00:00.000Z</td>\n",
       "      <td>Художественный</td>\n",
       "      <td>Киностудия \"Мосфильм\"</td>\n",
       "      <td>СССР</td>\n",
       "      <td>Е.Матвеев</td>\n",
       "      <td>NaN</td>\n",
       "      <td>«6+» - для детей старше 6 лет</td>\n",
       "      <td>NaN</td>\n",
       "      <td>NaN</td>\n",
       "      <td>NaN</td>\n",
       "      <td>NaN</td>\n",
       "      <td>6.6</td>\n",
       "      <td>драма,военный</td>\n",
       "    </tr>\n",
       "    <tr>\n",
       "      <th>2</th>\n",
       "      <td>Особо опасен</td>\n",
       "      <td>221038416</td>\n",
       "      <td>2016-10-10T12:00:00.000Z</td>\n",
       "      <td>Художественный</td>\n",
       "      <td>Юниверсал Пикчерз, Кикстарт Продакшнз, Марк Пл...</td>\n",
       "      <td>США</td>\n",
       "      <td>Тимур Бекмамбетов</td>\n",
       "      <td>Джим Лемли, Джейсон Нетер, Марк Е.Платт, Яйн Смит</td>\n",
       "      <td>«18+» - запрещено для детей</td>\n",
       "      <td>NaN</td>\n",
       "      <td>NaN</td>\n",
       "      <td>NaN</td>\n",
       "      <td>NaN</td>\n",
       "      <td>6.8</td>\n",
       "      <td>фантастика,боевик,триллер</td>\n",
       "    </tr>\n",
       "    <tr>\n",
       "      <th>3</th>\n",
       "      <td>Особо опасен</td>\n",
       "      <td>221026916</td>\n",
       "      <td>2016-06-10T12:00:00.000Z</td>\n",
       "      <td>Художественный</td>\n",
       "      <td>Юниверсал Пикчерз, Кикстарт Продакшнз, Марк Пл...</td>\n",
       "      <td>США</td>\n",
       "      <td>Тимур Бекмамбетов</td>\n",
       "      <td>Джим Лемли, Джейсон Нетер, Марк Е.Платт, Яйн Смит</td>\n",
       "      <td>«18+» - запрещено для детей</td>\n",
       "      <td>NaN</td>\n",
       "      <td>NaN</td>\n",
       "      <td>NaN</td>\n",
       "      <td>NaN</td>\n",
       "      <td>6.8</td>\n",
       "      <td>фантастика,боевик,триллер</td>\n",
       "    </tr>\n",
       "    <tr>\n",
       "      <th>4</th>\n",
       "      <td>Особо опасен</td>\n",
       "      <td>221030815</td>\n",
       "      <td>2015-07-29T12:00:00.000Z</td>\n",
       "      <td>Художественный</td>\n",
       "      <td>Юниверсал Пикчерз, Кикстарт Продакшнз, Марк Пл...</td>\n",
       "      <td>США</td>\n",
       "      <td>Тимур Бекмамбетов</td>\n",
       "      <td>Джим Лемли, Джейсон Нетер, Марк Е.Платт, Яйн Смит</td>\n",
       "      <td>«18+» - запрещено для детей</td>\n",
       "      <td>NaN</td>\n",
       "      <td>NaN</td>\n",
       "      <td>NaN</td>\n",
       "      <td>NaN</td>\n",
       "      <td>6.8</td>\n",
       "      <td>фантастика,боевик,триллер</td>\n",
       "    </tr>\n",
       "  </tbody>\n",
       "</table>\n",
       "</div>"
      ],
      "text/plain": [
       "                  title   puNumber           show_start_date            type  \\\n",
       "0      Открытый простор  221048915  2015-11-27T12:00:00.000Z  Художественный   \n",
       "1  Особо важное задание  111013716  2016-09-13T12:00:00.000Z  Художественный   \n",
       "2          Особо опасен  221038416  2016-10-10T12:00:00.000Z  Художественный   \n",
       "3          Особо опасен  221026916  2016-06-10T12:00:00.000Z  Художественный   \n",
       "4          Особо опасен  221030815  2015-07-29T12:00:00.000Z  Художественный   \n",
       "\n",
       "                                         film_studio production_country  \\\n",
       "0  Тачстоун Пикчерз, Кобальт Пикчерз, Бикон Пикче...                США   \n",
       "1                              Киностудия \"Мосфильм\"               СССР   \n",
       "2  Юниверсал Пикчерз, Кикстарт Продакшнз, Марк Пл...                США   \n",
       "3  Юниверсал Пикчерз, Кикстарт Продакшнз, Марк Пл...                США   \n",
       "4  Юниверсал Пикчерз, Кикстарт Продакшнз, Марк Пл...                США   \n",
       "\n",
       "            director                                           producer  \\\n",
       "0      Кевин Костнер          Дэвид Валдес, Кевин Костнер, Джейк Эбертс   \n",
       "1          Е.Матвеев                                                NaN   \n",
       "2  Тимур Бекмамбетов  Джим Лемли, Джейсон Нетер, Марк Е.Платт, Яйн Смит   \n",
       "3  Тимур Бекмамбетов  Джим Лемли, Джейсон Нетер, Марк Е.Платт, Яйн Смит   \n",
       "4  Тимур Бекмамбетов  Джим Лемли, Джейсон Нетер, Марк Е.Платт, Яйн Смит   \n",
       "\n",
       "                 age_restriction  refundable_support  nonrefundable_support  \\\n",
       "0    «18+» - запрещено для детей                 NaN                    NaN   \n",
       "1  «6+» - для детей старше 6 лет                 NaN                    NaN   \n",
       "2    «18+» - запрещено для детей                 NaN                    NaN   \n",
       "3    «18+» - запрещено для детей                 NaN                    NaN   \n",
       "4    «18+» - запрещено для детей                 NaN                    NaN   \n",
       "\n",
       "   budget financing_source ratings                     genres  \n",
       "0     NaN              NaN     7.2     боевик,драма,мелодрама  \n",
       "1     NaN              NaN     6.6              драма,военный  \n",
       "2     NaN              NaN     6.8  фантастика,боевик,триллер  \n",
       "3     NaN              NaN     6.8  фантастика,боевик,триллер  \n",
       "4     NaN              NaN     6.8  фантастика,боевик,триллер  "
      ]
     },
     "execution_count": 4,
     "metadata": {},
     "output_type": "execute_result"
    }
   ],
   "source": [
    "df1.head()"
   ]
  },
  {
   "cell_type": "code",
   "execution_count": 5,
   "id": "c98b11ce",
   "metadata": {},
   "outputs": [
    {
     "name": "stdout",
     "output_type": "stream",
     "text": [
      "<class 'pandas.core.frame.DataFrame'>\n",
      "RangeIndex: 3158 entries, 0 to 3157\n",
      "Data columns (total 2 columns):\n",
      " #   Column      Non-Null Count  Dtype  \n",
      "---  ------      --------------  -----  \n",
      " 0   puNumber    3158 non-null   int64  \n",
      " 1   box_office  3158 non-null   float64\n",
      "dtypes: float64(1), int64(1)\n",
      "memory usage: 49.5 KB\n"
     ]
    }
   ],
   "source": [
    "df2.info()"
   ]
  },
  {
   "cell_type": "code",
   "execution_count": 6,
   "id": "a281209d",
   "metadata": {},
   "outputs": [
    {
     "data": {
      "text/html": [
       "<div>\n",
       "<style scoped>\n",
       "    .dataframe tbody tr th:only-of-type {\n",
       "        vertical-align: middle;\n",
       "    }\n",
       "\n",
       "    .dataframe tbody tr th {\n",
       "        vertical-align: top;\n",
       "    }\n",
       "\n",
       "    .dataframe thead th {\n",
       "        text-align: right;\n",
       "    }\n",
       "</style>\n",
       "<table border=\"1\" class=\"dataframe\">\n",
       "  <thead>\n",
       "    <tr style=\"text-align: right;\">\n",
       "      <th></th>\n",
       "      <th>puNumber</th>\n",
       "      <th>box_office</th>\n",
       "    </tr>\n",
       "  </thead>\n",
       "  <tbody>\n",
       "    <tr>\n",
       "      <th>0</th>\n",
       "      <td>111000113</td>\n",
       "      <td>2.450000e+03</td>\n",
       "    </tr>\n",
       "    <tr>\n",
       "      <th>1</th>\n",
       "      <td>111000115</td>\n",
       "      <td>6.104000e+04</td>\n",
       "    </tr>\n",
       "    <tr>\n",
       "      <th>2</th>\n",
       "      <td>111000116</td>\n",
       "      <td>1.530300e+08</td>\n",
       "    </tr>\n",
       "    <tr>\n",
       "      <th>3</th>\n",
       "      <td>111000117</td>\n",
       "      <td>1.226096e+07</td>\n",
       "    </tr>\n",
       "    <tr>\n",
       "      <th>4</th>\n",
       "      <td>111000118</td>\n",
       "      <td>1.636841e+08</td>\n",
       "    </tr>\n",
       "  </tbody>\n",
       "</table>\n",
       "</div>"
      ],
      "text/plain": [
       "    puNumber    box_office\n",
       "0  111000113  2.450000e+03\n",
       "1  111000115  6.104000e+04\n",
       "2  111000116  1.530300e+08\n",
       "3  111000117  1.226096e+07\n",
       "4  111000118  1.636841e+08"
      ]
     },
     "execution_count": 6,
     "metadata": {},
     "output_type": "execute_result"
    }
   ],
   "source": [
    "df2.head()"
   ]
  },
  {
   "cell_type": "markdown",
   "id": "ecc763d3",
   "metadata": {},
   "source": [
    "### Промежуточный вывод 1"
   ]
  },
  {
   "cell_type": "markdown",
   "id": "a3fd13f3",
   "metadata": {},
   "source": [
    "Данные достаточно качественные, пригодны для работы."
   ]
  },
  {
   "cell_type": "markdown",
   "id": "25df4095",
   "metadata": {},
   "source": [
    "## Предобработка данных"
   ]
  },
  {
   "cell_type": "code",
   "execution_count": 7,
   "id": "81292521",
   "metadata": {},
   "outputs": [],
   "source": [
    "df2.puNumber = df2.puNumber.astype(str) #приведение общего столбца двух таблиц к одному типу значений"
   ]
  },
  {
   "cell_type": "code",
   "execution_count": 8,
   "id": "e117d2af",
   "metadata": {},
   "outputs": [],
   "source": [
    "df_comm = df1.merge(df2, how='left', on='puNumber') #объединение таблиц"
   ]
  },
  {
   "cell_type": "code",
   "execution_count": 9,
   "id": "0577741b",
   "metadata": {},
   "outputs": [
    {
     "data": {
      "text/html": [
       "<div>\n",
       "<style scoped>\n",
       "    .dataframe tbody tr th:only-of-type {\n",
       "        vertical-align: middle;\n",
       "    }\n",
       "\n",
       "    .dataframe tbody tr th {\n",
       "        vertical-align: top;\n",
       "    }\n",
       "\n",
       "    .dataframe thead th {\n",
       "        text-align: right;\n",
       "    }\n",
       "</style>\n",
       "<table border=\"1\" class=\"dataframe\">\n",
       "  <thead>\n",
       "    <tr style=\"text-align: right;\">\n",
       "      <th></th>\n",
       "      <th>title</th>\n",
       "      <th>puNumber</th>\n",
       "      <th>show_start_date</th>\n",
       "      <th>type</th>\n",
       "      <th>film_studio</th>\n",
       "      <th>production_country</th>\n",
       "      <th>director</th>\n",
       "      <th>producer</th>\n",
       "      <th>age_restriction</th>\n",
       "      <th>refundable_support</th>\n",
       "      <th>nonrefundable_support</th>\n",
       "      <th>budget</th>\n",
       "      <th>financing_source</th>\n",
       "      <th>ratings</th>\n",
       "      <th>genres</th>\n",
       "      <th>box_office</th>\n",
       "    </tr>\n",
       "  </thead>\n",
       "  <tbody>\n",
       "    <tr>\n",
       "      <th>0</th>\n",
       "      <td>Открытый простор</td>\n",
       "      <td>221048915</td>\n",
       "      <td>2015-11-27T12:00:00.000Z</td>\n",
       "      <td>Художественный</td>\n",
       "      <td>Тачстоун Пикчерз, Кобальт Пикчерз, Бикон Пикче...</td>\n",
       "      <td>США</td>\n",
       "      <td>Кевин Костнер</td>\n",
       "      <td>Дэвид Валдес, Кевин Костнер, Джейк Эбертс</td>\n",
       "      <td>«18+» - запрещено для детей</td>\n",
       "      <td>NaN</td>\n",
       "      <td>NaN</td>\n",
       "      <td>NaN</td>\n",
       "      <td>NaN</td>\n",
       "      <td>7.2</td>\n",
       "      <td>боевик,драма,мелодрама</td>\n",
       "      <td>NaN</td>\n",
       "    </tr>\n",
       "    <tr>\n",
       "      <th>1</th>\n",
       "      <td>Особо важное задание</td>\n",
       "      <td>111013716</td>\n",
       "      <td>2016-09-13T12:00:00.000Z</td>\n",
       "      <td>Художественный</td>\n",
       "      <td>Киностудия \"Мосфильм\"</td>\n",
       "      <td>СССР</td>\n",
       "      <td>Е.Матвеев</td>\n",
       "      <td>NaN</td>\n",
       "      <td>«6+» - для детей старше 6 лет</td>\n",
       "      <td>NaN</td>\n",
       "      <td>NaN</td>\n",
       "      <td>NaN</td>\n",
       "      <td>NaN</td>\n",
       "      <td>6.6</td>\n",
       "      <td>драма,военный</td>\n",
       "      <td>NaN</td>\n",
       "    </tr>\n",
       "    <tr>\n",
       "      <th>2</th>\n",
       "      <td>Особо опасен</td>\n",
       "      <td>221038416</td>\n",
       "      <td>2016-10-10T12:00:00.000Z</td>\n",
       "      <td>Художественный</td>\n",
       "      <td>Юниверсал Пикчерз, Кикстарт Продакшнз, Марк Пл...</td>\n",
       "      <td>США</td>\n",
       "      <td>Тимур Бекмамбетов</td>\n",
       "      <td>Джим Лемли, Джейсон Нетер, Марк Е.Платт, Яйн Смит</td>\n",
       "      <td>«18+» - запрещено для детей</td>\n",
       "      <td>NaN</td>\n",
       "      <td>NaN</td>\n",
       "      <td>NaN</td>\n",
       "      <td>NaN</td>\n",
       "      <td>6.8</td>\n",
       "      <td>фантастика,боевик,триллер</td>\n",
       "      <td>NaN</td>\n",
       "    </tr>\n",
       "    <tr>\n",
       "      <th>3</th>\n",
       "      <td>Особо опасен</td>\n",
       "      <td>221026916</td>\n",
       "      <td>2016-06-10T12:00:00.000Z</td>\n",
       "      <td>Художественный</td>\n",
       "      <td>Юниверсал Пикчерз, Кикстарт Продакшнз, Марк Пл...</td>\n",
       "      <td>США</td>\n",
       "      <td>Тимур Бекмамбетов</td>\n",
       "      <td>Джим Лемли, Джейсон Нетер, Марк Е.Платт, Яйн Смит</td>\n",
       "      <td>«18+» - запрещено для детей</td>\n",
       "      <td>NaN</td>\n",
       "      <td>NaN</td>\n",
       "      <td>NaN</td>\n",
       "      <td>NaN</td>\n",
       "      <td>6.8</td>\n",
       "      <td>фантастика,боевик,триллер</td>\n",
       "      <td>NaN</td>\n",
       "    </tr>\n",
       "    <tr>\n",
       "      <th>4</th>\n",
       "      <td>Особо опасен</td>\n",
       "      <td>221030815</td>\n",
       "      <td>2015-07-29T12:00:00.000Z</td>\n",
       "      <td>Художественный</td>\n",
       "      <td>Юниверсал Пикчерз, Кикстарт Продакшнз, Марк Пл...</td>\n",
       "      <td>США</td>\n",
       "      <td>Тимур Бекмамбетов</td>\n",
       "      <td>Джим Лемли, Джейсон Нетер, Марк Е.Платт, Яйн Смит</td>\n",
       "      <td>«18+» - запрещено для детей</td>\n",
       "      <td>NaN</td>\n",
       "      <td>NaN</td>\n",
       "      <td>NaN</td>\n",
       "      <td>NaN</td>\n",
       "      <td>6.8</td>\n",
       "      <td>фантастика,боевик,триллер</td>\n",
       "      <td>NaN</td>\n",
       "    </tr>\n",
       "  </tbody>\n",
       "</table>\n",
       "</div>"
      ],
      "text/plain": [
       "                  title   puNumber           show_start_date            type  \\\n",
       "0      Открытый простор  221048915  2015-11-27T12:00:00.000Z  Художественный   \n",
       "1  Особо важное задание  111013716  2016-09-13T12:00:00.000Z  Художественный   \n",
       "2          Особо опасен  221038416  2016-10-10T12:00:00.000Z  Художественный   \n",
       "3          Особо опасен  221026916  2016-06-10T12:00:00.000Z  Художественный   \n",
       "4          Особо опасен  221030815  2015-07-29T12:00:00.000Z  Художественный   \n",
       "\n",
       "                                         film_studio production_country  \\\n",
       "0  Тачстоун Пикчерз, Кобальт Пикчерз, Бикон Пикче...                США   \n",
       "1                              Киностудия \"Мосфильм\"               СССР   \n",
       "2  Юниверсал Пикчерз, Кикстарт Продакшнз, Марк Пл...                США   \n",
       "3  Юниверсал Пикчерз, Кикстарт Продакшнз, Марк Пл...                США   \n",
       "4  Юниверсал Пикчерз, Кикстарт Продакшнз, Марк Пл...                США   \n",
       "\n",
       "            director                                           producer  \\\n",
       "0      Кевин Костнер          Дэвид Валдес, Кевин Костнер, Джейк Эбертс   \n",
       "1          Е.Матвеев                                                NaN   \n",
       "2  Тимур Бекмамбетов  Джим Лемли, Джейсон Нетер, Марк Е.Платт, Яйн Смит   \n",
       "3  Тимур Бекмамбетов  Джим Лемли, Джейсон Нетер, Марк Е.Платт, Яйн Смит   \n",
       "4  Тимур Бекмамбетов  Джим Лемли, Джейсон Нетер, Марк Е.Платт, Яйн Смит   \n",
       "\n",
       "                 age_restriction  refundable_support  nonrefundable_support  \\\n",
       "0    «18+» - запрещено для детей                 NaN                    NaN   \n",
       "1  «6+» - для детей старше 6 лет                 NaN                    NaN   \n",
       "2    «18+» - запрещено для детей                 NaN                    NaN   \n",
       "3    «18+» - запрещено для детей                 NaN                    NaN   \n",
       "4    «18+» - запрещено для детей                 NaN                    NaN   \n",
       "\n",
       "   budget financing_source ratings                     genres  box_office  \n",
       "0     NaN              NaN     7.2     боевик,драма,мелодрама         NaN  \n",
       "1     NaN              NaN     6.6              драма,военный         NaN  \n",
       "2     NaN              NaN     6.8  фантастика,боевик,триллер         NaN  \n",
       "3     NaN              NaN     6.8  фантастика,боевик,триллер         NaN  \n",
       "4     NaN              NaN     6.8  фантастика,боевик,триллер         NaN  "
      ]
     },
     "execution_count": 9,
     "metadata": {},
     "output_type": "execute_result"
    }
   ],
   "source": [
    "df_comm.head()"
   ]
  },
  {
   "cell_type": "code",
   "execution_count": 10,
   "id": "28c00fcd",
   "metadata": {},
   "outputs": [
    {
     "name": "stdout",
     "output_type": "stream",
     "text": [
      "<class 'pandas.core.frame.DataFrame'>\n",
      "Int64Index: 7486 entries, 0 to 7485\n",
      "Data columns (total 16 columns):\n",
      " #   Column                 Non-Null Count  Dtype  \n",
      "---  ------                 --------------  -----  \n",
      " 0   title                  7486 non-null   object \n",
      " 1   puNumber               7486 non-null   object \n",
      " 2   show_start_date        7486 non-null   object \n",
      " 3   type                   7486 non-null   object \n",
      " 4   film_studio            7468 non-null   object \n",
      " 5   production_country     7484 non-null   object \n",
      " 6   director               7477 non-null   object \n",
      " 7   producer               6918 non-null   object \n",
      " 8   age_restriction        7486 non-null   object \n",
      " 9   refundable_support     332 non-null    float64\n",
      " 10  nonrefundable_support  332 non-null    float64\n",
      " 11  budget                 332 non-null    float64\n",
      " 12  financing_source       332 non-null    object \n",
      " 13  ratings                6519 non-null   object \n",
      " 14  genres                 6510 non-null   object \n",
      " 15  box_office             3158 non-null   float64\n",
      "dtypes: float64(4), object(12)\n",
      "memory usage: 994.2+ KB\n"
     ]
    }
   ],
   "source": [
    "df_comm.info()"
   ]
  },
  {
   "cell_type": "code",
   "execution_count": 11,
   "id": "5e86111b",
   "metadata": {},
   "outputs": [
    {
     "data": {
      "text/html": [
       "<style type=\"text/css\">\n",
       "#T_89614_row0_col0, #T_89614_row1_col0, #T_89614_row2_col0, #T_89614_row3_col0, #T_89614_row4_col0, #T_89614_row5_col0, #T_89614_row6_col0, #T_89614_row8_col0 {\n",
       "  background-color: #3b4cc0;\n",
       "  color: #f1f1f1;\n",
       "}\n",
       "#T_89614_row7_col0 {\n",
       "  background-color: #5470de;\n",
       "  color: #f1f1f1;\n",
       "}\n",
       "#T_89614_row9_col0, #T_89614_row10_col0, #T_89614_row11_col0, #T_89614_row12_col0 {\n",
       "  background-color: #b40426;\n",
       "  color: #f1f1f1;\n",
       "}\n",
       "#T_89614_row13_col0, #T_89614_row14_col0 {\n",
       "  background-color: #6485ec;\n",
       "  color: #f1f1f1;\n",
       "}\n",
       "#T_89614_row15_col0 {\n",
       "  background-color: #f2cab5;\n",
       "  color: #000000;\n",
       "}\n",
       "</style>\n",
       "<table id=\"T_89614\">\n",
       "  <thead>\n",
       "    <tr>\n",
       "      <th class=\"blank level0\" >&nbsp;</th>\n",
       "      <th id=\"T_89614_level0_col0\" class=\"col_heading level0 col0\" >0</th>\n",
       "    </tr>\n",
       "  </thead>\n",
       "  <tbody>\n",
       "    <tr>\n",
       "      <th id=\"T_89614_level0_row0\" class=\"row_heading level0 row0\" >title</th>\n",
       "      <td id=\"T_89614_row0_col0\" class=\"data row0 col0\" >0.000000</td>\n",
       "    </tr>\n",
       "    <tr>\n",
       "      <th id=\"T_89614_level0_row1\" class=\"row_heading level0 row1\" >puNumber</th>\n",
       "      <td id=\"T_89614_row1_col0\" class=\"data row1 col0\" >0.000000</td>\n",
       "    </tr>\n",
       "    <tr>\n",
       "      <th id=\"T_89614_level0_row2\" class=\"row_heading level0 row2\" >show_start_date</th>\n",
       "      <td id=\"T_89614_row2_col0\" class=\"data row2 col0\" >0.000000</td>\n",
       "    </tr>\n",
       "    <tr>\n",
       "      <th id=\"T_89614_level0_row3\" class=\"row_heading level0 row3\" >type</th>\n",
       "      <td id=\"T_89614_row3_col0\" class=\"data row3 col0\" >0.000000</td>\n",
       "    </tr>\n",
       "    <tr>\n",
       "      <th id=\"T_89614_level0_row4\" class=\"row_heading level0 row4\" >film_studio</th>\n",
       "      <td id=\"T_89614_row4_col0\" class=\"data row4 col0\" >0.000000</td>\n",
       "    </tr>\n",
       "    <tr>\n",
       "      <th id=\"T_89614_level0_row5\" class=\"row_heading level0 row5\" >production_country</th>\n",
       "      <td id=\"T_89614_row5_col0\" class=\"data row5 col0\" >0.000000</td>\n",
       "    </tr>\n",
       "    <tr>\n",
       "      <th id=\"T_89614_level0_row6\" class=\"row_heading level0 row6\" >director</th>\n",
       "      <td id=\"T_89614_row6_col0\" class=\"data row6 col0\" >0.000000</td>\n",
       "    </tr>\n",
       "    <tr>\n",
       "      <th id=\"T_89614_level0_row7\" class=\"row_heading level0 row7\" >producer</th>\n",
       "      <td id=\"T_89614_row7_col0\" class=\"data row7 col0\" >8.000000</td>\n",
       "    </tr>\n",
       "    <tr>\n",
       "      <th id=\"T_89614_level0_row8\" class=\"row_heading level0 row8\" >age_restriction</th>\n",
       "      <td id=\"T_89614_row8_col0\" class=\"data row8 col0\" >0.000000</td>\n",
       "    </tr>\n",
       "    <tr>\n",
       "      <th id=\"T_89614_level0_row9\" class=\"row_heading level0 row9\" >refundable_support</th>\n",
       "      <td id=\"T_89614_row9_col0\" class=\"data row9 col0\" >96.000000</td>\n",
       "    </tr>\n",
       "    <tr>\n",
       "      <th id=\"T_89614_level0_row10\" class=\"row_heading level0 row10\" >nonrefundable_support</th>\n",
       "      <td id=\"T_89614_row10_col0\" class=\"data row10 col0\" >96.000000</td>\n",
       "    </tr>\n",
       "    <tr>\n",
       "      <th id=\"T_89614_level0_row11\" class=\"row_heading level0 row11\" >budget</th>\n",
       "      <td id=\"T_89614_row11_col0\" class=\"data row11 col0\" >96.000000</td>\n",
       "    </tr>\n",
       "    <tr>\n",
       "      <th id=\"T_89614_level0_row12\" class=\"row_heading level0 row12\" >financing_source</th>\n",
       "      <td id=\"T_89614_row12_col0\" class=\"data row12 col0\" >96.000000</td>\n",
       "    </tr>\n",
       "    <tr>\n",
       "      <th id=\"T_89614_level0_row13\" class=\"row_heading level0 row13\" >ratings</th>\n",
       "      <td id=\"T_89614_row13_col0\" class=\"data row13 col0\" >13.000000</td>\n",
       "    </tr>\n",
       "    <tr>\n",
       "      <th id=\"T_89614_level0_row14\" class=\"row_heading level0 row14\" >genres</th>\n",
       "      <td id=\"T_89614_row14_col0\" class=\"data row14 col0\" >13.000000</td>\n",
       "    </tr>\n",
       "    <tr>\n",
       "      <th id=\"T_89614_level0_row15\" class=\"row_heading level0 row15\" >box_office</th>\n",
       "      <td id=\"T_89614_row15_col0\" class=\"data row15 col0\" >58.000000</td>\n",
       "    </tr>\n",
       "  </tbody>\n",
       "</table>\n"
      ],
      "text/plain": [
       "<pandas.io.formats.style.Styler at 0x22c72bc36d0>"
      ]
     },
     "execution_count": 11,
     "metadata": {},
     "output_type": "execute_result"
    }
   ],
   "source": [
    "pd.DataFrame(round(df_comm.isna().mean()*100,)).style.background_gradient('coolwarm') #оценка количества пропусков"
   ]
  },
  {
   "cell_type": "code",
   "execution_count": 12,
   "id": "a069486e",
   "metadata": {},
   "outputs": [
    {
     "data": {
      "text/plain": [
       "array(['7.2', '6.6', '6.8', '7.7', '8.3', '8.0', '7.8', '8.1', '7.1',\n",
       "       '6.0', '7.4', '5.8', '8.7', '6.3', '6.9', '5.0', '4.3', '7.3',\n",
       "       '7.0', '6.4', nan, '8.2', '7.5', '6.7', '7.9', '5.9', '6.2', '5.6',\n",
       "       '6.5', '2.4', '7.6', '6.1', '8.6', '8.5', '8.8', '5.5', '5.1',\n",
       "       '5.7', '5.4', '99%', '4.4', '4.5', '5.3', '4.1', '8.4', '2.6',\n",
       "       '3.8', '4.6', '4.8', '4.0', '3.0', '1.6', '4.2', '5.2', '4.7',\n",
       "       '4.9', '3.9', '2.7', '3.3', '2.9', '28%', '3.7', '1.4', '3.1',\n",
       "       '97%', '3.5', '3.2', '2.8', '1.5', '2.1', '2.5', '9.2', '3.4',\n",
       "       '1.1', '3.6', '83%', '64%', '91%', '94%', '62%', '79%', '90%',\n",
       "       '19%', '88%', '1.0', '89%', '1.3', '1.9', '1.8', '1.2', '1.7',\n",
       "       '9.0', '98%', '8.9', '9.1'], dtype=object)"
      ]
     },
     "execution_count": 12,
     "metadata": {},
     "output_type": "execute_result"
    }
   ],
   "source": [
    "df_comm['ratings'].unique()"
   ]
  },
  {
   "cell_type": "markdown",
   "id": "69f0b63e",
   "metadata": {},
   "source": [
    "Есть пропуски и есть аномальные значения, не подходящие для анализа"
   ]
  },
  {
   "cell_type": "code",
   "execution_count": 13,
   "id": "878ab392",
   "metadata": {},
   "outputs": [],
   "source": [
    "df_comm['ratings'] = df_comm['ratings'].str.replace('%', '') #удаление знака %"
   ]
  },
  {
   "cell_type": "code",
   "execution_count": 14,
   "id": "a16ed474",
   "metadata": {},
   "outputs": [
    {
     "data": {
      "text/plain": [
       "array(['7.2', '6.6', '6.8', '7.7', '8.3', '8.0', '7.8', '8.1', '7.1',\n",
       "       '6.0', '7.4', '5.8', '8.7', '6.3', '6.9', '5.0', '4.3', '7.3',\n",
       "       '7.0', '6.4', nan, '8.2', '7.5', '6.7', '7.9', '5.9', '6.2', '5.6',\n",
       "       '6.5', '2.4', '7.6', '6.1', '8.6', '8.5', '8.8', '5.5', '5.1',\n",
       "       '5.7', '5.4', '99', '4.4', '4.5', '5.3', '4.1', '8.4', '2.6',\n",
       "       '3.8', '4.6', '4.8', '4.0', '3.0', '1.6', '4.2', '5.2', '4.7',\n",
       "       '4.9', '3.9', '2.7', '3.3', '2.9', '28', '3.7', '1.4', '3.1', '97',\n",
       "       '3.5', '3.2', '2.8', '1.5', '2.1', '2.5', '9.2', '3.4', '1.1',\n",
       "       '3.6', '83', '64', '91', '94', '62', '79', '90', '19', '88', '1.0',\n",
       "       '89', '1.3', '1.9', '1.8', '1.2', '1.7', '9.0', '98', '8.9', '9.1'],\n",
       "      dtype=object)"
      ]
     },
     "execution_count": 14,
     "metadata": {},
     "output_type": "execute_result"
    }
   ],
   "source": [
    "df_comm['ratings'].unique()"
   ]
  },
  {
   "cell_type": "code",
   "execution_count": 15,
   "id": "4793c004",
   "metadata": {},
   "outputs": [],
   "source": [
    "df_comm.ratings = df_comm.ratings.astype(float) #изменение типа данных для последующего анализа"
   ]
  },
  {
   "cell_type": "code",
   "execution_count": 16,
   "id": "9af5e0cf",
   "metadata": {},
   "outputs": [
    {
     "data": {
      "text/plain": [
       "29"
      ]
     },
     "execution_count": 16,
     "metadata": {},
     "output_type": "execute_result"
    }
   ],
   "source": [
    "df_comm[df_comm['ratings'] > 10]['ratings'].count() #количество аномальных данных, их мало, можно удалить "
   ]
  },
  {
   "cell_type": "code",
   "execution_count": 17,
   "id": "f29f1f3c",
   "metadata": {},
   "outputs": [
    {
     "data": {
      "text/plain": [
       "title                       0\n",
       "puNumber                    0\n",
       "show_start_date             0\n",
       "type                        0\n",
       "film_studio                18\n",
       "production_country          2\n",
       "director                    9\n",
       "producer                  568\n",
       "age_restriction             0\n",
       "refundable_support       7154\n",
       "nonrefundable_support    7154\n",
       "budget                   7154\n",
       "financing_source         7154\n",
       "ratings                   967\n",
       "genres                    976\n",
       "box_office               4328\n",
       "dtype: int64"
      ]
     },
     "execution_count": 17,
     "metadata": {},
     "output_type": "execute_result"
    }
   ],
   "source": [
    "df_comm.isna().sum()"
   ]
  },
  {
   "cell_type": "code",
   "execution_count": 18,
   "id": "dfb200f8",
   "metadata": {},
   "outputs": [],
   "source": [
    "df_comm = df_comm.loc[df_comm['ratings'] <= 10] #удаление аномальных значений и пропусков "
   ]
  },
  {
   "cell_type": "code",
   "execution_count": 19,
   "id": "b835d3d8",
   "metadata": {},
   "outputs": [
    {
     "data": {
      "text/plain": [
       "array([7.2, 6.6, 6.8, 7.7, 8.3, 8. , 7.8, 8.1, 7.1, 6. , 7.4, 5.8, 8.7,\n",
       "       6.3, 6.9, 5. , 4.3, 7.3, 7. , 6.4, 8.2, 7.5, 6.7, 7.9, 5.9, 6.2,\n",
       "       5.6, 6.5, 2.4, 7.6, 6.1, 8.6, 8.5, 8.8, 5.5, 5.1, 5.7, 5.4, 4.4,\n",
       "       4.5, 5.3, 4.1, 8.4, 2.6, 3.8, 4.6, 4.8, 4. , 3. , 1.6, 4.2, 5.2,\n",
       "       4.7, 4.9, 3.9, 2.7, 3.3, 2.9, 3.7, 1.4, 3.1, 3.5, 3.2, 2.8, 1.5,\n",
       "       2.1, 2.5, 9.2, 3.4, 1.1, 3.6, 1. , 1.3, 1.9, 1.8, 1.2, 1.7, 9. ,\n",
       "       8.9, 9.1])"
      ]
     },
     "execution_count": 19,
     "metadata": {},
     "output_type": "execute_result"
    }
   ],
   "source": [
    "df_comm['ratings'].unique()"
   ]
  },
  {
   "cell_type": "code",
   "execution_count": 20,
   "id": "c527e279",
   "metadata": {},
   "outputs": [
    {
     "data": {
      "text/plain": [
       "title                       0\n",
       "puNumber                    0\n",
       "show_start_date             0\n",
       "type                        0\n",
       "film_studio                 5\n",
       "production_country          2\n",
       "director                    3\n",
       "producer                  478\n",
       "age_restriction             0\n",
       "refundable_support       6176\n",
       "nonrefundable_support    6176\n",
       "budget                   6176\n",
       "financing_source         6176\n",
       "ratings                     0\n",
       "genres                      6\n",
       "box_office               3591\n",
       "dtype: int64"
      ]
     },
     "execution_count": 20,
     "metadata": {},
     "output_type": "execute_result"
    }
   ],
   "source": [
    "df_comm.isna().sum()"
   ]
  },
  {
   "cell_type": "code",
   "execution_count": 21,
   "id": "9ddd4d39",
   "metadata": {},
   "outputs": [
    {
     "name": "stdout",
     "output_type": "stream",
     "text": [
      "<class 'pandas.core.frame.DataFrame'>\n",
      "Int64Index: 6490 entries, 0 to 7485\n",
      "Data columns (total 16 columns):\n",
      " #   Column                 Non-Null Count  Dtype  \n",
      "---  ------                 --------------  -----  \n",
      " 0   title                  6490 non-null   object \n",
      " 1   puNumber               6490 non-null   object \n",
      " 2   show_start_date        6490 non-null   object \n",
      " 3   type                   6490 non-null   object \n",
      " 4   film_studio            6485 non-null   object \n",
      " 5   production_country     6488 non-null   object \n",
      " 6   director               6487 non-null   object \n",
      " 7   producer               6012 non-null   object \n",
      " 8   age_restriction        6490 non-null   object \n",
      " 9   refundable_support     314 non-null    float64\n",
      " 10  nonrefundable_support  314 non-null    float64\n",
      " 11  budget                 314 non-null    float64\n",
      " 12  financing_source       314 non-null    object \n",
      " 13  ratings                6490 non-null   float64\n",
      " 14  genres                 6484 non-null   object \n",
      " 15  box_office             2899 non-null   float64\n",
      "dtypes: float64(5), object(11)\n",
      "memory usage: 862.0+ KB\n"
     ]
    }
   ],
   "source": [
    "df_comm.info()"
   ]
  },
  {
   "cell_type": "code",
   "execution_count": 22,
   "id": "c29c50b4",
   "metadata": {},
   "outputs": [
    {
     "data": {
      "text/plain": [
       "array(['Художественный', 'Анимационный', 'Прочие', 'Документальный',\n",
       "       'Научно-популярный', ' Художественный', ' Анимационный',\n",
       "       'Музыкально-развлекательный'], dtype=object)"
      ]
     },
     "execution_count": 22,
     "metadata": {},
     "output_type": "execute_result"
    }
   ],
   "source": [
    "df_comm['type'].unique()"
   ]
  },
  {
   "cell_type": "code",
   "execution_count": 23,
   "id": "eb912841",
   "metadata": {},
   "outputs": [],
   "source": [
    "df_comm['type'] = df_comm['type'].replace({' Художественный': 'Художественный', ' Анимационный': 'Анимационный'})\n",
    "# удаление скрытых дубликатов (лишний пробел)"
   ]
  },
  {
   "cell_type": "code",
   "execution_count": 24,
   "id": "61d78208",
   "metadata": {},
   "outputs": [
    {
     "data": {
      "text/plain": [
       "array(['Художественный', 'Анимационный', 'Прочие', 'Документальный',\n",
       "       'Научно-популярный', 'Музыкально-развлекательный'], dtype=object)"
      ]
     },
     "execution_count": 24,
     "metadata": {},
     "output_type": "execute_result"
    }
   ],
   "source": [
    "df_comm['type'].unique()"
   ]
  },
  {
   "cell_type": "code",
   "execution_count": 25,
   "id": "65c0f2ef",
   "metadata": {},
   "outputs": [
    {
     "data": {
      "text/plain": [
       "0"
      ]
     },
     "execution_count": 25,
     "metadata": {},
     "output_type": "execute_result"
    }
   ],
   "source": [
    "df_comm.duplicated().sum()"
   ]
  },
  {
   "cell_type": "code",
   "execution_count": 26,
   "id": "84db3b40",
   "metadata": {},
   "outputs": [
    {
     "data": {
      "text/plain": [
       "705"
      ]
     },
     "execution_count": 26,
     "metadata": {},
     "output_type": "execute_result"
    }
   ],
   "source": [
    "df_comm['title'].duplicated().sum()"
   ]
  },
  {
   "cell_type": "markdown",
   "id": "ee8e6d7a",
   "metadata": {},
   "source": [
    "Первично выявлено 705 дубликатов названий фильмов, учитывая, что часто названия не очень оригинальные, это требует дополнительного анализа."
   ]
  },
  {
   "cell_type": "code",
   "execution_count": 27,
   "id": "81e3a7f6",
   "metadata": {},
   "outputs": [
    {
     "data": {
      "text/plain": [
       "2"
      ]
     },
     "execution_count": 27,
     "metadata": {},
     "output_type": "execute_result"
    }
   ],
   "source": [
    "df_comm['puNumber'].duplicated().sum()"
   ]
  },
  {
   "cell_type": "markdown",
   "id": "6064eb71",
   "metadata": {},
   "source": [
    "Выявлено 2 дубликата по номерам прокатных удостоверений "
   ]
  },
  {
   "cell_type": "code",
   "execution_count": 28,
   "id": "61f4c61b",
   "metadata": {},
   "outputs": [
    {
     "name": "stdout",
     "output_type": "stream",
     "text": [
      "                                                  title   puNumber  \\\n",
      "4639  Иоанна - женщина на папском престоле /По роман...  221154310   \n",
      "5068                                     Анализируй то!  221054410   \n",
      "\n",
      "               show_start_date            type  \\\n",
      "4639  2010-12-17T12:00:00.000Z  Художественный   \n",
      "5068  2010-05-25T12:00:00.000Z  Художественный   \n",
      "\n",
      "                                            film_studio  \\\n",
      "4639   Константин Фильм, А Эр Ди Дегето Фильм, Дюне ...   \n",
      "5068  Уорнер Бразерс, Виллидж Роадшоу Пикчерз, Эн-Пи...   \n",
      "\n",
      "                                production_country        director  \\\n",
      "4639  Германия - Великобритания - Италия - Испания  Зенке Вортманн   \n",
      "5068                                           США  Гарольд Реймис   \n",
      "\n",
      "                                        producer  \\\n",
      "4639  Оливер Бербен, Дорис Д.Хайнце, Фарук Элтан   \n",
      "5068             Джейн Розенталь, Паул Уэйнстейн   \n",
      "\n",
      "                      age_restriction  refundable_support  \\\n",
      "4639  «16+» - для детей старше 16 лет                 NaN   \n",
      "5068  «12+» - для детей старше 12 лет                 NaN   \n",
      "\n",
      "      nonrefundable_support  budget financing_source  ratings  \\\n",
      "4639                    NaN     NaN              NaN      7.6   \n",
      "5068                    NaN     NaN              NaN      6.8   \n",
      "\n",
      "                       genres  box_office  \n",
      "4639  драма,мелодрама,история         NaN  \n",
      "5068         комедия,криминал         NaN  \n"
     ]
    }
   ],
   "source": [
    "print(df_comm.loc[df_comm['puNumber'].duplicated()])"
   ]
  },
  {
   "cell_type": "code",
   "execution_count": 30,
   "id": "54f4bd36",
   "metadata": {},
   "outputs": [
    {
     "data": {
      "text/plain": [
       "7"
      ]
     },
     "execution_count": 30,
     "metadata": {},
     "output_type": "execute_result"
    }
   ],
   "source": [
    "df_comm.loc[df_comm[['title', 'show_start_date']].duplicated()]['title'].count()"
   ]
  },
  {
   "cell_type": "markdown",
   "id": "460b506b",
   "metadata": {},
   "source": [
    "Для выявления истинных дубликатов фильмов решил использовать связку признаков: название и дата премьеры."
   ]
  },
  {
   "cell_type": "code",
   "execution_count": 31,
   "id": "b912480e",
   "metadata": {},
   "outputs": [
    {
     "name": "stdout",
     "output_type": "stream",
     "text": [
      "                                  title   puNumber           show_start_date  \\\n",
      "1301                          Эпидемия_  221035513  2013-10-07T12:00:00.000Z   \n",
      "1476                             Оторвы  221013214  2014-04-07T12:00:00.000Z   \n",
      "2192                Последние пять лет.  121005715  2015-03-25T12:00:00.000Z   \n",
      "2753  Пингвиненок Пороро: Большие гонки  124001915  2015-04-15T12:00:00.000Z   \n",
      "3087                          Анархисты  121002316  2016-02-03T12:00:00.000Z   \n",
      "4043                              Бугай  124001210  2010-09-24T12:00:00.000Z   \n",
      "6429                                Зоя  111022718  2018-11-25T12:00:00.000Z   \n",
      "\n",
      "                type                                        film_studio  \\\n",
      "1301  Художественный  Морена Фильм, Ребелион Террестр, А 3 Медиа Гру...   \n",
      "1476  Художественный  Проминент Пикчерз, Ворлдвью Интертейнмент, Инд...   \n",
      "2192  Художественный  Гранд Пикс Интертейнмент, Лаки Манки Пикчерз, ...   \n",
      "2753    Анимационный  Окон Студиос, Чина Филм, Симка Интертейнмент, ...   \n",
      "3087  Художественный                  24 Май Продюксьон, Франс 2 Синема   \n",
      "4043    Анимационный                          Иллюзион Студиос, Процесо   \n",
      "6429  Художественный                            Тарханова Юлия Олеговна   \n",
      "\n",
      "     production_country                    director  \\\n",
      "1301  Испания - Франция  Алекс Пастор, Давид Пастор   \n",
      "1476                США           Кристофер Нельсон   \n",
      "2192                США           Ричард ЛаГравенес   \n",
      "2753  Южная Корея - КНР               Юнг Куюн Парк   \n",
      "3087            Франция                 Эли Важеман   \n",
      "4043  Мексика-Аргентина                Густаво Кова   \n",
      "6429             Россия                     О.Товма   \n",
      "\n",
      "                                               producer  \\\n",
      "1301     Мерседес Гамеро, Альберто Марини, Педро Уриоль   \n",
      "1476                           Молли Коннерс, Хезер Рэй   \n",
      "2192  Джанет Бреннер, Лорен Версель, Курт Дойтч, Рич...   \n",
      "2753                            Иль Хо Ким, Михал Симка   \n",
      "3087                                          Лола Гэнс   \n",
      "4043                     Хуго Е. Лаура, Хосе Луис Масса   \n",
      "6429                                        Ю.Тарханова   \n",
      "\n",
      "                             age_restriction  refundable_support  \\\n",
      "1301         «16+» - для детей старше 16 лет                 NaN   \n",
      "1476         «16+» - для детей старше 16 лет                 NaN   \n",
      "2192         «16+» - для детей старше 16 лет                 NaN   \n",
      "2753  «0+» - для любой зрительской аудитории                 NaN   \n",
      "3087         «16+» - для детей старше 16 лет                 NaN   \n",
      "4043         «16+» - для детей старше 16 лет                 NaN   \n",
      "6429         «16+» - для детей старше 16 лет                 NaN   \n",
      "\n",
      "      nonrefundable_support  budget financing_source  ratings  \\\n",
      "1301                    NaN     NaN              NaN      7.2   \n",
      "1476                    NaN     NaN              NaN      3.5   \n",
      "2192                    NaN     NaN              NaN      5.7   \n",
      "2753                    NaN     NaN              NaN      5.2   \n",
      "3087                    NaN     NaN              NaN      5.7   \n",
      "4043                    NaN     NaN              NaN      6.6   \n",
      "6429                    NaN     NaN              NaN      3.9   \n",
      "\n",
      "                         genres  box_office  \n",
      "1301   драма,фантастика,триллер         NaN  \n",
      "1476        комедия,приключения         NaN  \n",
      "2192     мюзикл,драма,мелодрама     52495.0  \n",
      "2753  мультфильм,семейный,спорт  14152495.9  \n",
      "3087                      драма    332371.0  \n",
      "4043  мультфильм,боевик,триллер         NaN  \n",
      "6429  история,биография,военный         NaN  \n"
     ]
    }
   ],
   "source": [
    "print(df_comm.loc[df_comm[['title', 'show_start_date']].duplicated()])"
   ]
  },
  {
   "cell_type": "markdown",
   "id": "f8f740d8",
   "metadata": {},
   "source": [
    "Выявлено 2 дубликата по номерам прокатных удостоверений и 7 дубликатов по фильмам, учитывая их небольшое число значительно повлиять на общие результаты они не могут."
   ]
  },
  {
   "cell_type": "code",
   "execution_count": 33,
   "id": "dcdabbf7",
   "metadata": {},
   "outputs": [
    {
     "data": {
      "text/html": [
       "<div>\n",
       "<style scoped>\n",
       "    .dataframe tbody tr th:only-of-type {\n",
       "        vertical-align: middle;\n",
       "    }\n",
       "\n",
       "    .dataframe tbody tr th {\n",
       "        vertical-align: top;\n",
       "    }\n",
       "\n",
       "    .dataframe thead th {\n",
       "        text-align: right;\n",
       "    }\n",
       "</style>\n",
       "<table border=\"1\" class=\"dataframe\">\n",
       "  <thead>\n",
       "    <tr style=\"text-align: right;\">\n",
       "      <th></th>\n",
       "      <th>refundable_support</th>\n",
       "      <th>nonrefundable_support</th>\n",
       "      <th>budget</th>\n",
       "      <th>ratings</th>\n",
       "      <th>box_office</th>\n",
       "    </tr>\n",
       "  </thead>\n",
       "  <tbody>\n",
       "    <tr>\n",
       "      <th>count</th>\n",
       "      <td>3.140000e+02</td>\n",
       "      <td>3.140000e+02</td>\n",
       "      <td>3.140000e+02</td>\n",
       "      <td>6490.000000</td>\n",
       "      <td>2.899000e+03</td>\n",
       "    </tr>\n",
       "    <tr>\n",
       "      <th>mean</th>\n",
       "      <td>1.232166e+07</td>\n",
       "      <td>4.977076e+07</td>\n",
       "      <td>1.313466e+08</td>\n",
       "      <td>6.479245</td>\n",
       "      <td>8.003072e+07</td>\n",
       "    </tr>\n",
       "    <tr>\n",
       "      <th>std</th>\n",
       "      <td>2.546111e+07</td>\n",
       "      <td>6.122000e+07</td>\n",
       "      <td>1.929207e+08</td>\n",
       "      <td>1.101665</td>\n",
       "      <td>2.461491e+08</td>\n",
       "    </tr>\n",
       "    <tr>\n",
       "      <th>min</th>\n",
       "      <td>0.000000e+00</td>\n",
       "      <td>0.000000e+00</td>\n",
       "      <td>0.000000e+00</td>\n",
       "      <td>1.000000</td>\n",
       "      <td>0.000000e+00</td>\n",
       "    </tr>\n",
       "    <tr>\n",
       "      <th>25%</th>\n",
       "      <td>0.000000e+00</td>\n",
       "      <td>2.500000e+07</td>\n",
       "      <td>4.289500e+07</td>\n",
       "      <td>5.900000</td>\n",
       "      <td>8.297700e+04</td>\n",
       "    </tr>\n",
       "    <tr>\n",
       "      <th>50%</th>\n",
       "      <td>0.000000e+00</td>\n",
       "      <td>3.000000e+07</td>\n",
       "      <td>7.059059e+07</td>\n",
       "      <td>6.600000</td>\n",
       "      <td>2.617932e+06</td>\n",
       "    </tr>\n",
       "    <tr>\n",
       "      <th>75%</th>\n",
       "      <td>1.500000e+07</td>\n",
       "      <td>4.412500e+07</td>\n",
       "      <td>1.500064e+08</td>\n",
       "      <td>7.200000</td>\n",
       "      <td>2.859579e+07</td>\n",
       "    </tr>\n",
       "    <tr>\n",
       "      <th>max</th>\n",
       "      <td>1.800000e+08</td>\n",
       "      <td>4.000000e+08</td>\n",
       "      <td>2.305074e+09</td>\n",
       "      <td>9.200000</td>\n",
       "      <td>3.073569e+09</td>\n",
       "    </tr>\n",
       "  </tbody>\n",
       "</table>\n",
       "</div>"
      ],
      "text/plain": [
       "       refundable_support  nonrefundable_support        budget      ratings  \\\n",
       "count        3.140000e+02           3.140000e+02  3.140000e+02  6490.000000   \n",
       "mean         1.232166e+07           4.977076e+07  1.313466e+08     6.479245   \n",
       "std          2.546111e+07           6.122000e+07  1.929207e+08     1.101665   \n",
       "min          0.000000e+00           0.000000e+00  0.000000e+00     1.000000   \n",
       "25%          0.000000e+00           2.500000e+07  4.289500e+07     5.900000   \n",
       "50%          0.000000e+00           3.000000e+07  7.059059e+07     6.600000   \n",
       "75%          1.500000e+07           4.412500e+07  1.500064e+08     7.200000   \n",
       "max          1.800000e+08           4.000000e+08  2.305074e+09     9.200000   \n",
       "\n",
       "         box_office  \n",
       "count  2.899000e+03  \n",
       "mean   8.003072e+07  \n",
       "std    2.461491e+08  \n",
       "min    0.000000e+00  \n",
       "25%    8.297700e+04  \n",
       "50%    2.617932e+06  \n",
       "75%    2.859579e+07  \n",
       "max    3.073569e+09  "
      ]
     },
     "execution_count": 33,
     "metadata": {},
     "output_type": "execute_result"
    }
   ],
   "source": [
    "df_comm.describe()"
   ]
  },
  {
   "cell_type": "markdown",
   "id": "70bd29db",
   "metadata": {},
   "source": [
    "Среди фильмов, получивших господдержку есть 16, у которых бюджет равен 0 (ошибка введения данных); в их составе и художественные и анимационные фильмы, с учётом того, что из менее 10% от всех фильмов с господдержкой, можно оставить их в основной базе данных, но убрать данные о господдержке."
   ]
  },
  {
   "cell_type": "code",
   "execution_count": 34,
   "id": "105f0cc8",
   "metadata": {},
   "outputs": [
    {
     "data": {
      "text/html": [
       "<div>\n",
       "<style scoped>\n",
       "    .dataframe tbody tr th:only-of-type {\n",
       "        vertical-align: middle;\n",
       "    }\n",
       "\n",
       "    .dataframe tbody tr th {\n",
       "        vertical-align: top;\n",
       "    }\n",
       "\n",
       "    .dataframe thead th {\n",
       "        text-align: right;\n",
       "    }\n",
       "</style>\n",
       "<table border=\"1\" class=\"dataframe\">\n",
       "  <thead>\n",
       "    <tr style=\"text-align: right;\">\n",
       "      <th></th>\n",
       "      <th>title</th>\n",
       "      <th>puNumber</th>\n",
       "      <th>show_start_date</th>\n",
       "      <th>type</th>\n",
       "      <th>film_studio</th>\n",
       "      <th>production_country</th>\n",
       "      <th>director</th>\n",
       "      <th>producer</th>\n",
       "      <th>age_restriction</th>\n",
       "      <th>refundable_support</th>\n",
       "      <th>nonrefundable_support</th>\n",
       "      <th>budget</th>\n",
       "      <th>financing_source</th>\n",
       "      <th>ratings</th>\n",
       "      <th>genres</th>\n",
       "      <th>box_office</th>\n",
       "    </tr>\n",
       "  </thead>\n",
       "  <tbody>\n",
       "    <tr>\n",
       "      <th>2053</th>\n",
       "      <td>14+</td>\n",
       "      <td>111023614</td>\n",
       "      <td>2014-12-19T12:00:00.000Z</td>\n",
       "      <td>Художественный</td>\n",
       "      <td>ООО Киностудия  \"Сентябрь\"</td>\n",
       "      <td>Россия</td>\n",
       "      <td>А.Зайцев</td>\n",
       "      <td>О.Гранина, А.Зайцев</td>\n",
       "      <td>«16+» - для детей старше 16 лет</td>\n",
       "      <td>0.0</td>\n",
       "      <td>23000000.0</td>\n",
       "      <td>0.0</td>\n",
       "      <td>Министерство культуры, Фонд кино</td>\n",
       "      <td>6.6</td>\n",
       "      <td>мелодрама</td>\n",
       "      <td>1.023402e+07</td>\n",
       "    </tr>\n",
       "    <tr>\n",
       "      <th>2058</th>\n",
       "      <td>Дуxless 2</td>\n",
       "      <td>111000415</td>\n",
       "      <td>2015-01-26T12:00:00.000Z</td>\n",
       "      <td>Художественный</td>\n",
       "      <td>ООО \"Киностудия \"Слово\", ООО \"Арт Пикчерс Студия\"</td>\n",
       "      <td>Россия</td>\n",
       "      <td>Р.Прыгунов</td>\n",
       "      <td>П.Ануров, Ф.Бондарчук, Д.Рудовский</td>\n",
       "      <td>«16+» - для детей старше 16 лет</td>\n",
       "      <td>0.0</td>\n",
       "      <td>75000000.0</td>\n",
       "      <td>0.0</td>\n",
       "      <td>Фонд кино</td>\n",
       "      <td>6.6</td>\n",
       "      <td>драма</td>\n",
       "      <td>4.461635e+08</td>\n",
       "    </tr>\n",
       "    <tr>\n",
       "      <th>2472</th>\n",
       "      <td>Воин (2015)</td>\n",
       "      <td>111017315</td>\n",
       "      <td>2015-09-28T12:00:00.000Z</td>\n",
       "      <td>Художественный</td>\n",
       "      <td>ООО \"Форпост Продакшн\", ООО \"Арт Пикчерс Студия\"</td>\n",
       "      <td>Россия</td>\n",
       "      <td>А.Андрианов</td>\n",
       "      <td>ООО \"Арт Пикчерс Студия\"</td>\n",
       "      <td>«12+» - для детей старше 12 лет</td>\n",
       "      <td>10000000.0</td>\n",
       "      <td>70000000.0</td>\n",
       "      <td>0.0</td>\n",
       "      <td>Фонд кино</td>\n",
       "      <td>7.8</td>\n",
       "      <td>боевик,драма,криминал</td>\n",
       "      <td>1.965724e+08</td>\n",
       "    </tr>\n",
       "    <tr>\n",
       "      <th>2532</th>\n",
       "      <td>Бармен.</td>\n",
       "      <td>111009615</td>\n",
       "      <td>2015-05-26T12:00:00.000Z</td>\n",
       "      <td>Художественный</td>\n",
       "      <td>АО \"ВайТ Медиа\", ООО \"Арт Пикчерс Студия\"</td>\n",
       "      <td>Россия</td>\n",
       "      <td>Д.Штурманова</td>\n",
       "      <td>Т.Вайнштейн</td>\n",
       "      <td>«16+» - для детей старше 16 лет</td>\n",
       "      <td>20000000.0</td>\n",
       "      <td>0.0</td>\n",
       "      <td>0.0</td>\n",
       "      <td>Фонд кино</td>\n",
       "      <td>6.2</td>\n",
       "      <td>комедия,фэнтези</td>\n",
       "      <td>6.741897e+07</td>\n",
       "    </tr>\n",
       "    <tr>\n",
       "      <th>2615</th>\n",
       "      <td>Савва. Сердце воина</td>\n",
       "      <td>114001715</td>\n",
       "      <td>2015-07-21T12:00:00.000Z</td>\n",
       "      <td>Анимационный</td>\n",
       "      <td>ООО \"Глюкоза Продакшн\", ООО \"Арт Пикчерс Студия\"</td>\n",
       "      <td>Россия</td>\n",
       "      <td>М.Фадеев</td>\n",
       "      <td>А.Чистяков</td>\n",
       "      <td>«6+» - для детей старше 6 лет</td>\n",
       "      <td>60000000.0</td>\n",
       "      <td>100000000.0</td>\n",
       "      <td>0.0</td>\n",
       "      <td>Фонд кино</td>\n",
       "      <td>4.6</td>\n",
       "      <td>мультфильм,приключения,фэнтези</td>\n",
       "      <td>1.844876e+08</td>\n",
       "    </tr>\n",
       "    <tr>\n",
       "      <th>2684</th>\n",
       "      <td>Тряпичный союз</td>\n",
       "      <td>111010215</td>\n",
       "      <td>2015-06-08T12:00:00.000Z</td>\n",
       "      <td>Художественный</td>\n",
       "      <td>ООО \"Кинокомпания \"КОКТЕБЕЛЬ\"</td>\n",
       "      <td>Россия</td>\n",
       "      <td>М.Местецкий</td>\n",
       "      <td>Р.Борисевич, А.Кушаев</td>\n",
       "      <td>«18+» - запрещено для детей</td>\n",
       "      <td>0.0</td>\n",
       "      <td>59000000.0</td>\n",
       "      <td>0.0</td>\n",
       "      <td>Фонд кино</td>\n",
       "      <td>6.3</td>\n",
       "      <td>комедия,драма</td>\n",
       "      <td>1.957739e+06</td>\n",
       "    </tr>\n",
       "    <tr>\n",
       "      <th>2788</th>\n",
       "      <td>Срочно выйду замуж</td>\n",
       "      <td>111017115</td>\n",
       "      <td>2015-09-30T12:00:00.000Z</td>\n",
       "      <td>Художественный</td>\n",
       "      <td>АО \"ВайТ Медиа\", ООО \"Арт Пикчерс Студия\"</td>\n",
       "      <td>Россия</td>\n",
       "      <td>С Чекалов</td>\n",
       "      <td>Ф.Бондарчук, Т.Вайнштейн, Д.Рудовский</td>\n",
       "      <td>«16+» - для детей старше 16 лет</td>\n",
       "      <td>0.0</td>\n",
       "      <td>35000000.0</td>\n",
       "      <td>0.0</td>\n",
       "      <td>Фонд кино</td>\n",
       "      <td>5.1</td>\n",
       "      <td>комедия,мелодрама</td>\n",
       "      <td>7.293778e+07</td>\n",
       "    </tr>\n",
       "    <tr>\n",
       "      <th>2874</th>\n",
       "      <td>Помню - не помню!</td>\n",
       "      <td>111004916</td>\n",
       "      <td>2016-03-01T12:00:00.000Z</td>\n",
       "      <td>Художественный</td>\n",
       "      <td>ООО \"КиноФирма\"</td>\n",
       "      <td>Россия</td>\n",
       "      <td>В.Ровенский</td>\n",
       "      <td>ООО \"КиноФирма\"</td>\n",
       "      <td>«12+» - для детей старше 12 лет</td>\n",
       "      <td>0.0</td>\n",
       "      <td>6000000.0</td>\n",
       "      <td>0.0</td>\n",
       "      <td>Министерство культуры</td>\n",
       "      <td>4.3</td>\n",
       "      <td>комедия</td>\n",
       "      <td>1.536293e+07</td>\n",
       "    </tr>\n",
       "    <tr>\n",
       "      <th>3047</th>\n",
       "      <td>Любовь с ограничениями</td>\n",
       "      <td>111008216</td>\n",
       "      <td>2016-04-29T12:00:00.000Z</td>\n",
       "      <td>Художественный</td>\n",
       "      <td>АО \"ВайТ Медиа\", ООО \"Арт Пикчерс Студия\"</td>\n",
       "      <td>Россия</td>\n",
       "      <td>Д.Тюрин</td>\n",
       "      <td>Ф.Бондарчук, Т.Вайнштейн, Д.Рудовский</td>\n",
       "      <td>«16+» - для детей старше 16 лет</td>\n",
       "      <td>19000000.0</td>\n",
       "      <td>51000000.0</td>\n",
       "      <td>0.0</td>\n",
       "      <td>Фонд кино</td>\n",
       "      <td>6.3</td>\n",
       "      <td>комедия,мелодрама</td>\n",
       "      <td>7.029905e+07</td>\n",
       "    </tr>\n",
       "    <tr>\n",
       "      <th>3565</th>\n",
       "      <td>Притяжение (2016)</td>\n",
       "      <td>111018116</td>\n",
       "      <td>2016-12-16T12:00:00.000Z</td>\n",
       "      <td>Художественный</td>\n",
       "      <td>ООО \"Водород 2011\",  ООО \"Арт Пикчерс Студия\"</td>\n",
       "      <td>Россия</td>\n",
       "      <td>Ф.Бондарчук</td>\n",
       "      <td>ООО \"Арт Пикчерс Студия\"</td>\n",
       "      <td>«12+» - для детей старше 12 лет</td>\n",
       "      <td>0.0</td>\n",
       "      <td>250000000.0</td>\n",
       "      <td>0.0</td>\n",
       "      <td>Фонд кино</td>\n",
       "      <td>5.6</td>\n",
       "      <td>фантастика</td>\n",
       "      <td>1.038321e+09</td>\n",
       "    </tr>\n",
       "    <tr>\n",
       "      <th>3675</th>\n",
       "      <td>Чудо-юдо</td>\n",
       "      <td>114001817</td>\n",
       "      <td>2017-06-27T12:00:00.000Z</td>\n",
       "      <td>Анимационный</td>\n",
       "      <td>ООО \"КиноФирма\"</td>\n",
       "      <td>Россия</td>\n",
       "      <td>А.Лукичев</td>\n",
       "      <td>ООО \"КиноФирма\"</td>\n",
       "      <td>«6+» - для детей старше 6 лет</td>\n",
       "      <td>20000000.0</td>\n",
       "      <td>20000000.0</td>\n",
       "      <td>0.0</td>\n",
       "      <td>Фонд кино</td>\n",
       "      <td>5.2</td>\n",
       "      <td>мультфильм,фэнтези,семейный</td>\n",
       "      <td>5.510801e+07</td>\n",
       "    </tr>\n",
       "    <tr>\n",
       "      <th>3739</th>\n",
       "      <td>Мифы</td>\n",
       "      <td>111004317</td>\n",
       "      <td>2017-06-07T12:00:00.000Z</td>\n",
       "      <td>Художественный</td>\n",
       "      <td>ООО \"ХАЙПФИЛМ\", ООО \"Арт Пикчерс Студия\"</td>\n",
       "      <td>Россия</td>\n",
       "      <td>А.Молочников</td>\n",
       "      <td>Ф.Бондарчук, Д.Рудовский, И.Стюарт, М.Османн, ...</td>\n",
       "      <td>«16+» - для детей старше 16 лет</td>\n",
       "      <td>25000000.0</td>\n",
       "      <td>20000000.0</td>\n",
       "      <td>0.0</td>\n",
       "      <td>Фонд кино</td>\n",
       "      <td>4.8</td>\n",
       "      <td>комедия</td>\n",
       "      <td>5.045195e+07</td>\n",
       "    </tr>\n",
       "    <tr>\n",
       "      <th>5673</th>\n",
       "      <td>Селфи</td>\n",
       "      <td>111012117</td>\n",
       "      <td>2018-02-01T12:00:00.000Z</td>\n",
       "      <td>Художественный</td>\n",
       "      <td>ООО \"Киностудия \"Слово\", ООО \"Арт Пикчерс Студия\"</td>\n",
       "      <td>Россия</td>\n",
       "      <td>Н.Хомерики</td>\n",
       "      <td>П.Ануров, Ф.Бондарчук, Д.Рудовский</td>\n",
       "      <td>«16+» - для детей старше 16 лет</td>\n",
       "      <td>20000000.0</td>\n",
       "      <td>40000000.0</td>\n",
       "      <td>0.0</td>\n",
       "      <td>Фонд кино</td>\n",
       "      <td>5.8</td>\n",
       "      <td>триллер,драма</td>\n",
       "      <td>2.251964e+08</td>\n",
       "    </tr>\n",
       "    <tr>\n",
       "      <th>5806</th>\n",
       "      <td>Два хвоста</td>\n",
       "      <td>114001018</td>\n",
       "      <td>2018-05-31T12:00:00.000Z</td>\n",
       "      <td>Анимационный</td>\n",
       "      <td>ООО \"ЛИЦЕНЗИОННЫЕ БРЕНДЫ\"</td>\n",
       "      <td>Россия</td>\n",
       "      <td>В.Ровенский, Н.Лопато, В.Азеев</td>\n",
       "      <td>ООО \"ЛИЦЕНЗИОННЫЕ БРЕНДЫ\"</td>\n",
       "      <td>«6+» - для детей старше 6 лет</td>\n",
       "      <td>10000000.0</td>\n",
       "      <td>60000000.0</td>\n",
       "      <td>0.0</td>\n",
       "      <td>Фонд кино</td>\n",
       "      <td>5.0</td>\n",
       "      <td>мультфильм,детский</td>\n",
       "      <td>1.065143e+08</td>\n",
       "    </tr>\n",
       "    <tr>\n",
       "      <th>6008</th>\n",
       "      <td>Принцесса и дракон</td>\n",
       "      <td>114003018</td>\n",
       "      <td>2018-08-23T12:00:00.000Z</td>\n",
       "      <td>Анимационный</td>\n",
       "      <td>ООО \"ЛИЦЕНЗИОННЫЕ БРЕНДЫ\"</td>\n",
       "      <td>Россия</td>\n",
       "      <td>М.Нефедова</td>\n",
       "      <td>ООО \"ЛИЦЕНЗИОННЫЕ БРЕНДЫ\"</td>\n",
       "      <td>«6+» - для детей старше 6 лет</td>\n",
       "      <td>40000000.0</td>\n",
       "      <td>40000000.0</td>\n",
       "      <td>0.0</td>\n",
       "      <td>Фонд кино</td>\n",
       "      <td>5.2</td>\n",
       "      <td>мультфильм,фэнтези,детский</td>\n",
       "      <td>8.336633e+07</td>\n",
       "    </tr>\n",
       "    <tr>\n",
       "      <th>6823</th>\n",
       "      <td>Большое путешествие</td>\n",
       "      <td>114002419</td>\n",
       "      <td>2019-04-20T12:00:00.000Z</td>\n",
       "      <td>Анимационный</td>\n",
       "      <td>ООО \"ЛИЦЕНЗИОННЫЕ БРЕНДЫ\"</td>\n",
       "      <td>Россия</td>\n",
       "      <td>Н.Лопато, В.Ровенский</td>\n",
       "      <td>ООО \"ЛИЦЕНЗИОННЫЕ БРЕНДЫ\"</td>\n",
       "      <td>«6+» - для детей старше 6 лет</td>\n",
       "      <td>60000000.0</td>\n",
       "      <td>120000000.0</td>\n",
       "      <td>0.0</td>\n",
       "      <td>Фонд кино</td>\n",
       "      <td>6.2</td>\n",
       "      <td>мультфильм,комедия,приключения</td>\n",
       "      <td>1.476068e+08</td>\n",
       "    </tr>\n",
       "  </tbody>\n",
       "</table>\n",
       "</div>"
      ],
      "text/plain": [
       "                       title   puNumber           show_start_date  \\\n",
       "2053                     14+  111023614  2014-12-19T12:00:00.000Z   \n",
       "2058               Дуxless 2  111000415  2015-01-26T12:00:00.000Z   \n",
       "2472             Воин (2015)  111017315  2015-09-28T12:00:00.000Z   \n",
       "2532                 Бармен.  111009615  2015-05-26T12:00:00.000Z   \n",
       "2615     Савва. Сердце воина  114001715  2015-07-21T12:00:00.000Z   \n",
       "2684          Тряпичный союз  111010215  2015-06-08T12:00:00.000Z   \n",
       "2788      Срочно выйду замуж  111017115  2015-09-30T12:00:00.000Z   \n",
       "2874       Помню - не помню!  111004916  2016-03-01T12:00:00.000Z   \n",
       "3047  Любовь с ограничениями  111008216  2016-04-29T12:00:00.000Z   \n",
       "3565       Притяжение (2016)  111018116  2016-12-16T12:00:00.000Z   \n",
       "3675                Чудо-юдо  114001817  2017-06-27T12:00:00.000Z   \n",
       "3739                    Мифы  111004317  2017-06-07T12:00:00.000Z   \n",
       "5673                   Селфи  111012117  2018-02-01T12:00:00.000Z   \n",
       "5806              Два хвоста  114001018  2018-05-31T12:00:00.000Z   \n",
       "6008      Принцесса и дракон  114003018  2018-08-23T12:00:00.000Z   \n",
       "6823     Большое путешествие  114002419  2019-04-20T12:00:00.000Z   \n",
       "\n",
       "                type                                        film_studio  \\\n",
       "2053  Художественный                         ООО Киностудия  \"Сентябрь\"   \n",
       "2058  Художественный  ООО \"Киностудия \"Слово\", ООО \"Арт Пикчерс Студия\"   \n",
       "2472  Художественный   ООО \"Форпост Продакшн\", ООО \"Арт Пикчерс Студия\"   \n",
       "2532  Художественный          АО \"ВайТ Медиа\", ООО \"Арт Пикчерс Студия\"   \n",
       "2615    Анимационный   ООО \"Глюкоза Продакшн\", ООО \"Арт Пикчерс Студия\"   \n",
       "2684  Художественный                      ООО \"Кинокомпания \"КОКТЕБЕЛЬ\"   \n",
       "2788  Художественный          АО \"ВайТ Медиа\", ООО \"Арт Пикчерс Студия\"   \n",
       "2874  Художественный                                    ООО \"КиноФирма\"   \n",
       "3047  Художественный          АО \"ВайТ Медиа\", ООО \"Арт Пикчерс Студия\"   \n",
       "3565  Художественный      ООО \"Водород 2011\",  ООО \"Арт Пикчерс Студия\"   \n",
       "3675    Анимационный                                    ООО \"КиноФирма\"   \n",
       "3739  Художественный           ООО \"ХАЙПФИЛМ\", ООО \"Арт Пикчерс Студия\"   \n",
       "5673  Художественный  ООО \"Киностудия \"Слово\", ООО \"Арт Пикчерс Студия\"   \n",
       "5806    Анимационный                          ООО \"ЛИЦЕНЗИОННЫЕ БРЕНДЫ\"   \n",
       "6008    Анимационный                          ООО \"ЛИЦЕНЗИОННЫЕ БРЕНДЫ\"   \n",
       "6823    Анимационный                          ООО \"ЛИЦЕНЗИОННЫЕ БРЕНДЫ\"   \n",
       "\n",
       "     production_country                        director  \\\n",
       "2053             Россия                        А.Зайцев   \n",
       "2058             Россия                      Р.Прыгунов   \n",
       "2472             Россия                     А.Андрианов   \n",
       "2532             Россия                    Д.Штурманова   \n",
       "2615             Россия                        М.Фадеев   \n",
       "2684             Россия                     М.Местецкий   \n",
       "2788             Россия                       С Чекалов   \n",
       "2874             Россия                     В.Ровенский   \n",
       "3047             Россия                         Д.Тюрин   \n",
       "3565             Россия                     Ф.Бондарчук   \n",
       "3675             Россия                       А.Лукичев   \n",
       "3739             Россия                    А.Молочников   \n",
       "5673             Россия                      Н.Хомерики   \n",
       "5806             Россия  В.Ровенский, Н.Лопато, В.Азеев   \n",
       "6008             Россия                      М.Нефедова   \n",
       "6823             Россия           Н.Лопато, В.Ровенский   \n",
       "\n",
       "                                               producer  \\\n",
       "2053                                О.Гранина, А.Зайцев   \n",
       "2058                 П.Ануров, Ф.Бондарчук, Д.Рудовский   \n",
       "2472                           ООО \"Арт Пикчерс Студия\"   \n",
       "2532                                        Т.Вайнштейн   \n",
       "2615                                         А.Чистяков   \n",
       "2684                              Р.Борисевич, А.Кушаев   \n",
       "2788              Ф.Бондарчук, Т.Вайнштейн, Д.Рудовский   \n",
       "2874                                    ООО \"КиноФирма\"   \n",
       "3047              Ф.Бондарчук, Т.Вайнштейн, Д.Рудовский   \n",
       "3565                           ООО \"Арт Пикчерс Студия\"   \n",
       "3675                                    ООО \"КиноФирма\"   \n",
       "3739  Ф.Бондарчук, Д.Рудовский, И.Стюарт, М.Османн, ...   \n",
       "5673                 П.Ануров, Ф.Бондарчук, Д.Рудовский   \n",
       "5806                          ООО \"ЛИЦЕНЗИОННЫЕ БРЕНДЫ\"   \n",
       "6008                          ООО \"ЛИЦЕНЗИОННЫЕ БРЕНДЫ\"   \n",
       "6823                          ООО \"ЛИЦЕНЗИОННЫЕ БРЕНДЫ\"   \n",
       "\n",
       "                      age_restriction  refundable_support  \\\n",
       "2053  «16+» - для детей старше 16 лет                 0.0   \n",
       "2058  «16+» - для детей старше 16 лет                 0.0   \n",
       "2472  «12+» - для детей старше 12 лет          10000000.0   \n",
       "2532  «16+» - для детей старше 16 лет          20000000.0   \n",
       "2615    «6+» - для детей старше 6 лет          60000000.0   \n",
       "2684      «18+» - запрещено для детей                 0.0   \n",
       "2788  «16+» - для детей старше 16 лет                 0.0   \n",
       "2874  «12+» - для детей старше 12 лет                 0.0   \n",
       "3047  «16+» - для детей старше 16 лет          19000000.0   \n",
       "3565  «12+» - для детей старше 12 лет                 0.0   \n",
       "3675    «6+» - для детей старше 6 лет          20000000.0   \n",
       "3739  «16+» - для детей старше 16 лет          25000000.0   \n",
       "5673  «16+» - для детей старше 16 лет          20000000.0   \n",
       "5806    «6+» - для детей старше 6 лет          10000000.0   \n",
       "6008    «6+» - для детей старше 6 лет          40000000.0   \n",
       "6823    «6+» - для детей старше 6 лет          60000000.0   \n",
       "\n",
       "      nonrefundable_support  budget                  financing_source  \\\n",
       "2053             23000000.0     0.0  Министерство культуры, Фонд кино   \n",
       "2058             75000000.0     0.0                         Фонд кино   \n",
       "2472             70000000.0     0.0                         Фонд кино   \n",
       "2532                    0.0     0.0                         Фонд кино   \n",
       "2615            100000000.0     0.0                         Фонд кино   \n",
       "2684             59000000.0     0.0                         Фонд кино   \n",
       "2788             35000000.0     0.0                         Фонд кино   \n",
       "2874              6000000.0     0.0             Министерство культуры   \n",
       "3047             51000000.0     0.0                         Фонд кино   \n",
       "3565            250000000.0     0.0                         Фонд кино   \n",
       "3675             20000000.0     0.0                         Фонд кино   \n",
       "3739             20000000.0     0.0                         Фонд кино   \n",
       "5673             40000000.0     0.0                         Фонд кино   \n",
       "5806             60000000.0     0.0                         Фонд кино   \n",
       "6008             40000000.0     0.0                         Фонд кино   \n",
       "6823            120000000.0     0.0                         Фонд кино   \n",
       "\n",
       "      ratings                          genres    box_office  \n",
       "2053      6.6                       мелодрама  1.023402e+07  \n",
       "2058      6.6                           драма  4.461635e+08  \n",
       "2472      7.8           боевик,драма,криминал  1.965724e+08  \n",
       "2532      6.2                 комедия,фэнтези  6.741897e+07  \n",
       "2615      4.6  мультфильм,приключения,фэнтези  1.844876e+08  \n",
       "2684      6.3                   комедия,драма  1.957739e+06  \n",
       "2788      5.1               комедия,мелодрама  7.293778e+07  \n",
       "2874      4.3                         комедия  1.536293e+07  \n",
       "3047      6.3               комедия,мелодрама  7.029905e+07  \n",
       "3565      5.6                      фантастика  1.038321e+09  \n",
       "3675      5.2     мультфильм,фэнтези,семейный  5.510801e+07  \n",
       "3739      4.8                         комедия  5.045195e+07  \n",
       "5673      5.8                   триллер,драма  2.251964e+08  \n",
       "5806      5.0              мультфильм,детский  1.065143e+08  \n",
       "6008      5.2      мультфильм,фэнтези,детский  8.336633e+07  \n",
       "6823      6.2  мультфильм,комедия,приключения  1.476068e+08  "
      ]
     },
     "execution_count": 34,
     "metadata": {},
     "output_type": "execute_result"
    }
   ],
   "source": [
    "df_comm.loc[df_comm['refundable_support'] + df_comm['nonrefundable_support'] > df_comm['budget']] #  \"аномальные\" фильмы"
   ]
  },
  {
   "cell_type": "code",
   "execution_count": 35,
   "id": "57b5ea38",
   "metadata": {},
   "outputs": [],
   "source": [
    "df_comm.loc[df_comm['refundable_support'] + df_comm['nonrefundable_support'] > df_comm['budget'], ['nonrefundable_support', 'budget', 'refundable_support', 'financing_source']] = np.nan\n",
    "# удаляем данные о господдержке"
   ]
  },
  {
   "cell_type": "code",
   "execution_count": 36,
   "id": "500debff",
   "metadata": {},
   "outputs": [
    {
     "data": {
      "text/plain": [
       "array(['США', 'СССР', 'Франция', 'СССР, Венгрия',\n",
       "       'Германия-Великобритания', 'Великобритания - Италия',\n",
       "       'Чехословакия', 'США - Франция - Турция', 'Новая Зеландия',\n",
       "       'Канада - Франция - Испания', 'США-Германия',\n",
       "       'США - Великобритания', 'Великобритания', 'США - Германия',\n",
       "       'Франция - Мексика - США', 'Россия, Казахстан, США',\n",
       "       'СССР, Швеция', 'СССР, Франция, Англия, Куба, ГДР', 'Германия',\n",
       "       'Великобритания-США-Германия-КНР',\n",
       "       'СССР, ЧССР, Западный Берлин, ПНР', 'СССР, Италия', 'Гонконг, КНР',\n",
       "       'США - Франция', 'США - Япония - Франция - Великобритания',\n",
       "       'Гонконг - Сингапур - Таиланд - Великобритания', 'США-Канада',\n",
       "       'Франция - Италия - Великобритания - США', 'Франция - США',\n",
       "       'Ирландия-Великобритания-Германия', 'США-Австралия',\n",
       "       'СССР, Финляндия', 'США-Франция-Великобритания-Австрия',\n",
       "       'США - Бельгия', 'США - Ирландия - Великобритания',\n",
       "       'Великобритания - США',\n",
       "       'Люксембург - Нидерланды - Испания - Великобритания - США - Италия',\n",
       "       'Великобритания - Франция - США', 'Новая Зеландия - США',\n",
       "       'США - Великобритания - Чехия',\n",
       "       'Канада - Франция - Великобритания', 'Ирландия',\n",
       "       'Великобритания - Германия - США',\n",
       "       'США - Франция - Великобритания', 'Япония', 'СССР, Польша',\n",
       "       'Франция - Испания', 'Канада-Франция', 'Германия - Италия - США',\n",
       "       'Дания - Швейцария - Бельгия - Франция', 'США - Испания',\n",
       "       'Германия - США', 'Франция - Австрия - Германия - Италия - США',\n",
       "       'Австрия', 'США - Канада - Германия', 'США - Канада',\n",
       "       'СССР - Швейцария - Франция', 'Россия - Казахстан', 'Гонконг',\n",
       "       'Италия', 'США - ОАЭ', 'Россия',\n",
       "       'США - Франция - Испания - Великобритания',\n",
       "       'Великобритания - Франция', 'США-Италия-Испания-Аргентина',\n",
       "       'Франция-Великобритания', 'КНР - Гонконг',\n",
       "       'Франция - Италия - Швейцария', 'США - Новая Зеландия',\n",
       "       'Франция - Бельгия', 'КНР', 'Германия - Великобритания - Австрия',\n",
       "       'Великобритания - Израиль - Франция - Япония - США', 'Швеция',\n",
       "       'Испания', 'Дания', 'Франция - Бельгия - Люксембург',\n",
       "       'США - Индия - ОАЭ',\n",
       "       'Германия-Канада-Великобритания-Швейцария-Франция',\n",
       "       'Мексика - Чили', 'Аргентина', 'Бразилия', 'Чили',\n",
       "       'Португалия - Франция', 'США - ЮАР', 'Исландия-Ирландия-Германия',\n",
       "       'США-Индонезия', 'Южная Корея', 'Австралия',\n",
       "       'Мексика - Испания - Дания - США', 'Великобритания-США',\n",
       "       'Франция - Италия', 'США-Франция', 'Бельгия-Франция-Италия',\n",
       "       'Чехия - Германия', 'Германия - Франция', 'США-Нидерланды',\n",
       "       'Украина', 'Великобритания - Германия', 'Франция-Бельгия',\n",
       "       'США-Франция-Испания', 'Италия - Франция', 'Канада',\n",
       "       'Швеция-Франция-Дания', 'Германия-Франция-Польша',\n",
       "       'Франция-Великобритания - Германия',\n",
       "       'США - Бразилия - Франция - Австралия - Великобритания - Германия',\n",
       "       'Германия-Австрия', 'Германия-Италия- Шри-Ланка',\n",
       "       'Великобритания - Испания',\n",
       "       'США - Великобритания - Канада - Швеция',\n",
       "       'Босния и Герцеговина - Франция - Великобритания - Германия - Словения - Бельгия - Сербия',\n",
       "       'Великобритания - Франция - Италия - США', 'США-ОАЭ',\n",
       "       'Испания - Франция', 'США-Великобритания', 'США-ЮАР',\n",
       "       'Великобритания-Австралия - США',\n",
       "       'Норвегия - Швеция - Дания - Германия', 'Норвегия', 'Швейцария',\n",
       "       'Греция - Германия - Франция', 'Норвения', 'Южная Корея - США',\n",
       "       'Чили - Франция - США', 'Австрия - Германия - Франция',\n",
       "       'Швеция - Дания', 'Великобритания - Франция - Бельгия - Италия',\n",
       "       'Франция - Германия', 'Грузия - Франция - Люксембург',\n",
       "       'США - Франция - Великобритания - Бразилия ', 'США - КНР',\n",
       "       'Мексика - Франция', 'США - Германия - Гонконг - Сингапур',\n",
       "       'Финляндия - Австрия - Россия', 'Испания - Куба',\n",
       "       'Великобритания - ЮАР', 'Великобритания - Ирландия', 'Израиль',\n",
       "       'Бразилия - Германия - Порртугалия - Франция ',\n",
       "       'Франция - Канада - Бельгия', 'Франция-Испания',\n",
       "       'Испания - Канада - Япония', 'Швеция-Куба',\n",
       "       'США-Великобритания-Ирландия', 'Гонконг - КНР', 'Нидерланды',\n",
       "       'Испания - Канада', 'Япония-Великобритания',\n",
       "       'Великобритания - Норвегия - Дания - Германия',\n",
       "       'Финляндия - Франция - Германия',\n",
       "       'Мексика - Франция - Нидерланды - Германия', 'США - Индия',\n",
       "       'США-Великобритания-Индия', 'США-Канада-Бельгия', 'Турция',\n",
       "       'Сербия - Словения - Хорватия - Черногория - Македония',\n",
       "       'Германия - Нидерланды - Беларусь - Россия - Латвия',\n",
       "       'Нидерланды - Россия - Германия',\n",
       "       'Великобритания - Нидерланды - Франция - Хорватия',\n",
       "       'Канада - Южная Корея',\n",
       "       'Великобритания - Польша - КНР - Индия - Норвегия',\n",
       "       'Япония - Франция - США - Южная Корея - Турция',\n",
       "       'Мексика - Аргентина - Великобритания', 'Израиль - Франция',\n",
       "       'Польша - Португалия - Франция - Великобритания',\n",
       "       'Австралия - США', 'США - Великобритания ',\n",
       "       'Франция - Люксембург - Бельгия', 'Армения',\n",
       "       'Бельгия - Люксембург - Франция - Швейцария',\n",
       "       'США - Великобритания - Канада', 'Норвегия - Швеция',\n",
       "       'Канада - Франция', 'КНР - Гонконг - США',\n",
       "       'США - Сингапур - Малайзия - Индонезия', 'Германия - Россия',\n",
       "       'Япония - Канада', 'Финляндия - Дания - Германия - Ирландия',\n",
       "       'Франция - Люксембург - Германия - Бельгия - Швейцария - Великобритания ',\n",
       "       'Канада - США', 'США-Италия-Испания', 'США-Испания',\n",
       "       'США - Швейцария - Франция', 'Испания - США - Колумбия',\n",
       "       'Канада-ЮАР', 'Франция - Россия',\n",
       "       'Германия - Финляндия - Австралия', 'Дания - Швеция', 'Бельгия',\n",
       "       'Германия - Франция - Австрия', 'Франция-Индия', 'ЮАР',\n",
       "       'Франция-Перу', 'Франция - Канада',\n",
       "       'Великобритания - Австрия - Франция - США',\n",
       "       'Австрия-Германия-Франция', 'США-Россия', 'Германия-США',\n",
       "       'США - Южная Корея', 'Канада - КНР',\n",
       "       'Дания - Швеция - Италия - Франция - Германия',\n",
       "       'Франция-Италия-Испания-Венгрия', 'Франция - Германия - Бельгия',\n",
       "       'Франция-Великобритания-Чехия', 'Румыния - Франция - Бельгия',\n",
       "       'Болгария - Франция - Изриль',\n",
       "       'Израиль - Германия - Польша - Бельгия - Франция - Люксембург',\n",
       "       'Россия, Германия, Франция, Бельгия', 'Индонезия',\n",
       "       'Франция - Португалия', 'Великобритания - Пуэрто-Рико',\n",
       "       'СССР, ФРГ, Западный Берлин', 'Россия, Республика Беларусь',\n",
       "       'США, Великобритания', 'Франция - Австрия', 'Бельгия-Нидерланды',\n",
       "       'Великобритания - США - Индия', 'Индия',\n",
       "       'США - Великобритания - Австралия',\n",
       "       'Канада - Франция - США - ОАЭ - Великобритания',\n",
       "       'США - Австралия - Франция',\n",
       "       'Дания-Франция-Бельгия-Германия-Великобритания',\n",
       "       'Испания - Аргентина', 'Исландия - Финляндия',\n",
       "       'Россия-Польша-Голландия-Словакия', 'Дания - Германия - Швеция',\n",
       "       'Южная Корея - США - Канада', 'Таиланд', 'США-Мальта',\n",
       "       'США -Германия',\n",
       "       'Великобритания - Германия - Франция - Кипр - США', 'Мексика',\n",
       "       'США - Великобритания - Ирландия', 'США - Украина',\n",
       "       'США - Финляндия - Испания - Великобритания - Франция',\n",
       "       'Австралия-Великобритания',\n",
       "       'США - Канада - Афганистан - Бельгия - Франция', 'Франция-Канада',\n",
       "       'Ирландия - Финляндия - Бельгия - Великобритания - США - Швейцария',\n",
       "       'Малайзия - США', 'Германия - Италия',\n",
       "       'США - Франция - Бельгия - Италия', 'Франция - Ирландия - Швеция',\n",
       "       'Азербайджан-Россия', 'Великобритания - Италия - Швейцария',\n",
       "       'США - Германия - Великобритания',\n",
       "       'Германия - Бельгия - США -Франция', 'США-Китай', 'Чили - Испания',\n",
       "       'Франция - Швейцария', 'Канада - Испания',\n",
       "       'США - Румыния - Великобритания', 'США - Япония',\n",
       "       'США - Россия - Франция', 'Франция-США', 'Парагвай',\n",
       "       'Германия - Канада', 'США - Канада - Великобритания',\n",
       "       'Финляндия - Канада', 'Уругвай-Мексика-Германия ', 'США - Чили',\n",
       "       'Германия - Аргентина - Нидерланды - Чили', 'Финляндия',\n",
       "       'Испания - Италия - Франция',\n",
       "       'Великобритания - Франция - Швеция - Бельгия', 'Иран',\n",
       "       'Франция - Бенльгия', 'Индия - Великобритания',\n",
       "       'Япония - Великобритания - Франция',\n",
       "       'Испания - Уругвай - Аргентина',\n",
       "       'Франция - Италия - Бельгия - Люксембург',\n",
       "       'Франция - Украина - Грузия - Армения',\n",
       "       'Сербия - Германия - Венгрия', 'Франция-Польша', 'Франция ',\n",
       "       'Румыния-США', 'Россия-Азербайджан', 'Республика Беларусь',\n",
       "       'Германия - Франция - Люксембург', 'США - Россия',\n",
       "       'Великобритания - США - Франция', 'США - Австралия - Дания',\n",
       "       'Бельгия-Франция', 'США-Мексика', 'СЩА', 'Бразилия - Испания',\n",
       "       'Россия, Франция, Латвия', 'Уругвай - Колумбия',\n",
       "       'США - Испания - Болгария', 'Армения - Германия',\n",
       "       'США - Великобритания- Франция - Швеция', 'США - Мексика',\n",
       "       'Австралия-Турция-США', 'Швеция - Германия',\n",
       "       'Польша - Италия - Россия', 'Франция - Бразилия',\n",
       "       'США - Канада - КНР', 'СССР, Венгрия, ЧССР, ГДР',\n",
       "       'Бельгия - Германия - Люксембург', 'СССР  ', 'СССР ', ' СССР ',\n",
       "       'США - Австралия', 'Бразилия - США',\n",
       "       'США - Великобритания - Канада - КНР', 'Франция - Чили',\n",
       "       'Дания - Великобритания - ЮАР', 'СССР   ',\n",
       "       'Россия-США-Канада-Люксембург',\n",
       "       'Германия - США - Швеция - Франция',\n",
       "       'Великобритания-Германия-Канада-ЮАР', ' СССР   ', 'СССР     ',\n",
       "       'Ирландия, Канада', 'Великобритания, Канада', 'Бельгия - США',\n",
       "       'Россия-Украина', 'Германия - США - Великобритания - Израиль',\n",
       "       'Канада - Германия', 'США- Ю.Корея', 'Индия - Мексика',\n",
       "       'Испания - Аргентина - Индия - США',\n",
       "       'Норвегия - Исландия - США - Великобритания ',\n",
       "       'Турция - Германя - Франция', 'Германия - Великобритания',\n",
       "       'Мексика - Испания', 'Великобритания - США - Германия - Бельгия',\n",
       "       'США - Чехия - Франция', 'Россия - Италия', 'Франция-Россия',\n",
       "       'Норвегия - Дания - Швеция', 'Франция - Швейцария - Германия',\n",
       "       'Грузия - Украина', 'Россия - Эстония - Финляндия - Беларусь',\n",
       "       'США - Франция - ЮАР', 'Великобритания - США - Швейцария',\n",
       "       'Мексика - Нидерланды - Германия - Франция',\n",
       "       'США - Испания - Франция', 'США - Великобритания - КНР',\n",
       "       'США-Франция-Канада',\n",
       "       'Япония, Великобритания, Австрия, Германия, Ю.Корея',\n",
       "       'Великобритания - Ирландия - США', 'Бельгия - Италия - Франция ',\n",
       "       'Швейцария-Германия-ЮАР', 'Великобритания - США - Германия',\n",
       "       'Германия - Исландия', 'Испания - США', 'СССР    ', 'Хорватия',\n",
       "       'Финляндия - Исландия - Швеция', 'США - Великобритания - Испания',\n",
       "       'Ирландия-Великобритания', 'Аргентина - Испания',\n",
       "       'Австрия - Германия', ' СССР', 'Украина - Нидерланды',\n",
       "       'Венгрия - Германия - Швеция',\n",
       "       'Германия - Франция -  Польша - Турция - Канада - Италия - Россия ',\n",
       "       'СССР, Афганистан', 'СССР, Монголия', 'Россия, Грузия, Испания',\n",
       "       'Аргентина - Бразилия', 'Испания - Великобритания - Франция',\n",
       "       'Дания - Норвегия - Великобритания',\n",
       "       'Бельгия - Франция - Люксембург',\n",
       "       'Италия - Франция - Швейцария - Великобритания', 'Россия, Италия',\n",
       "       'СССР, Албания', 'Россия, Украина, Республика Беларусь, Литва',\n",
       "       'Финляндия - Великобритания - Германия', 'Россия, Украина, Польша',\n",
       "       'Франция - Италия - Бельгия - КНР',\n",
       "       'Германия - Бельгия - Люксембург - Ирландия', 'КНР - Сингапур',\n",
       "       'Франция - Бельгия - Великобритания - США - Нидерланды - Канада',\n",
       "       'США - Россия - Польша - Германия - Пуэрто Рико',\n",
       "       'Франция - Бельгия - Канада', 'США ', 'Мексика - США',\n",
       "       'США - Гонконг - КНР ', 'Греция - Россия',\n",
       "       'Ирландия - Дания - Бельгия - Люксембург - Франция',\n",
       "       'Эстония - Россия', 'Австралия - Великобритания - Бельгия - Индия',\n",
       "       'Швеция - Германия - Франция - Норвегия',\n",
       "       'Нидерланды - Бельгия - Германия - Ирландия',\n",
       "       'Нидерланды - Великобритания - Бельгия',\n",
       "       'США - Колумбия - Испания', 'Франция-Испания-Бельгия-Панама',\n",
       "       'США-Великобритания-Чехия-Румыния',\n",
       "       'Аргентина - Уругвай - Россия - Германия - Франция - Нидерланды',\n",
       "       'Швеция - Франция - Норвегия - Дания',\n",
       "       'Италия-Франция-Великобритания', 'Великобритания, Франция',\n",
       "       'Австралия, США', 'Венесуэла',\n",
       "       'Великобритания - США - Австралия - Ирландия - Германия - Куба - Канада',\n",
       "       'Южная Корея - КНР',\n",
       "       'Аргентина - Мексика - Бразилия - Франция - США', 'Швеция - США',\n",
       "       'Франция - Германия - Турция - Катар', 'Франция-Китай',\n",
       "       'Россия, Германия, Великобритания',\n",
       "       'Великобритания - Италия - Испания', 'Япония - КНР - Южная Корея',\n",
       "       'Россия, Германия', 'Россия-Ирландия',\n",
       "       'Македония - Франция - Великобритания',\n",
       "       'Франция - Бразилия - Италия', 'Россия-США', 'Армения-Россия',\n",
       "       'Россия, Румыния', 'Франция -  Бельгия', 'Грузия-Франция',\n",
       "       'ЮАР - США', 'Великобритания-США-Франция',\n",
       "       'Великобритания - США - Германия - Канада - Австралия',\n",
       "       'США-Ирландия', 'Германия - Люксембург - Франция',\n",
       "       'Россия-Франция', 'Венгрия', 'Франция - США - Норвегия - Дания',\n",
       "       'Германия - Австрия - Ирландия', 'США - Финляндия',\n",
       "       'Италия-Великобритания', 'США - Великобритания - Болгария',\n",
       "       'Великобритания - Люксембург', 'Италия - Россия', 'Индия - США',\n",
       "       'Дания - Австрия - Ирландия - Финляндия - Норвегия - Швеция - Нидерланды',\n",
       "       'США-КНР', 'Грузия', 'Австралия - Ирландия',\n",
       "       'Великобритания - Канада', 'Франция - Чехия - Бельгия',\n",
       "       'Великобритания - Франция - Германия - США',\n",
       "       'Ирландия - Великобритания - Франция - США - Германия - Нидерланды',\n",
       "       'США - Канада - Япония - КНР', 'Италия-Франция',\n",
       "       'США - Великобритания - Исландия', 'Великобритания-Франция',\n",
       "       'Франция - Германия - Нидерланды', 'Иран ', 'Турция - США',\n",
       "       'Аргентина - Франция - Испания', 'СССР, Россия',\n",
       "       'Великобритания - Франция - Италия - Индия - Дания - КНР - Бангладеш - Камбоджа - Гаити - Уганда',\n",
       "       'Италия - Франция - Швейцария',\n",
       "       'Ирландия - Великобритания - Канада', 'Перу', 'Испания-Канада',\n",
       "       'Китай-Гонконг', 'США - Германия - КНР',\n",
       "       'Великобритания - Новая Зеландия',\n",
       "       'США - Великобритания - Германия - Бельгия - Дания',\n",
       "       'США - Франция - Канада - Германия - Австралия - Индия', nan,\n",
       "       'СССР, Румыния, Франция', 'Австралия-Ирландия', 'США - Китай',\n",
       "       'Россия - Республика Кипр',\n",
       "       'Великобритания - Франция - Австрия - Швеция',\n",
       "       'Россия, Таджикистан', 'Нидерланды - Бельгия - Болгария',\n",
       "       'Великобритания - Канада - США', 'Франция - Бельгия - Испания',\n",
       "       'Китай-Гонконг-США', 'Франция - Великобритания', 'США - Вьетнам',\n",
       "       'США - Германия - Франция', 'Германия - Франция - Бельгия',\n",
       "       'США - Италия',\n",
       "       'Германия - Дания - Испания - Швеция - Канада - Эстония - Франция',\n",
       "       'Княжество Андорра - Украина', 'Германия - Люксембург - Бельгия',\n",
       "       'Республика Кипр', 'Великобритания - Россия - Украина - США',\n",
       "       'Германия - Бельгия - Люксембург - Норвегия',\n",
       "       'США - Австралия - Новая Зеландия - Великобритания',\n",
       "       'Испания-Колумбия', 'Великобритания - Чехия - Франция',\n",
       "       'Россия, Украина', 'Исландия', 'Россия, Республика Кипр',\n",
       "       'Великобритания - Франция - Венгрия',\n",
       "       'Россия, Франция, Германия, Бельгия', 'Франция - Македония',\n",
       "       'Нидерланды - Франция - Германия - Бельгия - Швеция - Великобритания',\n",
       "       'Испания - США - Великобритания - Канада', 'Германия - Австрия',\n",
       "       'Франция - Испания - Дания - Венгрия - Швейцария', 'Франция-КНР',\n",
       "       'Мексика - Тайвань - США', 'Италия - США',\n",
       "       'Финляндия - Швеция - Германия', 'Канада- Испания',\n",
       "       'Франция - Бельгия - Чехия', 'Франция-Бельгия-Канада',\n",
       "       'Франция - Германия - США', 'США - Дания', 'Индия - КНР',\n",
       "       'Чехия-Великобритания-США', 'США-ФРГ-Россия',\n",
       "       'Ирландия-Нидерланды-Франция-США-Великобритания',\n",
       "       'Сербия - Великобритания - США',\n",
       "       'США - Великобритания - Франция - Гонконг', 'Швейцария - Франция',\n",
       "       'Швейцария - Великобритания', 'ОАЭ - США',\n",
       "       'США - Франция - Германия - Канада - Австралия ',\n",
       "       'Германия - Австралия', 'Иран, Франция', 'Австралия - Германия',\n",
       "       'Киргизия', 'США - Великобритания - Новая Зеландия',\n",
       "       'США-Колумбия', 'США-Франция-Ирландия',\n",
       "       'Великобритания - Франция - Бельгия',\n",
       "       'США - Великобритания - Япония', 'США - Франция - Германия',\n",
       "       'Республика Казахстан', 'Польша - Ирландия', 'КНР - США',\n",
       "       'США - Бельгия - Великобритания', 'Франция - Дания - США',\n",
       "       'США - Гонконг', 'Бразилия - К;анада', 'Франция-Германия',\n",
       "       'США - Колумбия', 'США - Ирландия - Великобритания - Франция',\n",
       "       'Чехия', 'Великобритания - США - Канада',\n",
       "       'Канада - США - Нидерланды - Великобритания - Аргентина',\n",
       "       'Великобритания - Дания', 'Франция - Бельгия - Япония',\n",
       "       'Россия,  Испания', 'Франция -Бельгия',\n",
       "       'США - Канада - Германия - Франция', 'США-Канада-Франция',\n",
       "       'Россия - Германия', 'Россия-Италия', 'Китай - Гонконг',\n",
       "       'Германия-Австрия-Франция-Италия', 'США-Япония',\n",
       "       'США - Германия - Канада', 'Испания-Мексика',\n",
       "       'США - Япония - Канада - Великобритания - Германия - Франция',\n",
       "       'США -Великобритания - Австралия', 'Россия-Украина-Германия',\n",
       "       'Израиль - Франция - Великобритания - Германия', 'Корея',\n",
       "       'Россия - Болгария', 'США-Индия',\n",
       "       'Германия-Канада-Франция-Бельгия', 'Германия-Кения',\n",
       "       'Франция - Монако', 'Франция-Испания-Швейцария',\n",
       "       'Австрия-Франция-Германия', 'Румыния',\n",
       "       'США-Великобритания-Франция', 'Канада-Великобритания',\n",
       "       'Канада-Бразилия-Япония', 'Германия - Дания - Норвегия',\n",
       "       'Дания - Германия', 'СССР - Италия',\n",
       "       'СССР - ГДР - Польша - Италия',\n",
       "       'США - Испания - Франция - Великобритания', 'Китай',\n",
       "       'Мексика-Аргентина',\n",
       "       'Германия - Великобритания - Италия - Испания',\n",
       "       'Франция-Германия-Великобритания', 'Россия - Германия - Швейцария',\n",
       "       'Голландия', 'Швейцария-Франция', 'Россия-Белоруссия',\n",
       "       'Франция - Испания - Тайвань', 'США-Южная Корея-Новая Зеландия',\n",
       "       'Великобритания-Венгрия', 'Россия-Германия',\n",
       "       'Великобритания-Франция-Германия', 'Франция-Германия-Италия',\n",
       "       'Швеция-Финляндия-Франция-Норвегия', 'Франция-Италия',\n",
       "       'Германия-Израиль', 'Швеция - Германия - Дания - Норвегия',\n",
       "       'США-Бельгия', 'Франция-Гонконг-Ирландия', 'Эстония',\n",
       "       'Литва-Россия-Украина', 'Германия - Италия - Франция',\n",
       "       'Великобритания - Австрия - Германия', 'Бельгия - Франция',\n",
       "       'Россия-Казахстан', 'Испания - Мальта',\n",
       "       'Франция-Россия-Румыния-Италия-Бельгия', 'Россия - Польша',\n",
       "       'Испания - Мексика', 'США-Аргентина', 'Великобритания ',\n",
       "       'Израиль-США-Франция', 'США - Новая Зеландия - Япония',\n",
       "       'Франция - Чехия - Великобритания', 'Россия-Польша',\n",
       "       'Германия-Франция-Великобритания', 'США-Германия-Канада',\n",
       "       'США-Гонконг-Китай', 'США - Великобритания - Германия',\n",
       "       'США-Канада-Австралия', 'Япония-США-Франция',\n",
       "       'США - Хорватия - Босния-Герцеговина',\n",
       "       'Великобритания - Чехия - Франция - Италия',\n",
       "       'США - Германия - Нидерланды', 'Германия - Франция - Канада',\n",
       "       'Франция-Грузия-Германия-Россия-Украина-Бельгия',\n",
       "       'Великобритания - Франция - Италия', 'Россия - США',\n",
       "       'Франция - Италия - Иран', 'Россия - Азербайджан', 'Греция',\n",
       "       'Дания - США', 'США-Великобритания-Новая Зеландия',\n",
       "       'США-Германия-Австралия', 'США-Канада-Италия',\n",
       "       'США - Япония - Германия', 'Австралия-США',\n",
       "       'Франция - Великобритания - Багамские острова - США',\n",
       "       'Швейцария - Люксембург', 'Швейцария - Австрия',\n",
       "       'Германия - Швейцария', 'Дания-Швеция-Франция-Германия', 'Польша',\n",
       "       'Швейцария-Австрия', 'Бразилия - Канада - США',\n",
       "       'Нидерланды - Россия', 'Португалия', 'Франция-Аргентина',\n",
       "       'Швеция-Франция', 'Франция-Украина', 'Германия-Украина-Нидерланды',\n",
       "       'Италия-Швейцария', 'США-Германия-Великобритания',\n",
       "       'Латвия - Россия', 'Германия-Франция-Великобритания-США',\n",
       "       'Канада - Италия', 'США - Объединенные Арабские Эмираты',\n",
       "       'США-Венгрия', 'Малайзия', 'Россия - Германия - Украина',\n",
       "       'США - Австралия - Мексика', 'Литва - Венгрия', 'Германия - Китай',\n",
       "       'Казахстан', 'Республика Корея',\n",
       "       'США - Германия - Франция - Великобритания - Канада ',\n",
       "       'Бельгия - Германия - Люксембург - Франция', 'Франция - Греция',\n",
       "       'Италия - Канада', 'США - Великобритания - Франция',\n",
       "       'Германия - США - Великобритания - Ирландия',\n",
       "       'Великобритания - Франция - Германия',\n",
       "       'Германия - Нидерланды - ЮАР',\n",
       "       'США-Япония-Германия-Великобритания-Нидерланды',\n",
       "       'США-Япония-Германия-Великобритания',\n",
       "       'Германия - Франция - Польша',\n",
       "       'Таиланд-Великобритания-Франция-Германия-Испания-Нидерланды',\n",
       "       'Германия-Италия-Швейцария',\n",
       "       'Дания - Швеция - Великобритания - Франция - Германия - Нидерланды - Норвегия - Финляндия',\n",
       "       'Франция - Великобритания - Нидерланды - Люксембург',\n",
       "       'Нидерланды-Великобритания-Франция-Италия-Япония',\n",
       "       'Финляндия-Дания-Германия-Ирландия', 'Испания-Аргентина',\n",
       "       'Великобритания - Нидерланды - Франция - США', 'Канада - Мексика',\n",
       "       'США, Франция', 'Канада-Южная Корея-США',\n",
       "       'Великобритания - Франция - Бельгия - США', 'КНР - Канада - США',\n",
       "       'Италия - Франция - Германия',\n",
       "       'Швеция - Германия - Франция - Дания', 'Франция - США - Бельгия',\n",
       "       'Украина - Германия - Латвия - Эстония', 'Австрия - Люксембург',\n",
       "       'Великобритания - КНР', 'Франция - Дания',\n",
       "       'Швеция - Дания - Финляндия',\n",
       "       'Сингапур - Великобритания - Индонезия - Канада - США',\n",
       "       'США - Германия - Япония', 'Таиланд - США', 'Франция - Нидерланды',\n",
       "       'Великобритания - Румыния', 'США - Мальта',\n",
       "       'Великобритания - Германия - Нидерланды - Дания',\n",
       "       'Франция - Германия - Литва - Нидерланды - Россия',\n",
       "       'США - ЮАР - Гонконг', 'Австралия - Колумбия',\n",
       "       'Великобритания - Польша', 'США - Великобритания - Швеция',\n",
       "       'Франция - Швеция - Дания - Норвегия', 'СССР, ГДР',\n",
       "       'Болгария - США', 'СССР, ФРГ', 'Бельгия - Нидерланды - Франция',\n",
       "       'Финляндия - Германия', 'Болгария', 'Франция - Люксембург',\n",
       "       'Франция - Германия - Австрия', 'Норвегия - США',\n",
       "       'Германия-Швеция', 'Франция - Германия - Италия',\n",
       "       'Франция-Германия-Австрия', 'Канада-США', 'КНР-США',\n",
       "       'Великобритания - Ирландия - США ',\n",
       "       'Дания - Латвия - Россия - США', 'Финляндия - Польша',\n",
       "       'Германия - Бельгия', 'Германия - США - Франция - Испания',\n",
       "       'Бельгия-Германия-Канада-Франция-США-Великобритания',\n",
       "       'Нидерланды - Бельгия - Люксембург', 'Канада-Германия',\n",
       "       'Люксембург - Бельгия - Франция', 'США-Великобритания-Австралия',\n",
       "       'Великобритания, Новая Зеландия', 'Бельгия, Великобритания, США',\n",
       "       'Великобритания, Австралия', 'Исландия, Бельгия',\n",
       "       'Франция, Бельгия', 'Великобритания, США', 'Киргизия-Россия',\n",
       "       'Германия, США', 'Великобритания, США, Испания',\n",
       "       'Италия - Швейцария - Германия', 'Россия, Армения',\n",
       "       'Франция, Германия', 'Китай, Канада, США', 'КНР, США',\n",
       "       'США, Великобритания, Люксембург',\n",
       "       'Испания, Ирландия, Бельгия, Франция',\n",
       "       'Великобритания - Гонконг - Венгрия - США - Ирландия',\n",
       "       'США - Пуэрто Рико', 'Аргентина - Испания - Уругвай',\n",
       "       'Израиль - Германия - Франция - Швейцария',\n",
       "       'Великобритания - Мексика - США', 'Испания - Болгария - США',\n",
       "       'Россия-Словакия-Чехия',\n",
       "       'Швейцария - КНР - США - Россия - Республика Корея - Великобритания',\n",
       "       'Россия, Нидерланды, Финляндия',\n",
       "       'Испания - Бельгия - Франция - Португалия - Великобритания',\n",
       "       'Бразилия - Португалия - Франция', 'Швеция - Норвегия',\n",
       "       'Франция - Польша - Бельгия', 'CША', 'Китай, США',\n",
       "       'Германия - Австрия - Франция', 'Чехия - Словакия - Хорватия',\n",
       "       'Россия, Латвия, Чешская Республика',\n",
       "       'Франция - Великобритания - Камбоджа - США - КНР',\n",
       "       'Чехия - Испания - США', 'Германия - Люксембург - Дания',\n",
       "       'Великобритания - Испания - Германия', 'Дания - Исландия',\n",
       "       'Германия, Франция, Великобритания',\n",
       "       'Дания, Швеция, Великобритания, Франция, Германия, Норвегия, Финляндия, Нидерланды, Италия',\n",
       "       'Польша - Франция - Великобритания',\n",
       "       'Дания, Норвегия, Венгрия, Чехия',\n",
       "       'Дания - Франция - Германия - Швеция',\n",
       "       'Великобритания, Швеция, США',\n",
       "       'США - Великобритания - Германия - - Швеция - Канада',\n",
       "       'Италия, Франция', 'Республика Беларусь, Германия, США, Россия',\n",
       "       'Италия-Швейцария-Франция-Германия ',\n",
       "       'Россия - Франция - Великобритания - Латвия', 'Россия-Беларусь',\n",
       "       'Франция - Испания - Румыния - США - Бельгия', 'Италия-США',\n",
       "       'Россия, Австрия', 'Ирландия - Великобритания - США',\n",
       "       'Швейцария, Великобритания, Франция, США, Ирландия',\n",
       "       'Мексика, Франция, Германия, Дания, Швеция', 'Нидерланды, Бельгия',\n",
       "       'Испания, Франция, Италия', 'Великобритания - Япония - США',\n",
       "       'Дания, Канада, Норвегия, Австралия, США', 'Аргентина, Испания',\n",
       "       'Россия, Германия, Казахстан, Польша, Китай',\n",
       "       'Португалия, Франция, Польша, США', 'США - Канада - Аргентина',\n",
       "       'Ливан-США', 'Япония - США', 'США, Гонконг ',\n",
       "       'Франция - Россия - Швейцария - Румыния - Венгрия',\n",
       "       'Аргентина-Испания', 'Россия, Сербия', 'США - Болгария - Мексика',\n",
       "       'США - Великобритания - Швейцария - Франция',\n",
       "       'Таиланд - КНР - США', 'Ирландия - США',\n",
       "       'Германия - Франция - Великобритания - Польша - США',\n",
       "       'Великобритания-Франция-Италия', 'США - Австралия - Индия',\n",
       "       'Франция - КНР', 'США - Бразилия - Великобритания - Канада',\n",
       "       'Германия, Бельгия', 'Австралия, Канада',\n",
       "       'США, Великобритания, Франция', 'Ирландия, Великобритания',\n",
       "       'Франция - Израиль - Германия', 'Швеция, Франция, Великобритания',\n",
       "       'Бельгия - Люксембург', 'Германия - Бельгия - Великобритания',\n",
       "       'Испания, Франция, Великобритания, Дания, Бельгия, Германия',\n",
       "       'Румыния, ЮАР, Иран, Франция, Канада, Великобритания',\n",
       "       'Германия, Франция', 'США, Япония',\n",
       "       'США, Великобритания, Ирландия, Люксембург',\n",
       "       'США, Франция, Япония', 'Япония, США', 'Республика Кипр - Россия',\n",
       "       'Дания - Франция - Италия - Бельгия - Нидерланды',\n",
       "       'Россия - Грузия', 'Италия, Германия', 'Норвегия, Швеция, Дания',\n",
       "       'КНР, Индия, Гонконг, США', 'Израиль, Украина',\n",
       "       'США - КНР - Индия - Ю.Корея', 'США - Швеция', 'Франция, Канада',\n",
       "       'Россия-Китай', 'Канада, Великобритания', 'США, Германия',\n",
       "       'Канада, США, Каймановы острова',\n",
       "       'Бразилия, Уругвай, Дания, Норвегия, Чили, Швеция',\n",
       "       'Пуэрто-Рико, Великобритания, США',\n",
       "       'Уругвай - Аргентина - Испания', 'Великобритания - Россия - КНР',\n",
       "       'Франция, Новая Зеландия', 'Франция, Люксембург, Бельгия',\n",
       "       'Канада, США, Норвегия', 'Испания - Германия - Нидерланды',\n",
       "       'Бразилия - США - КНР ', 'Великобритания, Германия, Дания, США',\n",
       "       '2019', 'Италия - Фрация - Бразилия - Германия',\n",
       "       'Норвегия - Швеция - Россия', 'Великобритания, Япония, США',\n",
       "       'Сша, Канада', 'Бельгия, Канада',\n",
       "       'Великобритания - Австралия - США', 'КНР - США ', 'Колумбия - США',\n",
       "       'Великобритания, Франция, Бельгия', 'Норвегия - Нидерланды',\n",
       "       'Великобритания, Канада, США', 'Япония, Великобритания',\n",
       "       'Италия - Бельгия - Франция', 'США, Украина',\n",
       "       'Республика Кипр, Россия', 'Франция, Норвегия',\n",
       "       'Великобритания, Южная Корея, Канада, США, Индия, Китай, Япония',\n",
       "       'Канада - Норвегия', 'Республика Кипр-Россия', 'Германия, Россия',\n",
       "       'Австрия, Великобритания, Германия', 'Франция - Сенегал - Бельгия',\n",
       "       'Франция, Бельгия, Люксембург', 'Финляндия, Латвия', 'Пакистан',\n",
       "       'Германия, Франция, США', 'Германия - Великобритания - США',\n",
       "       'КНР - Франция', 'Дания, Норвегия, Швеция, Исландия',\n",
       "       'Республика Кипр, США, Россия', 'Новая Зеландия - КНР',\n",
       "       'Дания - Канада - Швеция - Франция - Германия - Великобритания - США'],\n",
       "      dtype=object)"
      ]
     },
     "execution_count": 36,
     "metadata": {},
     "output_type": "execute_result"
    }
   ],
   "source": [
    "df_comm['production_country'].unique()"
   ]
  },
  {
   "cell_type": "markdown",
   "id": "ea85be4d",
   "metadata": {},
   "source": [
    "Учитывая большое количество фильмов совместного производства нескольких разных стран, страну производства затруднительно анализировать в общем массиве. При условии отдельно поставленной задачи, которая бы требовала детального анализа стран производства, можно было бы выделить первую страну из списка, аналогично выделению главного режессёра."
   ]
  },
  {
   "cell_type": "code",
   "execution_count": 37,
   "id": "716e97c4",
   "metadata": {},
   "outputs": [
    {
     "name": "stdout",
     "output_type": "stream",
     "text": [
      "<class 'pandas.core.frame.DataFrame'>\n",
      "Int64Index: 6490 entries, 0 to 7485\n",
      "Data columns (total 16 columns):\n",
      " #   Column                 Non-Null Count  Dtype  \n",
      "---  ------                 --------------  -----  \n",
      " 0   title                  6490 non-null   object \n",
      " 1   puNumber               6490 non-null   object \n",
      " 2   show_start_date        6490 non-null   object \n",
      " 3   type                   6490 non-null   object \n",
      " 4   film_studio            6485 non-null   object \n",
      " 5   production_country     6488 non-null   object \n",
      " 6   director               6487 non-null   object \n",
      " 7   producer               6012 non-null   object \n",
      " 8   age_restriction        6490 non-null   object \n",
      " 9   refundable_support     298 non-null    float64\n",
      " 10  nonrefundable_support  298 non-null    float64\n",
      " 11  budget                 298 non-null    float64\n",
      " 12  financing_source       298 non-null    object \n",
      " 13  ratings                6490 non-null   float64\n",
      " 14  genres                 6484 non-null   object \n",
      " 15  box_office             2899 non-null   float64\n",
      "dtypes: float64(5), object(11)\n",
      "memory usage: 862.0+ KB\n"
     ]
    }
   ],
   "source": [
    "df_comm.info()"
   ]
  },
  {
   "cell_type": "code",
   "execution_count": 38,
   "id": "dfc2a06e",
   "metadata": {},
   "outputs": [],
   "source": [
    "df_comm['show_start_date'] = pd.to_datetime(df_comm['show_start_date'], format='%Y-%m-%dT%H:%M:%S')\n",
    "df_comm['show_start_date'] = df_comm['show_start_date'].dt.round('1d') #изменение типа данных и округление до 1 дня"
   ]
  },
  {
   "cell_type": "code",
   "execution_count": 39,
   "id": "d8f4b762",
   "metadata": {},
   "outputs": [],
   "source": [
    "df_comm['rent_year'] = df_comm['show_start_date'].dt.year \n",
    "# добавление столбца с годом начала проката, допуская, что это был год премьеры"
   ]
  },
  {
   "cell_type": "code",
   "execution_count": 40,
   "id": "0b86a057",
   "metadata": {},
   "outputs": [
    {
     "data": {
      "text/html": [
       "<div>\n",
       "<style scoped>\n",
       "    .dataframe tbody tr th:only-of-type {\n",
       "        vertical-align: middle;\n",
       "    }\n",
       "\n",
       "    .dataframe tbody tr th {\n",
       "        vertical-align: top;\n",
       "    }\n",
       "\n",
       "    .dataframe thead th {\n",
       "        text-align: right;\n",
       "    }\n",
       "</style>\n",
       "<table border=\"1\" class=\"dataframe\">\n",
       "  <thead>\n",
       "    <tr style=\"text-align: right;\">\n",
       "      <th></th>\n",
       "      <th>title</th>\n",
       "      <th>puNumber</th>\n",
       "      <th>show_start_date</th>\n",
       "      <th>type</th>\n",
       "      <th>film_studio</th>\n",
       "      <th>production_country</th>\n",
       "      <th>director</th>\n",
       "      <th>producer</th>\n",
       "      <th>age_restriction</th>\n",
       "      <th>refundable_support</th>\n",
       "      <th>nonrefundable_support</th>\n",
       "      <th>budget</th>\n",
       "      <th>financing_source</th>\n",
       "      <th>ratings</th>\n",
       "      <th>genres</th>\n",
       "      <th>box_office</th>\n",
       "      <th>rent_year</th>\n",
       "    </tr>\n",
       "  </thead>\n",
       "  <tbody>\n",
       "    <tr>\n",
       "      <th>0</th>\n",
       "      <td>Открытый простор</td>\n",
       "      <td>221048915</td>\n",
       "      <td>2015-11-27 00:00:00+00:00</td>\n",
       "      <td>Художественный</td>\n",
       "      <td>Тачстоун Пикчерз, Кобальт Пикчерз, Бикон Пикче...</td>\n",
       "      <td>США</td>\n",
       "      <td>Кевин Костнер</td>\n",
       "      <td>Дэвид Валдес, Кевин Костнер, Джейк Эбертс</td>\n",
       "      <td>«18+» - запрещено для детей</td>\n",
       "      <td>NaN</td>\n",
       "      <td>NaN</td>\n",
       "      <td>NaN</td>\n",
       "      <td>NaN</td>\n",
       "      <td>7.2</td>\n",
       "      <td>боевик,драма,мелодрама</td>\n",
       "      <td>NaN</td>\n",
       "      <td>2015</td>\n",
       "    </tr>\n",
       "    <tr>\n",
       "      <th>1</th>\n",
       "      <td>Особо важное задание</td>\n",
       "      <td>111013716</td>\n",
       "      <td>2016-09-14 00:00:00+00:00</td>\n",
       "      <td>Художественный</td>\n",
       "      <td>Киностудия \"Мосфильм\"</td>\n",
       "      <td>СССР</td>\n",
       "      <td>Е.Матвеев</td>\n",
       "      <td>NaN</td>\n",
       "      <td>«6+» - для детей старше 6 лет</td>\n",
       "      <td>NaN</td>\n",
       "      <td>NaN</td>\n",
       "      <td>NaN</td>\n",
       "      <td>NaN</td>\n",
       "      <td>6.6</td>\n",
       "      <td>драма,военный</td>\n",
       "      <td>NaN</td>\n",
       "      <td>2016</td>\n",
       "    </tr>\n",
       "    <tr>\n",
       "      <th>2</th>\n",
       "      <td>Особо опасен</td>\n",
       "      <td>221038416</td>\n",
       "      <td>2016-10-10 00:00:00+00:00</td>\n",
       "      <td>Художественный</td>\n",
       "      <td>Юниверсал Пикчерз, Кикстарт Продакшнз, Марк Пл...</td>\n",
       "      <td>США</td>\n",
       "      <td>Тимур Бекмамбетов</td>\n",
       "      <td>Джим Лемли, Джейсон Нетер, Марк Е.Платт, Яйн Смит</td>\n",
       "      <td>«18+» - запрещено для детей</td>\n",
       "      <td>NaN</td>\n",
       "      <td>NaN</td>\n",
       "      <td>NaN</td>\n",
       "      <td>NaN</td>\n",
       "      <td>6.8</td>\n",
       "      <td>фантастика,боевик,триллер</td>\n",
       "      <td>NaN</td>\n",
       "      <td>2016</td>\n",
       "    </tr>\n",
       "    <tr>\n",
       "      <th>3</th>\n",
       "      <td>Особо опасен</td>\n",
       "      <td>221026916</td>\n",
       "      <td>2016-06-10 00:00:00+00:00</td>\n",
       "      <td>Художественный</td>\n",
       "      <td>Юниверсал Пикчерз, Кикстарт Продакшнз, Марк Пл...</td>\n",
       "      <td>США</td>\n",
       "      <td>Тимур Бекмамбетов</td>\n",
       "      <td>Джим Лемли, Джейсон Нетер, Марк Е.Платт, Яйн Смит</td>\n",
       "      <td>«18+» - запрещено для детей</td>\n",
       "      <td>NaN</td>\n",
       "      <td>NaN</td>\n",
       "      <td>NaN</td>\n",
       "      <td>NaN</td>\n",
       "      <td>6.8</td>\n",
       "      <td>фантастика,боевик,триллер</td>\n",
       "      <td>NaN</td>\n",
       "      <td>2016</td>\n",
       "    </tr>\n",
       "    <tr>\n",
       "      <th>4</th>\n",
       "      <td>Особо опасен</td>\n",
       "      <td>221030815</td>\n",
       "      <td>2015-07-30 00:00:00+00:00</td>\n",
       "      <td>Художественный</td>\n",
       "      <td>Юниверсал Пикчерз, Кикстарт Продакшнз, Марк Пл...</td>\n",
       "      <td>США</td>\n",
       "      <td>Тимур Бекмамбетов</td>\n",
       "      <td>Джим Лемли, Джейсон Нетер, Марк Е.Платт, Яйн Смит</td>\n",
       "      <td>«18+» - запрещено для детей</td>\n",
       "      <td>NaN</td>\n",
       "      <td>NaN</td>\n",
       "      <td>NaN</td>\n",
       "      <td>NaN</td>\n",
       "      <td>6.8</td>\n",
       "      <td>фантастика,боевик,триллер</td>\n",
       "      <td>NaN</td>\n",
       "      <td>2015</td>\n",
       "    </tr>\n",
       "  </tbody>\n",
       "</table>\n",
       "</div>"
      ],
      "text/plain": [
       "                  title   puNumber           show_start_date            type  \\\n",
       "0      Открытый простор  221048915 2015-11-27 00:00:00+00:00  Художественный   \n",
       "1  Особо важное задание  111013716 2016-09-14 00:00:00+00:00  Художественный   \n",
       "2          Особо опасен  221038416 2016-10-10 00:00:00+00:00  Художественный   \n",
       "3          Особо опасен  221026916 2016-06-10 00:00:00+00:00  Художественный   \n",
       "4          Особо опасен  221030815 2015-07-30 00:00:00+00:00  Художественный   \n",
       "\n",
       "                                         film_studio production_country  \\\n",
       "0  Тачстоун Пикчерз, Кобальт Пикчерз, Бикон Пикче...                США   \n",
       "1                              Киностудия \"Мосфильм\"               СССР   \n",
       "2  Юниверсал Пикчерз, Кикстарт Продакшнз, Марк Пл...                США   \n",
       "3  Юниверсал Пикчерз, Кикстарт Продакшнз, Марк Пл...                США   \n",
       "4  Юниверсал Пикчерз, Кикстарт Продакшнз, Марк Пл...                США   \n",
       "\n",
       "            director                                           producer  \\\n",
       "0      Кевин Костнер          Дэвид Валдес, Кевин Костнер, Джейк Эбертс   \n",
       "1          Е.Матвеев                                                NaN   \n",
       "2  Тимур Бекмамбетов  Джим Лемли, Джейсон Нетер, Марк Е.Платт, Яйн Смит   \n",
       "3  Тимур Бекмамбетов  Джим Лемли, Джейсон Нетер, Марк Е.Платт, Яйн Смит   \n",
       "4  Тимур Бекмамбетов  Джим Лемли, Джейсон Нетер, Марк Е.Платт, Яйн Смит   \n",
       "\n",
       "                 age_restriction  refundable_support  nonrefundable_support  \\\n",
       "0    «18+» - запрещено для детей                 NaN                    NaN   \n",
       "1  «6+» - для детей старше 6 лет                 NaN                    NaN   \n",
       "2    «18+» - запрещено для детей                 NaN                    NaN   \n",
       "3    «18+» - запрещено для детей                 NaN                    NaN   \n",
       "4    «18+» - запрещено для детей                 NaN                    NaN   \n",
       "\n",
       "   budget financing_source  ratings                     genres  box_office  \\\n",
       "0     NaN              NaN      7.2     боевик,драма,мелодрама         NaN   \n",
       "1     NaN              NaN      6.6              драма,военный         NaN   \n",
       "2     NaN              NaN      6.8  фантастика,боевик,триллер         NaN   \n",
       "3     NaN              NaN      6.8  фантастика,боевик,триллер         NaN   \n",
       "4     NaN              NaN      6.8  фантастика,боевик,триллер         NaN   \n",
       "\n",
       "   rent_year  \n",
       "0       2015  \n",
       "1       2016  \n",
       "2       2016  \n",
       "3       2016  \n",
       "4       2015  "
      ]
     },
     "execution_count": 40,
     "metadata": {},
     "output_type": "execute_result"
    }
   ],
   "source": [
    "df_comm.head()"
   ]
  },
  {
   "cell_type": "code",
   "execution_count": 41,
   "id": "7f3fb4e7",
   "metadata": {},
   "outputs": [],
   "source": [
    "df_comm['director'] = df_comm['director'].fillna(value='unknow') #заполняем пропуски"
   ]
  },
  {
   "cell_type": "code",
   "execution_count": 42,
   "id": "78ebe873",
   "metadata": {},
   "outputs": [],
   "source": [
    "def get_first_value(director, sep = ','):\n",
    "    value_list = director.split(sep=sep)\n",
    "    return value_list[0]\n",
    "df_comm['pr_director'] = df_comm['director'].apply(get_first_value)\n",
    "# создаём столбец с именем главного режессёра, строковое значение в столбце 'director' разделяем и берём первое значение"
   ]
  },
  {
   "cell_type": "code",
   "execution_count": 43,
   "id": "a92eb7de",
   "metadata": {},
   "outputs": [],
   "source": [
    "df_comm['genres'] = df_comm['genres'].fillna(value='unknow') #заполняем пропуски"
   ]
  },
  {
   "cell_type": "code",
   "execution_count": 44,
   "id": "ddfd5b61",
   "metadata": {},
   "outputs": [],
   "source": [
    "def get_first_value2(genres, sep = ','):\n",
    "    value_list = genres.split(sep=sep)\n",
    "    return value_list[0]\n",
    "df_comm['pr_genre'] = df_comm['genres'].apply(get_first_value2)\n",
    "# создаём столбец с основным жанром, строковое значение в столбце 'genres' разделяем и берём первое значение"
   ]
  },
  {
   "cell_type": "code",
   "execution_count": 45,
   "id": "507d4f0e",
   "metadata": {},
   "outputs": [],
   "source": [
    "df_comm['gov_part'] = (df_comm['refundable_support'] + df_comm['nonrefundable_support']) / df_comm['budget']\n",
    "# создаём столбец с данными о доле бюджетного финансирования в бюджете фильма"
   ]
  },
  {
   "cell_type": "code",
   "execution_count": 46,
   "id": "86256a07",
   "metadata": {},
   "outputs": [
    {
     "data": {
      "text/html": [
       "<div>\n",
       "<style scoped>\n",
       "    .dataframe tbody tr th:only-of-type {\n",
       "        vertical-align: middle;\n",
       "    }\n",
       "\n",
       "    .dataframe tbody tr th {\n",
       "        vertical-align: top;\n",
       "    }\n",
       "\n",
       "    .dataframe thead th {\n",
       "        text-align: right;\n",
       "    }\n",
       "</style>\n",
       "<table border=\"1\" class=\"dataframe\">\n",
       "  <thead>\n",
       "    <tr style=\"text-align: right;\">\n",
       "      <th></th>\n",
       "      <th>title</th>\n",
       "      <th>puNumber</th>\n",
       "      <th>show_start_date</th>\n",
       "      <th>type</th>\n",
       "      <th>film_studio</th>\n",
       "      <th>production_country</th>\n",
       "      <th>director</th>\n",
       "      <th>producer</th>\n",
       "      <th>age_restriction</th>\n",
       "      <th>refundable_support</th>\n",
       "      <th>nonrefundable_support</th>\n",
       "      <th>budget</th>\n",
       "      <th>financing_source</th>\n",
       "      <th>ratings</th>\n",
       "      <th>genres</th>\n",
       "      <th>box_office</th>\n",
       "      <th>rent_year</th>\n",
       "      <th>pr_director</th>\n",
       "      <th>pr_genre</th>\n",
       "      <th>gov_part</th>\n",
       "    </tr>\n",
       "  </thead>\n",
       "  <tbody>\n",
       "    <tr>\n",
       "      <th>0</th>\n",
       "      <td>Открытый простор</td>\n",
       "      <td>221048915</td>\n",
       "      <td>2015-11-27 00:00:00+00:00</td>\n",
       "      <td>Художественный</td>\n",
       "      <td>Тачстоун Пикчерз, Кобальт Пикчерз, Бикон Пикче...</td>\n",
       "      <td>США</td>\n",
       "      <td>Кевин Костнер</td>\n",
       "      <td>Дэвид Валдес, Кевин Костнер, Джейк Эбертс</td>\n",
       "      <td>«18+» - запрещено для детей</td>\n",
       "      <td>NaN</td>\n",
       "      <td>NaN</td>\n",
       "      <td>NaN</td>\n",
       "      <td>NaN</td>\n",
       "      <td>7.2</td>\n",
       "      <td>боевик,драма,мелодрама</td>\n",
       "      <td>NaN</td>\n",
       "      <td>2015</td>\n",
       "      <td>Кевин Костнер</td>\n",
       "      <td>боевик</td>\n",
       "      <td>NaN</td>\n",
       "    </tr>\n",
       "    <tr>\n",
       "      <th>1</th>\n",
       "      <td>Особо важное задание</td>\n",
       "      <td>111013716</td>\n",
       "      <td>2016-09-14 00:00:00+00:00</td>\n",
       "      <td>Художественный</td>\n",
       "      <td>Киностудия \"Мосфильм\"</td>\n",
       "      <td>СССР</td>\n",
       "      <td>Е.Матвеев</td>\n",
       "      <td>NaN</td>\n",
       "      <td>«6+» - для детей старше 6 лет</td>\n",
       "      <td>NaN</td>\n",
       "      <td>NaN</td>\n",
       "      <td>NaN</td>\n",
       "      <td>NaN</td>\n",
       "      <td>6.6</td>\n",
       "      <td>драма,военный</td>\n",
       "      <td>NaN</td>\n",
       "      <td>2016</td>\n",
       "      <td>Е.Матвеев</td>\n",
       "      <td>драма</td>\n",
       "      <td>NaN</td>\n",
       "    </tr>\n",
       "    <tr>\n",
       "      <th>2</th>\n",
       "      <td>Особо опасен</td>\n",
       "      <td>221038416</td>\n",
       "      <td>2016-10-10 00:00:00+00:00</td>\n",
       "      <td>Художественный</td>\n",
       "      <td>Юниверсал Пикчерз, Кикстарт Продакшнз, Марк Пл...</td>\n",
       "      <td>США</td>\n",
       "      <td>Тимур Бекмамбетов</td>\n",
       "      <td>Джим Лемли, Джейсон Нетер, Марк Е.Платт, Яйн Смит</td>\n",
       "      <td>«18+» - запрещено для детей</td>\n",
       "      <td>NaN</td>\n",
       "      <td>NaN</td>\n",
       "      <td>NaN</td>\n",
       "      <td>NaN</td>\n",
       "      <td>6.8</td>\n",
       "      <td>фантастика,боевик,триллер</td>\n",
       "      <td>NaN</td>\n",
       "      <td>2016</td>\n",
       "      <td>Тимур Бекмамбетов</td>\n",
       "      <td>фантастика</td>\n",
       "      <td>NaN</td>\n",
       "    </tr>\n",
       "    <tr>\n",
       "      <th>3</th>\n",
       "      <td>Особо опасен</td>\n",
       "      <td>221026916</td>\n",
       "      <td>2016-06-10 00:00:00+00:00</td>\n",
       "      <td>Художественный</td>\n",
       "      <td>Юниверсал Пикчерз, Кикстарт Продакшнз, Марк Пл...</td>\n",
       "      <td>США</td>\n",
       "      <td>Тимур Бекмамбетов</td>\n",
       "      <td>Джим Лемли, Джейсон Нетер, Марк Е.Платт, Яйн Смит</td>\n",
       "      <td>«18+» - запрещено для детей</td>\n",
       "      <td>NaN</td>\n",
       "      <td>NaN</td>\n",
       "      <td>NaN</td>\n",
       "      <td>NaN</td>\n",
       "      <td>6.8</td>\n",
       "      <td>фантастика,боевик,триллер</td>\n",
       "      <td>NaN</td>\n",
       "      <td>2016</td>\n",
       "      <td>Тимур Бекмамбетов</td>\n",
       "      <td>фантастика</td>\n",
       "      <td>NaN</td>\n",
       "    </tr>\n",
       "    <tr>\n",
       "      <th>4</th>\n",
       "      <td>Особо опасен</td>\n",
       "      <td>221030815</td>\n",
       "      <td>2015-07-30 00:00:00+00:00</td>\n",
       "      <td>Художественный</td>\n",
       "      <td>Юниверсал Пикчерз, Кикстарт Продакшнз, Марк Пл...</td>\n",
       "      <td>США</td>\n",
       "      <td>Тимур Бекмамбетов</td>\n",
       "      <td>Джим Лемли, Джейсон Нетер, Марк Е.Платт, Яйн Смит</td>\n",
       "      <td>«18+» - запрещено для детей</td>\n",
       "      <td>NaN</td>\n",
       "      <td>NaN</td>\n",
       "      <td>NaN</td>\n",
       "      <td>NaN</td>\n",
       "      <td>6.8</td>\n",
       "      <td>фантастика,боевик,триллер</td>\n",
       "      <td>NaN</td>\n",
       "      <td>2015</td>\n",
       "      <td>Тимур Бекмамбетов</td>\n",
       "      <td>фантастика</td>\n",
       "      <td>NaN</td>\n",
       "    </tr>\n",
       "  </tbody>\n",
       "</table>\n",
       "</div>"
      ],
      "text/plain": [
       "                  title   puNumber           show_start_date            type  \\\n",
       "0      Открытый простор  221048915 2015-11-27 00:00:00+00:00  Художественный   \n",
       "1  Особо важное задание  111013716 2016-09-14 00:00:00+00:00  Художественный   \n",
       "2          Особо опасен  221038416 2016-10-10 00:00:00+00:00  Художественный   \n",
       "3          Особо опасен  221026916 2016-06-10 00:00:00+00:00  Художественный   \n",
       "4          Особо опасен  221030815 2015-07-30 00:00:00+00:00  Художественный   \n",
       "\n",
       "                                         film_studio production_country  \\\n",
       "0  Тачстоун Пикчерз, Кобальт Пикчерз, Бикон Пикче...                США   \n",
       "1                              Киностудия \"Мосфильм\"               СССР   \n",
       "2  Юниверсал Пикчерз, Кикстарт Продакшнз, Марк Пл...                США   \n",
       "3  Юниверсал Пикчерз, Кикстарт Продакшнз, Марк Пл...                США   \n",
       "4  Юниверсал Пикчерз, Кикстарт Продакшнз, Марк Пл...                США   \n",
       "\n",
       "            director                                           producer  \\\n",
       "0      Кевин Костнер          Дэвид Валдес, Кевин Костнер, Джейк Эбертс   \n",
       "1          Е.Матвеев                                                NaN   \n",
       "2  Тимур Бекмамбетов  Джим Лемли, Джейсон Нетер, Марк Е.Платт, Яйн Смит   \n",
       "3  Тимур Бекмамбетов  Джим Лемли, Джейсон Нетер, Марк Е.Платт, Яйн Смит   \n",
       "4  Тимур Бекмамбетов  Джим Лемли, Джейсон Нетер, Марк Е.Платт, Яйн Смит   \n",
       "\n",
       "                 age_restriction  refundable_support  nonrefundable_support  \\\n",
       "0    «18+» - запрещено для детей                 NaN                    NaN   \n",
       "1  «6+» - для детей старше 6 лет                 NaN                    NaN   \n",
       "2    «18+» - запрещено для детей                 NaN                    NaN   \n",
       "3    «18+» - запрещено для детей                 NaN                    NaN   \n",
       "4    «18+» - запрещено для детей                 NaN                    NaN   \n",
       "\n",
       "   budget financing_source  ratings                     genres  box_office  \\\n",
       "0     NaN              NaN      7.2     боевик,драма,мелодрама         NaN   \n",
       "1     NaN              NaN      6.6              драма,военный         NaN   \n",
       "2     NaN              NaN      6.8  фантастика,боевик,триллер         NaN   \n",
       "3     NaN              NaN      6.8  фантастика,боевик,триллер         NaN   \n",
       "4     NaN              NaN      6.8  фантастика,боевик,триллер         NaN   \n",
       "\n",
       "   rent_year        pr_director    pr_genre  gov_part  \n",
       "0       2015      Кевин Костнер      боевик       NaN  \n",
       "1       2016          Е.Матвеев       драма       NaN  \n",
       "2       2016  Тимур Бекмамбетов  фантастика       NaN  \n",
       "3       2016  Тимур Бекмамбетов  фантастика       NaN  \n",
       "4       2015  Тимур Бекмамбетов  фантастика       NaN  "
      ]
     },
     "execution_count": 46,
     "metadata": {},
     "output_type": "execute_result"
    }
   ],
   "source": [
    "df_comm.head()"
   ]
  },
  {
   "cell_type": "code",
   "execution_count": 47,
   "id": "66ac990f",
   "metadata": {},
   "outputs": [
    {
     "name": "stdout",
     "output_type": "stream",
     "text": [
      "<class 'pandas.core.frame.DataFrame'>\n",
      "Int64Index: 6490 entries, 0 to 7485\n",
      "Data columns (total 20 columns):\n",
      " #   Column                 Non-Null Count  Dtype              \n",
      "---  ------                 --------------  -----              \n",
      " 0   title                  6490 non-null   object             \n",
      " 1   puNumber               6490 non-null   object             \n",
      " 2   show_start_date        6490 non-null   datetime64[ns, UTC]\n",
      " 3   type                   6490 non-null   object             \n",
      " 4   film_studio            6485 non-null   object             \n",
      " 5   production_country     6488 non-null   object             \n",
      " 6   director               6490 non-null   object             \n",
      " 7   producer               6012 non-null   object             \n",
      " 8   age_restriction        6490 non-null   object             \n",
      " 9   refundable_support     298 non-null    float64            \n",
      " 10  nonrefundable_support  298 non-null    float64            \n",
      " 11  budget                 298 non-null    float64            \n",
      " 12  financing_source       298 non-null    object             \n",
      " 13  ratings                6490 non-null   float64            \n",
      " 14  genres                 6490 non-null   object             \n",
      " 15  box_office             2899 non-null   float64            \n",
      " 16  rent_year              6490 non-null   int64              \n",
      " 17  pr_director            6490 non-null   object             \n",
      " 18  pr_genre               6490 non-null   object             \n",
      " 19  gov_part               298 non-null    float64            \n",
      "dtypes: datetime64[ns, UTC](1), float64(6), int64(1), object(12)\n",
      "memory usage: 1.0+ MB\n"
     ]
    }
   ],
   "source": [
    "df_comm.info()"
   ]
  },
  {
   "cell_type": "markdown",
   "id": "d421c83a",
   "metadata": {},
   "source": [
    "### Промежуточный вывод 2"
   ]
  },
  {
   "cell_type": "markdown",
   "id": "e73725b7",
   "metadata": {},
   "source": [
    "Данные достаточно качественные, в ходе предварительной обработки пришлось удалить 13.3% строк"
   ]
  },
  {
   "cell_type": "markdown",
   "id": "2a756d2e",
   "metadata": {},
   "source": [
    "## Исследовательский анализ данных"
   ]
  },
  {
   "cell_type": "code",
   "execution_count": 48,
   "id": "e5c84d51",
   "metadata": {},
   "outputs": [
    {
     "data": {
      "text/html": [
       "<div>\n",
       "<style scoped>\n",
       "    .dataframe tbody tr th:only-of-type {\n",
       "        vertical-align: middle;\n",
       "    }\n",
       "\n",
       "    .dataframe tbody tr th {\n",
       "        vertical-align: top;\n",
       "    }\n",
       "\n",
       "    .dataframe thead th {\n",
       "        text-align: right;\n",
       "    }\n",
       "</style>\n",
       "<table border=\"1\" class=\"dataframe\">\n",
       "  <thead>\n",
       "    <tr style=\"text-align: right;\">\n",
       "      <th></th>\n",
       "      <th>title</th>\n",
       "      <th>box_office</th>\n",
       "    </tr>\n",
       "    <tr>\n",
       "      <th>rent_year</th>\n",
       "      <th></th>\n",
       "      <th></th>\n",
       "    </tr>\n",
       "  </thead>\n",
       "  <tbody>\n",
       "    <tr>\n",
       "      <th>2010</th>\n",
       "      <td>911</td>\n",
       "      <td>102</td>\n",
       "    </tr>\n",
       "    <tr>\n",
       "      <th>2011</th>\n",
       "      <td>575</td>\n",
       "      <td>104</td>\n",
       "    </tr>\n",
       "    <tr>\n",
       "      <th>2012</th>\n",
       "      <td>542</td>\n",
       "      <td>121</td>\n",
       "    </tr>\n",
       "    <tr>\n",
       "      <th>2013</th>\n",
       "      <td>585</td>\n",
       "      <td>181</td>\n",
       "    </tr>\n",
       "    <tr>\n",
       "      <th>2014</th>\n",
       "      <td>739</td>\n",
       "      <td>262</td>\n",
       "    </tr>\n",
       "    <tr>\n",
       "      <th>2015</th>\n",
       "      <td>615</td>\n",
       "      <td>415</td>\n",
       "    </tr>\n",
       "    <tr>\n",
       "      <th>2016</th>\n",
       "      <td>711</td>\n",
       "      <td>464</td>\n",
       "    </tr>\n",
       "    <tr>\n",
       "      <th>2017</th>\n",
       "      <td>434</td>\n",
       "      <td>332</td>\n",
       "    </tr>\n",
       "    <tr>\n",
       "      <th>2018</th>\n",
       "      <td>656</td>\n",
       "      <td>443</td>\n",
       "    </tr>\n",
       "    <tr>\n",
       "      <th>2019</th>\n",
       "      <td>722</td>\n",
       "      <td>475</td>\n",
       "    </tr>\n",
       "  </tbody>\n",
       "</table>\n",
       "</div>"
      ],
      "text/plain": [
       "           title  box_office\n",
       "rent_year                   \n",
       "2010         911         102\n",
       "2011         575         104\n",
       "2012         542         121\n",
       "2013         585         181\n",
       "2014         739         262\n",
       "2015         615         415\n",
       "2016         711         464\n",
       "2017         434         332\n",
       "2018         656         443\n",
       "2019         722         475"
      ]
     },
     "execution_count": 48,
     "metadata": {},
     "output_type": "execute_result"
    }
   ],
   "source": [
    "df_comm.groupby('rent_year')[['title', 'box_office']].count()"
   ]
  },
  {
   "cell_type": "code",
   "execution_count": 49,
   "id": "0267c710",
   "metadata": {},
   "outputs": [
    {
     "name": "stdout",
     "output_type": "stream",
     "text": [
      "44.66872110939907\n"
     ]
    }
   ],
   "source": [
    "rent_part = df_comm['box_office'].count() / df_comm['title'].count()\n",
    "print(rent_part*100)"
   ]
  },
  {
   "cell_type": "markdown",
   "id": "397df1e2",
   "metadata": {},
   "source": [
    "Как видно из данных по годам, доля фильмов, которые выходят в кинотеатрах, а не только на DVD или других носителях, растёт. Суммарно, за 10 лет в кинотеатры попало 44.7% вышедших в РФ фильмов."
   ]
  },
  {
   "cell_type": "code",
   "execution_count": 50,
   "id": "e71c157d",
   "metadata": {},
   "outputs": [
    {
     "name": "stdout",
     "output_type": "stream",
     "text": [
      "                    sum\n",
      "rent_year              \n",
      "2011       2.056610e+06\n",
      "2010       2.417409e+06\n",
      "2012       6.860658e+06\n",
      "2013       2.968034e+07\n",
      "2014       7.317079e+09\n",
      "2015       3.761280e+10\n",
      "2016       4.580496e+10\n",
      "2017       4.612053e+10\n",
      "2018       4.682029e+10\n",
      "2019       4.829240e+10\n",
      "                    sum\n",
      "rent_year              \n",
      "2019       4.829240e+10\n",
      "                 sum\n",
      "rent_year           \n",
      "2011       2056610.0\n"
     ]
    },
    {
     "data": {
      "image/png": "[encoded data removed]",
      "text/plain": [
       "<Figure size 432x288 with 1 Axes>"
      ]
     },
     "metadata": {
      "needs_background": "light"
     },
     "output_type": "display_data"
    }
   ],
   "source": [
    "box_pivot_table = df_comm.pivot_table(index = 'rent_year', values = 'box_office', aggfunc=['sum'])\n",
    "box_pivot_table.columns = ['sum']\n",
    "box_pivot_table = box_pivot_table.sort_values('sum').head(10)\n",
    "print(box_pivot_table)\n",
    "print(box_pivot_table[box_pivot_table['sum']==box_pivot_table['sum'].max()])\n",
    "print(box_pivot_table[box_pivot_table['sum']==box_pivot_table['sum'].min()])\n",
    "box_pivot_table.plot(grid = True, title = 'Кассовые сборы общие');"
   ]
  },
  {
   "cell_type": "markdown",
   "id": "857a9711",
   "metadata": {},
   "source": [
    "За 10 лет общие сборы в кинотеатрах выросли с 2 млн до 48 млд рублей. Сборы резко выросли в 2014-2015 гг. С 2016 года темпы роста резко уменьшились. Минимальные сборы - 2056610.0 рублей были в 2011 году, максимальные - 48292400000.0 рублей в 2019 году."
   ]
  },
  {
   "cell_type": "code",
   "execution_count": 51,
   "id": "0be02695",
   "metadata": {},
   "outputs": [
    {
     "name": "stdout",
     "output_type": "stream",
     "text": [
      "                   mean       median\n",
      "rent_year                           \n",
      "2010       2.370009e+04      1700.00\n",
      "2011       1.977510e+04      2995.00\n",
      "2012       5.669965e+04      5760.00\n",
      "2013       1.639798e+05      3500.00\n",
      "2014       2.792778e+07     17952.50\n",
      "2015       9.063326e+07   7196756.00\n",
      "2016       9.871758e+07   5281042.10\n",
      "2017       1.389172e+08  10668801.50\n",
      "2018       1.056891e+08  10484019.76\n",
      "2019       1.016682e+08   5731405.10\n"
     ]
    },
    {
     "data": {
      "image/png": "[encoded data removed]",
      "text/plain": [
       "<Figure size 432x288 with 1 Axes>"
      ]
     },
     "metadata": {
      "needs_background": "light"
     },
     "output_type": "display_data"
    }
   ],
   "source": [
    "box_pivot_table2 = df_comm.pivot_table(index = 'rent_year', values = 'box_office', aggfunc=['mean', 'median'])\n",
    "box_pivot_table2.columns = ['mean', 'median' ]\n",
    "print(box_pivot_table2)\n",
    "box_pivot_table2.plot(grid = True, title = 'Кассовые сборы');"
   ]
  },
  {
   "cell_type": "markdown",
   "id": "e075a791",
   "metadata": {},
   "source": [
    "Интересные данные получаются при анализе средних и медианных значений кассовых сборов. Медианные значения даже в самые лучшие 2017-18 гг в 13 раз меньше средних. Это говорит о том, что большую часть сборов формирует небольшое количество блокбастеров, у остальных фильмов в прокате сборы небольшие. "
   ]
  },
  {
   "cell_type": "code",
   "execution_count": 52,
   "id": "1160e771",
   "metadata": {},
   "outputs": [
    {
     "data": {
      "image/png": "[encoded data removed]",
      "text/plain": [
       "<Figure size 432x288 with 1 Axes>"
      ]
     },
     "metadata": {
      "needs_background": "light"
     },
     "output_type": "display_data"
    }
   ],
   "source": [
    "df_comm.groupby('rent_year')[['title', 'box_office']].count().plot(grid = True, title = 'Количество вышедших и попавших в прокат фильмов');"
   ]
  },
  {
   "cell_type": "markdown",
   "id": "55f3be58",
   "metadata": {},
   "source": [
    "Как видно по графику, доля фильмов, которые выходят в кинотеатрах, а не только на DVD или других носителях, растёт."
   ]
  },
  {
   "cell_type": "code",
   "execution_count": 53,
   "id": "aa1e9b18",
   "metadata": {},
   "outputs": [
    {
     "data": {
      "text/plain": [
       "array(['«18+» - запрещено для детей', '«6+» - для детей старше 6 лет',\n",
       "       '«12+» - для детей старше 12 лет',\n",
       "       '«16+» - для детей старше 16 лет',\n",
       "       '«0+» - для любой зрительской аудитории'], dtype=object)"
      ]
     },
     "execution_count": 53,
     "metadata": {},
     "output_type": "execute_result"
    }
   ],
   "source": [
    "df_comm['age_restriction'].unique()"
   ]
  },
  {
   "cell_type": "code",
   "execution_count": 54,
   "id": "a79b914f",
   "metadata": {},
   "outputs": [
    {
     "data": {
      "text/plain": [
       "rent_year  age_restriction                       \n",
       "2015       «0+» - для любой зрительской аудитории    3.275774e+08\n",
       "           «12+» - для детей старше 12 лет           1.361551e+10\n",
       "           «16+» - для детей старше 16 лет           1.106221e+10\n",
       "           «18+» - запрещено для детей               5.270763e+09\n",
       "           «6+» - для детей старше 6 лет             7.336735e+09\n",
       "2016       «0+» - для любой зрительской аудитории    8.012274e+07\n",
       "           «12+» - для детей старше 12 лет           1.218773e+10\n",
       "           «16+» - для детей старше 16 лет           1.595938e+10\n",
       "           «18+» - запрещено для детей               6.765917e+09\n",
       "           «6+» - для детей старше 6 лет             1.081181e+10\n",
       "2017       «0+» - для любой зрительской аудитории    2.286571e+08\n",
       "           «12+» - для детей старше 12 лет           7.350015e+09\n",
       "           «16+» - для детей старше 16 лет           1.784271e+10\n",
       "           «18+» - запрещено для детей               9.620582e+09\n",
       "           «6+» - для детей старше 6 лет             1.107856e+10\n",
       "2018       «0+» - для любой зрительской аудитории    4.111901e+06\n",
       "           «12+» - для детей старше 12 лет           1.247162e+10\n",
       "           «16+» - для детей старше 16 лет           1.550890e+10\n",
       "           «18+» - запрещено для детей               8.737782e+09\n",
       "           «6+» - для детей старше 6 лет             1.009787e+10\n",
       "2019       «0+» - для любой зрительской аудитории    1.377963e+07\n",
       "           «12+» - для детей старше 12 лет           1.266614e+10\n",
       "           «16+» - для детей старше 16 лет           1.271603e+10\n",
       "           «18+» - запрещено для детей               1.007228e+10\n",
       "           «6+» - для детей старше 6 лет             1.282417e+10\n",
       "Name: box_office, dtype: float64"
      ]
     },
     "execution_count": 54,
     "metadata": {},
     "output_type": "execute_result"
    }
   ],
   "source": [
    "df_comm.query('rent_year > 2014').groupby(['rent_year', 'age_restriction'])['box_office'].sum()"
   ]
  },
  {
   "cell_type": "markdown",
   "id": "09a9cbc4",
   "metadata": {},
   "source": [
    "Суммарные сборы по годам и возрастной категории фильмов"
   ]
  },
  {
   "cell_type": "code",
   "execution_count": 55,
   "id": "a1a51865",
   "metadata": {},
   "outputs": [
    {
     "data": {
      "image/png": "[encoded data removed]",
      "text/plain": [
       "<Figure size 1440x360 with 1 Axes>"
      ]
     },
     "metadata": {
      "needs_background": "light"
     },
     "output_type": "display_data"
    }
   ],
   "source": [
    "df_comm.query('rent_year > 2014').groupby(['age_restriction'])['box_office'].sum().plot(grid = True, figsize = (20,5), title = 'Сборы по возрастам 2015-19гг');"
   ]
  },
  {
   "cell_type": "markdown",
   "id": "796aac4b",
   "metadata": {},
   "source": [
    "В графике зависимости сборов от возрастной категории за 5 лет видно, что самые большие сборы в категории \"16+\", несколько меньше в категориях \"12+\", \"6+\" и \"18+\". Минимальные сборы в категории \"0+\"."
   ]
  },
  {
   "cell_type": "code",
   "execution_count": 56,
   "id": "c6f6ae19",
   "metadata": {},
   "outputs": [
    {
     "data": {
      "image/png": "[encoded data removed]",
      "text/plain": [
       "<Figure size 1440x360 with 1 Axes>"
      ]
     },
     "metadata": {
      "needs_background": "light"
     },
     "output_type": "display_data"
    }
   ],
   "source": [
    "df_comm.query('rent_year == 2015').groupby(['age_restriction'])['box_office'].sum().plot(grid = True, figsize = (20,5), title = 'Сборы по возрастам 2015г');"
   ]
  },
  {
   "cell_type": "code",
   "execution_count": 57,
   "id": "0cf1162d",
   "metadata": {},
   "outputs": [
    {
     "data": {
      "image/png": "[encoded data removed]",
      "text/plain": [
       "<Figure size 1440x360 with 1 Axes>"
      ]
     },
     "metadata": {
      "needs_background": "light"
     },
     "output_type": "display_data"
    }
   ],
   "source": [
    "df_comm.query('rent_year == 2016').groupby(['age_restriction'])['box_office'].sum().plot(grid = True, figsize = (20,5), title = 'Сборы по возрастам 2016г');"
   ]
  },
  {
   "cell_type": "code",
   "execution_count": 58,
   "id": "db577fab",
   "metadata": {},
   "outputs": [
    {
     "data": {
      "image/png": "[encoded data removed]",
      "text/plain": [
       "<Figure size 1440x360 with 1 Axes>"
      ]
     },
     "metadata": {
      "needs_background": "light"
     },
     "output_type": "display_data"
    }
   ],
   "source": [
    "df_comm.query('rent_year == 2017').groupby(['age_restriction'])['box_office'].sum().plot(grid = True, figsize = (20,5), title = 'Сборы по возрастам 2017г');"
   ]
  },
  {
   "cell_type": "code",
   "execution_count": 59,
   "id": "8e66792b",
   "metadata": {},
   "outputs": [
    {
     "data": {
      "image/png": "[encoded data removed]",
      "text/plain": [
       "<Figure size 1440x360 with 1 Axes>"
      ]
     },
     "metadata": {
      "needs_background": "light"
     },
     "output_type": "display_data"
    }
   ],
   "source": [
    "df_comm.query('rent_year == 2018').groupby(['age_restriction'])['box_office'].sum().plot(grid = True, figsize = (20,5), title = 'Сборы по возрастам 2018г');"
   ]
  },
  {
   "cell_type": "code",
   "execution_count": 60,
   "id": "798e6ac2",
   "metadata": {},
   "outputs": [
    {
     "data": {
      "image/png": "[encoded data removed]",
      "text/plain": [
       "<Figure size 1440x360 with 1 Axes>"
      ]
     },
     "metadata": {
      "needs_background": "light"
     },
     "output_type": "display_data"
    }
   ],
   "source": [
    "df_comm.query('rent_year == 2019').groupby(['age_restriction'])['box_office'].sum().plot(grid = True, figsize = (20,5), title = 'Сборы по возрастам 2019г');"
   ]
  },
  {
   "cell_type": "markdown",
   "id": "4a5e1d7f",
   "metadata": {},
   "source": [
    "Динамика сборов в разных возрастных категориях за 5 лет показывает, что если в 2015 году основной зритель - это подросток до 16 лет, то потом возраст зрителей увеличивается, а доля зрителей до 16 уменьшается. Но в 2019 году сборы в разных возрастных категориях сравнялись: ходят и дети со взрослыми и взрослые отдельно (растёт доля \"18+\"). Без динамики на минимальном уровне держится только категория \"0+\", т.е. дети до 6 лет - редкие зрители."
   ]
  },
  {
   "cell_type": "markdown",
   "id": "d90020bd",
   "metadata": {},
   "source": [
    "### Промежуточный вывод 3"
   ]
  },
  {
   "cell_type": "markdown",
   "id": "670770de",
   "metadata": {},
   "source": [
    "Представлены данные за 10 лет (2010-2019гг). За это время кинопрокатная индустрия резко выросла. Количество фильмов увеличилось в 5 раз, кассовые сборы увеличились в 20 тыс раз. Большую часть сборов формирует небольшое количество блокбастеров, у остальных фильмов в прокате сборы небольшие. За последние 5 лет изменилась возрастная структура зрителей: если в 2015г основной зритель - подросток до 16 лет, то в 2019г сборы сопоставимы во всех возрастных категориях кроме \"0+\". "
   ]
  },
  {
   "cell_type": "markdown",
   "id": "b3c3dbd2",
   "metadata": {},
   "source": [
    "## Исследовательский анализ данных фильмов, снятых с госучастием"
   ]
  },
  {
   "cell_type": "code",
   "execution_count": 61,
   "id": "57b32807",
   "metadata": {},
   "outputs": [],
   "source": [
    "df_gov_supp = df_comm.query('budget > 0')"
   ]
  },
  {
   "cell_type": "code",
   "execution_count": 62,
   "id": "d48ebb45",
   "metadata": {},
   "outputs": [
    {
     "name": "stdout",
     "output_type": "stream",
     "text": [
      "<class 'pandas.core.frame.DataFrame'>\n",
      "Int64Index: 298 entries, 1281 to 7478\n",
      "Data columns (total 20 columns):\n",
      " #   Column                 Non-Null Count  Dtype              \n",
      "---  ------                 --------------  -----              \n",
      " 0   title                  298 non-null    object             \n",
      " 1   puNumber               298 non-null    object             \n",
      " 2   show_start_date        298 non-null    datetime64[ns, UTC]\n",
      " 3   type                   298 non-null    object             \n",
      " 4   film_studio            298 non-null    object             \n",
      " 5   production_country     298 non-null    object             \n",
      " 6   director               298 non-null    object             \n",
      " 7   producer               296 non-null    object             \n",
      " 8   age_restriction        298 non-null    object             \n",
      " 9   refundable_support     298 non-null    float64            \n",
      " 10  nonrefundable_support  298 non-null    float64            \n",
      " 11  budget                 298 non-null    float64            \n",
      " 12  financing_source       298 non-null    object             \n",
      " 13  ratings                298 non-null    float64            \n",
      " 14  genres                 298 non-null    object             \n",
      " 15  box_office             285 non-null    float64            \n",
      " 16  rent_year              298 non-null    int64              \n",
      " 17  pr_director            298 non-null    object             \n",
      " 18  pr_genre               298 non-null    object             \n",
      " 19  gov_part               298 non-null    float64            \n",
      "dtypes: datetime64[ns, UTC](1), float64(6), int64(1), object(12)\n",
      "memory usage: 48.9+ KB\n"
     ]
    }
   ],
   "source": [
    "df_gov_supp.info()"
   ]
  },
  {
   "cell_type": "code",
   "execution_count": 63,
   "id": "9410e9ab",
   "metadata": {},
   "outputs": [
    {
     "data": {
      "text/html": [
       "<div>\n",
       "<style scoped>\n",
       "    .dataframe tbody tr th:only-of-type {\n",
       "        vertical-align: middle;\n",
       "    }\n",
       "\n",
       "    .dataframe tbody tr th {\n",
       "        vertical-align: top;\n",
       "    }\n",
       "\n",
       "    .dataframe thead th {\n",
       "        text-align: right;\n",
       "    }\n",
       "</style>\n",
       "<table border=\"1\" class=\"dataframe\">\n",
       "  <thead>\n",
       "    <tr style=\"text-align: right;\">\n",
       "      <th></th>\n",
       "      <th>refundable_support</th>\n",
       "      <th>nonrefundable_support</th>\n",
       "      <th>budget</th>\n",
       "      <th>ratings</th>\n",
       "      <th>box_office</th>\n",
       "      <th>rent_year</th>\n",
       "      <th>gov_part</th>\n",
       "    </tr>\n",
       "  </thead>\n",
       "  <tbody>\n",
       "    <tr>\n",
       "      <th>count</th>\n",
       "      <td>2.980000e+02</td>\n",
       "      <td>2.980000e+02</td>\n",
       "      <td>2.980000e+02</td>\n",
       "      <td>298.000000</td>\n",
       "      <td>2.850000e+02</td>\n",
       "      <td>298.000000</td>\n",
       "      <td>298.000000</td>\n",
       "    </tr>\n",
       "    <tr>\n",
       "      <th>mean</th>\n",
       "      <td>1.203020e+07</td>\n",
       "      <td>4.919134e+07</td>\n",
       "      <td>1.383988e+08</td>\n",
       "      <td>6.015436</td>\n",
       "      <td>1.328373e+08</td>\n",
       "      <td>2016.758389</td>\n",
       "      <td>0.513651</td>\n",
       "    </tr>\n",
       "    <tr>\n",
       "      <th>std</th>\n",
       "      <td>2.570659e+07</td>\n",
       "      <td>6.132415e+07</td>\n",
       "      <td>1.955611e+08</td>\n",
       "      <td>1.133406</td>\n",
       "      <td>3.384785e+08</td>\n",
       "      <td>1.650022</td>\n",
       "      <td>0.170678</td>\n",
       "    </tr>\n",
       "    <tr>\n",
       "      <th>min</th>\n",
       "      <td>0.000000e+00</td>\n",
       "      <td>0.000000e+00</td>\n",
       "      <td>1.501000e+07</td>\n",
       "      <td>1.000000</td>\n",
       "      <td>1.550000e+03</td>\n",
       "      <td>2013.000000</td>\n",
       "      <td>0.044043</td>\n",
       "    </tr>\n",
       "    <tr>\n",
       "      <th>25%</th>\n",
       "      <td>0.000000e+00</td>\n",
       "      <td>2.500000e+07</td>\n",
       "      <td>4.622500e+07</td>\n",
       "      <td>5.400000</td>\n",
       "      <td>1.280236e+06</td>\n",
       "      <td>2015.000000</td>\n",
       "      <td>0.369987</td>\n",
       "    </tr>\n",
       "    <tr>\n",
       "      <th>50%</th>\n",
       "      <td>0.000000e+00</td>\n",
       "      <td>3.000000e+07</td>\n",
       "      <td>7.642700e+07</td>\n",
       "      <td>6.200000</td>\n",
       "      <td>1.676362e+07</td>\n",
       "      <td>2017.000000</td>\n",
       "      <td>0.589469</td>\n",
       "    </tr>\n",
       "    <tr>\n",
       "      <th>75%</th>\n",
       "      <td>1.375000e+07</td>\n",
       "      <td>4.000000e+07</td>\n",
       "      <td>1.560179e+08</td>\n",
       "      <td>6.700000</td>\n",
       "      <td>1.081952e+08</td>\n",
       "      <td>2018.000000</td>\n",
       "      <td>0.656333</td>\n",
       "    </tr>\n",
       "    <tr>\n",
       "      <th>max</th>\n",
       "      <td>1.800000e+08</td>\n",
       "      <td>4.000000e+08</td>\n",
       "      <td>2.305074e+09</td>\n",
       "      <td>8.500000</td>\n",
       "      <td>3.073569e+09</td>\n",
       "      <td>2019.000000</td>\n",
       "      <td>0.700000</td>\n",
       "    </tr>\n",
       "  </tbody>\n",
       "</table>\n",
       "</div>"
      ],
      "text/plain": [
       "       refundable_support  nonrefundable_support        budget     ratings  \\\n",
       "count        2.980000e+02           2.980000e+02  2.980000e+02  298.000000   \n",
       "mean         1.203020e+07           4.919134e+07  1.383988e+08    6.015436   \n",
       "std          2.570659e+07           6.132415e+07  1.955611e+08    1.133406   \n",
       "min          0.000000e+00           0.000000e+00  1.501000e+07    1.000000   \n",
       "25%          0.000000e+00           2.500000e+07  4.622500e+07    5.400000   \n",
       "50%          0.000000e+00           3.000000e+07  7.642700e+07    6.200000   \n",
       "75%          1.375000e+07           4.000000e+07  1.560179e+08    6.700000   \n",
       "max          1.800000e+08           4.000000e+08  2.305074e+09    8.500000   \n",
       "\n",
       "         box_office    rent_year    gov_part  \n",
       "count  2.850000e+02   298.000000  298.000000  \n",
       "mean   1.328373e+08  2016.758389    0.513651  \n",
       "std    3.384785e+08     1.650022    0.170678  \n",
       "min    1.550000e+03  2013.000000    0.044043  \n",
       "25%    1.280236e+06  2015.000000    0.369987  \n",
       "50%    1.676362e+07  2017.000000    0.589469  \n",
       "75%    1.081952e+08  2018.000000    0.656333  \n",
       "max    3.073569e+09  2019.000000    0.700000  "
      ]
     },
     "execution_count": 63,
     "metadata": {},
     "output_type": "execute_result"
    }
   ],
   "source": [
    "df_gov_supp.describe()"
   ]
  },
  {
   "cell_type": "markdown",
   "id": "4d974a21",
   "metadata": {},
   "source": [
    "По полученным данным можно сказать что выдавались возвратные и безвозвратные субсидии, при создании большинства фильмов использовались безвозвратные субсидии, которые составляли от 4,4 до 70% бюджета фильма. Рейтинг фильмов, снятых с госучастием не превышал 8,5; средний рейтинг 6,01, соответственно кассовые сборы большинства фильмов не окупили затрат на производство."
   ]
  },
  {
   "cell_type": "code",
   "execution_count": 64,
   "id": "8dd285dd",
   "metadata": {},
   "outputs": [
    {
     "data": {
      "image/png": "[encoded data removed]",
      "text/plain": [
       "<Figure size 1080x504 with 9 Axes>"
      ]
     },
     "metadata": {
      "needs_background": "light"
     },
     "output_type": "display_data"
    }
   ],
   "source": [
    "df_gov_supp.hist(figsize = (15,7));"
   ]
  },
  {
   "cell_type": "code",
   "execution_count": 65,
   "id": "2d741b1f",
   "metadata": {},
   "outputs": [
    {
     "name": "stdout",
     "output_type": "stream",
     "text": [
      "rent_year\n",
      "2013     2\n",
      "2014    14\n",
      "2015    75\n",
      "2016    54\n",
      "2017    37\n",
      "2018    50\n",
      "2019    66\n",
      "Name: title, dtype: int64\n"
     ]
    },
    {
     "data": {
      "image/png": "[encoded data removed]",
      "text/plain": [
       "<Figure size 432x288 with 1 Axes>"
      ]
     },
     "metadata": {
      "needs_background": "light"
     },
     "output_type": "display_data"
    }
   ],
   "source": [
    "print(df_gov_supp.groupby('rent_year')['title'].count())\n",
    "df_gov_supp.groupby('rent_year')['title'].count().plot(grid = True, title = 'Фильмы с господдержкой, количество');"
   ]
  },
  {
   "cell_type": "markdown",
   "id": "6c99714b",
   "metadata": {},
   "source": [
    "Количество фильмов, снятых с госучастием за последние 7 лет выросло с 2 до 66; максимальное количество (75) в 2015 году, вероятнее всего, связано с изменением внутриполитической обстановки."
   ]
  },
  {
   "cell_type": "code",
   "execution_count": 66,
   "id": "53e0b1fe",
   "metadata": {},
   "outputs": [
    {
     "name": "stdout",
     "output_type": "stream",
     "text": [
      "type\n",
      "Анимационный       25\n",
      "Документальный      1\n",
      "Художественный    272\n",
      "Name: title, dtype: int64\n"
     ]
    },
    {
     "data": {
      "image/png": "[encoded data removed]",
      "text/plain": [
       "<Figure size 432x288 with 1 Axes>"
      ]
     },
     "metadata": {
      "needs_background": "light"
     },
     "output_type": "display_data"
    }
   ],
   "source": [
    "print(df_gov_supp.groupby('type')['title'].count())\n",
    "df_gov_supp.groupby('type')['title'].count().plot(grid = True, title = 'Фильмы с господдержкой, виды');"
   ]
  },
  {
   "cell_type": "markdown",
   "id": "33918f5a",
   "metadata": {},
   "source": [
    "Ожидаемо с государственной поддержкой снимается больше всего художественных фильмов."
   ]
  },
  {
   "cell_type": "code",
   "execution_count": 67,
   "id": "b8bb478a",
   "metadata": {},
   "outputs": [
    {
     "name": "stdout",
     "output_type": "stream",
     "text": [
      "financing_source\n",
      "Министерство культуры               150\n",
      "Министерство культуры, Фонд кино     20\n",
      "Фонд кино                           128\n",
      "Name: title, dtype: int64\n"
     ]
    },
    {
     "data": {
      "image/png": "[encoded data removed]",
      "text/plain": [
       "<Figure size 1080x360 with 1 Axes>"
      ]
     },
     "metadata": {
      "needs_background": "light"
     },
     "output_type": "display_data"
    }
   ],
   "source": [
    "print(df_gov_supp.groupby('financing_source')['title'].count())\n",
    "df_gov_supp.groupby('financing_source')['title'].count().plot(grid = True, title = 'Фильмы с господдержкой, источник финансирования', figsize = (15,5));"
   ]
  },
  {
   "cell_type": "markdown",
   "id": "dda18921",
   "metadata": {},
   "source": [
    "Источниками финансирования выступают Минкульт и Фонд кино, некоторые проекты финансируются совместно. "
   ]
  },
  {
   "cell_type": "code",
   "execution_count": 68,
   "id": "4cd8c420",
   "metadata": {},
   "outputs": [
    {
     "name": "stdout",
     "output_type": "stream",
     "text": [
      "pr_genre\n",
      "биография       3\n",
      "боевик          5\n",
      "военный         9\n",
      "детектив        5\n",
      "детский         4\n",
      "драма          91\n",
      "история         4\n",
      "комедия        68\n",
      "криминал        3\n",
      "мелодрама      14\n",
      "мультфильм     26\n",
      "мюзикл          4\n",
      "приключения     7\n",
      "реальное ТВ     1\n",
      "семейный        7\n",
      "спорт           3\n",
      "триллер        14\n",
      "ужасы          10\n",
      "фантастика      9\n",
      "фэнтези        11\n",
      "Name: title, dtype: int64\n"
     ]
    },
    {
     "data": {
      "image/png": "[encoded data removed]",
      "text/plain": [
       "<Figure size 1440x360 with 1 Axes>"
      ]
     },
     "metadata": {
      "needs_background": "light"
     },
     "output_type": "display_data"
    }
   ],
   "source": [
    "print(df_gov_supp.groupby('pr_genre')['title'].count())\n",
    "df_gov_supp.groupby('pr_genre')['title'].count().plot(grid = True, title = 'Фильмы с господдержкой, жанры', figsize = (20,5));"
   ]
  },
  {
   "cell_type": "markdown",
   "id": "600a8257",
   "metadata": {},
   "source": [
    "По жанрам господдержку получают в основном драмы, комедии и анимационные фильмы"
   ]
  },
  {
   "cell_type": "code",
   "execution_count": 69,
   "id": "b270daf7",
   "metadata": {},
   "outputs": [
    {
     "name": "stdout",
     "output_type": "stream",
     "text": [
      "rent_year\n",
      "2013    2.032239e+07\n",
      "2014    1.007160e+09\n",
      "2015    4.803397e+09\n",
      "2016    4.945550e+09\n",
      "2017    1.075294e+10\n",
      "2018    8.070710e+09\n",
      "2019    8.258543e+09\n",
      "Name: box_office, dtype: float64\n"
     ]
    },
    {
     "data": {
      "image/png": "[encoded data removed]",
      "text/plain": [
       "<Figure size 1440x360 with 1 Axes>"
      ]
     },
     "metadata": {
      "needs_background": "light"
     },
     "output_type": "display_data"
    }
   ],
   "source": [
    "print(df_gov_supp.groupby('rent_year')['box_office'].sum())\n",
    "df_gov_supp.groupby('rent_year')['box_office'].sum().plot(grid = True, title = 'Фильмы с господдержкой, общие сборы', figsize = (20,5));"
   ]
  },
  {
   "cell_type": "code",
   "execution_count": 70,
   "id": "115923d3",
   "metadata": {},
   "outputs": [
    {
     "name": "stdout",
     "output_type": "stream",
     "text": [
      "rent_year\n",
      "2013    1.277177e+08\n",
      "2014    8.873871e+07\n",
      "2015    9.459590e+07\n",
      "2016    1.295793e+08\n",
      "2017    1.863728e+08\n",
      "2018    1.291237e+08\n",
      "2019    1.863805e+08\n",
      "Name: budget, dtype: float64\n"
     ]
    },
    {
     "data": {
      "image/png": "[encoded data removed]",
      "text/plain": [
       "<Figure size 1440x360 with 1 Axes>"
      ]
     },
     "metadata": {
      "needs_background": "light"
     },
     "output_type": "display_data"
    }
   ],
   "source": [
    "print(df_gov_supp.groupby('rent_year')['budget'].mean())\n",
    "df_gov_supp.groupby('rent_year')['budget'].mean().plot(grid = True, title = 'Фильмы с господдержкой, средний бюджет', figsize = (20,5));"
   ]
  },
  {
   "cell_type": "code",
   "execution_count": 71,
   "id": "6c294405",
   "metadata": {},
   "outputs": [
    {
     "name": "stdout",
     "output_type": "stream",
     "text": [
      "rent_year\n",
      "2013    0.473197\n",
      "2014    0.508650\n",
      "2015    0.531374\n",
      "2016    0.545568\n",
      "2017    0.471506\n",
      "2018    0.506038\n",
      "2019    0.499078\n",
      "Name: gov_part, dtype: float64\n"
     ]
    },
    {
     "data": {
      "image/png": "[encoded data removed]",
      "text/plain": [
       "<Figure size 1440x360 with 1 Axes>"
      ]
     },
     "metadata": {
      "needs_background": "light"
     },
     "output_type": "display_data"
    }
   ],
   "source": [
    "print(df_gov_supp.groupby('rent_year')['gov_part'].mean())\n",
    "df_gov_supp.groupby('rent_year')['gov_part'].mean().plot(grid = True, title = 'Фильмы с господдержкой, доля поддержки', figsize = (20,5));"
   ]
  },
  {
   "cell_type": "markdown",
   "id": "7334c8aa",
   "metadata": {},
   "source": [
    "В среднем по годам доля госфинансирования меняется незначительно и составляет от 47 до 53%"
   ]
  },
  {
   "cell_type": "code",
   "execution_count": 72,
   "id": "2b157012",
   "metadata": {},
   "outputs": [
    {
     "name": "stdout",
     "output_type": "stream",
     "text": [
      "rent_year\n",
      "2013    6.700000\n",
      "2014    5.964286\n",
      "2015    6.061333\n",
      "2016    5.692593\n",
      "2017    6.054054\n",
      "2018    6.042000\n",
      "2019    6.175758\n",
      "Name: ratings, dtype: float64\n"
     ]
    },
    {
     "data": {
      "image/png": "[encoded data removed]",
      "text/plain": [
       "<Figure size 1440x360 with 1 Axes>"
      ]
     },
     "metadata": {
      "needs_background": "light"
     },
     "output_type": "display_data"
    }
   ],
   "source": [
    "print(df_gov_supp.groupby('rent_year')['ratings'].mean())\n",
    "df_gov_supp.groupby('rent_year')['ratings'].mean().plot(grid = True, title = 'Фильмы с господдержкой, средний рейтинг', figsize = (20,5));"
   ]
  },
  {
   "cell_type": "markdown",
   "id": "f1431299",
   "metadata": {},
   "source": [
    "Средний рейтинг фильмов менятся незначительно и составляет от 5.69 до 6.7"
   ]
  },
  {
   "cell_type": "code",
   "execution_count": 73,
   "id": "727c4192",
   "metadata": {},
   "outputs": [],
   "source": [
    "df_gov_supp['profit'] = df_gov_supp['box_office'] - df_gov_supp['budget']"
   ]
  },
  {
   "cell_type": "code",
   "execution_count": 74,
   "id": "9e1fc535",
   "metadata": {},
   "outputs": [
    {
     "name": "stdout",
     "output_type": "stream",
     "text": [
      "rent_year\n",
      "2013   -2.351130e+08\n",
      "2014   -2.351819e+08\n",
      "2015   -2.249296e+09\n",
      "2016   -2.033025e+09\n",
      "2017    3.962750e+09\n",
      "2018    1.614524e+09\n",
      "2019   -2.602511e+09\n",
      "Name: profit, dtype: float64\n"
     ]
    },
    {
     "data": {
      "image/png": "[encoded data removed]",
      "text/plain": [
       "<Figure size 1440x360 with 1 Axes>"
      ]
     },
     "metadata": {
      "needs_background": "light"
     },
     "output_type": "display_data"
    }
   ],
   "source": [
    "print(df_gov_supp.groupby('rent_year')['profit'].sum())\n",
    "df_gov_supp.groupby('rent_year')['profit'].sum().plot(grid = True, title = 'Фильмы с господдержкой, общий доход', figsize = (20,5));"
   ]
  },
  {
   "cell_type": "markdown",
   "id": "1781fd49",
   "metadata": {},
   "source": [
    "Только в 2017 и 2018 году фильмы, снятые с господдержкой окупились в кинотеатрах."
   ]
  },
  {
   "cell_type": "code",
   "execution_count": 75,
   "id": "919f02dd",
   "metadata": {},
   "outputs": [
    {
     "data": {
      "text/plain": [
       "array(['А.Атанесян', 'Р.Давлетьяров',\n",
       "       'Е.Миндадзе (псевдоним Катя Шагалова)', 'М.Угаров', 'С.Серегин',\n",
       "       'В.Глаголева', 'А.Войтинский', 'Д.Федоров', 'Максим Свешников',\n",
       "       'Т.Аленикова', 'А.Пиманов', 'А.Цицилин', 'А.Стриженов', 'С.Попов',\n",
       "       'Д.Месхиев', 'В.Щегольков', 'А.Прошкин', 'П.Санаев', 'С.Мокрицкий',\n",
       "       'А.Мельник', 'А.Аксененко', 'В.Демент', 'Ф.Абрютин', 'М.Бальчюнас',\n",
       "       'Э.Архангельская', 'К.Шипенко', 'Д.Елеонский', 'А.Звягинцев',\n",
       "       'Е.Татаров', 'А.Федорченко', 'Ю.Фетинг', 'И.Чижиков', 'А.Меликян',\n",
       "       'Э.Манжеева', 'А.Калинкин',\n",
       "       'Е.Константинова (псевдоним Алена Званцева)', 'Н.Джорджадзе',\n",
       "       'Ф.Дмитриев', 'Р.Каримов', 'А.Аравин', 'С.Говорухин', 'К.Ангелина',\n",
       "       'А.Карпиловский', 'Стефано Лоренци', 'В.Хотиненко',\n",
       "       'В.Штерянов при участии Е.Немых', 'С.Комаров', 'И.Северов',\n",
       "       'А.Ананикян', 'К.Белевич', 'Д.Чернов', 'А.Герман', 'А.Темников',\n",
       "       'Р.Ильясов', 'С.Пускепалис', 'Н.Кудряшова', 'Е.Хазанова',\n",
       "       'Э.Оганесян', 'Р.Гигинеишвили', 'И.Джендубаев',\n",
       "       'А.Першин (псевдоним Ж.Крыжовников)', 'Ю.Попович', 'К.Кузин',\n",
       "       'И.Вырыпаев', 'Д.Дьяченко', 'Э.Бордуков', 'А.Миндадзе', 'А.Нужный',\n",
       "       'Штефан Кромер', 'А.Галибин', 'И.Кордзаия',\n",
       "       'Г.Куценко (Ю.Куценко)', 'К.Дружинин', 'И.Волкова', 'М.Волков',\n",
       "       'Т.Воронецкая', 'Н.Лебедев', 'А.Амиров', 'К.Геворкян', 'Т.Мамедов',\n",
       "       'Р.Артемьев', 'А.Матисон', 'В.Сторожева', 'А.Котт', 'А.Китайцев',\n",
       "       'О.Лопато', 'Т.Игуменцева', 'В.Лакисов', 'О.Беляева', 'Ю.Белюсева',\n",
       "       'А.Коваленко', 'М.Кравченко', 'А.Томашевский', 'Д.Шмидт',\n",
       "       'А.Михалков', 'П.Руминов', 'Н.Бондарчук', 'А.Майовер', 'А.Соколов',\n",
       "       'М.Михайлова', 'Ю.Васильев', 'М.Левитин мл.', 'И.Болотников',\n",
       "       'А.Федотов', 'И.Твердовский', 'С.Подгаевский', 'П.Лунгин',\n",
       "       'Д.Киселев', 'И.Шахназаров', 'И.Учитель', 'Д.Светозаров',\n",
       "       'Н.Меркулова', 'А.Сурикова', 'А.Мизгирев', 'А.Кончаловский',\n",
       "       'Р.Шульман', 'П.Чухрай', 'С.Гинзбург', 'М.Демченко', 'Н.Хомерики',\n",
       "       'В.Барбэ', 'С.Андреасян', 'А.Пармас', 'А.Лукьянчиков',\n",
       "       'М.Свешников', 'Ю.Кулаков', 'И.Перин', 'Е.Борисова', 'Л.Марголин',\n",
       "       'Т.Бекмамбетов', 'Э.Веливис', 'В.Тодоровский', 'В.Татарский',\n",
       "       'К.Баскакова', 'Эген Уулу Нурбек', 'А.Касаткин',\n",
       "       'Ф.Коршунов при участии П.Мирзоева', 'Т.Корнев', 'А.Романец',\n",
       "       'М.Шевчук', 'А.Волгин', 'О.Карас', 'К.Худяков', 'Р.Волобуев',\n",
       "       'М.Расходников', 'А.Учитель',\n",
       "       'Т.Игуменцева (псевдоним Татьяна Капитан)', 'А Андрющенко',\n",
       "       'К.Оганесян', 'Э.Парри', 'А.Колпин', 'В.Марков', 'И.Шурховецкий',\n",
       "       'К.Коваленко', 'Е.Жигаева', 'А.Богуславский', 'О.Зуева',\n",
       "       'К.Максимов', 'О.Попова', 'Д.Суворов', 'А.Мегердичев',\n",
       "       'К.Феоктистов', 'Е.Соколов', 'Я.Поляруш', 'Д.Тюрин', 'Р.Мосафир',\n",
       "       'Ф.Фархшатова', 'К.Васильев',\n",
       "       'А.Черномазов (псевдоним Алексей Нужный)', 'Д.Козловский',\n",
       "       'П.Дроздов', 'К.Хабенский', 'А.Горчилин', 'А.Луканев', 'Т.Жалнин',\n",
       "       'К.Малкин-Фам', 'И.Евланникова', 'Н.Мещанинова', 'В.Битоков',\n",
       "       'И.Максимов', 'Е.Шелякин', 'И.Волошин', 'В.Алфёров', 'Н.Михалкова',\n",
       "       'А.Игудин', 'К.Белевич (псевдоним - Кирилл Астахов)', 'В.Алеников',\n",
       "       'М.Идов', 'С.Соколов', 'К.Плетнёв', 'К.Соколов', 'Т.Кеосаян',\n",
       "       'К.Бронзит', 'С.Черников', 'А.Сидоров', 'В.Потапов',\n",
       "       'А.Велединский', 'В.Николаев', 'А.Сахелашвили', 'А.Баршак',\n",
       "       'Д.Панченко', 'П.Сидоров',\n",
       "       'М.Бальчюнас (псевдоним Марюс Вайсберг)', 'С.Дворцевой',\n",
       "       'И.Зайцев', 'А.Золотухин', 'А.Домогаров', 'В.Фанасютина',\n",
       "       'Е.Бедарев', 'Ф.Попов', 'Р.Прыгунов', 'С.Саркисов', 'М.Агранович',\n",
       "       'Т.Тания', 'Н.Назарова', 'Валерия Гай Германика', 'Е.Яцкина',\n",
       "       'А.Лунгин', 'Ю.Разыков', 'Н.Сайфуллаева', 'Р.Паушу', 'Б.Акопов',\n",
       "       'Ю.Быков', 'П.Левченко', 'С.Проскурина',\n",
       "       'Р.Артемьев (псев.С.Васильев)', 'А.Красовский', 'О.Степченко',\n",
       "       'Е.Невский (псевдоним Е.Торрес)', 'М.Зыков', 'А.Аббасов',\n",
       "       'А.Михалков (псевдоним А.Кончаловский)', 'А.Попова',\n",
       "       'Е.Михалков-Кончаловский', 'М.Морсков', 'К.Оганисян', 'А.Пинхасов',\n",
       "       'В.Чигинский', 'О.Городецкая', 'В.Бедошвили', 'А.Кравчук',\n",
       "       ' Ф.Бондарчук', 'М.Бальчюнас (псевдоним М.Вайсберг)'], dtype=object)"
      ]
     },
     "execution_count": 75,
     "metadata": {},
     "output_type": "execute_result"
    }
   ],
   "source": [
    "df_gov_supp['pr_director'].unique()"
   ]
  },
  {
   "cell_type": "code",
   "execution_count": 76,
   "id": "5082be35",
   "metadata": {
    "scrolled": true
   },
   "outputs": [
    {
     "data": {
      "text/plain": [
       "pr_director\n",
       "Р.Давлетьяров                                 5\n",
       "Д.Дьяченко                                    4\n",
       "С.Андреасян                                   4\n",
       "С.Мокрицкий                                   3\n",
       "А.Котт                                        3\n",
       "                                             ..\n",
       "Е.Жигаева                                     1\n",
       "Е.Константинова (псевдоним Алена Званцева)    1\n",
       "Е.Миндадзе (псевдоним Катя Шагалова)          1\n",
       "Е.Михалков-Кончаловский                       1\n",
       "Я.Поляруш                                     1\n",
       "Name: title, Length: 243, dtype: int64"
      ]
     },
     "execution_count": 76,
     "metadata": {},
     "output_type": "execute_result"
    }
   ],
   "source": [
    "df_gov_supp.groupby('pr_director')['title'].count().sort_values(ascending=False)"
   ]
  },
  {
   "cell_type": "markdown",
   "id": "e20e9963",
   "metadata": {},
   "source": [
    "Не артхаус..."
   ]
  },
  {
   "cell_type": "markdown",
   "id": "142f5f71",
   "metadata": {},
   "source": [
    "### Промежуточный вывод 4"
   ]
  },
  {
   "cell_type": "markdown",
   "id": "640b9adb",
   "metadata": {},
   "source": [
    "В течении 5 лет количество фильмов, снятых с госучастием растёт, источниками финансирования выступают Минкульт и Фонд кино, субсидиями (по большей части безвозвратными) покрывается около 50% бюджета. Рейтинг составляет от 1,0 до 8,5; в среднем - 6.01. Кассовые сборы большинства фильмов не окупают затрат на его производство. Суммарно, только в 2017 и 2018 гг у фильмов, снятых с участием государства,  общие кассовые сборы превысили общий бюджет."
   ]
  },
  {
   "cell_type": "markdown",
   "id": "d977aee8",
   "metadata": {},
   "source": [
    "# Общий вывод"
   ]
  },
  {
   "cell_type": "markdown",
   "id": "0d4d35ae",
   "metadata": {},
   "source": [
    "За 2011-2019 гг индустрия кинопроката практически родилась и выросла. Количество фильмов увеличилось в 5 раз, кассовые сборы увеличились в 20 тыс раз. Большую часть сборов формирует небольшое количество блокбастеров, у остальных фильмов в прокате сборы небольшие. Изменился зритель, если в 2015 году в кинотеатры ходили в основном подростки, то в 2019 году ходят все (дети от 6 лет всех возрастов и взрослые). В России растёт количество фильмов, снятых с использованием государственных субсидий. Рейтинг этих фильмов составляет от 1,0 до 8,5; в среднем - 6.01. Кассовые сборы большинства фильмов не окупают затрат на его производство. Суммарно, только в 2017 и 2018 гг у фильмов, снятых с участием государства,  общие кассовые сборы превысили общий бюджет."
   ]
  }
 ],
 "metadata": {
  "kernelspec": {
   "display_name": "Python 3 (ipykernel)",
   "language": "python",
   "name": "python3"
  },
  "language_info": {
   "codemirror_mode": {
    "name": "ipython",
    "version": 3
   },
   "file_extension": ".py",
   "mimetype": "text/x-python",
   "name": "python",
   "nbconvert_exporter": "python",
   "pygments_lexer": "ipython3",
   "version": "3.9.12"
  },
  "toc": {
   "base_numbering": 1,
   "nav_menu": {},
   "number_sections": true,
   "sideBar": true,
   "skip_h1_title": true,
   "title_cell": "Table of Contents",
   "title_sidebar": "Contents",
   "toc_cell": false,
   "toc_position": {},
   "toc_section_display": true,
   "toc_window_display": false
  }
 },
 "nbformat": 4,
 "nbformat_minor": 5
}
