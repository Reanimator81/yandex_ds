{
 "cells": [
  {
   "cell_type": "markdown",
   "metadata": {},
   "source": [
    "# Выбор локации для скважины"
   ]
  },
  {
   "cell_type": "markdown",
   "metadata": {},
   "source": [
    "Допустим, вы работаете в добывающей компании «ГлавРосГосНефть». Нужно решить, где бурить новую скважину.\n",
    "\n",
    "Вам предоставлены пробы нефти в трёх регионах: в каждом 10 000 месторождений, где измерили качество нефти и объём её запасов. Постройте модель машинного обучения, которая поможет определить регион, где добыча принесёт наибольшую прибыль. Проанализируйте возможную прибыль и риски техникой *Bootstrap.*\n",
    "\n",
    "Шаги для выбора локации:\n",
    "\n",
    "- В избранном регионе ищут месторождения, для каждого определяют значения признаков;\n",
    "- Строят модель и оценивают объём запасов;\n",
    "- Выбирают месторождения с самым высокими оценками значений. Количество месторождений зависит от бюджета компании и стоимости разработки одной скважины;\n",
    "- Прибыль равна суммарной прибыли отобранных месторождений."
   ]
  },
  {
   "cell_type": "markdown",
   "metadata": {},
   "source": [
    "## Загрузка и подготовка данных"
   ]
  },
  {
   "cell_type": "code",
   "execution_count": 1,
   "metadata": {},
   "outputs": [],
   "source": [
    "import pandas as pd\n",
    "from sklearn.model_selection import train_test_split\n",
    "from sklearn.linear_model import LinearRegression\n",
    "from sklearn.metrics import mean_squared_error\n",
    "import numpy as np\n",
    "from scipy.stats import bootstrap\n",
    "import matplotlib.pyplot as plt\n",
    "import seaborn as sns"
   ]
  },
  {
   "cell_type": "code",
   "execution_count": 2,
   "metadata": {},
   "outputs": [],
   "source": [
    "BUDGET = 10e6\n",
    "DOH_BARR = 450"
   ]
  },
  {
   "cell_type": "code",
   "execution_count": 3,
   "metadata": {},
   "outputs": [],
   "source": [
    "try:\n",
    "    geo_data_0 = pd.read_csv('geo_data_0.csv')\n",
    "except:\n",
    "    geo_data_0 = pd.read_csv('/datasets/geo_data_0.csv')"
   ]
  },
  {
   "cell_type": "code",
   "execution_count": 4,
   "metadata": {},
   "outputs": [],
   "source": [
    "try:\n",
    "    geo_data_1 = pd.read_csv('geo_data_1.csv')\n",
    "except:\n",
    "    geo_data_1 = pd.read_csv('/datasets/geo_data_1.csv')"
   ]
  },
  {
   "cell_type": "code",
   "execution_count": 5,
   "metadata": {},
   "outputs": [],
   "source": [
    "try:\n",
    "    geo_data_2 = pd.read_csv('geo_data_2.csv')\n",
    "except:\n",
    "    geo_data_2 = pd.read_csv('/datasets/geo_data_2.csv')"
   ]
  },
  {
   "cell_type": "code",
   "execution_count": 6,
   "metadata": {},
   "outputs": [
    {
     "data": {
      "text/html": [
       "<div>\n",
       "<style scoped>\n",
       "    .dataframe tbody tr th:only-of-type {\n",
       "        vertical-align: middle;\n",
       "    }\n",
       "\n",
       "    .dataframe tbody tr th {\n",
       "        vertical-align: top;\n",
       "    }\n",
       "\n",
       "    .dataframe thead th {\n",
       "        text-align: right;\n",
       "    }\n",
       "</style>\n",
       "<table border=\"1\" class=\"dataframe\">\n",
       "  <thead>\n",
       "    <tr style=\"text-align: right;\">\n",
       "      <th></th>\n",
       "      <th>id</th>\n",
       "      <th>f0</th>\n",
       "      <th>f1</th>\n",
       "      <th>f2</th>\n",
       "      <th>product</th>\n",
       "    </tr>\n",
       "  </thead>\n",
       "  <tbody>\n",
       "    <tr>\n",
       "      <th>0</th>\n",
       "      <td>txEyH</td>\n",
       "      <td>0.705745</td>\n",
       "      <td>-0.497823</td>\n",
       "      <td>1.221170</td>\n",
       "      <td>105.280062</td>\n",
       "    </tr>\n",
       "    <tr>\n",
       "      <th>1</th>\n",
       "      <td>2acmU</td>\n",
       "      <td>1.334711</td>\n",
       "      <td>-0.340164</td>\n",
       "      <td>4.365080</td>\n",
       "      <td>73.037750</td>\n",
       "    </tr>\n",
       "    <tr>\n",
       "      <th>2</th>\n",
       "      <td>409Wp</td>\n",
       "      <td>1.022732</td>\n",
       "      <td>0.151990</td>\n",
       "      <td>1.419926</td>\n",
       "      <td>85.265647</td>\n",
       "    </tr>\n",
       "    <tr>\n",
       "      <th>3</th>\n",
       "      <td>iJLyR</td>\n",
       "      <td>-0.032172</td>\n",
       "      <td>0.139033</td>\n",
       "      <td>2.978566</td>\n",
       "      <td>168.620776</td>\n",
       "    </tr>\n",
       "    <tr>\n",
       "      <th>4</th>\n",
       "      <td>Xdl7t</td>\n",
       "      <td>1.988431</td>\n",
       "      <td>0.155413</td>\n",
       "      <td>4.751769</td>\n",
       "      <td>154.036647</td>\n",
       "    </tr>\n",
       "  </tbody>\n",
       "</table>\n",
       "</div>"
      ],
      "text/plain": [
       "      id        f0        f1        f2     product\n",
       "0  txEyH  0.705745 -0.497823  1.221170  105.280062\n",
       "1  2acmU  1.334711 -0.340164  4.365080   73.037750\n",
       "2  409Wp  1.022732  0.151990  1.419926   85.265647\n",
       "3  iJLyR -0.032172  0.139033  2.978566  168.620776\n",
       "4  Xdl7t  1.988431  0.155413  4.751769  154.036647"
      ]
     },
     "execution_count": 6,
     "metadata": {},
     "output_type": "execute_result"
    }
   ],
   "source": [
    "geo_data_0.head()"
   ]
  },
  {
   "cell_type": "code",
   "execution_count": 7,
   "metadata": {},
   "outputs": [
    {
     "name": "stdout",
     "output_type": "stream",
     "text": [
      "<class 'pandas.core.frame.DataFrame'>\n",
      "RangeIndex: 100000 entries, 0 to 99999\n",
      "Data columns (total 5 columns):\n",
      " #   Column   Non-Null Count   Dtype  \n",
      "---  ------   --------------   -----  \n",
      " 0   id       100000 non-null  object \n",
      " 1   f0       100000 non-null  float64\n",
      " 2   f1       100000 non-null  float64\n",
      " 3   f2       100000 non-null  float64\n",
      " 4   product  100000 non-null  float64\n",
      "dtypes: float64(4), object(1)\n",
      "memory usage: 3.8+ MB\n"
     ]
    }
   ],
   "source": [
    "geo_data_0.info()"
   ]
  },
  {
   "cell_type": "code",
   "execution_count": 8,
   "metadata": {},
   "outputs": [
    {
     "data": {
      "text/plain": [
       "10"
      ]
     },
     "execution_count": 8,
     "metadata": {},
     "output_type": "execute_result"
    }
   ],
   "source": [
    "geo_data_0['id'].duplicated().sum()"
   ]
  },
  {
   "cell_type": "code",
   "execution_count": 9,
   "metadata": {},
   "outputs": [
    {
     "data": {
      "image/png": "[encoded data removed]",
      "text/plain": [
       "<Figure size 432x288 with 2 Axes>"
      ]
     },
     "metadata": {
      "needs_background": "light"
     },
     "output_type": "display_data"
    }
   ],
   "source": [
    "sns.heatmap(geo_data_0.corr(), annot = True);"
   ]
  },
  {
   "cell_type": "code",
   "execution_count": 10,
   "metadata": {},
   "outputs": [
    {
     "data": {
      "text/html": [
       "<div>\n",
       "<style scoped>\n",
       "    .dataframe tbody tr th:only-of-type {\n",
       "        vertical-align: middle;\n",
       "    }\n",
       "\n",
       "    .dataframe tbody tr th {\n",
       "        vertical-align: top;\n",
       "    }\n",
       "\n",
       "    .dataframe thead th {\n",
       "        text-align: right;\n",
       "    }\n",
       "</style>\n",
       "<table border=\"1\" class=\"dataframe\">\n",
       "  <thead>\n",
       "    <tr style=\"text-align: right;\">\n",
       "      <th></th>\n",
       "      <th>id</th>\n",
       "      <th>f0</th>\n",
       "      <th>f1</th>\n",
       "      <th>f2</th>\n",
       "      <th>product</th>\n",
       "    </tr>\n",
       "  </thead>\n",
       "  <tbody>\n",
       "    <tr>\n",
       "      <th>0</th>\n",
       "      <td>kBEdx</td>\n",
       "      <td>-15.001348</td>\n",
       "      <td>-8.276000</td>\n",
       "      <td>-0.005876</td>\n",
       "      <td>3.179103</td>\n",
       "    </tr>\n",
       "    <tr>\n",
       "      <th>1</th>\n",
       "      <td>62mP7</td>\n",
       "      <td>14.272088</td>\n",
       "      <td>-3.475083</td>\n",
       "      <td>0.999183</td>\n",
       "      <td>26.953261</td>\n",
       "    </tr>\n",
       "    <tr>\n",
       "      <th>2</th>\n",
       "      <td>vyE1P</td>\n",
       "      <td>6.263187</td>\n",
       "      <td>-5.948386</td>\n",
       "      <td>5.001160</td>\n",
       "      <td>134.766305</td>\n",
       "    </tr>\n",
       "    <tr>\n",
       "      <th>3</th>\n",
       "      <td>KcrkZ</td>\n",
       "      <td>-13.081196</td>\n",
       "      <td>-11.506057</td>\n",
       "      <td>4.999415</td>\n",
       "      <td>137.945408</td>\n",
       "    </tr>\n",
       "    <tr>\n",
       "      <th>4</th>\n",
       "      <td>AHL4O</td>\n",
       "      <td>12.702195</td>\n",
       "      <td>-8.147433</td>\n",
       "      <td>5.004363</td>\n",
       "      <td>134.766305</td>\n",
       "    </tr>\n",
       "  </tbody>\n",
       "</table>\n",
       "</div>"
      ],
      "text/plain": [
       "      id         f0         f1        f2     product\n",
       "0  kBEdx -15.001348  -8.276000 -0.005876    3.179103\n",
       "1  62mP7  14.272088  -3.475083  0.999183   26.953261\n",
       "2  vyE1P   6.263187  -5.948386  5.001160  134.766305\n",
       "3  KcrkZ -13.081196 -11.506057  4.999415  137.945408\n",
       "4  AHL4O  12.702195  -8.147433  5.004363  134.766305"
      ]
     },
     "execution_count": 10,
     "metadata": {},
     "output_type": "execute_result"
    }
   ],
   "source": [
    "geo_data_1.head()"
   ]
  },
  {
   "cell_type": "code",
   "execution_count": 11,
   "metadata": {},
   "outputs": [
    {
     "name": "stdout",
     "output_type": "stream",
     "text": [
      "<class 'pandas.core.frame.DataFrame'>\n",
      "RangeIndex: 100000 entries, 0 to 99999\n",
      "Data columns (total 5 columns):\n",
      " #   Column   Non-Null Count   Dtype  \n",
      "---  ------   --------------   -----  \n",
      " 0   id       100000 non-null  object \n",
      " 1   f0       100000 non-null  float64\n",
      " 2   f1       100000 non-null  float64\n",
      " 3   f2       100000 non-null  float64\n",
      " 4   product  100000 non-null  float64\n",
      "dtypes: float64(4), object(1)\n",
      "memory usage: 3.8+ MB\n"
     ]
    }
   ],
   "source": [
    "geo_data_1.info()"
   ]
  },
  {
   "cell_type": "code",
   "execution_count": 12,
   "metadata": {},
   "outputs": [
    {
     "data": {
      "text/plain": [
       "4"
      ]
     },
     "execution_count": 12,
     "metadata": {},
     "output_type": "execute_result"
    }
   ],
   "source": [
    "geo_data_1['id'].duplicated().sum()"
   ]
  },
  {
   "cell_type": "code",
   "execution_count": 13,
   "metadata": {},
   "outputs": [
    {
     "data": {
      "image/png": "[encoded data removed]",
      "text/plain": [
       "<Figure size 432x288 with 2 Axes>"
      ]
     },
     "metadata": {
      "needs_background": "light"
     },
     "output_type": "display_data"
    }
   ],
   "source": [
    "sns.heatmap(geo_data_1.corr(), annot = True);"
   ]
  },
  {
   "cell_type": "code",
   "execution_count": 14,
   "metadata": {},
   "outputs": [
    {
     "data": {
      "text/html": [
       "<div>\n",
       "<style scoped>\n",
       "    .dataframe tbody tr th:only-of-type {\n",
       "        vertical-align: middle;\n",
       "    }\n",
       "\n",
       "    .dataframe tbody tr th {\n",
       "        vertical-align: top;\n",
       "    }\n",
       "\n",
       "    .dataframe thead th {\n",
       "        text-align: right;\n",
       "    }\n",
       "</style>\n",
       "<table border=\"1\" class=\"dataframe\">\n",
       "  <thead>\n",
       "    <tr style=\"text-align: right;\">\n",
       "      <th></th>\n",
       "      <th>id</th>\n",
       "      <th>f0</th>\n",
       "      <th>f1</th>\n",
       "      <th>f2</th>\n",
       "      <th>product</th>\n",
       "    </tr>\n",
       "  </thead>\n",
       "  <tbody>\n",
       "    <tr>\n",
       "      <th>0</th>\n",
       "      <td>fwXo0</td>\n",
       "      <td>-1.146987</td>\n",
       "      <td>0.963328</td>\n",
       "      <td>-0.828965</td>\n",
       "      <td>27.758673</td>\n",
       "    </tr>\n",
       "    <tr>\n",
       "      <th>1</th>\n",
       "      <td>WJtFt</td>\n",
       "      <td>0.262778</td>\n",
       "      <td>0.269839</td>\n",
       "      <td>-2.530187</td>\n",
       "      <td>56.069697</td>\n",
       "    </tr>\n",
       "    <tr>\n",
       "      <th>2</th>\n",
       "      <td>ovLUW</td>\n",
       "      <td>0.194587</td>\n",
       "      <td>0.289035</td>\n",
       "      <td>-5.586433</td>\n",
       "      <td>62.871910</td>\n",
       "    </tr>\n",
       "    <tr>\n",
       "      <th>3</th>\n",
       "      <td>q6cA6</td>\n",
       "      <td>2.236060</td>\n",
       "      <td>-0.553760</td>\n",
       "      <td>0.930038</td>\n",
       "      <td>114.572842</td>\n",
       "    </tr>\n",
       "    <tr>\n",
       "      <th>4</th>\n",
       "      <td>WPMUX</td>\n",
       "      <td>-0.515993</td>\n",
       "      <td>1.716266</td>\n",
       "      <td>5.899011</td>\n",
       "      <td>149.600746</td>\n",
       "    </tr>\n",
       "  </tbody>\n",
       "</table>\n",
       "</div>"
      ],
      "text/plain": [
       "      id        f0        f1        f2     product\n",
       "0  fwXo0 -1.146987  0.963328 -0.828965   27.758673\n",
       "1  WJtFt  0.262778  0.269839 -2.530187   56.069697\n",
       "2  ovLUW  0.194587  0.289035 -5.586433   62.871910\n",
       "3  q6cA6  2.236060 -0.553760  0.930038  114.572842\n",
       "4  WPMUX -0.515993  1.716266  5.899011  149.600746"
      ]
     },
     "execution_count": 14,
     "metadata": {},
     "output_type": "execute_result"
    }
   ],
   "source": [
    "geo_data_2.head()"
   ]
  },
  {
   "cell_type": "code",
   "execution_count": 15,
   "metadata": {},
   "outputs": [
    {
     "name": "stdout",
     "output_type": "stream",
     "text": [
      "<class 'pandas.core.frame.DataFrame'>\n",
      "RangeIndex: 100000 entries, 0 to 99999\n",
      "Data columns (total 5 columns):\n",
      " #   Column   Non-Null Count   Dtype  \n",
      "---  ------   --------------   -----  \n",
      " 0   id       100000 non-null  object \n",
      " 1   f0       100000 non-null  float64\n",
      " 2   f1       100000 non-null  float64\n",
      " 3   f2       100000 non-null  float64\n",
      " 4   product  100000 non-null  float64\n",
      "dtypes: float64(4), object(1)\n",
      "memory usage: 3.8+ MB\n"
     ]
    }
   ],
   "source": [
    "geo_data_2.info()"
   ]
  },
  {
   "cell_type": "code",
   "execution_count": 16,
   "metadata": {},
   "outputs": [
    {
     "data": {
      "text/plain": [
       "4"
      ]
     },
     "execution_count": 16,
     "metadata": {},
     "output_type": "execute_result"
    }
   ],
   "source": [
    "geo_data_2['id'].duplicated().sum()"
   ]
  },
  {
   "cell_type": "code",
   "execution_count": 17,
   "metadata": {},
   "outputs": [
    {
     "data": {
      "image/png": "[encoded data removed]",
      "text/plain": [
       "<Figure size 432x288 with 2 Axes>"
      ]
     },
     "metadata": {
      "needs_background": "light"
     },
     "output_type": "display_data"
    }
   ],
   "source": [
    "sns.heatmap(geo_data_2.corr(), annot = True);"
   ]
  },
  {
   "cell_type": "code",
   "execution_count": 18,
   "metadata": {},
   "outputs": [],
   "source": [
    "geo_data_0_x = geo_data_0.drop(['product', 'id'], axis=1)\n",
    "geo_data_0_y = geo_data_0['product']\n",
    "geo_data_1_x = geo_data_1.drop(['product', 'id'], axis=1)\n",
    "geo_data_1_y = geo_data_1['product']\n",
    "geo_data_2_x = geo_data_2.drop(['product', 'id'], axis=1)\n",
    "geo_data_2_y = geo_data_2['product']"
   ]
  },
  {
   "cell_type": "code",
   "execution_count": 19,
   "metadata": {},
   "outputs": [],
   "source": [
    "features_train_0, features_valid_0, target_train_0, target_valid_0 = train_test_split(\n",
    "geo_data_0_x, geo_data_0_y, test_size=0.25, random_state=12345)"
   ]
  },
  {
   "cell_type": "code",
   "execution_count": 20,
   "metadata": {},
   "outputs": [],
   "source": [
    "features_train_1, features_valid_1, target_train_1, target_valid_1 = train_test_split(\n",
    "geo_data_1_x, geo_data_1_y, test_size=0.25, random_state=12345)"
   ]
  },
  {
   "cell_type": "code",
   "execution_count": 21,
   "metadata": {},
   "outputs": [],
   "source": [
    "features_train_2, features_valid_2, target_train_2, target_valid_2 = train_test_split(\n",
    "geo_data_2_x, geo_data_2_y, test_size=0.25, random_state=12345)"
   ]
  },
  {
   "cell_type": "code",
   "execution_count": 22,
   "metadata": {},
   "outputs": [
    {
     "name": "stdout",
     "output_type": "stream",
     "text": [
      "обучающая выборка (75000, 3)\n",
      "валидационная выборка (25000, 3)\n"
     ]
    }
   ],
   "source": [
    "print('обучающая выборка', features_train_0.shape)\n",
    "print('валидационная выборка', features_valid_0.shape)"
   ]
  },
  {
   "cell_type": "code",
   "execution_count": 23,
   "metadata": {},
   "outputs": [
    {
     "data": {
      "text/html": [
       "<div>\n",
       "<style scoped>\n",
       "    .dataframe tbody tr th:only-of-type {\n",
       "        vertical-align: middle;\n",
       "    }\n",
       "\n",
       "    .dataframe tbody tr th {\n",
       "        vertical-align: top;\n",
       "    }\n",
       "\n",
       "    .dataframe thead th {\n",
       "        text-align: right;\n",
       "    }\n",
       "</style>\n",
       "<table border=\"1\" class=\"dataframe\">\n",
       "  <thead>\n",
       "    <tr style=\"text-align: right;\">\n",
       "      <th></th>\n",
       "      <th>f0</th>\n",
       "      <th>f1</th>\n",
       "      <th>f2</th>\n",
       "    </tr>\n",
       "  </thead>\n",
       "  <tbody>\n",
       "    <tr>\n",
       "      <th>27212</th>\n",
       "      <td>-6.488552</td>\n",
       "      <td>-1.590478</td>\n",
       "      <td>3.001311</td>\n",
       "    </tr>\n",
       "    <tr>\n",
       "      <th>7866</th>\n",
       "      <td>18.819463</td>\n",
       "      <td>4.602079</td>\n",
       "      <td>2.996867</td>\n",
       "    </tr>\n",
       "    <tr>\n",
       "      <th>62041</th>\n",
       "      <td>10.816499</td>\n",
       "      <td>-3.919653</td>\n",
       "      <td>1.991077</td>\n",
       "    </tr>\n",
       "    <tr>\n",
       "      <th>70185</th>\n",
       "      <td>-12.416362</td>\n",
       "      <td>-9.343774</td>\n",
       "      <td>0.996691</td>\n",
       "    </tr>\n",
       "    <tr>\n",
       "      <th>82230</th>\n",
       "      <td>-15.041012</td>\n",
       "      <td>-8.474624</td>\n",
       "      <td>1.996463</td>\n",
       "    </tr>\n",
       "  </tbody>\n",
       "</table>\n",
       "</div>"
      ],
      "text/plain": [
       "              f0        f1        f2\n",
       "27212  -6.488552 -1.590478  3.001311\n",
       "7866   18.819463  4.602079  2.996867\n",
       "62041  10.816499 -3.919653  1.991077\n",
       "70185 -12.416362 -9.343774  0.996691\n",
       "82230 -15.041012 -8.474624  1.996463"
      ]
     },
     "execution_count": 23,
     "metadata": {},
     "output_type": "execute_result"
    }
   ],
   "source": [
    "features_train_1.head()"
   ]
  },
  {
   "cell_type": "markdown",
   "metadata": {},
   "source": [
    "Данные по 3 регионам загружены и исследованы, предварительной обработки они не требуют. Разделены фичи и целевой признак. Данные по каждому региону разделены на тренировочную и валидационную выборки в соотношении 3:1. "
   ]
  },
  {
   "cell_type": "markdown",
   "metadata": {},
   "source": [
    "## Обучение и проверка модели"
   ]
  },
  {
   "cell_type": "code",
   "execution_count": 24,
   "metadata": {},
   "outputs": [],
   "source": [
    "model_0 = LinearRegression()\n",
    "model_1 = LinearRegression()\n",
    "model_2 = LinearRegression()"
   ]
  },
  {
   "cell_type": "code",
   "execution_count": 25,
   "metadata": {},
   "outputs": [
    {
     "data": {
      "text/plain": [
       "LinearRegression()"
      ]
     },
     "execution_count": 25,
     "metadata": {},
     "output_type": "execute_result"
    }
   ],
   "source": [
    "model_0.fit(features_train_0, target_train_0)\n",
    "model_1.fit(features_train_1, target_train_1)\n",
    "model_2.fit(features_train_2, target_train_2)"
   ]
  },
  {
   "cell_type": "code",
   "execution_count": 26,
   "metadata": {},
   "outputs": [],
   "source": [
    "predict_0 = model_0.predict(features_valid_0)\n",
    "predict_1 = model_1.predict(features_valid_1)\n",
    "predict_2 = model_2.predict(features_valid_2)"
   ]
  },
  {
   "cell_type": "code",
   "execution_count": 27,
   "metadata": {},
   "outputs": [
    {
     "name": "stdout",
     "output_type": "stream",
     "text": [
      "92.59256778438035\n",
      "68.72854689544602\n",
      "94.96504596800489\n"
     ]
    }
   ],
   "source": [
    "print(predict_0.mean())\n",
    "print(predict_1.mean())\n",
    "print(predict_2.mean())"
   ]
  },
  {
   "cell_type": "code",
   "execution_count": 28,
   "metadata": {},
   "outputs": [],
   "source": [
    "mse_0 = mean_squared_error(target_valid_0, predict_0)\n",
    "rmse_0 = mse_0 ** 0.5\n",
    "mse_1 = mean_squared_error(target_valid_1, predict_1)\n",
    "rmse_1 = mse_1 ** 0.5\n",
    "mse_2 = mean_squared_error(target_valid_2, predict_2)\n",
    "rmse_2 = mse_2 ** 0.5\n"
   ]
  },
  {
   "cell_type": "code",
   "execution_count": 29,
   "metadata": {},
   "outputs": [
    {
     "name": "stdout",
     "output_type": "stream",
     "text": [
      "37.5794217150813\n",
      "0.8930992867756182\n",
      "40.02970873393434\n"
     ]
    }
   ],
   "source": [
    "print(rmse_0)\n",
    "print(rmse_1)\n",
    "print(rmse_2)"
   ]
  },
  {
   "cell_type": "markdown",
   "metadata": {},
   "source": [
    "Для прогнозирования уровня добычи использована модель линейной регрессии (условие задачи). На данных 3 регионов обучено 3 модели, которые были проверены на валидационных выборках. Модели оценивались по RMSE."
   ]
  },
  {
   "cell_type": "markdown",
   "metadata": {},
   "source": [
    "## Предварительный вывод №1 "
   ]
  },
  {
   "cell_type": "markdown",
   "metadata": {},
   "source": [
    "Методом линейной регрессии был выполнен прогноз уровня нефтедобычи в 3 различных регионах. Определена средняя добыча на 1 скважину: 92.59, 68.73, 94.97 тыс. баррелей. RMSE составила, соответственно: 37.58, 0.89, 40.03. Обращает на себя внимание минимальная ошибка предсказанной добычи во 2 регионе, связано это с выявленной корреляций только с одним из 3 признаков, использованных для анализа."
   ]
  },
  {
   "cell_type": "markdown",
   "metadata": {},
   "source": [
    "## Подготовка к расчёту прибыли"
   ]
  },
  {
   "cell_type": "code",
   "execution_count": 30,
   "metadata": {},
   "outputs": [
    {
     "name": "stdout",
     "output_type": "stream",
     "text": [
      "111.11111111111111\n"
     ]
    }
   ],
   "source": [
    "zatr_skv = BUDGET/200\n",
    "urov_okup = zatr_skv/DOH_BARR\n",
    "print(urov_okup)"
   ]
  },
  {
   "cell_type": "markdown",
   "metadata": {},
   "source": [
    "## Предварительный вывод №2"
   ]
  },
  {
   "cell_type": "markdown",
   "metadata": {},
   "source": [
    "Расчёт безубыточного уровня добычи скважины с учётом бюджета на разработку скважин 10 млд рублей, необходимости ввода 200 скважин и дохода от добычи 1000 баррелей - 450 тыс рублей. Соответственно, скважина окупает инвестиции при добычи более 111.11 тыс баррелей. Средний предсказанный уровень добычи по каждому региону ниже уровня окупаемости."
   ]
  },
  {
   "cell_type": "markdown",
   "metadata": {},
   "source": [
    "## Расчёт прибыли и рисков "
   ]
  },
  {
   "cell_type": "code",
   "execution_count": 31,
   "metadata": {},
   "outputs": [],
   "source": [
    "def prib_pred (predict, urov_okup):\n",
    "    predict = pd.Series(predict)\n",
    "    predict_best = predict.sort_values(ascending=False).head(200)\n",
    "    result = predict_best.sum()*DOH_BARR - BUDGET\n",
    "    ubit_pred = 0\n",
    "    for value in predict_best:\n",
    "        if value < urov_okup:\n",
    "            ubit_pred += 1\n",
    "    ubit_pred_part = (ubit_pred/len(predict_best))*100\n",
    "    return result, ubit_pred_part"
   ]
  },
  {
   "cell_type": "markdown",
   "metadata": {},
   "source": [
    "Функция расчёта прибыли региона и доли убыточных 200 лучших скажин (исходя из предсказанных данных)"
   ]
  },
  {
   "cell_type": "code",
   "execution_count": 32,
   "metadata": {},
   "outputs": [
    {
     "data": {
      "text/plain": [
       "(3996048.877465112, 0.0)"
      ]
     },
     "execution_count": 32,
     "metadata": {},
     "output_type": "execute_result"
    }
   ],
   "source": [
    "prib_pred(predict_0, urov_okup)"
   ]
  },
  {
   "cell_type": "code",
   "execution_count": 33,
   "metadata": {},
   "outputs": [
    {
     "data": {
      "text/plain": [
       "(2485712.0519734956, 0.0)"
      ]
     },
     "execution_count": 33,
     "metadata": {},
     "output_type": "execute_result"
    }
   ],
   "source": [
    "prib_pred(predict_1, urov_okup)"
   ]
  },
  {
   "cell_type": "code",
   "execution_count": 34,
   "metadata": {},
   "outputs": [
    {
     "data": {
      "text/plain": [
       "(3321754.396243274, 0.0)"
      ]
     },
     "execution_count": 34,
     "metadata": {},
     "output_type": "execute_result"
    }
   ],
   "source": [
    "prib_pred(predict_2, urov_okup)"
   ]
  },
  {
   "cell_type": "code",
   "execution_count": 35,
   "metadata": {},
   "outputs": [],
   "source": [
    "def prib_real(predict, target_valid):    \n",
    "    predict_best = predict.sort_values(ascending=False).head(200)\n",
    "    product_real = target_valid[predict_best.index]\n",
    "    result = product_real.sum()*DOH_BARR - BUDGET\n",
    "    return result"
   ]
  },
  {
   "cell_type": "markdown",
   "metadata": {},
   "source": [
    "Функция расчёта прибыли региона на основе реальной добычи 200 лучших скважин, отобранных по предсказанным данным."
   ]
  },
  {
   "cell_type": "code",
   "execution_count": 36,
   "metadata": {},
   "outputs": [
    {
     "data": {
      "text/plain": [
       "3320826.0431398507"
      ]
     },
     "execution_count": 36,
     "metadata": {},
     "output_type": "execute_result"
    }
   ],
   "source": [
    "prib_real(pd.Series(predict_0), target_valid_0.reset_index(drop=True))"
   ]
  },
  {
   "cell_type": "code",
   "execution_count": 37,
   "metadata": {},
   "outputs": [
    {
     "data": {
      "text/plain": [
       "2415086.6966815125"
      ]
     },
     "execution_count": 37,
     "metadata": {},
     "output_type": "execute_result"
    }
   ],
   "source": [
    "prib_real(pd.Series(predict_1), target_valid_1.reset_index(drop=True))"
   ]
  },
  {
   "cell_type": "code",
   "execution_count": 38,
   "metadata": {},
   "outputs": [
    {
     "data": {
      "text/plain": [
       "2710349.9635998327"
      ]
     },
     "execution_count": 38,
     "metadata": {},
     "output_type": "execute_result"
    }
   ],
   "source": [
    "prib_real(pd.Series(predict_2), target_valid_2.reset_index(drop=True))"
   ]
  },
  {
   "cell_type": "code",
   "execution_count": 39,
   "metadata": {},
   "outputs": [],
   "source": [
    "state = np.random.RandomState(12345)\n",
    "def bootstrap_region (predict, target):\n",
    "    target = target.reset_index(drop=True)\n",
    "    predict = pd.Series(predict)\n",
    "    values = []\n",
    "    for i in range(1000):\n",
    "        predict_best = predict.sample(500, replace=True, random_state=state) \n",
    "        product_real = target[predict_best.index]\n",
    "        values.append(prib_real(predict_best, product_real)) \n",
    "    values =  pd.Series(values)\n",
    "    lower = values.quantile(0.025)\n",
    "    upper = values.quantile(0.975)\n",
    "    return print('Средняя прибыль по региону:', f'{values.mean():.2f}', 'тыс. руб', ' ',\n",
    "    '95%-доверительный интервал:', f'{lower:.2f}', '-', f'{upper:.2f}',\n",
    "    'Риск убытков = {:.2%} '.format((pd.Series(values)<0).mean()))\n"
   ]
  },
  {
   "cell_type": "markdown",
   "metadata": {},
   "source": [
    "Расчёт 95% - доверительного интервала средней прибыли одной скважины из 200, отобранных по предсказанным результатам, исходя из их реальной добычи, методом bootstrap. "
   ]
  },
  {
   "cell_type": "code",
   "execution_count": 40,
   "metadata": {},
   "outputs": [
    {
     "name": "stdout",
     "output_type": "stream",
     "text": [
      "Средняя прибыль по региону: 600735.24 тыс. руб   95%-доверительный интервал: 12948.33 - 1231163.61 Риск убытков = 2.00% \n"
     ]
    }
   ],
   "source": [
    "bootstrap_region(predict_0, target_valid_0)"
   ]
  },
  {
   "cell_type": "code",
   "execution_count": 41,
   "metadata": {},
   "outputs": [
    {
     "name": "stdout",
     "output_type": "stream",
     "text": [
      "Средняя прибыль по региону: 663959.00 тыс. руб   95%-доверительный интервал: 206476.36 - 1191197.68 Риск убытков = 0.10% \n"
     ]
    }
   ],
   "source": [
    "bootstrap_region(predict_1, target_valid_1)"
   ]
  },
  {
   "cell_type": "code",
   "execution_count": 42,
   "metadata": {},
   "outputs": [
    {
     "name": "stdout",
     "output_type": "stream",
     "text": [
      "Средняя прибыль по региону: 597381.05 тыс. руб   95%-доверительный интервал: 1734.93 - 1246217.96 Риск убытков = 2.50% \n"
     ]
    }
   ],
   "source": [
    "bootstrap_region(predict_2, target_valid_2)"
   ]
  },
  {
   "cell_type": "markdown",
   "metadata": {},
   "source": [
    "# Вывод"
   ]
  },
  {
   "cell_type": "markdown",
   "metadata": {},
   "source": [
    "Методом линейной регрессии был выполнен прогноз уровня нефтедобычи в 3 различных регионах. Определена средняя добыча на 1 скважину: 92.59, 68.73, 94.97 тыс. баррелей. RMSE составила, соответственно: 37.58, 0.89, 40.03. Выполнен анализ реальной добычи лучших 200 скважин, отобранных по предсказанным данным. Среднняя прибыль региона оказалась меньше расчётной. Методом bootstrap вычислена средняя прибыль региона при работе 200 лучших скважин, 95% доверительный интервал средней прибыли региона и риск убыточной работы региона. Получены следующие показатели:\n",
    "Регион 1: Средняя прибыль по региону: 600735.24 тыс. руб   95%-доверительный интервал: 12948.33 - 1231163.61 Риск убытков = 2.00%.\n",
    "Регион 2: Средняя прибыль по региону: 663959.00 тыс. руб   95%-доверительный интервал: 206476.36 - 1191197.68 Риск убытков = 0.10%.\n",
    "Регион 3: Средняя прибыль по региону: 597381.05 тыс. руб   95%-доверительный интервал: 1734.93 - 1246217.96 Риск убытков = 2.50%.\n",
    "С учётом заданных условий (риск убытков менее 2.5%), хороших показателей средней прибыли и низкой дисперсии уровней добычи отобранных скважин, что обуславливает 0.1% вероятности убыточной работы региона, для разработки рекомендован Регион 2. "
   ]
  }
 ],
 "metadata": {
  "ExecuteTimeLog": [
   {
    "duration": 14,
    "start_time": "2022-12-25T08:07:58.713Z"
   },
   {
    "duration": 44,
    "start_time": "2022-12-25T08:08:30.805Z"
   },
   {
    "duration": 7,
    "start_time": "2022-12-25T08:57:46.329Z"
   },
   {
    "duration": 1556,
    "start_time": "2022-12-25T08:58:57.265Z"
   },
   {
    "duration": 1524,
    "start_time": "2022-12-25T08:58:58.823Z"
   },
   {
    "duration": 17,
    "start_time": "2022-12-25T08:59:00.349Z"
   },
   {
    "duration": 45,
    "start_time": "2022-12-25T08:59:00.368Z"
   },
   {
    "duration": 92,
    "start_time": "2022-12-25T08:59:00.416Z"
   },
   {
    "duration": 10,
    "start_time": "2022-12-25T08:59:00.509Z"
   },
   {
    "duration": 45,
    "start_time": "2022-12-25T08:59:00.520Z"
   },
   {
    "duration": 61,
    "start_time": "2022-12-25T08:59:00.566Z"
   },
   {
    "duration": 11,
    "start_time": "2022-12-25T08:59:00.629Z"
   },
   {
    "duration": 28,
    "start_time": "2022-12-25T08:59:00.642Z"
   },
   {
    "duration": 51,
    "start_time": "2022-12-25T08:59:00.672Z"
   },
   {
    "duration": 12,
    "start_time": "2022-12-25T08:59:00.725Z"
   },
   {
    "duration": 27,
    "start_time": "2022-12-25T08:59:00.739Z"
   },
   {
    "duration": 39,
    "start_time": "2022-12-25T08:59:00.767Z"
   },
   {
    "duration": 37,
    "start_time": "2022-12-25T08:59:00.808Z"
   },
   {
    "duration": 13,
    "start_time": "2022-12-25T08:59:00.847Z"
   },
   {
    "duration": 25,
    "start_time": "2022-12-25T08:59:00.862Z"
   },
   {
    "duration": 21,
    "start_time": "2022-12-25T08:59:00.888Z"
   },
   {
    "duration": 58,
    "start_time": "2022-12-25T08:59:00.910Z"
   },
   {
    "duration": 52,
    "start_time": "2022-12-25T08:59:00.970Z"
   },
   {
    "duration": 129,
    "start_time": "2022-12-25T08:59:01.024Z"
   },
   {
    "duration": 19,
    "start_time": "2022-12-25T08:59:01.154Z"
   },
   {
    "duration": 27,
    "start_time": "2022-12-25T08:59:01.175Z"
   },
   {
    "duration": 31,
    "start_time": "2022-12-25T08:59:01.204Z"
   },
   {
    "duration": 21,
    "start_time": "2022-12-25T08:59:01.236Z"
   },
   {
    "duration": 25,
    "start_time": "2022-12-25T08:59:01.259Z"
   },
   {
    "duration": 23,
    "start_time": "2022-12-25T08:59:01.285Z"
   },
   {
    "duration": 28,
    "start_time": "2022-12-25T08:59:01.311Z"
   },
   {
    "duration": 12,
    "start_time": "2022-12-25T08:59:01.341Z"
   },
   {
    "duration": 26,
    "start_time": "2022-12-25T08:59:01.354Z"
   },
   {
    "duration": 18,
    "start_time": "2022-12-25T08:59:01.382Z"
   },
   {
    "duration": 27,
    "start_time": "2022-12-25T08:59:01.401Z"
   },
   {
    "duration": 31,
    "start_time": "2022-12-25T08:59:01.430Z"
   },
   {
    "duration": 41,
    "start_time": "2022-12-25T08:59:01.463Z"
   },
   {
    "duration": 29,
    "start_time": "2022-12-25T08:59:01.505Z"
   },
   {
    "duration": 28,
    "start_time": "2022-12-25T08:59:01.536Z"
   },
   {
    "duration": 14,
    "start_time": "2022-12-25T08:59:01.565Z"
   },
   {
    "duration": 1525,
    "start_time": "2022-12-25T09:00:11.801Z"
   },
   {
    "duration": 127,
    "start_time": "2022-12-25T09:00:13.328Z"
   },
   {
    "duration": 0,
    "start_time": "2022-12-25T09:00:13.458Z"
   },
   {
    "duration": 0,
    "start_time": "2022-12-25T09:00:13.459Z"
   },
   {
    "duration": 0,
    "start_time": "2022-12-25T09:00:13.460Z"
   },
   {
    "duration": 0,
    "start_time": "2022-12-25T09:00:13.461Z"
   },
   {
    "duration": 0,
    "start_time": "2022-12-25T09:00:13.462Z"
   },
   {
    "duration": 0,
    "start_time": "2022-12-25T09:00:13.463Z"
   },
   {
    "duration": 0,
    "start_time": "2022-12-25T09:00:13.464Z"
   },
   {
    "duration": 0,
    "start_time": "2022-12-25T09:00:13.465Z"
   },
   {
    "duration": 0,
    "start_time": "2022-12-25T09:00:13.467Z"
   },
   {
    "duration": 0,
    "start_time": "2022-12-25T09:00:13.468Z"
   },
   {
    "duration": 0,
    "start_time": "2022-12-25T09:00:13.469Z"
   },
   {
    "duration": 0,
    "start_time": "2022-12-25T09:00:13.471Z"
   },
   {
    "duration": 0,
    "start_time": "2022-12-25T09:00:13.472Z"
   },
   {
    "duration": 0,
    "start_time": "2022-12-25T09:00:13.473Z"
   },
   {
    "duration": 0,
    "start_time": "2022-12-25T09:00:13.474Z"
   },
   {
    "duration": 0,
    "start_time": "2022-12-25T09:00:13.475Z"
   },
   {
    "duration": 0,
    "start_time": "2022-12-25T09:00:13.476Z"
   },
   {
    "duration": 0,
    "start_time": "2022-12-25T09:00:13.477Z"
   },
   {
    "duration": 0,
    "start_time": "2022-12-25T09:00:13.478Z"
   },
   {
    "duration": 0,
    "start_time": "2022-12-25T09:00:13.479Z"
   },
   {
    "duration": 0,
    "start_time": "2022-12-25T09:00:13.480Z"
   },
   {
    "duration": 0,
    "start_time": "2022-12-25T09:00:13.482Z"
   },
   {
    "duration": 0,
    "start_time": "2022-12-25T09:00:13.483Z"
   },
   {
    "duration": 0,
    "start_time": "2022-12-25T09:00:13.522Z"
   },
   {
    "duration": 0,
    "start_time": "2022-12-25T09:00:13.523Z"
   },
   {
    "duration": 0,
    "start_time": "2022-12-25T09:00:13.524Z"
   },
   {
    "duration": 0,
    "start_time": "2022-12-25T09:00:13.526Z"
   },
   {
    "duration": 0,
    "start_time": "2022-12-25T09:00:13.526Z"
   },
   {
    "duration": 0,
    "start_time": "2022-12-25T09:00:13.527Z"
   },
   {
    "duration": 1,
    "start_time": "2022-12-25T09:00:13.528Z"
   },
   {
    "duration": 0,
    "start_time": "2022-12-25T09:00:13.530Z"
   },
   {
    "duration": 0,
    "start_time": "2022-12-25T09:00:13.531Z"
   },
   {
    "duration": 0,
    "start_time": "2022-12-25T09:00:13.532Z"
   },
   {
    "duration": 0,
    "start_time": "2022-12-25T09:00:13.533Z"
   },
   {
    "duration": 0,
    "start_time": "2022-12-25T09:00:13.534Z"
   },
   {
    "duration": 13,
    "start_time": "2022-12-25T09:02:20.915Z"
   },
   {
    "duration": 1915,
    "start_time": "2022-12-25T20:06:07.234Z"
   },
   {
    "duration": 3,
    "start_time": "2022-12-25T20:06:09.150Z"
   },
   {
    "duration": 539,
    "start_time": "2022-12-25T20:06:09.154Z"
   },
   {
    "duration": 218,
    "start_time": "2022-12-25T20:06:09.695Z"
   },
   {
    "duration": 235,
    "start_time": "2022-12-25T20:06:09.915Z"
   },
   {
    "duration": 13,
    "start_time": "2022-12-25T20:06:10.152Z"
   },
   {
    "duration": 19,
    "start_time": "2022-12-25T20:06:10.166Z"
   },
   {
    "duration": 16,
    "start_time": "2022-12-25T20:06:10.186Z"
   },
   {
    "duration": 326,
    "start_time": "2022-12-25T20:06:10.204Z"
   },
   {
    "duration": 8,
    "start_time": "2022-12-25T20:06:10.533Z"
   },
   {
    "duration": 28,
    "start_time": "2022-12-25T20:06:10.543Z"
   },
   {
    "duration": 35,
    "start_time": "2022-12-25T20:06:10.573Z"
   },
   {
    "duration": 290,
    "start_time": "2022-12-25T20:06:10.610Z"
   },
   {
    "duration": 9,
    "start_time": "2022-12-25T20:06:10.901Z"
   },
   {
    "duration": 24,
    "start_time": "2022-12-25T20:06:10.912Z"
   },
   {
    "duration": 25,
    "start_time": "2022-12-25T20:06:10.938Z"
   },
   {
    "duration": 296,
    "start_time": "2022-12-25T20:06:10.965Z"
   },
   {
    "duration": 11,
    "start_time": "2022-12-25T20:06:11.263Z"
   },
   {
    "duration": 32,
    "start_time": "2022-12-25T20:06:11.275Z"
   },
   {
    "duration": 15,
    "start_time": "2022-12-25T20:06:11.309Z"
   },
   {
    "duration": 13,
    "start_time": "2022-12-25T20:06:11.326Z"
   },
   {
    "duration": 4,
    "start_time": "2022-12-25T20:06:11.341Z"
   },
   {
    "duration": 10,
    "start_time": "2022-12-25T20:06:11.346Z"
   },
   {
    "duration": 9,
    "start_time": "2022-12-25T20:06:11.357Z"
   },
   {
    "duration": 141,
    "start_time": "2022-12-25T20:06:11.367Z"
   },
   {
    "duration": 96,
    "start_time": "2022-12-25T20:06:11.510Z"
   },
   {
    "duration": 100,
    "start_time": "2022-12-25T20:06:11.609Z"
   },
   {
    "duration": 94,
    "start_time": "2022-12-25T20:06:11.714Z"
   },
   {
    "duration": 5,
    "start_time": "2022-12-25T20:06:11.810Z"
   },
   {
    "duration": 7,
    "start_time": "2022-12-25T20:06:11.816Z"
   },
   {
    "duration": 4,
    "start_time": "2022-12-25T20:06:11.825Z"
   },
   {
    "duration": 12,
    "start_time": "2022-12-25T20:06:11.830Z"
   },
   {
    "duration": 10,
    "start_time": "2022-12-25T20:06:11.843Z"
   },
   {
    "duration": 6,
    "start_time": "2022-12-25T20:06:11.854Z"
   },
   {
    "duration": 3,
    "start_time": "2022-12-25T20:06:11.861Z"
   },
   {
    "duration": 34,
    "start_time": "2022-12-25T20:06:11.866Z"
   },
   {
    "duration": 9,
    "start_time": "2022-12-25T20:06:11.901Z"
   },
   {
    "duration": 8,
    "start_time": "2022-12-25T20:06:11.912Z"
   },
   {
    "duration": 13,
    "start_time": "2022-12-25T20:06:11.922Z"
   },
   {
    "duration": 17,
    "start_time": "2022-12-25T20:06:11.937Z"
   },
   {
    "duration": 144,
    "start_time": "2022-12-25T20:06:11.956Z"
   },
   {
    "duration": 0,
    "start_time": "2022-12-25T20:06:12.103Z"
   },
   {
    "duration": 0,
    "start_time": "2022-12-25T20:06:12.104Z"
   },
   {
    "duration": 7,
    "start_time": "2022-12-25T20:06:23.094Z"
   },
   {
    "duration": 6,
    "start_time": "2022-12-25T20:07:56.005Z"
   },
   {
    "duration": 4,
    "start_time": "2022-12-25T20:09:23.298Z"
   },
   {
    "duration": 3,
    "start_time": "2022-12-25T20:09:28.355Z"
   },
   {
    "duration": 1034,
    "start_time": "2022-12-25T20:09:36.587Z"
   },
   {
    "duration": 1008,
    "start_time": "2022-12-25T20:09:43.484Z"
   },
   {
    "duration": 1021,
    "start_time": "2022-12-25T20:09:48.035Z"
   },
   {
    "duration": 1672,
    "start_time": "2022-12-25T20:17:00.499Z"
   },
   {
    "duration": 3,
    "start_time": "2022-12-25T20:17:02.172Z"
   },
   {
    "duration": 158,
    "start_time": "2022-12-25T20:17:02.176Z"
   },
   {
    "duration": 142,
    "start_time": "2022-12-25T20:17:02.335Z"
   },
   {
    "duration": 137,
    "start_time": "2022-12-25T20:17:02.478Z"
   },
   {
    "duration": 11,
    "start_time": "2022-12-25T20:17:02.617Z"
   },
   {
    "duration": 18,
    "start_time": "2022-12-25T20:17:02.630Z"
   },
   {
    "duration": 14,
    "start_time": "2022-12-25T20:17:02.650Z"
   },
   {
    "duration": 307,
    "start_time": "2022-12-25T20:17:02.666Z"
   },
   {
    "duration": 9,
    "start_time": "2022-12-25T20:17:02.975Z"
   },
   {
    "duration": 19,
    "start_time": "2022-12-25T20:17:02.986Z"
   },
   {
    "duration": 16,
    "start_time": "2022-12-25T20:17:03.006Z"
   },
   {
    "duration": 245,
    "start_time": "2022-12-25T20:17:03.024Z"
   },
   {
    "duration": 8,
    "start_time": "2022-12-25T20:17:03.270Z"
   },
   {
    "duration": 30,
    "start_time": "2022-12-25T20:17:03.280Z"
   },
   {
    "duration": 16,
    "start_time": "2022-12-25T20:17:03.312Z"
   },
   {
    "duration": 222,
    "start_time": "2022-12-25T20:17:03.329Z"
   },
   {
    "duration": 10,
    "start_time": "2022-12-25T20:17:03.552Z"
   },
   {
    "duration": 40,
    "start_time": "2022-12-25T20:17:03.563Z"
   },
   {
    "duration": 12,
    "start_time": "2022-12-25T20:17:03.605Z"
   },
   {
    "duration": 12,
    "start_time": "2022-12-25T20:17:03.618Z"
   },
   {
    "duration": 11,
    "start_time": "2022-12-25T20:17:03.631Z"
   },
   {
    "duration": 19,
    "start_time": "2022-12-25T20:17:03.643Z"
   },
   {
    "duration": 11,
    "start_time": "2022-12-25T20:17:03.663Z"
   },
   {
    "duration": 30,
    "start_time": "2022-12-25T20:17:03.675Z"
   },
   {
    "duration": 95,
    "start_time": "2022-12-25T20:17:03.706Z"
   },
   {
    "duration": 208,
    "start_time": "2022-12-25T20:17:03.804Z"
   },
   {
    "duration": 6,
    "start_time": "2022-12-25T20:17:04.015Z"
   },
   {
    "duration": 10,
    "start_time": "2022-12-25T20:17:04.022Z"
   },
   {
    "duration": 21,
    "start_time": "2022-12-25T20:17:04.034Z"
   },
   {
    "duration": 9,
    "start_time": "2022-12-25T20:17:04.056Z"
   },
   {
    "duration": 20,
    "start_time": "2022-12-25T20:17:04.066Z"
   },
   {
    "duration": 17,
    "start_time": "2022-12-25T20:17:04.087Z"
   },
   {
    "duration": 16,
    "start_time": "2022-12-25T20:17:04.105Z"
   },
   {
    "duration": 15,
    "start_time": "2022-12-25T20:17:04.122Z"
   },
   {
    "duration": 20,
    "start_time": "2022-12-25T20:17:04.138Z"
   },
   {
    "duration": 17,
    "start_time": "2022-12-25T20:17:04.160Z"
   },
   {
    "duration": 6,
    "start_time": "2022-12-25T20:17:04.179Z"
   },
   {
    "duration": 4,
    "start_time": "2022-12-25T20:17:04.187Z"
   },
   {
    "duration": 14,
    "start_time": "2022-12-25T20:17:04.192Z"
   },
   {
    "duration": 18,
    "start_time": "2022-12-25T20:17:04.207Z"
   },
   {
    "duration": 113,
    "start_time": "2022-12-25T20:17:04.226Z"
   },
   {
    "duration": 0,
    "start_time": "2022-12-25T20:17:04.341Z"
   },
   {
    "duration": 0,
    "start_time": "2022-12-25T20:17:04.342Z"
   },
   {
    "duration": 1702,
    "start_time": "2022-12-25T20:20:35.781Z"
   },
   {
    "duration": 2,
    "start_time": "2022-12-25T20:20:37.485Z"
   },
   {
    "duration": 154,
    "start_time": "2022-12-25T20:20:37.488Z"
   },
   {
    "duration": 133,
    "start_time": "2022-12-25T20:20:37.645Z"
   },
   {
    "duration": 139,
    "start_time": "2022-12-25T20:20:37.780Z"
   },
   {
    "duration": 14,
    "start_time": "2022-12-25T20:20:37.920Z"
   },
   {
    "duration": 15,
    "start_time": "2022-12-25T20:20:37.935Z"
   },
   {
    "duration": 19,
    "start_time": "2022-12-25T20:20:37.951Z"
   },
   {
    "duration": 301,
    "start_time": "2022-12-25T20:20:37.971Z"
   },
   {
    "duration": 8,
    "start_time": "2022-12-25T20:20:38.275Z"
   },
   {
    "duration": 25,
    "start_time": "2022-12-25T20:20:38.284Z"
   },
   {
    "duration": 15,
    "start_time": "2022-12-25T20:20:38.310Z"
   },
   {
    "duration": 229,
    "start_time": "2022-12-25T20:20:38.326Z"
   },
   {
    "duration": 9,
    "start_time": "2022-12-25T20:20:38.556Z"
   },
   {
    "duration": 14,
    "start_time": "2022-12-25T20:20:38.566Z"
   },
   {
    "duration": 15,
    "start_time": "2022-12-25T20:20:38.597Z"
   },
   {
    "duration": 237,
    "start_time": "2022-12-25T20:20:38.613Z"
   },
   {
    "duration": 9,
    "start_time": "2022-12-25T20:20:38.852Z"
   },
   {
    "duration": 15,
    "start_time": "2022-12-25T20:20:38.862Z"
   },
   {
    "duration": 25,
    "start_time": "2022-12-25T20:20:38.879Z"
   },
   {
    "duration": 12,
    "start_time": "2022-12-25T20:20:38.906Z"
   },
   {
    "duration": 3,
    "start_time": "2022-12-25T20:20:38.919Z"
   },
   {
    "duration": 10,
    "start_time": "2022-12-25T20:20:38.924Z"
   },
   {
    "duration": 15,
    "start_time": "2022-12-25T20:20:38.936Z"
   },
   {
    "duration": 29,
    "start_time": "2022-12-25T20:20:38.952Z"
   },
   {
    "duration": 28,
    "start_time": "2022-12-25T20:20:38.982Z"
   },
   {
    "duration": 6,
    "start_time": "2022-12-25T20:20:39.099Z"
   },
   {
    "duration": 6,
    "start_time": "2022-12-25T20:20:39.197Z"
   },
   {
    "duration": 8,
    "start_time": "2022-12-25T20:20:39.204Z"
   },
   {
    "duration": 5,
    "start_time": "2022-12-25T20:20:39.214Z"
   },
   {
    "duration": 6,
    "start_time": "2022-12-25T20:20:39.220Z"
   },
   {
    "duration": 8,
    "start_time": "2022-12-25T20:20:39.228Z"
   },
   {
    "duration": 6,
    "start_time": "2022-12-25T20:20:39.238Z"
   },
   {
    "duration": 6,
    "start_time": "2022-12-25T20:20:39.245Z"
   },
   {
    "duration": 5,
    "start_time": "2022-12-25T20:20:39.253Z"
   },
   {
    "duration": 139,
    "start_time": "2022-12-25T20:20:39.259Z"
   },
   {
    "duration": 0,
    "start_time": "2022-12-25T20:20:39.400Z"
   },
   {
    "duration": 0,
    "start_time": "2022-12-25T20:20:39.402Z"
   },
   {
    "duration": 0,
    "start_time": "2022-12-25T20:20:39.404Z"
   },
   {
    "duration": 0,
    "start_time": "2022-12-25T20:20:39.405Z"
   },
   {
    "duration": 0,
    "start_time": "2022-12-25T20:20:39.407Z"
   },
   {
    "duration": 0,
    "start_time": "2022-12-25T20:20:39.408Z"
   },
   {
    "duration": 0,
    "start_time": "2022-12-25T20:20:39.409Z"
   },
   {
    "duration": 0,
    "start_time": "2022-12-25T20:20:39.411Z"
   },
   {
    "duration": 1685,
    "start_time": "2022-12-25T20:21:53.224Z"
   },
   {
    "duration": 2,
    "start_time": "2022-12-25T20:21:54.911Z"
   },
   {
    "duration": 158,
    "start_time": "2022-12-25T20:21:54.914Z"
   },
   {
    "duration": 132,
    "start_time": "2022-12-25T20:21:55.074Z"
   },
   {
    "duration": 131,
    "start_time": "2022-12-25T20:21:55.207Z"
   },
   {
    "duration": 13,
    "start_time": "2022-12-25T20:21:55.339Z"
   },
   {
    "duration": 17,
    "start_time": "2022-12-25T20:21:55.353Z"
   },
   {
    "duration": 42,
    "start_time": "2022-12-25T20:21:55.371Z"
   },
   {
    "duration": 246,
    "start_time": "2022-12-25T20:21:55.414Z"
   },
   {
    "duration": 9,
    "start_time": "2022-12-25T20:21:55.662Z"
   },
   {
    "duration": 31,
    "start_time": "2022-12-25T20:21:55.673Z"
   },
   {
    "duration": 16,
    "start_time": "2022-12-25T20:21:55.706Z"
   },
   {
    "duration": 227,
    "start_time": "2022-12-25T20:21:55.723Z"
   },
   {
    "duration": 11,
    "start_time": "2022-12-25T20:21:55.952Z"
   },
   {
    "duration": 44,
    "start_time": "2022-12-25T20:21:55.964Z"
   },
   {
    "duration": 15,
    "start_time": "2022-12-25T20:21:56.009Z"
   },
   {
    "duration": 225,
    "start_time": "2022-12-25T20:21:56.026Z"
   },
   {
    "duration": 45,
    "start_time": "2022-12-25T20:21:56.253Z"
   },
   {
    "duration": 21,
    "start_time": "2022-12-25T20:21:56.299Z"
   },
   {
    "duration": 14,
    "start_time": "2022-12-25T20:21:56.321Z"
   },
   {
    "duration": 39,
    "start_time": "2022-12-25T20:21:56.336Z"
   },
   {
    "duration": 3,
    "start_time": "2022-12-25T20:21:56.376Z"
   },
   {
    "duration": 28,
    "start_time": "2022-12-25T20:21:56.380Z"
   },
   {
    "duration": 4,
    "start_time": "2022-12-25T20:21:56.409Z"
   },
   {
    "duration": 32,
    "start_time": "2022-12-25T20:21:56.415Z"
   },
   {
    "duration": 61,
    "start_time": "2022-12-25T20:21:56.449Z"
   },
   {
    "duration": 106,
    "start_time": "2022-12-25T20:21:56.598Z"
   },
   {
    "duration": 17,
    "start_time": "2022-12-25T20:21:56.707Z"
   },
   {
    "duration": 21,
    "start_time": "2022-12-25T20:21:56.726Z"
   },
   {
    "duration": 9,
    "start_time": "2022-12-25T20:21:56.748Z"
   },
   {
    "duration": 33,
    "start_time": "2022-12-25T20:21:56.758Z"
   },
   {
    "duration": 30,
    "start_time": "2022-12-25T20:21:56.792Z"
   },
   {
    "duration": 21,
    "start_time": "2022-12-25T20:21:56.823Z"
   },
   {
    "duration": 6,
    "start_time": "2022-12-25T20:21:56.846Z"
   },
   {
    "duration": 19,
    "start_time": "2022-12-25T20:21:56.853Z"
   },
   {
    "duration": 23,
    "start_time": "2022-12-25T20:21:56.873Z"
   },
   {
    "duration": 11,
    "start_time": "2022-12-25T20:21:56.898Z"
   },
   {
    "duration": 11,
    "start_time": "2022-12-25T20:21:56.911Z"
   },
   {
    "duration": 993,
    "start_time": "2022-12-25T20:21:56.924Z"
   },
   {
    "duration": 989,
    "start_time": "2022-12-25T20:21:57.918Z"
   },
   {
    "duration": 996,
    "start_time": "2022-12-25T20:21:58.908Z"
   },
   {
    "duration": 8,
    "start_time": "2022-12-25T20:23:05.205Z"
   },
   {
    "duration": 7,
    "start_time": "2022-12-25T20:27:14.185Z"
   },
   {
    "duration": 7,
    "start_time": "2022-12-25T20:27:28.687Z"
   },
   {
    "duration": 1752,
    "start_time": "2022-12-25T20:30:37.917Z"
   },
   {
    "duration": 2,
    "start_time": "2022-12-25T20:30:39.671Z"
   },
   {
    "duration": 160,
    "start_time": "2022-12-25T20:30:39.674Z"
   },
   {
    "duration": 141,
    "start_time": "2022-12-25T20:30:39.836Z"
   },
   {
    "duration": 166,
    "start_time": "2022-12-25T20:30:39.978Z"
   },
   {
    "duration": 11,
    "start_time": "2022-12-25T20:30:40.146Z"
   },
   {
    "duration": 16,
    "start_time": "2022-12-25T20:30:40.158Z"
   },
   {
    "duration": 29,
    "start_time": "2022-12-25T20:30:40.175Z"
   },
   {
    "duration": 262,
    "start_time": "2022-12-25T20:30:40.205Z"
   },
   {
    "duration": 9,
    "start_time": "2022-12-25T20:30:40.469Z"
   },
   {
    "duration": 28,
    "start_time": "2022-12-25T20:30:40.479Z"
   },
   {
    "duration": 17,
    "start_time": "2022-12-25T20:30:40.508Z"
   },
   {
    "duration": 229,
    "start_time": "2022-12-25T20:30:40.526Z"
   },
   {
    "duration": 8,
    "start_time": "2022-12-25T20:30:40.757Z"
   },
   {
    "duration": 18,
    "start_time": "2022-12-25T20:30:40.766Z"
   },
   {
    "duration": 16,
    "start_time": "2022-12-25T20:30:40.798Z"
   },
   {
    "duration": 232,
    "start_time": "2022-12-25T20:30:40.815Z"
   },
   {
    "duration": 9,
    "start_time": "2022-12-25T20:30:41.049Z"
   },
   {
    "duration": 16,
    "start_time": "2022-12-25T20:30:41.059Z"
   },
   {
    "duration": 21,
    "start_time": "2022-12-25T20:30:41.077Z"
   },
   {
    "duration": 12,
    "start_time": "2022-12-25T20:30:41.099Z"
   },
   {
    "duration": 3,
    "start_time": "2022-12-25T20:30:41.113Z"
   },
   {
    "duration": 9,
    "start_time": "2022-12-25T20:30:41.117Z"
   },
   {
    "duration": 5,
    "start_time": "2022-12-25T20:30:41.127Z"
   },
   {
    "duration": 28,
    "start_time": "2022-12-25T20:30:41.133Z"
   },
   {
    "duration": 41,
    "start_time": "2022-12-25T20:30:41.163Z"
   },
   {
    "duration": 93,
    "start_time": "2022-12-25T20:30:41.206Z"
   },
   {
    "duration": 96,
    "start_time": "2022-12-25T20:30:41.303Z"
   },
   {
    "duration": 3,
    "start_time": "2022-12-25T20:30:41.401Z"
   },
   {
    "duration": 7,
    "start_time": "2022-12-25T20:30:41.405Z"
   },
   {
    "duration": 4,
    "start_time": "2022-12-25T20:30:41.414Z"
   },
   {
    "duration": 8,
    "start_time": "2022-12-25T20:30:41.420Z"
   },
   {
    "duration": 6,
    "start_time": "2022-12-25T20:30:41.429Z"
   },
   {
    "duration": 16,
    "start_time": "2022-12-25T20:30:41.436Z"
   },
   {
    "duration": 3,
    "start_time": "2022-12-25T20:30:41.454Z"
   },
   {
    "duration": 9,
    "start_time": "2022-12-25T20:30:41.458Z"
   },
   {
    "duration": 31,
    "start_time": "2022-12-25T20:30:41.469Z"
   },
   {
    "duration": 10,
    "start_time": "2022-12-25T20:30:41.502Z"
   },
   {
    "duration": 14,
    "start_time": "2022-12-25T20:30:41.514Z"
   },
   {
    "duration": 6,
    "start_time": "2022-12-25T20:30:41.530Z"
   },
   {
    "duration": 5,
    "start_time": "2022-12-25T20:30:41.538Z"
   },
   {
    "duration": 12,
    "start_time": "2022-12-25T20:30:41.544Z"
   },
   {
    "duration": 132,
    "start_time": "2022-12-25T20:30:41.557Z"
   },
   {
    "duration": 0,
    "start_time": "2022-12-25T20:30:41.691Z"
   },
   {
    "duration": 0,
    "start_time": "2022-12-25T20:30:41.692Z"
   },
   {
    "duration": 43,
    "start_time": "2022-12-25T20:49:34.763Z"
   },
   {
    "duration": 1517,
    "start_time": "2022-12-25T20:49:46.300Z"
   },
   {
    "duration": 3,
    "start_time": "2022-12-25T20:49:47.819Z"
   },
   {
    "duration": 377,
    "start_time": "2022-12-25T20:49:47.823Z"
   },
   {
    "duration": 219,
    "start_time": "2022-12-25T20:49:48.202Z"
   },
   {
    "duration": 200,
    "start_time": "2022-12-25T20:49:48.424Z"
   },
   {
    "duration": 14,
    "start_time": "2022-12-25T20:49:48.626Z"
   },
   {
    "duration": 33,
    "start_time": "2022-12-25T20:49:48.641Z"
   },
   {
    "duration": 32,
    "start_time": "2022-12-25T20:49:48.676Z"
   },
   {
    "duration": 388,
    "start_time": "2022-12-25T20:49:48.710Z"
   },
   {
    "duration": 14,
    "start_time": "2022-12-25T20:49:49.100Z"
   },
   {
    "duration": 18,
    "start_time": "2022-12-25T20:49:49.116Z"
   },
   {
    "duration": 19,
    "start_time": "2022-12-25T20:49:49.136Z"
   },
   {
    "duration": 293,
    "start_time": "2022-12-25T20:49:49.157Z"
   },
   {
    "duration": 9,
    "start_time": "2022-12-25T20:49:49.453Z"
   },
   {
    "duration": 15,
    "start_time": "2022-12-25T20:49:49.464Z"
   },
   {
    "duration": 33,
    "start_time": "2022-12-25T20:49:49.481Z"
   },
   {
    "duration": 256,
    "start_time": "2022-12-25T20:49:49.516Z"
   },
   {
    "duration": 9,
    "start_time": "2022-12-25T20:49:49.774Z"
   },
   {
    "duration": 16,
    "start_time": "2022-12-25T20:49:49.784Z"
   },
   {
    "duration": 16,
    "start_time": "2022-12-25T20:49:49.813Z"
   },
   {
    "duration": 14,
    "start_time": "2022-12-25T20:49:49.830Z"
   },
   {
    "duration": 9,
    "start_time": "2022-12-25T20:49:49.845Z"
   },
   {
    "duration": 10,
    "start_time": "2022-12-25T20:49:49.855Z"
   },
   {
    "duration": 39,
    "start_time": "2022-12-25T20:49:49.866Z"
   },
   {
    "duration": 109,
    "start_time": "2022-12-25T20:49:49.906Z"
   },
   {
    "duration": 115,
    "start_time": "2022-12-25T20:49:50.017Z"
   },
   {
    "duration": 88,
    "start_time": "2022-12-25T20:49:50.134Z"
   },
   {
    "duration": 99,
    "start_time": "2022-12-25T20:49:50.224Z"
   },
   {
    "duration": 7,
    "start_time": "2022-12-25T20:49:50.324Z"
   },
   {
    "duration": 7,
    "start_time": "2022-12-25T20:49:50.332Z"
   },
   {
    "duration": 13,
    "start_time": "2022-12-25T20:49:50.340Z"
   },
   {
    "duration": 10,
    "start_time": "2022-12-25T20:49:50.355Z"
   },
   {
    "duration": 9,
    "start_time": "2022-12-25T20:49:50.366Z"
   },
   {
    "duration": 8,
    "start_time": "2022-12-25T20:49:50.377Z"
   },
   {
    "duration": 4,
    "start_time": "2022-12-25T20:49:50.386Z"
   },
   {
    "duration": 21,
    "start_time": "2022-12-25T20:49:50.392Z"
   },
   {
    "duration": 7,
    "start_time": "2022-12-25T20:49:50.414Z"
   },
   {
    "duration": 16,
    "start_time": "2022-12-25T20:49:50.423Z"
   },
   {
    "duration": 12,
    "start_time": "2022-12-25T20:49:50.441Z"
   },
   {
    "duration": 7,
    "start_time": "2022-12-25T20:49:50.455Z"
   },
   {
    "duration": 6,
    "start_time": "2022-12-25T20:49:50.466Z"
   },
   {
    "duration": 12,
    "start_time": "2022-12-25T20:49:50.473Z"
   },
   {
    "duration": 105,
    "start_time": "2022-12-25T20:49:50.487Z"
   },
   {
    "duration": 0,
    "start_time": "2022-12-25T20:49:50.593Z"
   },
   {
    "duration": 0,
    "start_time": "2022-12-25T20:49:50.595Z"
   },
   {
    "duration": 273,
    "start_time": "2022-12-25T21:08:31.730Z"
   },
   {
    "duration": 355,
    "start_time": "2022-12-25T21:09:23.234Z"
   },
   {
    "duration": 3,
    "start_time": "2022-12-25T21:18:35.836Z"
   },
   {
    "duration": 9,
    "start_time": "2022-12-25T21:19:37.105Z"
   },
   {
    "duration": 3,
    "start_time": "2022-12-25T21:19:48.902Z"
   },
   {
    "duration": 8,
    "start_time": "2022-12-25T21:19:54.420Z"
   },
   {
    "duration": 7,
    "start_time": "2022-12-25T21:21:04.764Z"
   },
   {
    "duration": 9,
    "start_time": "2022-12-25T21:21:31.000Z"
   },
   {
    "duration": 5,
    "start_time": "2022-12-25T21:22:33.184Z"
   },
   {
    "duration": 8,
    "start_time": "2022-12-25T21:22:38.137Z"
   },
   {
    "duration": 1140,
    "start_time": "2022-12-25T21:22:42.221Z"
   },
   {
    "duration": 1029,
    "start_time": "2022-12-25T21:23:42.738Z"
   },
   {
    "duration": 1123,
    "start_time": "2022-12-25T21:23:46.198Z"
   },
   {
    "duration": 3,
    "start_time": "2022-12-25T21:25:06.130Z"
   },
   {
    "duration": 15,
    "start_time": "2022-12-25T21:25:53.351Z"
   },
   {
    "duration": 3,
    "start_time": "2022-12-25T21:26:52.128Z"
   },
   {
    "duration": 13,
    "start_time": "2022-12-25T21:26:56.808Z"
   },
   {
    "duration": 3,
    "start_time": "2022-12-25T21:27:27.160Z"
   },
   {
    "duration": 8,
    "start_time": "2022-12-25T21:27:32.725Z"
   },
   {
    "duration": 3,
    "start_time": "2022-12-25T21:28:51.591Z"
   },
   {
    "duration": 6,
    "start_time": "2022-12-25T21:29:11.245Z"
   },
   {
    "duration": 21,
    "start_time": "2022-12-25T21:29:19.347Z"
   },
   {
    "duration": 4,
    "start_time": "2022-12-25T21:30:06.020Z"
   },
   {
    "duration": 13,
    "start_time": "2022-12-25T21:30:11.391Z"
   },
   {
    "duration": 3,
    "start_time": "2022-12-25T21:30:47.804Z"
   },
   {
    "duration": 7,
    "start_time": "2022-12-25T21:31:34.034Z"
   },
   {
    "duration": 8,
    "start_time": "2022-12-25T21:32:00.297Z"
   },
   {
    "duration": 10,
    "start_time": "2022-12-25T21:32:01.332Z"
   },
   {
    "duration": 5,
    "start_time": "2022-12-25T21:32:18.471Z"
   },
   {
    "duration": 14,
    "start_time": "2022-12-25T21:32:26.503Z"
   },
   {
    "duration": 5,
    "start_time": "2022-12-25T21:35:11.622Z"
   },
   {
    "duration": 1080,
    "start_time": "2022-12-25T21:35:18.905Z"
   },
   {
    "duration": 1065,
    "start_time": "2022-12-25T21:35:23.277Z"
   },
   {
    "duration": 1158,
    "start_time": "2022-12-25T21:35:25.514Z"
   }
  ],
  "kernelspec": {
   "display_name": "Python 3 (ipykernel)",
   "language": "python",
   "name": "python3"
  },
  "language_info": {
   "codemirror_mode": {
    "name": "ipython",
    "version": 3
   },
   "file_extension": ".py",
   "mimetype": "text/x-python",
   "name": "python",
   "nbconvert_exporter": "python",
   "pygments_lexer": "ipython3",
   "version": "3.9.12"
  },
  "toc": {
   "base_numbering": 1,
   "nav_menu": {},
   "number_sections": true,
   "sideBar": true,
   "skip_h1_title": true,
   "title_cell": "Table of Contents",
   "title_sidebar": "Contents",
   "toc_cell": false,
   "toc_position": {},
   "toc_section_display": true,
   "toc_window_display": true
  }
 },
 "nbformat": 4,
 "nbformat_minor": 2
}
